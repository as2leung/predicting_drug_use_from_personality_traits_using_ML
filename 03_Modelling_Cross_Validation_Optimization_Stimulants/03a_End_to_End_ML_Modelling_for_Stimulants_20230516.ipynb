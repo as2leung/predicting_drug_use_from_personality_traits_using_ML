{
 "cells": [
  {
   "cell_type": "markdown",
   "id": "80d083f1",
   "metadata": {
    "toc": true
   },
   "source": [
    "<h1>Table of Contents<span class=\"tocSkip\"></span></h1>\n",
    "<div class=\"toc\"><ul class=\"toc-item\"><li><span><a href=\"#Introduction\" data-toc-modified-id=\"Introduction-1\"><span class=\"toc-item-num\">1&nbsp;&nbsp;</span>Introduction</a></span></li><li><span><a href=\"#Data-Preprocessing-(Data-Transformations)\" data-toc-modified-id=\"Data-Preprocessing-(Data-Transformations)-2\"><span class=\"toc-item-num\">2&nbsp;&nbsp;</span>Data Preprocessing (Data Transformations)</a></span><ul class=\"toc-item\"><li><span><a href=\"#Drug-Outcome-variable-transformations\" data-toc-modified-id=\"Drug-Outcome-variable-transformations-2.1\"><span class=\"toc-item-num\">2.1&nbsp;&nbsp;</span>Drug Outcome variable transformations</a></span><ul class=\"toc-item\"><li><span><a href=\"#Remove-string-and-change-to-integer\" data-toc-modified-id=\"Remove-string-and-change-to-integer-2.1.1\"><span class=\"toc-item-num\">2.1.1&nbsp;&nbsp;</span>Remove string and change to integer</a></span></li><li><span><a href=\"#Create-3-broader-outcome-variables-(Stimulants,-Depressants-and-Hallucinogens)\" data-toc-modified-id=\"Create-3-broader-outcome-variables-(Stimulants,-Depressants-and-Hallucinogens)-2.1.2\"><span class=\"toc-item-num\">2.1.2&nbsp;&nbsp;</span>Create 3 broader outcome variables (<em>Stimulants, Depressants and Hallucinogens</em>)</a></span></li><li><span><a href=\"#Recode-from-7-levels-to-3-levels\" data-toc-modified-id=\"Recode-from-7-levels-to-3-levels-2.1.3\"><span class=\"toc-item-num\">2.1.3&nbsp;&nbsp;</span>Recode from 7 levels to 3 levels</a></span></li><li><span><a href=\"#Additional-Descriptives---Demographic-Variables\" data-toc-modified-id=\"Additional-Descriptives---Demographic-Variables-2.1.4\"><span class=\"toc-item-num\">2.1.4&nbsp;&nbsp;</span>Additional Descriptives - Demographic Variables</a></span></li></ul></li></ul></li><li><span><a href=\"#Initial-Models\" data-toc-modified-id=\"Initial-Models-3\"><span class=\"toc-item-num\">3&nbsp;&nbsp;</span>Initial Models</a></span><ul class=\"toc-item\"><li><span><a href=\"#Setup\" data-toc-modified-id=\"Setup-3.1\"><span class=\"toc-item-num\">3.1&nbsp;&nbsp;</span>Setup</a></span></li><li><span><a href=\"#Support-Vector-Machine\" data-toc-modified-id=\"Support-Vector-Machine-3.2\"><span class=\"toc-item-num\">3.2&nbsp;&nbsp;</span>Support Vector Machine</a></span></li><li><span><a href=\"#Logistic-Regression\" data-toc-modified-id=\"Logistic-Regression-3.3\"><span class=\"toc-item-num\">3.3&nbsp;&nbsp;</span>Logistic Regression</a></span></li><li><span><a href=\"#K-nn-classifier\" data-toc-modified-id=\"K-nn-classifier-3.4\"><span class=\"toc-item-num\">3.4&nbsp;&nbsp;</span>K-nn classifier</a></span></li><li><span><a href=\"#Decision-Tree\" data-toc-modified-id=\"Decision-Tree-3.5\"><span class=\"toc-item-num\">3.5&nbsp;&nbsp;</span>Decision Tree</a></span></li><li><span><a href=\"#Gradient-Boosted-Trees\" data-toc-modified-id=\"Gradient-Boosted-Trees-3.6\"><span class=\"toc-item-num\">3.6&nbsp;&nbsp;</span>Gradient Boosted Trees</a></span></li><li><span><a href=\"#Linear-Discriminant-Analysis-(LDA)\" data-toc-modified-id=\"Linear-Discriminant-Analysis-(LDA)-3.7\"><span class=\"toc-item-num\">3.7&nbsp;&nbsp;</span>Linear Discriminant Analysis (LDA)</a></span></li><li><span><a href=\"#Neural-Network\" data-toc-modified-id=\"Neural-Network-3.8\"><span class=\"toc-item-num\">3.8&nbsp;&nbsp;</span>Neural Network</a></span></li><li><span><a href=\"#RandomForestClassifier\" data-toc-modified-id=\"RandomForestClassifier-3.9\"><span class=\"toc-item-num\">3.9&nbsp;&nbsp;</span>RandomForestClassifier</a></span></li></ul></li><li><span><a href=\"#Rebalance\" data-toc-modified-id=\"Rebalance-4\"><span class=\"toc-item-num\">4&nbsp;&nbsp;</span>Rebalance</a></span><ul class=\"toc-item\"><li><span><a href=\"#Rebalanced---Linear-Classifier\" data-toc-modified-id=\"Rebalanced---Linear-Classifier-4.1\"><span class=\"toc-item-num\">4.1&nbsp;&nbsp;</span>Rebalanced - Linear Classifier</a></span></li><li><span><a href=\"#Rebalanced---Logistic-Regression\" data-toc-modified-id=\"Rebalanced---Logistic-Regression-4.2\"><span class=\"toc-item-num\">4.2&nbsp;&nbsp;</span>Rebalanced - Logistic Regression</a></span></li><li><span><a href=\"#Rebalanced----K-nn-classifier\" data-toc-modified-id=\"Rebalanced----K-nn-classifier-4.3\"><span class=\"toc-item-num\">4.3&nbsp;&nbsp;</span>Rebalanced  - K-nn classifier</a></span></li><li><span><a href=\"#Rebalanced---Decision-Tree\" data-toc-modified-id=\"Rebalanced---Decision-Tree-4.4\"><span class=\"toc-item-num\">4.4&nbsp;&nbsp;</span>Rebalanced - Decision Tree</a></span><ul class=\"toc-item\"><li><span><a href=\"#Using-pruning-to-prevent-over-fitting---Determining-the-correct-ccp_alpha\" data-toc-modified-id=\"Using-pruning-to-prevent-over-fitting---Determining-the-correct-ccp_alpha-4.4.1\"><span class=\"toc-item-num\">4.4.1&nbsp;&nbsp;</span>Using pruning to prevent over fitting - Determining the correct ccp_alpha</a></span></li><li><span><a href=\"#Fit-Using-the-alpha-determined-above-(0.05)---most-stable-accuracy-across-increasing-alphas\" data-toc-modified-id=\"Fit-Using-the-alpha-determined-above-(0.05)---most-stable-accuracy-across-increasing-alphas-4.4.2\"><span class=\"toc-item-num\">4.4.2&nbsp;&nbsp;</span>Fit Using the alpha determined above (0.05) - most stable accuracy across increasing alphas</a></span></li></ul></li><li><span><a href=\"#Rebalanced---Boosted-Tree\" data-toc-modified-id=\"Rebalanced---Boosted-Tree-4.5\"><span class=\"toc-item-num\">4.5&nbsp;&nbsp;</span>Rebalanced - Boosted Tree</a></span><ul class=\"toc-item\"><li><span><a href=\"#Fit-Using-the-alpha-determined-above-(0.05)---most-stable-accuracy-across-increasing-alphas\" data-toc-modified-id=\"Fit-Using-the-alpha-determined-above-(0.05)---most-stable-accuracy-across-increasing-alphas-4.5.1\"><span class=\"toc-item-num\">4.5.1&nbsp;&nbsp;</span>Fit Using the alpha determined above (0.05) - most stable accuracy across increasing alphas</a></span></li></ul></li><li><span><a href=\"#Rebalanced---Linear-Discriminant-Analysis-(LDA)\" data-toc-modified-id=\"Rebalanced---Linear-Discriminant-Analysis-(LDA)-4.6\"><span class=\"toc-item-num\">4.6&nbsp;&nbsp;</span>Rebalanced - Linear Discriminant Analysis (LDA)</a></span></li><li><span><a href=\"#Rebalanced---Neural-Network\" data-toc-modified-id=\"Rebalanced---Neural-Network-4.7\"><span class=\"toc-item-num\">4.7&nbsp;&nbsp;</span>Rebalanced - Neural Network</a></span></li><li><span><a href=\"#Rebalanced---Random-Forest-Classifier\" data-toc-modified-id=\"Rebalanced---Random-Forest-Classifier-4.8\"><span class=\"toc-item-num\">4.8&nbsp;&nbsp;</span>Rebalanced - Random Forest Classifier</a></span></li></ul></li><li><span><a href=\"#Evaluation-Metrics---AUC-calculations-and-plots\" data-toc-modified-id=\"Evaluation-Metrics---AUC-calculations-and-plots-5\"><span class=\"toc-item-num\">5&nbsp;&nbsp;</span>Evaluation Metrics - AUC calculations and plots</a></span><ul class=\"toc-item\"><li><span><a href=\"#Linear-Classifier---AUC\" data-toc-modified-id=\"Linear-Classifier---AUC-5.1\"><span class=\"toc-item-num\">5.1&nbsp;&nbsp;</span>Linear Classifier - AUC</a></span></li><li><span><a href=\"#Logistic-Regression---AUC\" data-toc-modified-id=\"Logistic-Regression---AUC-5.2\"><span class=\"toc-item-num\">5.2&nbsp;&nbsp;</span>Logistic Regression - AUC</a></span></li><li><span><a href=\"#KNeighbors-Classifier---AUC\" data-toc-modified-id=\"KNeighbors-Classifier---AUC-5.3\"><span class=\"toc-item-num\">5.3&nbsp;&nbsp;</span>KNeighbors Classifier - AUC</a></span></li><li><span><a href=\"#Decision-Tree---AUC\" data-toc-modified-id=\"Decision-Tree---AUC-5.4\"><span class=\"toc-item-num\">5.4&nbsp;&nbsp;</span>Decision Tree - AUC</a></span></li><li><span><a href=\"#Boosted---AUC\" data-toc-modified-id=\"Boosted---AUC-5.5\"><span class=\"toc-item-num\">5.5&nbsp;&nbsp;</span>Boosted - AUC</a></span></li><li><span><a href=\"#Neural-Network---AUC\" data-toc-modified-id=\"Neural-Network---AUC-5.6\"><span class=\"toc-item-num\">5.6&nbsp;&nbsp;</span>Neural Network - AUC</a></span></li><li><span><a href=\"#RandomForest---AUC\" data-toc-modified-id=\"RandomForest---AUC-5.7\"><span class=\"toc-item-num\">5.7&nbsp;&nbsp;</span>RandomForest - AUC</a></span></li></ul></li><li><span><a href=\"#Cross-Validate-Final-Models\" data-toc-modified-id=\"Cross-Validate-Final-Models-6\"><span class=\"toc-item-num\">6&nbsp;&nbsp;</span>Cross-Validate Final Models</a></span><ul class=\"toc-item\"><li><span><a href=\"#SVM\" data-toc-modified-id=\"SVM-6.1\"><span class=\"toc-item-num\">6.1&nbsp;&nbsp;</span>SVM</a></span></li><li><span><a href=\"#Logistic-Regression\" data-toc-modified-id=\"Logistic-Regression-6.2\"><span class=\"toc-item-num\">6.2&nbsp;&nbsp;</span>Logistic Regression</a></span></li><li><span><a href=\"#Random-Forest---Cross-validation\" data-toc-modified-id=\"Random-Forest---Cross-validation-6.3\"><span class=\"toc-item-num\">6.3&nbsp;&nbsp;</span>Random Forest - Cross-validation</a></span></li><li><span><a href=\"#Neural-Network---Cross-validation\" data-toc-modified-id=\"Neural-Network---Cross-validation-6.4\"><span class=\"toc-item-num\">6.4&nbsp;&nbsp;</span>Neural Network - Cross-validation</a></span></li></ul></li><li><span><a href=\"#Hyperparameter-Optimization\" data-toc-modified-id=\"Hyperparameter-Optimization-7\"><span class=\"toc-item-num\">7&nbsp;&nbsp;</span>Hyperparameter Optimization</a></span></li></ul></div>"
   ]
  },
  {
   "cell_type": "code",
   "execution_count": 1,
   "id": "6d60a639",
   "metadata": {},
   "outputs": [],
   "source": [
    "#import libraries\n",
    "import pandas as pd\n",
    "from scipy import stats\n",
    "import seaborn as sns\n",
    "import matplotlib.pyplot as plt\n",
    "import re\n",
    "import numpy as np\n",
    "%matplotlib inline"
   ]
  },
  {
   "cell_type": "markdown",
   "id": "8c82dbb5",
   "metadata": {},
   "source": [
    "# Introduction\n",
    "\n",
    "In this module, the models are created for the **stimulants** outcome variable. The are six sections:\n",
    "\n",
    "* Data Preprocessing\n",
    "* Initial Models\n",
    "* Rebalanced model\n",
    "* Fitting the models using\n",
    "* Cross-Validation of Models\n",
    "* Creating the parameter grid for hyperparameter optimization\n",
    "\n",
    "<u>Data Processing</u>\n",
    "\n",
    "In the first section, the dataset is prepared for modelling in a series of data transformations:\n",
    "\n",
    "* For the outcome variable, the eighteen outcome variables are collapsed into three new outcome variables, representing broader classes of drugs. They are Stimulants, Depressants, and Hallucinogens.\n",
    "<br></br>\n",
    "* Additionally, the 7 levels of drug use are also collapsed to three new levels of drug use: \n",
    "    1. unlikely to use\n",
    "    2. medium use\n",
    "    3. high usage\n",
    "\n",
    "<u>Initial Models</u>\n",
    "\n",
    "For the second section, the following models are created for the initial models to predict stimulant drug use:\n",
    "\n",
    "1. Support Vector Machines\n",
    "2. Multinomial Logistic Regression (Softmax Regression)\n",
    "3. K-Nearest Neighbours classifier\n",
    "4. Decision Trees\n",
    "5. Random Forests/Gradient Boosted Trees\n",
    "6. Linear Discriminant Analysis (LDA)\n",
    "7. Neural Network\n",
    "\n",
    "Accuracy scores from scoring both the training data and testing data are retrieved to determine how the models performed. The results showed that there was strong overfitting issues.\n",
    "\n",
    "<u>Rebalanced Models</u>\n",
    "\n",
    "Section 3 continues with a second set of modules calibrated on rebalanced stimulant data. Initial analysis showed that the stimulant outcome variable was had strong class imbalance, with one very dominant class label. The smote() method is used from imbalanced-learn library to oversample from the minority classes to create new synthetic observations so that all classes have the same number of observations. Once classes were rebalanced, models are re-calibrated and mean accuracy scores were once again assessed. From these rebalanced models, we see significant improvements to the accuracy scores reflecting less overfitted models.\n",
    "\n",
    "<u>Binarized Approach with AUC Metrics and Plots</u>\n",
    "\n",
    "Following the rebalanced models, section five implements a binarized approach to turn the multi-class problem (three classes) into a binary classification problem by examining one class against the two other class labels combined in a one-vs-rest approach. Using this binary approach algorithms that normally can handle only two classes (binary) can be used (ie. linear SVM) and the AUC metric which is a binary class metric can also be computed for each of the multiple classes as well as an overall AUC metric can be computed.\n",
    "\n",
    "<u>Cross-Validation of the Models</u>\n",
    "\n",
    "In order to confirm that the results of the models calibrated were non-trivial and due a random sampling of the data through the train_test_split method, k-fold validation is performed for four final candidate classifiers to ensure that results remain consistent regardless of how the data is sampled in test train splits. Both k=5 and k=10 folds were applied and results showed that the mean accuracy, precision and recall scores remained consistent regardless of sampling.\n",
    "\n",
    "\n",
    "<u>Hyperparameter Optimization Grid</u>\n",
    "\n",
    "In the final section, we start building a dictionary of hyperparamters and the respective values to test in the GridSearchCV method in order to find a best set of hyperparameters.\n",
    "\n",
    "\n",
    "# Data Preprocessing (Data Transformations)\n",
    "\n",
    "In this first section, the dataset is prepared for modelling in a series of data transformations.\n",
    "\n",
    "For the outcome variable, the eighteen outcome variables are collapsed into three new outcome variables, representing broader classes of drugs. They are _**Stimulants, Depressants, and Hallucinogens**_.\n",
    "\n",
    "Additionally, the 7 levels of drug use are also collapsed to three new levels of drug use: _**1 - unlikely to use, 2 - medium use, 3 - high usage**_"
   ]
  },
  {
   "cell_type": "code",
   "execution_count": 136,
   "id": "9b3e179f",
   "metadata": {},
   "outputs": [
    {
     "data": {
      "text/html": [
       "<div>\n",
       "<style scoped>\n",
       "    .dataframe tbody tr th:only-of-type {\n",
       "        vertical-align: middle;\n",
       "    }\n",
       "\n",
       "    .dataframe tbody tr th {\n",
       "        vertical-align: top;\n",
       "    }\n",
       "\n",
       "    .dataframe thead th {\n",
       "        text-align: right;\n",
       "    }\n",
       "</style>\n",
       "<table border=\"1\" class=\"dataframe\">\n",
       "  <thead>\n",
       "    <tr style=\"text-align: right;\">\n",
       "      <th></th>\n",
       "      <th>ID</th>\n",
       "      <th>Age</th>\n",
       "      <th>Gender</th>\n",
       "      <th>Education</th>\n",
       "      <th>Country</th>\n",
       "      <th>Ethnicity</th>\n",
       "      <th>NEO_N</th>\n",
       "      <th>NEO_E</th>\n",
       "      <th>NEO_O</th>\n",
       "      <th>NEO_A</th>\n",
       "      <th>...</th>\n",
       "      <th>ECST</th>\n",
       "      <th>HEROIN</th>\n",
       "      <th>KETA</th>\n",
       "      <th>LEGALH</th>\n",
       "      <th>LSD</th>\n",
       "      <th>METH</th>\n",
       "      <th>MUSHRM</th>\n",
       "      <th>NICO</th>\n",
       "      <th>SEMER</th>\n",
       "      <th>VSA</th>\n",
       "    </tr>\n",
       "  </thead>\n",
       "  <tbody>\n",
       "    <tr>\n",
       "      <th>0</th>\n",
       "      <td>1</td>\n",
       "      <td>0.49788</td>\n",
       "      <td>0.48246</td>\n",
       "      <td>-0.05921</td>\n",
       "      <td>0.96082</td>\n",
       "      <td>0.12600</td>\n",
       "      <td>0.31287</td>\n",
       "      <td>-0.57545</td>\n",
       "      <td>-0.58331</td>\n",
       "      <td>-0.91699</td>\n",
       "      <td>...</td>\n",
       "      <td>CL0</td>\n",
       "      <td>CL0</td>\n",
       "      <td>CL0</td>\n",
       "      <td>CL0</td>\n",
       "      <td>CL0</td>\n",
       "      <td>CL0</td>\n",
       "      <td>CL0</td>\n",
       "      <td>CL2</td>\n",
       "      <td>CL0</td>\n",
       "      <td>CL0</td>\n",
       "    </tr>\n",
       "    <tr>\n",
       "      <th>1</th>\n",
       "      <td>2</td>\n",
       "      <td>-0.07854</td>\n",
       "      <td>-0.48246</td>\n",
       "      <td>1.98437</td>\n",
       "      <td>0.96082</td>\n",
       "      <td>-0.31685</td>\n",
       "      <td>-0.67825</td>\n",
       "      <td>1.93886</td>\n",
       "      <td>1.43533</td>\n",
       "      <td>0.76096</td>\n",
       "      <td>...</td>\n",
       "      <td>CL4</td>\n",
       "      <td>CL0</td>\n",
       "      <td>CL2</td>\n",
       "      <td>CL0</td>\n",
       "      <td>CL2</td>\n",
       "      <td>CL3</td>\n",
       "      <td>CL0</td>\n",
       "      <td>CL4</td>\n",
       "      <td>CL0</td>\n",
       "      <td>CL0</td>\n",
       "    </tr>\n",
       "    <tr>\n",
       "      <th>2</th>\n",
       "      <td>3</td>\n",
       "      <td>0.49788</td>\n",
       "      <td>-0.48246</td>\n",
       "      <td>-0.05921</td>\n",
       "      <td>0.96082</td>\n",
       "      <td>-0.31685</td>\n",
       "      <td>-0.46725</td>\n",
       "      <td>0.80523</td>\n",
       "      <td>-0.84732</td>\n",
       "      <td>-1.62090</td>\n",
       "      <td>...</td>\n",
       "      <td>CL0</td>\n",
       "      <td>CL0</td>\n",
       "      <td>CL0</td>\n",
       "      <td>CL0</td>\n",
       "      <td>CL0</td>\n",
       "      <td>CL0</td>\n",
       "      <td>CL1</td>\n",
       "      <td>CL0</td>\n",
       "      <td>CL0</td>\n",
       "      <td>CL0</td>\n",
       "    </tr>\n",
       "    <tr>\n",
       "      <th>3</th>\n",
       "      <td>4</td>\n",
       "      <td>-0.95197</td>\n",
       "      <td>0.48246</td>\n",
       "      <td>1.16365</td>\n",
       "      <td>0.96082</td>\n",
       "      <td>-0.31685</td>\n",
       "      <td>-0.14882</td>\n",
       "      <td>-0.80615</td>\n",
       "      <td>-0.01928</td>\n",
       "      <td>0.59042</td>\n",
       "      <td>...</td>\n",
       "      <td>CL0</td>\n",
       "      <td>CL0</td>\n",
       "      <td>CL2</td>\n",
       "      <td>CL0</td>\n",
       "      <td>CL0</td>\n",
       "      <td>CL0</td>\n",
       "      <td>CL0</td>\n",
       "      <td>CL2</td>\n",
       "      <td>CL0</td>\n",
       "      <td>CL0</td>\n",
       "    </tr>\n",
       "    <tr>\n",
       "      <th>4</th>\n",
       "      <td>5</td>\n",
       "      <td>0.49788</td>\n",
       "      <td>0.48246</td>\n",
       "      <td>1.98437</td>\n",
       "      <td>0.96082</td>\n",
       "      <td>-0.31685</td>\n",
       "      <td>0.73545</td>\n",
       "      <td>-1.63340</td>\n",
       "      <td>-0.45174</td>\n",
       "      <td>-0.30172</td>\n",
       "      <td>...</td>\n",
       "      <td>CL1</td>\n",
       "      <td>CL0</td>\n",
       "      <td>CL0</td>\n",
       "      <td>CL1</td>\n",
       "      <td>CL0</td>\n",
       "      <td>CL0</td>\n",
       "      <td>CL2</td>\n",
       "      <td>CL2</td>\n",
       "      <td>CL0</td>\n",
       "      <td>CL0</td>\n",
       "    </tr>\n",
       "    <tr>\n",
       "      <th>...</th>\n",
       "      <td>...</td>\n",
       "      <td>...</td>\n",
       "      <td>...</td>\n",
       "      <td>...</td>\n",
       "      <td>...</td>\n",
       "      <td>...</td>\n",
       "      <td>...</td>\n",
       "      <td>...</td>\n",
       "      <td>...</td>\n",
       "      <td>...</td>\n",
       "      <td>...</td>\n",
       "      <td>...</td>\n",
       "      <td>...</td>\n",
       "      <td>...</td>\n",
       "      <td>...</td>\n",
       "      <td>...</td>\n",
       "      <td>...</td>\n",
       "      <td>...</td>\n",
       "      <td>...</td>\n",
       "      <td>...</td>\n",
       "      <td>...</td>\n",
       "    </tr>\n",
       "    <tr>\n",
       "      <th>1880</th>\n",
       "      <td>1884</td>\n",
       "      <td>-0.95197</td>\n",
       "      <td>0.48246</td>\n",
       "      <td>-0.61113</td>\n",
       "      <td>-0.57009</td>\n",
       "      <td>-0.31685</td>\n",
       "      <td>-1.19430</td>\n",
       "      <td>1.74091</td>\n",
       "      <td>1.88511</td>\n",
       "      <td>0.76096</td>\n",
       "      <td>...</td>\n",
       "      <td>CL0</td>\n",
       "      <td>CL0</td>\n",
       "      <td>CL0</td>\n",
       "      <td>CL3</td>\n",
       "      <td>CL3</td>\n",
       "      <td>CL0</td>\n",
       "      <td>CL0</td>\n",
       "      <td>CL0</td>\n",
       "      <td>CL0</td>\n",
       "      <td>CL5</td>\n",
       "    </tr>\n",
       "    <tr>\n",
       "      <th>1881</th>\n",
       "      <td>1885</td>\n",
       "      <td>-0.95197</td>\n",
       "      <td>-0.48246</td>\n",
       "      <td>-0.61113</td>\n",
       "      <td>-0.57009</td>\n",
       "      <td>-0.31685</td>\n",
       "      <td>-0.24649</td>\n",
       "      <td>1.74091</td>\n",
       "      <td>0.58331</td>\n",
       "      <td>0.76096</td>\n",
       "      <td>...</td>\n",
       "      <td>CL2</td>\n",
       "      <td>CL0</td>\n",
       "      <td>CL0</td>\n",
       "      <td>CL3</td>\n",
       "      <td>CL5</td>\n",
       "      <td>CL4</td>\n",
       "      <td>CL4</td>\n",
       "      <td>CL5</td>\n",
       "      <td>CL0</td>\n",
       "      <td>CL0</td>\n",
       "    </tr>\n",
       "    <tr>\n",
       "      <th>1882</th>\n",
       "      <td>1886</td>\n",
       "      <td>-0.07854</td>\n",
       "      <td>0.48246</td>\n",
       "      <td>0.45468</td>\n",
       "      <td>-0.57009</td>\n",
       "      <td>-0.31685</td>\n",
       "      <td>1.13281</td>\n",
       "      <td>-1.37639</td>\n",
       "      <td>-1.27553</td>\n",
       "      <td>-1.77200</td>\n",
       "      <td>...</td>\n",
       "      <td>CL4</td>\n",
       "      <td>CL0</td>\n",
       "      <td>CL2</td>\n",
       "      <td>CL0</td>\n",
       "      <td>CL2</td>\n",
       "      <td>CL0</td>\n",
       "      <td>CL2</td>\n",
       "      <td>CL6</td>\n",
       "      <td>CL0</td>\n",
       "      <td>CL0</td>\n",
       "    </tr>\n",
       "    <tr>\n",
       "      <th>1883</th>\n",
       "      <td>1887</td>\n",
       "      <td>-0.95197</td>\n",
       "      <td>0.48246</td>\n",
       "      <td>-0.61113</td>\n",
       "      <td>-0.57009</td>\n",
       "      <td>-0.31685</td>\n",
       "      <td>0.91093</td>\n",
       "      <td>-1.92173</td>\n",
       "      <td>0.29338</td>\n",
       "      <td>-1.62090</td>\n",
       "      <td>...</td>\n",
       "      <td>CL3</td>\n",
       "      <td>CL0</td>\n",
       "      <td>CL0</td>\n",
       "      <td>CL3</td>\n",
       "      <td>CL3</td>\n",
       "      <td>CL0</td>\n",
       "      <td>CL3</td>\n",
       "      <td>CL4</td>\n",
       "      <td>CL0</td>\n",
       "      <td>CL0</td>\n",
       "    </tr>\n",
       "    <tr>\n",
       "      <th>1884</th>\n",
       "      <td>1888</td>\n",
       "      <td>-0.95197</td>\n",
       "      <td>-0.48246</td>\n",
       "      <td>-0.61113</td>\n",
       "      <td>0.21128</td>\n",
       "      <td>-0.31685</td>\n",
       "      <td>-0.46725</td>\n",
       "      <td>2.12700</td>\n",
       "      <td>1.65653</td>\n",
       "      <td>1.11406</td>\n",
       "      <td>...</td>\n",
       "      <td>CL3</td>\n",
       "      <td>CL0</td>\n",
       "      <td>CL0</td>\n",
       "      <td>CL3</td>\n",
       "      <td>CL3</td>\n",
       "      <td>CL0</td>\n",
       "      <td>CL3</td>\n",
       "      <td>CL6</td>\n",
       "      <td>CL0</td>\n",
       "      <td>CL2</td>\n",
       "    </tr>\n",
       "  </tbody>\n",
       "</table>\n",
       "<p>1885 rows × 32 columns</p>\n",
       "</div>"
      ],
      "text/plain": [
       "        ID      Age   Gender  Education  Country  Ethnicity    NEO_N    NEO_E  \\\n",
       "0        1  0.49788  0.48246   -0.05921  0.96082    0.12600  0.31287 -0.57545   \n",
       "1        2 -0.07854 -0.48246    1.98437  0.96082   -0.31685 -0.67825  1.93886   \n",
       "2        3  0.49788 -0.48246   -0.05921  0.96082   -0.31685 -0.46725  0.80523   \n",
       "3        4 -0.95197  0.48246    1.16365  0.96082   -0.31685 -0.14882 -0.80615   \n",
       "4        5  0.49788  0.48246    1.98437  0.96082   -0.31685  0.73545 -1.63340   \n",
       "...    ...      ...      ...        ...      ...        ...      ...      ...   \n",
       "1880  1884 -0.95197  0.48246   -0.61113 -0.57009   -0.31685 -1.19430  1.74091   \n",
       "1881  1885 -0.95197 -0.48246   -0.61113 -0.57009   -0.31685 -0.24649  1.74091   \n",
       "1882  1886 -0.07854  0.48246    0.45468 -0.57009   -0.31685  1.13281 -1.37639   \n",
       "1883  1887 -0.95197  0.48246   -0.61113 -0.57009   -0.31685  0.91093 -1.92173   \n",
       "1884  1888 -0.95197 -0.48246   -0.61113  0.21128   -0.31685 -0.46725  2.12700   \n",
       "\n",
       "        NEO_O    NEO_A  ...  ECST  HEROIN  KETA LEGALH  LSD METH MUSHRM NICO  \\\n",
       "0    -0.58331 -0.91699  ...   CL0     CL0   CL0    CL0  CL0  CL0    CL0  CL2   \n",
       "1     1.43533  0.76096  ...   CL4     CL0   CL2    CL0  CL2  CL3    CL0  CL4   \n",
       "2    -0.84732 -1.62090  ...   CL0     CL0   CL0    CL0  CL0  CL0    CL1  CL0   \n",
       "3    -0.01928  0.59042  ...   CL0     CL0   CL2    CL0  CL0  CL0    CL0  CL2   \n",
       "4    -0.45174 -0.30172  ...   CL1     CL0   CL0    CL1  CL0  CL0    CL2  CL2   \n",
       "...       ...      ...  ...   ...     ...   ...    ...  ...  ...    ...  ...   \n",
       "1880  1.88511  0.76096  ...   CL0     CL0   CL0    CL3  CL3  CL0    CL0  CL0   \n",
       "1881  0.58331  0.76096  ...   CL2     CL0   CL0    CL3  CL5  CL4    CL4  CL5   \n",
       "1882 -1.27553 -1.77200  ...   CL4     CL0   CL2    CL0  CL2  CL0    CL2  CL6   \n",
       "1883  0.29338 -1.62090  ...   CL3     CL0   CL0    CL3  CL3  CL0    CL3  CL4   \n",
       "1884  1.65653  1.11406  ...   CL3     CL0   CL0    CL3  CL3  CL0    CL3  CL6   \n",
       "\n",
       "     SEMER  VSA  \n",
       "0      CL0  CL0  \n",
       "1      CL0  CL0  \n",
       "2      CL0  CL0  \n",
       "3      CL0  CL0  \n",
       "4      CL0  CL0  \n",
       "...    ...  ...  \n",
       "1880   CL0  CL5  \n",
       "1881   CL0  CL0  \n",
       "1882   CL0  CL0  \n",
       "1883   CL0  CL0  \n",
       "1884   CL0  CL2  \n",
       "\n",
       "[1885 rows x 32 columns]"
      ]
     },
     "execution_count": 136,
     "metadata": {},
     "output_type": "execute_result"
    }
   ],
   "source": [
    "#read in dataset\n",
    "df = pd.read_csv(\"../drug_consumption_cap_20230505.csv\")\n",
    "df"
   ]
  },
  {
   "cell_type": "markdown",
   "id": "e6bd6006",
   "metadata": {},
   "source": [
    "## Drug Outcome variable transformations\n",
    "\n",
    "### Remove string and change to integer"
   ]
  },
  {
   "cell_type": "code",
   "execution_count": 137,
   "id": "53a75440",
   "metadata": {},
   "outputs": [
    {
     "data": {
      "text/html": [
       "<div>\n",
       "<style scoped>\n",
       "    .dataframe tbody tr th:only-of-type {\n",
       "        vertical-align: middle;\n",
       "    }\n",
       "\n",
       "    .dataframe tbody tr th {\n",
       "        vertical-align: top;\n",
       "    }\n",
       "\n",
       "    .dataframe thead th {\n",
       "        text-align: right;\n",
       "    }\n",
       "</style>\n",
       "<table border=\"1\" class=\"dataframe\">\n",
       "  <thead>\n",
       "    <tr style=\"text-align: right;\">\n",
       "      <th></th>\n",
       "      <th>ALC</th>\n",
       "      <th>AMPHET</th>\n",
       "      <th>AMYL</th>\n",
       "      <th>BENZOS</th>\n",
       "      <th>CAFF</th>\n",
       "      <th>CANNABIS</th>\n",
       "      <th>CHOC</th>\n",
       "      <th>COCAINE</th>\n",
       "      <th>CRACK</th>\n",
       "      <th>ECST</th>\n",
       "      <th>HEROIN</th>\n",
       "      <th>KETA</th>\n",
       "      <th>LEGALH</th>\n",
       "      <th>LSD</th>\n",
       "      <th>METH</th>\n",
       "      <th>MUSHRM</th>\n",
       "      <th>NICO</th>\n",
       "      <th>SEMER</th>\n",
       "      <th>VSA</th>\n",
       "    </tr>\n",
       "  </thead>\n",
       "  <tbody>\n",
       "    <tr>\n",
       "      <th>0</th>\n",
       "      <td>CL5</td>\n",
       "      <td>CL2</td>\n",
       "      <td>CL0</td>\n",
       "      <td>CL2</td>\n",
       "      <td>CL6</td>\n",
       "      <td>CL0</td>\n",
       "      <td>CL5</td>\n",
       "      <td>CL0</td>\n",
       "      <td>CL0</td>\n",
       "      <td>CL0</td>\n",
       "      <td>CL0</td>\n",
       "      <td>CL0</td>\n",
       "      <td>CL0</td>\n",
       "      <td>CL0</td>\n",
       "      <td>CL0</td>\n",
       "      <td>CL0</td>\n",
       "      <td>CL2</td>\n",
       "      <td>CL0</td>\n",
       "      <td>CL0</td>\n",
       "    </tr>\n",
       "    <tr>\n",
       "      <th>1</th>\n",
       "      <td>CL5</td>\n",
       "      <td>CL2</td>\n",
       "      <td>CL2</td>\n",
       "      <td>CL0</td>\n",
       "      <td>CL6</td>\n",
       "      <td>CL4</td>\n",
       "      <td>CL6</td>\n",
       "      <td>CL3</td>\n",
       "      <td>CL0</td>\n",
       "      <td>CL4</td>\n",
       "      <td>CL0</td>\n",
       "      <td>CL2</td>\n",
       "      <td>CL0</td>\n",
       "      <td>CL2</td>\n",
       "      <td>CL3</td>\n",
       "      <td>CL0</td>\n",
       "      <td>CL4</td>\n",
       "      <td>CL0</td>\n",
       "      <td>CL0</td>\n",
       "    </tr>\n",
       "    <tr>\n",
       "      <th>2</th>\n",
       "      <td>CL6</td>\n",
       "      <td>CL0</td>\n",
       "      <td>CL0</td>\n",
       "      <td>CL0</td>\n",
       "      <td>CL6</td>\n",
       "      <td>CL3</td>\n",
       "      <td>CL4</td>\n",
       "      <td>CL0</td>\n",
       "      <td>CL0</td>\n",
       "      <td>CL0</td>\n",
       "      <td>CL0</td>\n",
       "      <td>CL0</td>\n",
       "      <td>CL0</td>\n",
       "      <td>CL0</td>\n",
       "      <td>CL0</td>\n",
       "      <td>CL1</td>\n",
       "      <td>CL0</td>\n",
       "      <td>CL0</td>\n",
       "      <td>CL0</td>\n",
       "    </tr>\n",
       "    <tr>\n",
       "      <th>3</th>\n",
       "      <td>CL4</td>\n",
       "      <td>CL0</td>\n",
       "      <td>CL0</td>\n",
       "      <td>CL3</td>\n",
       "      <td>CL5</td>\n",
       "      <td>CL2</td>\n",
       "      <td>CL4</td>\n",
       "      <td>CL2</td>\n",
       "      <td>CL0</td>\n",
       "      <td>CL0</td>\n",
       "      <td>CL0</td>\n",
       "      <td>CL2</td>\n",
       "      <td>CL0</td>\n",
       "      <td>CL0</td>\n",
       "      <td>CL0</td>\n",
       "      <td>CL0</td>\n",
       "      <td>CL2</td>\n",
       "      <td>CL0</td>\n",
       "      <td>CL0</td>\n",
       "    </tr>\n",
       "    <tr>\n",
       "      <th>4</th>\n",
       "      <td>CL4</td>\n",
       "      <td>CL1</td>\n",
       "      <td>CL1</td>\n",
       "      <td>CL0</td>\n",
       "      <td>CL6</td>\n",
       "      <td>CL3</td>\n",
       "      <td>CL6</td>\n",
       "      <td>CL0</td>\n",
       "      <td>CL0</td>\n",
       "      <td>CL1</td>\n",
       "      <td>CL0</td>\n",
       "      <td>CL0</td>\n",
       "      <td>CL1</td>\n",
       "      <td>CL0</td>\n",
       "      <td>CL0</td>\n",
       "      <td>CL2</td>\n",
       "      <td>CL2</td>\n",
       "      <td>CL0</td>\n",
       "      <td>CL0</td>\n",
       "    </tr>\n",
       "    <tr>\n",
       "      <th>...</th>\n",
       "      <td>...</td>\n",
       "      <td>...</td>\n",
       "      <td>...</td>\n",
       "      <td>...</td>\n",
       "      <td>...</td>\n",
       "      <td>...</td>\n",
       "      <td>...</td>\n",
       "      <td>...</td>\n",
       "      <td>...</td>\n",
       "      <td>...</td>\n",
       "      <td>...</td>\n",
       "      <td>...</td>\n",
       "      <td>...</td>\n",
       "      <td>...</td>\n",
       "      <td>...</td>\n",
       "      <td>...</td>\n",
       "      <td>...</td>\n",
       "      <td>...</td>\n",
       "      <td>...</td>\n",
       "    </tr>\n",
       "    <tr>\n",
       "      <th>1880</th>\n",
       "      <td>CL5</td>\n",
       "      <td>CL0</td>\n",
       "      <td>CL0</td>\n",
       "      <td>CL0</td>\n",
       "      <td>CL4</td>\n",
       "      <td>CL5</td>\n",
       "      <td>CL4</td>\n",
       "      <td>CL0</td>\n",
       "      <td>CL0</td>\n",
       "      <td>CL0</td>\n",
       "      <td>CL0</td>\n",
       "      <td>CL0</td>\n",
       "      <td>CL3</td>\n",
       "      <td>CL3</td>\n",
       "      <td>CL0</td>\n",
       "      <td>CL0</td>\n",
       "      <td>CL0</td>\n",
       "      <td>CL0</td>\n",
       "      <td>CL5</td>\n",
       "    </tr>\n",
       "    <tr>\n",
       "      <th>1881</th>\n",
       "      <td>CL5</td>\n",
       "      <td>CL0</td>\n",
       "      <td>CL0</td>\n",
       "      <td>CL0</td>\n",
       "      <td>CL5</td>\n",
       "      <td>CL3</td>\n",
       "      <td>CL4</td>\n",
       "      <td>CL0</td>\n",
       "      <td>CL0</td>\n",
       "      <td>CL2</td>\n",
       "      <td>CL0</td>\n",
       "      <td>CL0</td>\n",
       "      <td>CL3</td>\n",
       "      <td>CL5</td>\n",
       "      <td>CL4</td>\n",
       "      <td>CL4</td>\n",
       "      <td>CL5</td>\n",
       "      <td>CL0</td>\n",
       "      <td>CL0</td>\n",
       "    </tr>\n",
       "    <tr>\n",
       "      <th>1882</th>\n",
       "      <td>CL4</td>\n",
       "      <td>CL6</td>\n",
       "      <td>CL5</td>\n",
       "      <td>CL5</td>\n",
       "      <td>CL6</td>\n",
       "      <td>CL6</td>\n",
       "      <td>CL6</td>\n",
       "      <td>CL4</td>\n",
       "      <td>CL0</td>\n",
       "      <td>CL4</td>\n",
       "      <td>CL0</td>\n",
       "      <td>CL2</td>\n",
       "      <td>CL0</td>\n",
       "      <td>CL2</td>\n",
       "      <td>CL0</td>\n",
       "      <td>CL2</td>\n",
       "      <td>CL6</td>\n",
       "      <td>CL0</td>\n",
       "      <td>CL0</td>\n",
       "    </tr>\n",
       "    <tr>\n",
       "      <th>1883</th>\n",
       "      <td>CL5</td>\n",
       "      <td>CL0</td>\n",
       "      <td>CL0</td>\n",
       "      <td>CL0</td>\n",
       "      <td>CL6</td>\n",
       "      <td>CL6</td>\n",
       "      <td>CL5</td>\n",
       "      <td>CL0</td>\n",
       "      <td>CL0</td>\n",
       "      <td>CL3</td>\n",
       "      <td>CL0</td>\n",
       "      <td>CL0</td>\n",
       "      <td>CL3</td>\n",
       "      <td>CL3</td>\n",
       "      <td>CL0</td>\n",
       "      <td>CL3</td>\n",
       "      <td>CL4</td>\n",
       "      <td>CL0</td>\n",
       "      <td>CL0</td>\n",
       "    </tr>\n",
       "    <tr>\n",
       "      <th>1884</th>\n",
       "      <td>CL4</td>\n",
       "      <td>CL3</td>\n",
       "      <td>CL0</td>\n",
       "      <td>CL3</td>\n",
       "      <td>CL6</td>\n",
       "      <td>CL3</td>\n",
       "      <td>CL6</td>\n",
       "      <td>CL3</td>\n",
       "      <td>CL0</td>\n",
       "      <td>CL3</td>\n",
       "      <td>CL0</td>\n",
       "      <td>CL0</td>\n",
       "      <td>CL3</td>\n",
       "      <td>CL3</td>\n",
       "      <td>CL0</td>\n",
       "      <td>CL3</td>\n",
       "      <td>CL6</td>\n",
       "      <td>CL0</td>\n",
       "      <td>CL2</td>\n",
       "    </tr>\n",
       "  </tbody>\n",
       "</table>\n",
       "<p>1885 rows × 19 columns</p>\n",
       "</div>"
      ],
      "text/plain": [
       "      ALC AMPHET AMYL BENZOS CAFF CANNABIS CHOC COCAINE CRACK ECST HEROIN  \\\n",
       "0     CL5    CL2  CL0    CL2  CL6      CL0  CL5     CL0   CL0  CL0    CL0   \n",
       "1     CL5    CL2  CL2    CL0  CL6      CL4  CL6     CL3   CL0  CL4    CL0   \n",
       "2     CL6    CL0  CL0    CL0  CL6      CL3  CL4     CL0   CL0  CL0    CL0   \n",
       "3     CL4    CL0  CL0    CL3  CL5      CL2  CL4     CL2   CL0  CL0    CL0   \n",
       "4     CL4    CL1  CL1    CL0  CL6      CL3  CL6     CL0   CL0  CL1    CL0   \n",
       "...   ...    ...  ...    ...  ...      ...  ...     ...   ...  ...    ...   \n",
       "1880  CL5    CL0  CL0    CL0  CL4      CL5  CL4     CL0   CL0  CL0    CL0   \n",
       "1881  CL5    CL0  CL0    CL0  CL5      CL3  CL4     CL0   CL0  CL2    CL0   \n",
       "1882  CL4    CL6  CL5    CL5  CL6      CL6  CL6     CL4   CL0  CL4    CL0   \n",
       "1883  CL5    CL0  CL0    CL0  CL6      CL6  CL5     CL0   CL0  CL3    CL0   \n",
       "1884  CL4    CL3  CL0    CL3  CL6      CL3  CL6     CL3   CL0  CL3    CL0   \n",
       "\n",
       "     KETA LEGALH  LSD METH MUSHRM NICO SEMER  VSA  \n",
       "0     CL0    CL0  CL0  CL0    CL0  CL2   CL0  CL0  \n",
       "1     CL2    CL0  CL2  CL3    CL0  CL4   CL0  CL0  \n",
       "2     CL0    CL0  CL0  CL0    CL1  CL0   CL0  CL0  \n",
       "3     CL2    CL0  CL0  CL0    CL0  CL2   CL0  CL0  \n",
       "4     CL0    CL1  CL0  CL0    CL2  CL2   CL0  CL0  \n",
       "...   ...    ...  ...  ...    ...  ...   ...  ...  \n",
       "1880  CL0    CL3  CL3  CL0    CL0  CL0   CL0  CL5  \n",
       "1881  CL0    CL3  CL5  CL4    CL4  CL5   CL0  CL0  \n",
       "1882  CL2    CL0  CL2  CL0    CL2  CL6   CL0  CL0  \n",
       "1883  CL0    CL3  CL3  CL0    CL3  CL4   CL0  CL0  \n",
       "1884  CL0    CL3  CL3  CL0    CL3  CL6   CL0  CL2  \n",
       "\n",
       "[1885 rows x 19 columns]"
      ]
     },
     "execution_count": 137,
     "metadata": {},
     "output_type": "execute_result"
    }
   ],
   "source": [
    "#select only the drug variable columns\n",
    "df.iloc[:,13:]"
   ]
  },
  {
   "cell_type": "code",
   "execution_count": 138,
   "id": "ed8871fa",
   "metadata": {},
   "outputs": [
    {
     "data": {
      "text/html": [
       "<div>\n",
       "<style scoped>\n",
       "    .dataframe tbody tr th:only-of-type {\n",
       "        vertical-align: middle;\n",
       "    }\n",
       "\n",
       "    .dataframe tbody tr th {\n",
       "        vertical-align: top;\n",
       "    }\n",
       "\n",
       "    .dataframe thead th {\n",
       "        text-align: right;\n",
       "    }\n",
       "</style>\n",
       "<table border=\"1\" class=\"dataframe\">\n",
       "  <thead>\n",
       "    <tr style=\"text-align: right;\">\n",
       "      <th></th>\n",
       "      <th>ALC</th>\n",
       "      <th>AMPHET</th>\n",
       "      <th>AMYL</th>\n",
       "      <th>BENZOS</th>\n",
       "      <th>CAFF</th>\n",
       "      <th>CANNABIS</th>\n",
       "      <th>CHOC</th>\n",
       "      <th>COCAINE</th>\n",
       "      <th>CRACK</th>\n",
       "      <th>ECST</th>\n",
       "      <th>HEROIN</th>\n",
       "      <th>KETA</th>\n",
       "      <th>LEGALH</th>\n",
       "      <th>LSD</th>\n",
       "      <th>METH</th>\n",
       "      <th>MUSHRM</th>\n",
       "      <th>NICO</th>\n",
       "      <th>SEMER</th>\n",
       "      <th>VSA</th>\n",
       "    </tr>\n",
       "  </thead>\n",
       "  <tbody>\n",
       "    <tr>\n",
       "      <th>0</th>\n",
       "      <td>5</td>\n",
       "      <td>2</td>\n",
       "      <td>0</td>\n",
       "      <td>2</td>\n",
       "      <td>6</td>\n",
       "      <td>0</td>\n",
       "      <td>5</td>\n",
       "      <td>0</td>\n",
       "      <td>0</td>\n",
       "      <td>0</td>\n",
       "      <td>0</td>\n",
       "      <td>0</td>\n",
       "      <td>0</td>\n",
       "      <td>0</td>\n",
       "      <td>0</td>\n",
       "      <td>0</td>\n",
       "      <td>2</td>\n",
       "      <td>0</td>\n",
       "      <td>0</td>\n",
       "    </tr>\n",
       "    <tr>\n",
       "      <th>1</th>\n",
       "      <td>5</td>\n",
       "      <td>2</td>\n",
       "      <td>2</td>\n",
       "      <td>0</td>\n",
       "      <td>6</td>\n",
       "      <td>4</td>\n",
       "      <td>6</td>\n",
       "      <td>3</td>\n",
       "      <td>0</td>\n",
       "      <td>4</td>\n",
       "      <td>0</td>\n",
       "      <td>2</td>\n",
       "      <td>0</td>\n",
       "      <td>2</td>\n",
       "      <td>3</td>\n",
       "      <td>0</td>\n",
       "      <td>4</td>\n",
       "      <td>0</td>\n",
       "      <td>0</td>\n",
       "    </tr>\n",
       "    <tr>\n",
       "      <th>2</th>\n",
       "      <td>6</td>\n",
       "      <td>0</td>\n",
       "      <td>0</td>\n",
       "      <td>0</td>\n",
       "      <td>6</td>\n",
       "      <td>3</td>\n",
       "      <td>4</td>\n",
       "      <td>0</td>\n",
       "      <td>0</td>\n",
       "      <td>0</td>\n",
       "      <td>0</td>\n",
       "      <td>0</td>\n",
       "      <td>0</td>\n",
       "      <td>0</td>\n",
       "      <td>0</td>\n",
       "      <td>1</td>\n",
       "      <td>0</td>\n",
       "      <td>0</td>\n",
       "      <td>0</td>\n",
       "    </tr>\n",
       "    <tr>\n",
       "      <th>3</th>\n",
       "      <td>4</td>\n",
       "      <td>0</td>\n",
       "      <td>0</td>\n",
       "      <td>3</td>\n",
       "      <td>5</td>\n",
       "      <td>2</td>\n",
       "      <td>4</td>\n",
       "      <td>2</td>\n",
       "      <td>0</td>\n",
       "      <td>0</td>\n",
       "      <td>0</td>\n",
       "      <td>2</td>\n",
       "      <td>0</td>\n",
       "      <td>0</td>\n",
       "      <td>0</td>\n",
       "      <td>0</td>\n",
       "      <td>2</td>\n",
       "      <td>0</td>\n",
       "      <td>0</td>\n",
       "    </tr>\n",
       "    <tr>\n",
       "      <th>4</th>\n",
       "      <td>4</td>\n",
       "      <td>1</td>\n",
       "      <td>1</td>\n",
       "      <td>0</td>\n",
       "      <td>6</td>\n",
       "      <td>3</td>\n",
       "      <td>6</td>\n",
       "      <td>0</td>\n",
       "      <td>0</td>\n",
       "      <td>1</td>\n",
       "      <td>0</td>\n",
       "      <td>0</td>\n",
       "      <td>1</td>\n",
       "      <td>0</td>\n",
       "      <td>0</td>\n",
       "      <td>2</td>\n",
       "      <td>2</td>\n",
       "      <td>0</td>\n",
       "      <td>0</td>\n",
       "    </tr>\n",
       "    <tr>\n",
       "      <th>...</th>\n",
       "      <td>...</td>\n",
       "      <td>...</td>\n",
       "      <td>...</td>\n",
       "      <td>...</td>\n",
       "      <td>...</td>\n",
       "      <td>...</td>\n",
       "      <td>...</td>\n",
       "      <td>...</td>\n",
       "      <td>...</td>\n",
       "      <td>...</td>\n",
       "      <td>...</td>\n",
       "      <td>...</td>\n",
       "      <td>...</td>\n",
       "      <td>...</td>\n",
       "      <td>...</td>\n",
       "      <td>...</td>\n",
       "      <td>...</td>\n",
       "      <td>...</td>\n",
       "      <td>...</td>\n",
       "    </tr>\n",
       "    <tr>\n",
       "      <th>1880</th>\n",
       "      <td>5</td>\n",
       "      <td>0</td>\n",
       "      <td>0</td>\n",
       "      <td>0</td>\n",
       "      <td>4</td>\n",
       "      <td>5</td>\n",
       "      <td>4</td>\n",
       "      <td>0</td>\n",
       "      <td>0</td>\n",
       "      <td>0</td>\n",
       "      <td>0</td>\n",
       "      <td>0</td>\n",
       "      <td>3</td>\n",
       "      <td>3</td>\n",
       "      <td>0</td>\n",
       "      <td>0</td>\n",
       "      <td>0</td>\n",
       "      <td>0</td>\n",
       "      <td>5</td>\n",
       "    </tr>\n",
       "    <tr>\n",
       "      <th>1881</th>\n",
       "      <td>5</td>\n",
       "      <td>0</td>\n",
       "      <td>0</td>\n",
       "      <td>0</td>\n",
       "      <td>5</td>\n",
       "      <td>3</td>\n",
       "      <td>4</td>\n",
       "      <td>0</td>\n",
       "      <td>0</td>\n",
       "      <td>2</td>\n",
       "      <td>0</td>\n",
       "      <td>0</td>\n",
       "      <td>3</td>\n",
       "      <td>5</td>\n",
       "      <td>4</td>\n",
       "      <td>4</td>\n",
       "      <td>5</td>\n",
       "      <td>0</td>\n",
       "      <td>0</td>\n",
       "    </tr>\n",
       "    <tr>\n",
       "      <th>1882</th>\n",
       "      <td>4</td>\n",
       "      <td>6</td>\n",
       "      <td>5</td>\n",
       "      <td>5</td>\n",
       "      <td>6</td>\n",
       "      <td>6</td>\n",
       "      <td>6</td>\n",
       "      <td>4</td>\n",
       "      <td>0</td>\n",
       "      <td>4</td>\n",
       "      <td>0</td>\n",
       "      <td>2</td>\n",
       "      <td>0</td>\n",
       "      <td>2</td>\n",
       "      <td>0</td>\n",
       "      <td>2</td>\n",
       "      <td>6</td>\n",
       "      <td>0</td>\n",
       "      <td>0</td>\n",
       "    </tr>\n",
       "    <tr>\n",
       "      <th>1883</th>\n",
       "      <td>5</td>\n",
       "      <td>0</td>\n",
       "      <td>0</td>\n",
       "      <td>0</td>\n",
       "      <td>6</td>\n",
       "      <td>6</td>\n",
       "      <td>5</td>\n",
       "      <td>0</td>\n",
       "      <td>0</td>\n",
       "      <td>3</td>\n",
       "      <td>0</td>\n",
       "      <td>0</td>\n",
       "      <td>3</td>\n",
       "      <td>3</td>\n",
       "      <td>0</td>\n",
       "      <td>3</td>\n",
       "      <td>4</td>\n",
       "      <td>0</td>\n",
       "      <td>0</td>\n",
       "    </tr>\n",
       "    <tr>\n",
       "      <th>1884</th>\n",
       "      <td>4</td>\n",
       "      <td>3</td>\n",
       "      <td>0</td>\n",
       "      <td>3</td>\n",
       "      <td>6</td>\n",
       "      <td>3</td>\n",
       "      <td>6</td>\n",
       "      <td>3</td>\n",
       "      <td>0</td>\n",
       "      <td>3</td>\n",
       "      <td>0</td>\n",
       "      <td>0</td>\n",
       "      <td>3</td>\n",
       "      <td>3</td>\n",
       "      <td>0</td>\n",
       "      <td>3</td>\n",
       "      <td>6</td>\n",
       "      <td>0</td>\n",
       "      <td>2</td>\n",
       "    </tr>\n",
       "  </tbody>\n",
       "</table>\n",
       "<p>1885 rows × 19 columns</p>\n",
       "</div>"
      ],
      "text/plain": [
       "     ALC AMPHET AMYL BENZOS CAFF CANNABIS CHOC COCAINE CRACK ECST HEROIN KETA  \\\n",
       "0      5      2    0      2    6        0    5       0     0    0      0    0   \n",
       "1      5      2    2      0    6        4    6       3     0    4      0    2   \n",
       "2      6      0    0      0    6        3    4       0     0    0      0    0   \n",
       "3      4      0    0      3    5        2    4       2     0    0      0    2   \n",
       "4      4      1    1      0    6        3    6       0     0    1      0    0   \n",
       "...   ..    ...  ...    ...  ...      ...  ...     ...   ...  ...    ...  ...   \n",
       "1880   5      0    0      0    4        5    4       0     0    0      0    0   \n",
       "1881   5      0    0      0    5        3    4       0     0    2      0    0   \n",
       "1882   4      6    5      5    6        6    6       4     0    4      0    2   \n",
       "1883   5      0    0      0    6        6    5       0     0    3      0    0   \n",
       "1884   4      3    0      3    6        3    6       3     0    3      0    0   \n",
       "\n",
       "     LEGALH LSD METH MUSHRM NICO SEMER VSA  \n",
       "0         0   0    0      0    2     0   0  \n",
       "1         0   2    3      0    4     0   0  \n",
       "2         0   0    0      1    0     0   0  \n",
       "3         0   0    0      0    2     0   0  \n",
       "4         1   0    0      2    2     0   0  \n",
       "...     ...  ..  ...    ...  ...   ...  ..  \n",
       "1880      3   3    0      0    0     0   5  \n",
       "1881      3   5    4      4    5     0   0  \n",
       "1882      0   2    0      2    6     0   0  \n",
       "1883      3   3    0      3    4     0   0  \n",
       "1884      3   3    0      3    6     0   2  \n",
       "\n",
       "[1885 rows x 19 columns]"
      ]
     },
     "execution_count": 138,
     "metadata": {},
     "output_type": "execute_result"
    }
   ],
   "source": [
    "#remove 'CL' prefix\n",
    "df.iloc[:,13:] = df.iloc[:,13:].applymap(lambda x: re.sub('CL','',x))\n",
    "df.iloc[:,13:]"
   ]
  },
  {
   "cell_type": "code",
   "execution_count": 139,
   "id": "925f9d46",
   "metadata": {},
   "outputs": [
    {
     "name": "stdout",
     "output_type": "stream",
     "text": [
      "<class 'pandas.core.frame.DataFrame'>\n",
      "RangeIndex: 1885 entries, 0 to 1884\n",
      "Data columns (total 32 columns):\n",
      " #   Column     Non-Null Count  Dtype  \n",
      "---  ------     --------------  -----  \n",
      " 0   ID         1885 non-null   int64  \n",
      " 1   Age        1885 non-null   float64\n",
      " 2   Gender     1885 non-null   float64\n",
      " 3   Education  1885 non-null   float64\n",
      " 4   Country    1885 non-null   float64\n",
      " 5   Ethnicity  1885 non-null   float64\n",
      " 6   NEO_N      1885 non-null   float64\n",
      " 7   NEO_E      1885 non-null   float64\n",
      " 8   NEO_O      1885 non-null   float64\n",
      " 9   NEO_A      1885 non-null   float64\n",
      " 10  NEO_C      1885 non-null   float64\n",
      " 11  IMP        1885 non-null   float64\n",
      " 12  SS         1885 non-null   float64\n",
      " 13  ALC        1885 non-null   int32  \n",
      " 14  AMPHET     1885 non-null   int32  \n",
      " 15  AMYL       1885 non-null   int32  \n",
      " 16  BENZOS     1885 non-null   int32  \n",
      " 17  CAFF       1885 non-null   int32  \n",
      " 18  CANNABIS   1885 non-null   int32  \n",
      " 19  CHOC       1885 non-null   int32  \n",
      " 20  COCAINE    1885 non-null   int32  \n",
      " 21  CRACK      1885 non-null   int32  \n",
      " 22  ECST       1885 non-null   int32  \n",
      " 23  HEROIN     1885 non-null   int32  \n",
      " 24  KETA       1885 non-null   int32  \n",
      " 25  LEGALH     1885 non-null   int32  \n",
      " 26  LSD        1885 non-null   int32  \n",
      " 27  METH       1885 non-null   int32  \n",
      " 28  MUSHRM     1885 non-null   int32  \n",
      " 29  NICO       1885 non-null   int32  \n",
      " 30  SEMER      1885 non-null   int32  \n",
      " 31  VSA        1885 non-null   int32  \n",
      "dtypes: float64(12), int32(19), int64(1)\n",
      "memory usage: 331.5 KB\n"
     ]
    }
   ],
   "source": [
    "#recode as integer field type\n",
    "df.iloc[:,13:] = df.iloc[:,13:].apply(lambda x: x.astype(int))\n",
    "#check for field type of outcomes (should be integers)\n",
    "df.info()"
   ]
  },
  {
   "cell_type": "markdown",
   "id": "e290bb20",
   "metadata": {},
   "source": [
    "### Create 3 broader outcome variables (*Stimulants, Depressants and Hallucinogens*)"
   ]
  },
  {
   "cell_type": "code",
   "execution_count": 140,
   "id": "297a7ab5",
   "metadata": {},
   "outputs": [],
   "source": [
    "#testing function to group drugs to create a new outcome variable\n",
    "def create_drug_test(row):      \n",
    "    return max(row['ALC'],row['AMPHET'],row['AMYL'],\\\n",
    "              row['BENZOS'],row['CANNABIS'])"
   ]
  },
  {
   "cell_type": "code",
   "execution_count": 141,
   "id": "65e213f7",
   "metadata": {},
   "outputs": [
    {
     "data": {
      "text/html": [
       "<div>\n",
       "<style scoped>\n",
       "    .dataframe tbody tr th:only-of-type {\n",
       "        vertical-align: middle;\n",
       "    }\n",
       "\n",
       "    .dataframe tbody tr th {\n",
       "        vertical-align: top;\n",
       "    }\n",
       "\n",
       "    .dataframe thead th {\n",
       "        text-align: right;\n",
       "    }\n",
       "</style>\n",
       "<table border=\"1\" class=\"dataframe\">\n",
       "  <thead>\n",
       "    <tr style=\"text-align: right;\">\n",
       "      <th></th>\n",
       "      <th>ALC</th>\n",
       "      <th>AMPHET</th>\n",
       "      <th>AMYL</th>\n",
       "      <th>BENZOS</th>\n",
       "      <th>CAFF</th>\n",
       "      <th>CANNABIS</th>\n",
       "      <th>CHOC</th>\n",
       "      <th>COCAINE</th>\n",
       "      <th>CRACK</th>\n",
       "      <th>ECST</th>\n",
       "      <th>HEROIN</th>\n",
       "      <th>KETA</th>\n",
       "      <th>LEGALH</th>\n",
       "      <th>LSD</th>\n",
       "      <th>METH</th>\n",
       "      <th>MUSHRM</th>\n",
       "      <th>NICO</th>\n",
       "      <th>SEMER</th>\n",
       "      <th>VSA</th>\n",
       "    </tr>\n",
       "  </thead>\n",
       "  <tbody>\n",
       "    <tr>\n",
       "      <th>0</th>\n",
       "      <td>5</td>\n",
       "      <td>2</td>\n",
       "      <td>0</td>\n",
       "      <td>2</td>\n",
       "      <td>6</td>\n",
       "      <td>0</td>\n",
       "      <td>5</td>\n",
       "      <td>0</td>\n",
       "      <td>0</td>\n",
       "      <td>0</td>\n",
       "      <td>0</td>\n",
       "      <td>0</td>\n",
       "      <td>0</td>\n",
       "      <td>0</td>\n",
       "      <td>0</td>\n",
       "      <td>0</td>\n",
       "      <td>2</td>\n",
       "      <td>0</td>\n",
       "      <td>0</td>\n",
       "    </tr>\n",
       "    <tr>\n",
       "      <th>1</th>\n",
       "      <td>5</td>\n",
       "      <td>2</td>\n",
       "      <td>2</td>\n",
       "      <td>0</td>\n",
       "      <td>6</td>\n",
       "      <td>4</td>\n",
       "      <td>6</td>\n",
       "      <td>3</td>\n",
       "      <td>0</td>\n",
       "      <td>4</td>\n",
       "      <td>0</td>\n",
       "      <td>2</td>\n",
       "      <td>0</td>\n",
       "      <td>2</td>\n",
       "      <td>3</td>\n",
       "      <td>0</td>\n",
       "      <td>4</td>\n",
       "      <td>0</td>\n",
       "      <td>0</td>\n",
       "    </tr>\n",
       "    <tr>\n",
       "      <th>2</th>\n",
       "      <td>6</td>\n",
       "      <td>0</td>\n",
       "      <td>0</td>\n",
       "      <td>0</td>\n",
       "      <td>6</td>\n",
       "      <td>3</td>\n",
       "      <td>4</td>\n",
       "      <td>0</td>\n",
       "      <td>0</td>\n",
       "      <td>0</td>\n",
       "      <td>0</td>\n",
       "      <td>0</td>\n",
       "      <td>0</td>\n",
       "      <td>0</td>\n",
       "      <td>0</td>\n",
       "      <td>1</td>\n",
       "      <td>0</td>\n",
       "      <td>0</td>\n",
       "      <td>0</td>\n",
       "    </tr>\n",
       "  </tbody>\n",
       "</table>\n",
       "</div>"
      ],
      "text/plain": [
       "   ALC  AMPHET  AMYL  BENZOS  CAFF  CANNABIS  CHOC  COCAINE  CRACK  ECST  \\\n",
       "0    5       2     0       2     6         0     5        0      0     0   \n",
       "1    5       2     2       0     6         4     6        3      0     4   \n",
       "2    6       0     0       0     6         3     4        0      0     0   \n",
       "\n",
       "   HEROIN  KETA  LEGALH  LSD  METH  MUSHRM  NICO  SEMER  VSA  \n",
       "0       0     0       0    0     0       0     2      0    0  \n",
       "1       0     2       0    2     3       0     4      0    0  \n",
       "2       0     0       0    0     0       1     0      0    0  "
      ]
     },
     "metadata": {},
     "output_type": "display_data"
    },
    {
     "data": {
      "text/plain": [
       "0    5\n",
       "1    5\n",
       "2    6\n",
       "dtype: int64"
      ]
     },
     "metadata": {},
     "output_type": "display_data"
    }
   ],
   "source": [
    "#test on first three throws - before and after\n",
    "display(df.iloc[:3,13:])\n",
    "\n",
    "#selection from row\n",
    "display(df.iloc[:3,13:].apply(lambda x: create_drug_test(x), axis=1))"
   ]
  },
  {
   "cell_type": "code",
   "execution_count": 142,
   "id": "23e7eae0",
   "metadata": {},
   "outputs": [],
   "source": [
    "#function to group drugs to create a new stimulants outcome variable\n",
    "def create_stimulants(row):      \n",
    "    return max(row['AMPHET'],row['NICO'],row['COCAINE'],\\\n",
    "              row['CRACK'],row['CAFF'],row['CHOC'])"
   ]
  },
  {
   "cell_type": "code",
   "execution_count": 143,
   "id": "aea18d9f",
   "metadata": {},
   "outputs": [],
   "source": [
    "#function to group drugs to create a new depressants outcome variable\n",
    "def create_depressants(row):      \n",
    "    return max(row['ALC'],row['AMYL'],row['BENZOS'],row['VSA'],row['HEROIN'],\\\n",
    "              row['METH'])"
   ]
  },
  {
   "cell_type": "code",
   "execution_count": 144,
   "id": "0f793f3f",
   "metadata": {},
   "outputs": [],
   "source": [
    "#function to group drugs to create a new hallucinogens outcome variable\n",
    "def create_hallucinogens(row):      \n",
    "    return max(row['CANNABIS'],row['ECST'],row['KETA'],row['LSD'],\\\n",
    "               row['MUSHRM'],row['LEGALH'])"
   ]
  },
  {
   "cell_type": "code",
   "execution_count": 145,
   "id": "48d08ec6",
   "metadata": {},
   "outputs": [],
   "source": [
    "df[\"stimulants\"] = df.iloc[:,13:].apply(lambda x: create_stimulants(x).astype(int), axis=1)\n",
    "df[\"depressants\"] = df.iloc[:,13:].apply(lambda x: create_depressants(x).astype(int), axis=1)\n",
    "df[\"hallucinogens\"] = df.iloc[:,13:].apply(lambda x: create_hallucinogens(x).astype(int), axis=1)\n",
    "\n"
   ]
  },
  {
   "cell_type": "code",
   "execution_count": 146,
   "id": "ef395be0",
   "metadata": {},
   "outputs": [
    {
     "data": {
      "text/html": [
       "<div>\n",
       "<style scoped>\n",
       "    .dataframe tbody tr th:only-of-type {\n",
       "        vertical-align: middle;\n",
       "    }\n",
       "\n",
       "    .dataframe tbody tr th {\n",
       "        vertical-align: top;\n",
       "    }\n",
       "\n",
       "    .dataframe thead th {\n",
       "        text-align: right;\n",
       "    }\n",
       "</style>\n",
       "<table border=\"1\" class=\"dataframe\">\n",
       "  <thead>\n",
       "    <tr style=\"text-align: right;\">\n",
       "      <th></th>\n",
       "      <th>ID</th>\n",
       "      <th>Age</th>\n",
       "      <th>Gender</th>\n",
       "      <th>Education</th>\n",
       "      <th>Country</th>\n",
       "      <th>Ethnicity</th>\n",
       "      <th>NEO_N</th>\n",
       "      <th>NEO_E</th>\n",
       "      <th>NEO_O</th>\n",
       "      <th>NEO_A</th>\n",
       "      <th>...</th>\n",
       "      <th>LEGALH</th>\n",
       "      <th>LSD</th>\n",
       "      <th>METH</th>\n",
       "      <th>MUSHRM</th>\n",
       "      <th>NICO</th>\n",
       "      <th>SEMER</th>\n",
       "      <th>VSA</th>\n",
       "      <th>stimulants</th>\n",
       "      <th>depressants</th>\n",
       "      <th>hallucinogens</th>\n",
       "    </tr>\n",
       "  </thead>\n",
       "  <tbody>\n",
       "    <tr>\n",
       "      <th>0</th>\n",
       "      <td>1</td>\n",
       "      <td>0.49788</td>\n",
       "      <td>0.48246</td>\n",
       "      <td>-0.05921</td>\n",
       "      <td>0.96082</td>\n",
       "      <td>0.12600</td>\n",
       "      <td>0.31287</td>\n",
       "      <td>-0.57545</td>\n",
       "      <td>-0.58331</td>\n",
       "      <td>-0.91699</td>\n",
       "      <td>...</td>\n",
       "      <td>0</td>\n",
       "      <td>0</td>\n",
       "      <td>0</td>\n",
       "      <td>0</td>\n",
       "      <td>2</td>\n",
       "      <td>0</td>\n",
       "      <td>0</td>\n",
       "      <td>6</td>\n",
       "      <td>5</td>\n",
       "      <td>0</td>\n",
       "    </tr>\n",
       "    <tr>\n",
       "      <th>1</th>\n",
       "      <td>2</td>\n",
       "      <td>-0.07854</td>\n",
       "      <td>-0.48246</td>\n",
       "      <td>1.98437</td>\n",
       "      <td>0.96082</td>\n",
       "      <td>-0.31685</td>\n",
       "      <td>-0.67825</td>\n",
       "      <td>1.93886</td>\n",
       "      <td>1.43533</td>\n",
       "      <td>0.76096</td>\n",
       "      <td>...</td>\n",
       "      <td>0</td>\n",
       "      <td>2</td>\n",
       "      <td>3</td>\n",
       "      <td>0</td>\n",
       "      <td>4</td>\n",
       "      <td>0</td>\n",
       "      <td>0</td>\n",
       "      <td>6</td>\n",
       "      <td>5</td>\n",
       "      <td>4</td>\n",
       "    </tr>\n",
       "    <tr>\n",
       "      <th>2</th>\n",
       "      <td>3</td>\n",
       "      <td>0.49788</td>\n",
       "      <td>-0.48246</td>\n",
       "      <td>-0.05921</td>\n",
       "      <td>0.96082</td>\n",
       "      <td>-0.31685</td>\n",
       "      <td>-0.46725</td>\n",
       "      <td>0.80523</td>\n",
       "      <td>-0.84732</td>\n",
       "      <td>-1.62090</td>\n",
       "      <td>...</td>\n",
       "      <td>0</td>\n",
       "      <td>0</td>\n",
       "      <td>0</td>\n",
       "      <td>1</td>\n",
       "      <td>0</td>\n",
       "      <td>0</td>\n",
       "      <td>0</td>\n",
       "      <td>6</td>\n",
       "      <td>6</td>\n",
       "      <td>3</td>\n",
       "    </tr>\n",
       "    <tr>\n",
       "      <th>3</th>\n",
       "      <td>4</td>\n",
       "      <td>-0.95197</td>\n",
       "      <td>0.48246</td>\n",
       "      <td>1.16365</td>\n",
       "      <td>0.96082</td>\n",
       "      <td>-0.31685</td>\n",
       "      <td>-0.14882</td>\n",
       "      <td>-0.80615</td>\n",
       "      <td>-0.01928</td>\n",
       "      <td>0.59042</td>\n",
       "      <td>...</td>\n",
       "      <td>0</td>\n",
       "      <td>0</td>\n",
       "      <td>0</td>\n",
       "      <td>0</td>\n",
       "      <td>2</td>\n",
       "      <td>0</td>\n",
       "      <td>0</td>\n",
       "      <td>5</td>\n",
       "      <td>4</td>\n",
       "      <td>2</td>\n",
       "    </tr>\n",
       "    <tr>\n",
       "      <th>4</th>\n",
       "      <td>5</td>\n",
       "      <td>0.49788</td>\n",
       "      <td>0.48246</td>\n",
       "      <td>1.98437</td>\n",
       "      <td>0.96082</td>\n",
       "      <td>-0.31685</td>\n",
       "      <td>0.73545</td>\n",
       "      <td>-1.63340</td>\n",
       "      <td>-0.45174</td>\n",
       "      <td>-0.30172</td>\n",
       "      <td>...</td>\n",
       "      <td>1</td>\n",
       "      <td>0</td>\n",
       "      <td>0</td>\n",
       "      <td>2</td>\n",
       "      <td>2</td>\n",
       "      <td>0</td>\n",
       "      <td>0</td>\n",
       "      <td>6</td>\n",
       "      <td>4</td>\n",
       "      <td>3</td>\n",
       "    </tr>\n",
       "    <tr>\n",
       "      <th>...</th>\n",
       "      <td>...</td>\n",
       "      <td>...</td>\n",
       "      <td>...</td>\n",
       "      <td>...</td>\n",
       "      <td>...</td>\n",
       "      <td>...</td>\n",
       "      <td>...</td>\n",
       "      <td>...</td>\n",
       "      <td>...</td>\n",
       "      <td>...</td>\n",
       "      <td>...</td>\n",
       "      <td>...</td>\n",
       "      <td>...</td>\n",
       "      <td>...</td>\n",
       "      <td>...</td>\n",
       "      <td>...</td>\n",
       "      <td>...</td>\n",
       "      <td>...</td>\n",
       "      <td>...</td>\n",
       "      <td>...</td>\n",
       "      <td>...</td>\n",
       "    </tr>\n",
       "    <tr>\n",
       "      <th>1880</th>\n",
       "      <td>1884</td>\n",
       "      <td>-0.95197</td>\n",
       "      <td>0.48246</td>\n",
       "      <td>-0.61113</td>\n",
       "      <td>-0.57009</td>\n",
       "      <td>-0.31685</td>\n",
       "      <td>-1.19430</td>\n",
       "      <td>1.74091</td>\n",
       "      <td>1.88511</td>\n",
       "      <td>0.76096</td>\n",
       "      <td>...</td>\n",
       "      <td>3</td>\n",
       "      <td>3</td>\n",
       "      <td>0</td>\n",
       "      <td>0</td>\n",
       "      <td>0</td>\n",
       "      <td>0</td>\n",
       "      <td>5</td>\n",
       "      <td>4</td>\n",
       "      <td>5</td>\n",
       "      <td>5</td>\n",
       "    </tr>\n",
       "    <tr>\n",
       "      <th>1881</th>\n",
       "      <td>1885</td>\n",
       "      <td>-0.95197</td>\n",
       "      <td>-0.48246</td>\n",
       "      <td>-0.61113</td>\n",
       "      <td>-0.57009</td>\n",
       "      <td>-0.31685</td>\n",
       "      <td>-0.24649</td>\n",
       "      <td>1.74091</td>\n",
       "      <td>0.58331</td>\n",
       "      <td>0.76096</td>\n",
       "      <td>...</td>\n",
       "      <td>3</td>\n",
       "      <td>5</td>\n",
       "      <td>4</td>\n",
       "      <td>4</td>\n",
       "      <td>5</td>\n",
       "      <td>0</td>\n",
       "      <td>0</td>\n",
       "      <td>5</td>\n",
       "      <td>5</td>\n",
       "      <td>5</td>\n",
       "    </tr>\n",
       "    <tr>\n",
       "      <th>1882</th>\n",
       "      <td>1886</td>\n",
       "      <td>-0.07854</td>\n",
       "      <td>0.48246</td>\n",
       "      <td>0.45468</td>\n",
       "      <td>-0.57009</td>\n",
       "      <td>-0.31685</td>\n",
       "      <td>1.13281</td>\n",
       "      <td>-1.37639</td>\n",
       "      <td>-1.27553</td>\n",
       "      <td>-1.77200</td>\n",
       "      <td>...</td>\n",
       "      <td>0</td>\n",
       "      <td>2</td>\n",
       "      <td>0</td>\n",
       "      <td>2</td>\n",
       "      <td>6</td>\n",
       "      <td>0</td>\n",
       "      <td>0</td>\n",
       "      <td>6</td>\n",
       "      <td>5</td>\n",
       "      <td>6</td>\n",
       "    </tr>\n",
       "    <tr>\n",
       "      <th>1883</th>\n",
       "      <td>1887</td>\n",
       "      <td>-0.95197</td>\n",
       "      <td>0.48246</td>\n",
       "      <td>-0.61113</td>\n",
       "      <td>-0.57009</td>\n",
       "      <td>-0.31685</td>\n",
       "      <td>0.91093</td>\n",
       "      <td>-1.92173</td>\n",
       "      <td>0.29338</td>\n",
       "      <td>-1.62090</td>\n",
       "      <td>...</td>\n",
       "      <td>3</td>\n",
       "      <td>3</td>\n",
       "      <td>0</td>\n",
       "      <td>3</td>\n",
       "      <td>4</td>\n",
       "      <td>0</td>\n",
       "      <td>0</td>\n",
       "      <td>6</td>\n",
       "      <td>5</td>\n",
       "      <td>6</td>\n",
       "    </tr>\n",
       "    <tr>\n",
       "      <th>1884</th>\n",
       "      <td>1888</td>\n",
       "      <td>-0.95197</td>\n",
       "      <td>-0.48246</td>\n",
       "      <td>-0.61113</td>\n",
       "      <td>0.21128</td>\n",
       "      <td>-0.31685</td>\n",
       "      <td>-0.46725</td>\n",
       "      <td>2.12700</td>\n",
       "      <td>1.65653</td>\n",
       "      <td>1.11406</td>\n",
       "      <td>...</td>\n",
       "      <td>3</td>\n",
       "      <td>3</td>\n",
       "      <td>0</td>\n",
       "      <td>3</td>\n",
       "      <td>6</td>\n",
       "      <td>0</td>\n",
       "      <td>2</td>\n",
       "      <td>6</td>\n",
       "      <td>4</td>\n",
       "      <td>3</td>\n",
       "    </tr>\n",
       "  </tbody>\n",
       "</table>\n",
       "<p>1885 rows × 35 columns</p>\n",
       "</div>"
      ],
      "text/plain": [
       "        ID      Age   Gender  Education  Country  Ethnicity    NEO_N    NEO_E  \\\n",
       "0        1  0.49788  0.48246   -0.05921  0.96082    0.12600  0.31287 -0.57545   \n",
       "1        2 -0.07854 -0.48246    1.98437  0.96082   -0.31685 -0.67825  1.93886   \n",
       "2        3  0.49788 -0.48246   -0.05921  0.96082   -0.31685 -0.46725  0.80523   \n",
       "3        4 -0.95197  0.48246    1.16365  0.96082   -0.31685 -0.14882 -0.80615   \n",
       "4        5  0.49788  0.48246    1.98437  0.96082   -0.31685  0.73545 -1.63340   \n",
       "...    ...      ...      ...        ...      ...        ...      ...      ...   \n",
       "1880  1884 -0.95197  0.48246   -0.61113 -0.57009   -0.31685 -1.19430  1.74091   \n",
       "1881  1885 -0.95197 -0.48246   -0.61113 -0.57009   -0.31685 -0.24649  1.74091   \n",
       "1882  1886 -0.07854  0.48246    0.45468 -0.57009   -0.31685  1.13281 -1.37639   \n",
       "1883  1887 -0.95197  0.48246   -0.61113 -0.57009   -0.31685  0.91093 -1.92173   \n",
       "1884  1888 -0.95197 -0.48246   -0.61113  0.21128   -0.31685 -0.46725  2.12700   \n",
       "\n",
       "        NEO_O    NEO_A  ...  LEGALH  LSD  METH  MUSHRM  NICO  SEMER  VSA  \\\n",
       "0    -0.58331 -0.91699  ...       0    0     0       0     2      0    0   \n",
       "1     1.43533  0.76096  ...       0    2     3       0     4      0    0   \n",
       "2    -0.84732 -1.62090  ...       0    0     0       1     0      0    0   \n",
       "3    -0.01928  0.59042  ...       0    0     0       0     2      0    0   \n",
       "4    -0.45174 -0.30172  ...       1    0     0       2     2      0    0   \n",
       "...       ...      ...  ...     ...  ...   ...     ...   ...    ...  ...   \n",
       "1880  1.88511  0.76096  ...       3    3     0       0     0      0    5   \n",
       "1881  0.58331  0.76096  ...       3    5     4       4     5      0    0   \n",
       "1882 -1.27553 -1.77200  ...       0    2     0       2     6      0    0   \n",
       "1883  0.29338 -1.62090  ...       3    3     0       3     4      0    0   \n",
       "1884  1.65653  1.11406  ...       3    3     0       3     6      0    2   \n",
       "\n",
       "      stimulants  depressants  hallucinogens  \n",
       "0              6            5              0  \n",
       "1              6            5              4  \n",
       "2              6            6              3  \n",
       "3              5            4              2  \n",
       "4              6            4              3  \n",
       "...          ...          ...            ...  \n",
       "1880           4            5              5  \n",
       "1881           5            5              5  \n",
       "1882           6            5              6  \n",
       "1883           6            5              6  \n",
       "1884           6            4              3  \n",
       "\n",
       "[1885 rows x 35 columns]"
      ]
     },
     "execution_count": 146,
     "metadata": {},
     "output_type": "execute_result"
    }
   ],
   "source": [
    "df"
   ]
  },
  {
   "cell_type": "markdown",
   "id": "41bcdc40",
   "metadata": {},
   "source": [
    "### Recode from 7 levels to 3 levels"
   ]
  },
  {
   "cell_type": "code",
   "execution_count": 147,
   "id": "30004f2d",
   "metadata": {},
   "outputs": [],
   "source": [
    "#define recoding function\n",
    "def recode(val):\n",
    "    if val >= 4:\n",
    "        return 3\n",
    "    if (val >=2) & (val< 4):\n",
    "        return 2\n",
    "    else:\n",
    "        return 0"
   ]
  },
  {
   "cell_type": "code",
   "execution_count": 148,
   "id": "a955f20d",
   "metadata": {},
   "outputs": [],
   "source": [
    "df[['stim_final','dep_final','hallu_final']] = df[['stimulants','depressants','hallucinogens']].applymap(lambda x: recode(x))"
   ]
  },
  {
   "cell_type": "code",
   "execution_count": 149,
   "id": "36a855a0",
   "metadata": {},
   "outputs": [
    {
     "data": {
      "text/html": [
       "<div>\n",
       "<style scoped>\n",
       "    .dataframe tbody tr th:only-of-type {\n",
       "        vertical-align: middle;\n",
       "    }\n",
       "\n",
       "    .dataframe tbody tr th {\n",
       "        vertical-align: top;\n",
       "    }\n",
       "\n",
       "    .dataframe thead th {\n",
       "        text-align: right;\n",
       "    }\n",
       "</style>\n",
       "<table border=\"1\" class=\"dataframe\">\n",
       "  <thead>\n",
       "    <tr style=\"text-align: right;\">\n",
       "      <th></th>\n",
       "      <th>ID</th>\n",
       "      <th>Age</th>\n",
       "      <th>Gender</th>\n",
       "      <th>Education</th>\n",
       "      <th>Country</th>\n",
       "      <th>Ethnicity</th>\n",
       "      <th>NEO_N</th>\n",
       "      <th>NEO_E</th>\n",
       "      <th>NEO_O</th>\n",
       "      <th>NEO_A</th>\n",
       "      <th>...</th>\n",
       "      <th>MUSHRM</th>\n",
       "      <th>NICO</th>\n",
       "      <th>SEMER</th>\n",
       "      <th>VSA</th>\n",
       "      <th>stimulants</th>\n",
       "      <th>depressants</th>\n",
       "      <th>hallucinogens</th>\n",
       "      <th>stim_final</th>\n",
       "      <th>dep_final</th>\n",
       "      <th>hallu_final</th>\n",
       "    </tr>\n",
       "  </thead>\n",
       "  <tbody>\n",
       "    <tr>\n",
       "      <th>0</th>\n",
       "      <td>1</td>\n",
       "      <td>0.49788</td>\n",
       "      <td>0.48246</td>\n",
       "      <td>-0.05921</td>\n",
       "      <td>0.96082</td>\n",
       "      <td>0.12600</td>\n",
       "      <td>0.31287</td>\n",
       "      <td>-0.57545</td>\n",
       "      <td>-0.58331</td>\n",
       "      <td>-0.91699</td>\n",
       "      <td>...</td>\n",
       "      <td>0</td>\n",
       "      <td>2</td>\n",
       "      <td>0</td>\n",
       "      <td>0</td>\n",
       "      <td>6</td>\n",
       "      <td>5</td>\n",
       "      <td>0</td>\n",
       "      <td>3</td>\n",
       "      <td>3</td>\n",
       "      <td>0</td>\n",
       "    </tr>\n",
       "    <tr>\n",
       "      <th>1</th>\n",
       "      <td>2</td>\n",
       "      <td>-0.07854</td>\n",
       "      <td>-0.48246</td>\n",
       "      <td>1.98437</td>\n",
       "      <td>0.96082</td>\n",
       "      <td>-0.31685</td>\n",
       "      <td>-0.67825</td>\n",
       "      <td>1.93886</td>\n",
       "      <td>1.43533</td>\n",
       "      <td>0.76096</td>\n",
       "      <td>...</td>\n",
       "      <td>0</td>\n",
       "      <td>4</td>\n",
       "      <td>0</td>\n",
       "      <td>0</td>\n",
       "      <td>6</td>\n",
       "      <td>5</td>\n",
       "      <td>4</td>\n",
       "      <td>3</td>\n",
       "      <td>3</td>\n",
       "      <td>3</td>\n",
       "    </tr>\n",
       "    <tr>\n",
       "      <th>2</th>\n",
       "      <td>3</td>\n",
       "      <td>0.49788</td>\n",
       "      <td>-0.48246</td>\n",
       "      <td>-0.05921</td>\n",
       "      <td>0.96082</td>\n",
       "      <td>-0.31685</td>\n",
       "      <td>-0.46725</td>\n",
       "      <td>0.80523</td>\n",
       "      <td>-0.84732</td>\n",
       "      <td>-1.62090</td>\n",
       "      <td>...</td>\n",
       "      <td>1</td>\n",
       "      <td>0</td>\n",
       "      <td>0</td>\n",
       "      <td>0</td>\n",
       "      <td>6</td>\n",
       "      <td>6</td>\n",
       "      <td>3</td>\n",
       "      <td>3</td>\n",
       "      <td>3</td>\n",
       "      <td>2</td>\n",
       "    </tr>\n",
       "    <tr>\n",
       "      <th>3</th>\n",
       "      <td>4</td>\n",
       "      <td>-0.95197</td>\n",
       "      <td>0.48246</td>\n",
       "      <td>1.16365</td>\n",
       "      <td>0.96082</td>\n",
       "      <td>-0.31685</td>\n",
       "      <td>-0.14882</td>\n",
       "      <td>-0.80615</td>\n",
       "      <td>-0.01928</td>\n",
       "      <td>0.59042</td>\n",
       "      <td>...</td>\n",
       "      <td>0</td>\n",
       "      <td>2</td>\n",
       "      <td>0</td>\n",
       "      <td>0</td>\n",
       "      <td>5</td>\n",
       "      <td>4</td>\n",
       "      <td>2</td>\n",
       "      <td>3</td>\n",
       "      <td>3</td>\n",
       "      <td>2</td>\n",
       "    </tr>\n",
       "    <tr>\n",
       "      <th>4</th>\n",
       "      <td>5</td>\n",
       "      <td>0.49788</td>\n",
       "      <td>0.48246</td>\n",
       "      <td>1.98437</td>\n",
       "      <td>0.96082</td>\n",
       "      <td>-0.31685</td>\n",
       "      <td>0.73545</td>\n",
       "      <td>-1.63340</td>\n",
       "      <td>-0.45174</td>\n",
       "      <td>-0.30172</td>\n",
       "      <td>...</td>\n",
       "      <td>2</td>\n",
       "      <td>2</td>\n",
       "      <td>0</td>\n",
       "      <td>0</td>\n",
       "      <td>6</td>\n",
       "      <td>4</td>\n",
       "      <td>3</td>\n",
       "      <td>3</td>\n",
       "      <td>3</td>\n",
       "      <td>2</td>\n",
       "    </tr>\n",
       "    <tr>\n",
       "      <th>...</th>\n",
       "      <td>...</td>\n",
       "      <td>...</td>\n",
       "      <td>...</td>\n",
       "      <td>...</td>\n",
       "      <td>...</td>\n",
       "      <td>...</td>\n",
       "      <td>...</td>\n",
       "      <td>...</td>\n",
       "      <td>...</td>\n",
       "      <td>...</td>\n",
       "      <td>...</td>\n",
       "      <td>...</td>\n",
       "      <td>...</td>\n",
       "      <td>...</td>\n",
       "      <td>...</td>\n",
       "      <td>...</td>\n",
       "      <td>...</td>\n",
       "      <td>...</td>\n",
       "      <td>...</td>\n",
       "      <td>...</td>\n",
       "      <td>...</td>\n",
       "    </tr>\n",
       "    <tr>\n",
       "      <th>1880</th>\n",
       "      <td>1884</td>\n",
       "      <td>-0.95197</td>\n",
       "      <td>0.48246</td>\n",
       "      <td>-0.61113</td>\n",
       "      <td>-0.57009</td>\n",
       "      <td>-0.31685</td>\n",
       "      <td>-1.19430</td>\n",
       "      <td>1.74091</td>\n",
       "      <td>1.88511</td>\n",
       "      <td>0.76096</td>\n",
       "      <td>...</td>\n",
       "      <td>0</td>\n",
       "      <td>0</td>\n",
       "      <td>0</td>\n",
       "      <td>5</td>\n",
       "      <td>4</td>\n",
       "      <td>5</td>\n",
       "      <td>5</td>\n",
       "      <td>3</td>\n",
       "      <td>3</td>\n",
       "      <td>3</td>\n",
       "    </tr>\n",
       "    <tr>\n",
       "      <th>1881</th>\n",
       "      <td>1885</td>\n",
       "      <td>-0.95197</td>\n",
       "      <td>-0.48246</td>\n",
       "      <td>-0.61113</td>\n",
       "      <td>-0.57009</td>\n",
       "      <td>-0.31685</td>\n",
       "      <td>-0.24649</td>\n",
       "      <td>1.74091</td>\n",
       "      <td>0.58331</td>\n",
       "      <td>0.76096</td>\n",
       "      <td>...</td>\n",
       "      <td>4</td>\n",
       "      <td>5</td>\n",
       "      <td>0</td>\n",
       "      <td>0</td>\n",
       "      <td>5</td>\n",
       "      <td>5</td>\n",
       "      <td>5</td>\n",
       "      <td>3</td>\n",
       "      <td>3</td>\n",
       "      <td>3</td>\n",
       "    </tr>\n",
       "    <tr>\n",
       "      <th>1882</th>\n",
       "      <td>1886</td>\n",
       "      <td>-0.07854</td>\n",
       "      <td>0.48246</td>\n",
       "      <td>0.45468</td>\n",
       "      <td>-0.57009</td>\n",
       "      <td>-0.31685</td>\n",
       "      <td>1.13281</td>\n",
       "      <td>-1.37639</td>\n",
       "      <td>-1.27553</td>\n",
       "      <td>-1.77200</td>\n",
       "      <td>...</td>\n",
       "      <td>2</td>\n",
       "      <td>6</td>\n",
       "      <td>0</td>\n",
       "      <td>0</td>\n",
       "      <td>6</td>\n",
       "      <td>5</td>\n",
       "      <td>6</td>\n",
       "      <td>3</td>\n",
       "      <td>3</td>\n",
       "      <td>3</td>\n",
       "    </tr>\n",
       "    <tr>\n",
       "      <th>1883</th>\n",
       "      <td>1887</td>\n",
       "      <td>-0.95197</td>\n",
       "      <td>0.48246</td>\n",
       "      <td>-0.61113</td>\n",
       "      <td>-0.57009</td>\n",
       "      <td>-0.31685</td>\n",
       "      <td>0.91093</td>\n",
       "      <td>-1.92173</td>\n",
       "      <td>0.29338</td>\n",
       "      <td>-1.62090</td>\n",
       "      <td>...</td>\n",
       "      <td>3</td>\n",
       "      <td>4</td>\n",
       "      <td>0</td>\n",
       "      <td>0</td>\n",
       "      <td>6</td>\n",
       "      <td>5</td>\n",
       "      <td>6</td>\n",
       "      <td>3</td>\n",
       "      <td>3</td>\n",
       "      <td>3</td>\n",
       "    </tr>\n",
       "    <tr>\n",
       "      <th>1884</th>\n",
       "      <td>1888</td>\n",
       "      <td>-0.95197</td>\n",
       "      <td>-0.48246</td>\n",
       "      <td>-0.61113</td>\n",
       "      <td>0.21128</td>\n",
       "      <td>-0.31685</td>\n",
       "      <td>-0.46725</td>\n",
       "      <td>2.12700</td>\n",
       "      <td>1.65653</td>\n",
       "      <td>1.11406</td>\n",
       "      <td>...</td>\n",
       "      <td>3</td>\n",
       "      <td>6</td>\n",
       "      <td>0</td>\n",
       "      <td>2</td>\n",
       "      <td>6</td>\n",
       "      <td>4</td>\n",
       "      <td>3</td>\n",
       "      <td>3</td>\n",
       "      <td>3</td>\n",
       "      <td>2</td>\n",
       "    </tr>\n",
       "  </tbody>\n",
       "</table>\n",
       "<p>1885 rows × 38 columns</p>\n",
       "</div>"
      ],
      "text/plain": [
       "        ID      Age   Gender  Education  Country  Ethnicity    NEO_N    NEO_E  \\\n",
       "0        1  0.49788  0.48246   -0.05921  0.96082    0.12600  0.31287 -0.57545   \n",
       "1        2 -0.07854 -0.48246    1.98437  0.96082   -0.31685 -0.67825  1.93886   \n",
       "2        3  0.49788 -0.48246   -0.05921  0.96082   -0.31685 -0.46725  0.80523   \n",
       "3        4 -0.95197  0.48246    1.16365  0.96082   -0.31685 -0.14882 -0.80615   \n",
       "4        5  0.49788  0.48246    1.98437  0.96082   -0.31685  0.73545 -1.63340   \n",
       "...    ...      ...      ...        ...      ...        ...      ...      ...   \n",
       "1880  1884 -0.95197  0.48246   -0.61113 -0.57009   -0.31685 -1.19430  1.74091   \n",
       "1881  1885 -0.95197 -0.48246   -0.61113 -0.57009   -0.31685 -0.24649  1.74091   \n",
       "1882  1886 -0.07854  0.48246    0.45468 -0.57009   -0.31685  1.13281 -1.37639   \n",
       "1883  1887 -0.95197  0.48246   -0.61113 -0.57009   -0.31685  0.91093 -1.92173   \n",
       "1884  1888 -0.95197 -0.48246   -0.61113  0.21128   -0.31685 -0.46725  2.12700   \n",
       "\n",
       "        NEO_O    NEO_A  ...  MUSHRM  NICO  SEMER  VSA  stimulants  \\\n",
       "0    -0.58331 -0.91699  ...       0     2      0    0           6   \n",
       "1     1.43533  0.76096  ...       0     4      0    0           6   \n",
       "2    -0.84732 -1.62090  ...       1     0      0    0           6   \n",
       "3    -0.01928  0.59042  ...       0     2      0    0           5   \n",
       "4    -0.45174 -0.30172  ...       2     2      0    0           6   \n",
       "...       ...      ...  ...     ...   ...    ...  ...         ...   \n",
       "1880  1.88511  0.76096  ...       0     0      0    5           4   \n",
       "1881  0.58331  0.76096  ...       4     5      0    0           5   \n",
       "1882 -1.27553 -1.77200  ...       2     6      0    0           6   \n",
       "1883  0.29338 -1.62090  ...       3     4      0    0           6   \n",
       "1884  1.65653  1.11406  ...       3     6      0    2           6   \n",
       "\n",
       "      depressants  hallucinogens  stim_final  dep_final  hallu_final  \n",
       "0               5              0           3          3            0  \n",
       "1               5              4           3          3            3  \n",
       "2               6              3           3          3            2  \n",
       "3               4              2           3          3            2  \n",
       "4               4              3           3          3            2  \n",
       "...           ...            ...         ...        ...          ...  \n",
       "1880            5              5           3          3            3  \n",
       "1881            5              5           3          3            3  \n",
       "1882            5              6           3          3            3  \n",
       "1883            5              6           3          3            3  \n",
       "1884            4              3           3          3            2  \n",
       "\n",
       "[1885 rows x 38 columns]"
      ]
     },
     "execution_count": 149,
     "metadata": {},
     "output_type": "execute_result"
    }
   ],
   "source": [
    "df"
   ]
  },
  {
   "cell_type": "code",
   "execution_count": 150,
   "id": "d5be8533",
   "metadata": {
    "scrolled": false
   },
   "outputs": [
    {
     "data": {
      "text/html": [
       "<div>\n",
       "<style scoped>\n",
       "    .dataframe tbody tr th:only-of-type {\n",
       "        vertical-align: middle;\n",
       "    }\n",
       "\n",
       "    .dataframe tbody tr th {\n",
       "        vertical-align: top;\n",
       "    }\n",
       "\n",
       "    .dataframe thead th {\n",
       "        text-align: right;\n",
       "    }\n",
       "</style>\n",
       "<table border=\"1\" class=\"dataframe\">\n",
       "  <thead>\n",
       "    <tr style=\"text-align: right;\">\n",
       "      <th></th>\n",
       "      <th>stim_final</th>\n",
       "      <th>dep_final</th>\n",
       "      <th>hallu_final</th>\n",
       "    </tr>\n",
       "  </thead>\n",
       "  <tbody>\n",
       "    <tr>\n",
       "      <th>0</th>\n",
       "      <td>4</td>\n",
       "      <td>42</td>\n",
       "      <td>584</td>\n",
       "    </tr>\n",
       "    <tr>\n",
       "      <th>2</th>\n",
       "      <td>8</td>\n",
       "      <td>215</td>\n",
       "      <td>418</td>\n",
       "    </tr>\n",
       "    <tr>\n",
       "      <th>3</th>\n",
       "      <td>1873</td>\n",
       "      <td>1628</td>\n",
       "      <td>883</td>\n",
       "    </tr>\n",
       "  </tbody>\n",
       "</table>\n",
       "</div>"
      ],
      "text/plain": [
       "   stim_final  dep_final  hallu_final\n",
       "0           4         42          584\n",
       "2           8        215          418\n",
       "3        1873       1628          883"
      ]
     },
     "execution_count": 150,
     "metadata": {},
     "output_type": "execute_result"
    }
   ],
   "source": [
    "df[['stim_final','dep_final','hallu_final']].apply(df.value_counts)"
   ]
  },
  {
   "cell_type": "markdown",
   "id": "c2e692ea",
   "metadata": {},
   "source": [
    "### Additional Descriptives - Demographic Variables"
   ]
  },
  {
   "cell_type": "code",
   "execution_count": 39,
   "id": "354c15f4",
   "metadata": {},
   "outputs": [],
   "source": [
    "#define recoding function\n",
    "def ages(val):\n",
    "    if val == -0.95197:\n",
    "        return '18-24'\n",
    "    if val == -0.07854:\n",
    "        return '25-34'\n",
    "    if val == 0.49788:\n",
    "        return '35-44'\n",
    "    if val == 1.09449:\n",
    "        return '45-54'\n",
    "    if val == 1.82213:\n",
    "        return '55-64'\n",
    "    if val == 2.59171:\n",
    "        return '65+'\n",
    "\n",
    "def gender(val):\n",
    "    if val == 0.48246:\n",
    "        return 'F'\n",
    "    if val == -0.48246:\n",
    "        return 'M'   \n",
    "\n",
    "def education(val):\n",
    "    if val == -2.43591:\n",
    "        return 'Left_before_16'\n",
    "    if val == -1.73790:\n",
    "        return 'Left_at_16' \n",
    "    if val == -1.43719:\n",
    "        return 'Left_at_17'\n",
    "    if val == -1.22751:\n",
    "        return 'Left_at_18'\n",
    "    if val == -0.61113:\n",
    "        return 'Some_post_2nd_DNF'\n",
    "    if val == -0.05921:\n",
    "        return 'Pro_Cert_Diploma'\n",
    "    if val == 0.45468:\n",
    "        return 'University'\n",
    "    if val == 1.16365:\n",
    "        return 'Masters'\n",
    "    if val == 1.98437:\n",
    "        return 'Doctorate'\n",
    "\n",
    "def country(val):\n",
    "    if val == -0.09765:\n",
    "        return 'Australia'\n",
    "    if val == 0.24923:\n",
    "        return 'Canada'\n",
    "    if val == -0.46841:\n",
    "        return 'NZ'\n",
    "    if val == -0.28519:\n",
    "        return 'Other'\n",
    "    if val == 0.21128:\n",
    "        return 'Republic_of_Ireland'\n",
    "    if val == 0.96082:\n",
    "        return 'UK'\n",
    "    if val == -0.57009:\n",
    "        return 'USA'\n",
    "\n",
    "def ethnicity(val):\n",
    "    if val == -0.50212:\n",
    "        return 'Asian'\n",
    "    if val == -1.10702:\n",
    "        return 'Black'\n",
    "    if val == 1.90725:\n",
    "        return 'Mixed_black_asian'\n",
    "    if val == 0.12600:\n",
    "        return 'Mixed_white_asian'\n",
    "    if val == -0.22166:\n",
    "        return 'Mixed_white_black'\n",
    "    if val == 0.11440:\n",
    "        return 'Other'\n",
    "    if val == '-0.31685':\n",
    "        return 'White'"
   ]
  },
  {
   "cell_type": "code",
   "execution_count": 40,
   "id": "64b90988",
   "metadata": {},
   "outputs": [],
   "source": [
    "df.loc[:,'Age'] = df['Age'].apply(lambda x: ages(x))#.value_counts()\n",
    "df.loc[:,'Gender'] = df['Gender'].apply(lambda x: gender(x))#.value_counts()\n",
    "df.loc[:,'Education'] = df['Education'].apply(lambda x: education(x))#.value_counts()\n",
    "df.loc[:,'Country'] = df['Country'].apply(lambda x: country(x))#.value_counts()\n",
    "df.loc[:,'Ethnicity'] = df['Ethnicity'].apply(lambda x: ethnicity(x))#.value_counts()"
   ]
  },
  {
   "cell_type": "code",
   "execution_count": 41,
   "id": "55417704",
   "metadata": {},
   "outputs": [
    {
     "data": {
      "text/html": [
       "<div>\n",
       "<style scoped>\n",
       "    .dataframe tbody tr th:only-of-type {\n",
       "        vertical-align: middle;\n",
       "    }\n",
       "\n",
       "    .dataframe tbody tr th {\n",
       "        vertical-align: top;\n",
       "    }\n",
       "\n",
       "    .dataframe thead th {\n",
       "        text-align: right;\n",
       "    }\n",
       "</style>\n",
       "<table border=\"1\" class=\"dataframe\">\n",
       "  <thead>\n",
       "    <tr style=\"text-align: right;\">\n",
       "      <th></th>\n",
       "      <th>Age</th>\n",
       "      <th>Gender</th>\n",
       "      <th>Education</th>\n",
       "      <th>Country</th>\n",
       "      <th>Ethnicity</th>\n",
       "    </tr>\n",
       "  </thead>\n",
       "  <tbody>\n",
       "    <tr>\n",
       "      <th>18-24</th>\n",
       "      <td>643.0</td>\n",
       "      <td>NaN</td>\n",
       "      <td>NaN</td>\n",
       "      <td>NaN</td>\n",
       "      <td>NaN</td>\n",
       "    </tr>\n",
       "    <tr>\n",
       "      <th>25-34</th>\n",
       "      <td>481.0</td>\n",
       "      <td>NaN</td>\n",
       "      <td>NaN</td>\n",
       "      <td>NaN</td>\n",
       "      <td>NaN</td>\n",
       "    </tr>\n",
       "    <tr>\n",
       "      <th>35-44</th>\n",
       "      <td>356.0</td>\n",
       "      <td>NaN</td>\n",
       "      <td>NaN</td>\n",
       "      <td>NaN</td>\n",
       "      <td>NaN</td>\n",
       "    </tr>\n",
       "    <tr>\n",
       "      <th>45-54</th>\n",
       "      <td>294.0</td>\n",
       "      <td>NaN</td>\n",
       "      <td>NaN</td>\n",
       "      <td>NaN</td>\n",
       "      <td>NaN</td>\n",
       "    </tr>\n",
       "    <tr>\n",
       "      <th>55-64</th>\n",
       "      <td>93.0</td>\n",
       "      <td>NaN</td>\n",
       "      <td>NaN</td>\n",
       "      <td>NaN</td>\n",
       "      <td>NaN</td>\n",
       "    </tr>\n",
       "    <tr>\n",
       "      <th>65+</th>\n",
       "      <td>18.0</td>\n",
       "      <td>NaN</td>\n",
       "      <td>NaN</td>\n",
       "      <td>NaN</td>\n",
       "      <td>NaN</td>\n",
       "    </tr>\n",
       "    <tr>\n",
       "      <th>Asian</th>\n",
       "      <td>NaN</td>\n",
       "      <td>NaN</td>\n",
       "      <td>NaN</td>\n",
       "      <td>NaN</td>\n",
       "      <td>26.0</td>\n",
       "    </tr>\n",
       "    <tr>\n",
       "      <th>Australia</th>\n",
       "      <td>NaN</td>\n",
       "      <td>NaN</td>\n",
       "      <td>NaN</td>\n",
       "      <td>54.0</td>\n",
       "      <td>NaN</td>\n",
       "    </tr>\n",
       "    <tr>\n",
       "      <th>Black</th>\n",
       "      <td>NaN</td>\n",
       "      <td>NaN</td>\n",
       "      <td>NaN</td>\n",
       "      <td>NaN</td>\n",
       "      <td>33.0</td>\n",
       "    </tr>\n",
       "    <tr>\n",
       "      <th>Canada</th>\n",
       "      <td>NaN</td>\n",
       "      <td>NaN</td>\n",
       "      <td>NaN</td>\n",
       "      <td>87.0</td>\n",
       "      <td>NaN</td>\n",
       "    </tr>\n",
       "    <tr>\n",
       "      <th>Doctorate</th>\n",
       "      <td>NaN</td>\n",
       "      <td>NaN</td>\n",
       "      <td>89.0</td>\n",
       "      <td>NaN</td>\n",
       "      <td>NaN</td>\n",
       "    </tr>\n",
       "    <tr>\n",
       "      <th>F</th>\n",
       "      <td>NaN</td>\n",
       "      <td>942.0</td>\n",
       "      <td>NaN</td>\n",
       "      <td>NaN</td>\n",
       "      <td>NaN</td>\n",
       "    </tr>\n",
       "    <tr>\n",
       "      <th>Left_at_16</th>\n",
       "      <td>NaN</td>\n",
       "      <td>NaN</td>\n",
       "      <td>99.0</td>\n",
       "      <td>NaN</td>\n",
       "      <td>NaN</td>\n",
       "    </tr>\n",
       "    <tr>\n",
       "      <th>Left_at_17</th>\n",
       "      <td>NaN</td>\n",
       "      <td>NaN</td>\n",
       "      <td>30.0</td>\n",
       "      <td>NaN</td>\n",
       "      <td>NaN</td>\n",
       "    </tr>\n",
       "    <tr>\n",
       "      <th>Left_at_18</th>\n",
       "      <td>NaN</td>\n",
       "      <td>NaN</td>\n",
       "      <td>100.0</td>\n",
       "      <td>NaN</td>\n",
       "      <td>NaN</td>\n",
       "    </tr>\n",
       "    <tr>\n",
       "      <th>Left_before_16</th>\n",
       "      <td>NaN</td>\n",
       "      <td>NaN</td>\n",
       "      <td>28.0</td>\n",
       "      <td>NaN</td>\n",
       "      <td>NaN</td>\n",
       "    </tr>\n",
       "    <tr>\n",
       "      <th>M</th>\n",
       "      <td>NaN</td>\n",
       "      <td>943.0</td>\n",
       "      <td>NaN</td>\n",
       "      <td>NaN</td>\n",
       "      <td>NaN</td>\n",
       "    </tr>\n",
       "    <tr>\n",
       "      <th>Masters</th>\n",
       "      <td>NaN</td>\n",
       "      <td>NaN</td>\n",
       "      <td>283.0</td>\n",
       "      <td>NaN</td>\n",
       "      <td>NaN</td>\n",
       "    </tr>\n",
       "    <tr>\n",
       "      <th>Mixed_black_asian</th>\n",
       "      <td>NaN</td>\n",
       "      <td>NaN</td>\n",
       "      <td>NaN</td>\n",
       "      <td>NaN</td>\n",
       "      <td>3.0</td>\n",
       "    </tr>\n",
       "    <tr>\n",
       "      <th>Mixed_white_asian</th>\n",
       "      <td>NaN</td>\n",
       "      <td>NaN</td>\n",
       "      <td>NaN</td>\n",
       "      <td>NaN</td>\n",
       "      <td>20.0</td>\n",
       "    </tr>\n",
       "    <tr>\n",
       "      <th>Mixed_white_black</th>\n",
       "      <td>NaN</td>\n",
       "      <td>NaN</td>\n",
       "      <td>NaN</td>\n",
       "      <td>NaN</td>\n",
       "      <td>20.0</td>\n",
       "    </tr>\n",
       "    <tr>\n",
       "      <th>NZ</th>\n",
       "      <td>NaN</td>\n",
       "      <td>NaN</td>\n",
       "      <td>NaN</td>\n",
       "      <td>5.0</td>\n",
       "      <td>NaN</td>\n",
       "    </tr>\n",
       "    <tr>\n",
       "      <th>Other</th>\n",
       "      <td>NaN</td>\n",
       "      <td>NaN</td>\n",
       "      <td>NaN</td>\n",
       "      <td>118.0</td>\n",
       "      <td>63.0</td>\n",
       "    </tr>\n",
       "    <tr>\n",
       "      <th>Pro_Cert_Diploma</th>\n",
       "      <td>NaN</td>\n",
       "      <td>NaN</td>\n",
       "      <td>270.0</td>\n",
       "      <td>NaN</td>\n",
       "      <td>NaN</td>\n",
       "    </tr>\n",
       "    <tr>\n",
       "      <th>Republic_of_Ireland</th>\n",
       "      <td>NaN</td>\n",
       "      <td>NaN</td>\n",
       "      <td>NaN</td>\n",
       "      <td>20.0</td>\n",
       "      <td>NaN</td>\n",
       "    </tr>\n",
       "    <tr>\n",
       "      <th>Some_post_2nd_DNF</th>\n",
       "      <td>NaN</td>\n",
       "      <td>NaN</td>\n",
       "      <td>506.0</td>\n",
       "      <td>NaN</td>\n",
       "      <td>NaN</td>\n",
       "    </tr>\n",
       "    <tr>\n",
       "      <th>UK</th>\n",
       "      <td>NaN</td>\n",
       "      <td>NaN</td>\n",
       "      <td>NaN</td>\n",
       "      <td>1044.0</td>\n",
       "      <td>NaN</td>\n",
       "    </tr>\n",
       "    <tr>\n",
       "      <th>USA</th>\n",
       "      <td>NaN</td>\n",
       "      <td>NaN</td>\n",
       "      <td>NaN</td>\n",
       "      <td>557.0</td>\n",
       "      <td>NaN</td>\n",
       "    </tr>\n",
       "    <tr>\n",
       "      <th>University</th>\n",
       "      <td>NaN</td>\n",
       "      <td>NaN</td>\n",
       "      <td>480.0</td>\n",
       "      <td>NaN</td>\n",
       "      <td>NaN</td>\n",
       "    </tr>\n",
       "  </tbody>\n",
       "</table>\n",
       "</div>"
      ],
      "text/plain": [
       "                       Age  Gender  Education  Country  Ethnicity\n",
       "18-24                643.0     NaN        NaN      NaN        NaN\n",
       "25-34                481.0     NaN        NaN      NaN        NaN\n",
       "35-44                356.0     NaN        NaN      NaN        NaN\n",
       "45-54                294.0     NaN        NaN      NaN        NaN\n",
       "55-64                 93.0     NaN        NaN      NaN        NaN\n",
       "65+                   18.0     NaN        NaN      NaN        NaN\n",
       "Asian                  NaN     NaN        NaN      NaN       26.0\n",
       "Australia              NaN     NaN        NaN     54.0        NaN\n",
       "Black                  NaN     NaN        NaN      NaN       33.0\n",
       "Canada                 NaN     NaN        NaN     87.0        NaN\n",
       "Doctorate              NaN     NaN       89.0      NaN        NaN\n",
       "F                      NaN   942.0        NaN      NaN        NaN\n",
       "Left_at_16             NaN     NaN       99.0      NaN        NaN\n",
       "Left_at_17             NaN     NaN       30.0      NaN        NaN\n",
       "Left_at_18             NaN     NaN      100.0      NaN        NaN\n",
       "Left_before_16         NaN     NaN       28.0      NaN        NaN\n",
       "M                      NaN   943.0        NaN      NaN        NaN\n",
       "Masters                NaN     NaN      283.0      NaN        NaN\n",
       "Mixed_black_asian      NaN     NaN        NaN      NaN        3.0\n",
       "Mixed_white_asian      NaN     NaN        NaN      NaN       20.0\n",
       "Mixed_white_black      NaN     NaN        NaN      NaN       20.0\n",
       "NZ                     NaN     NaN        NaN      5.0        NaN\n",
       "Other                  NaN     NaN        NaN    118.0       63.0\n",
       "Pro_Cert_Diploma       NaN     NaN      270.0      NaN        NaN\n",
       "Republic_of_Ireland    NaN     NaN        NaN     20.0        NaN\n",
       "Some_post_2nd_DNF      NaN     NaN      506.0      NaN        NaN\n",
       "UK                     NaN     NaN        NaN   1044.0        NaN\n",
       "USA                    NaN     NaN        NaN    557.0        NaN\n",
       "University             NaN     NaN      480.0      NaN        NaN"
      ]
     },
     "execution_count": 41,
     "metadata": {},
     "output_type": "execute_result"
    }
   ],
   "source": [
    "df[['Age','Gender','Education','Country','Ethnicity']].apply(pd.Series.value_counts)"
   ]
  },
  {
   "cell_type": "code",
   "execution_count": 42,
   "id": "5f45fc1d",
   "metadata": {},
   "outputs": [],
   "source": [
    "dum = []\n",
    "for i in ['Age','Gender','Education','Country','Ethnicity']:\n",
    "    \n",
    "    dum.append(pd.get_dummies(df[i],prefix = i+'_'))"
   ]
  },
  {
   "cell_type": "code",
   "execution_count": 43,
   "id": "b4d2e03e",
   "metadata": {},
   "outputs": [],
   "source": [
    "dummied_vars = pd.concat(dum,axis=1)\n",
    "personality_vars = df[['NEO_N','NEO_E','NEO_O','NEO_A','NEO_C','IMP','SS']]\n",
    "\n",
    "df_d = pd.concat([dummied_vars,personality_vars],axis=1)"
   ]
  },
  {
   "cell_type": "markdown",
   "id": "9f52c087",
   "metadata": {},
   "source": [
    "# Initial Models\n",
    "\n",
    "In the following section, initial models are calibrated for the _**stimulants outcome variable**_. The models calibrated are:\n",
    "\n",
    "- Support Vector Machines\n",
    "- Multinomial Logit Regression (Softmax Regression)\n",
    "- K-Nearest Neighbours classifier\n",
    "- Decision Trees\n",
    "- Random Forests/Gradient Boosted Trees\n",
    "- Linear Discriminant Analysis (LDA)\n",
    "- Neural Network\n",
    "\n",
    "The model hyperparameters are default values for the time being and class have not yet been balanced. Another set of models will be run with balanced classes (SMOTE will be applied).\n",
    "\n",
    "Model accuracy scores are also quickly calculated for the test set (test/train split: 30/70)\n",
    "\n",
    "The section below provides a description of the methods used before going into the actual model calibration, fitting and scoring.\n",
    "\n",
    "\n",
    "**Support Vector Machine**\n",
    "\n",
    "Support Vector Machines are a supervised learning method that can be used for both classification and regression (Shmilovici, 2009). Knowing the labels for the data, the algorithm tries to find an optimal decision boundary known as a hyperplane in n-dimensional space (n is the number input features used) that can correctly classify the data points to the output labels given. The hyperplane that is selected is the one that separates the positive and negative classes by greatest margin, to allow for greater generalization. The hyperplane is usually a linear equation as the boundary is a straight line. SVMs however can be adapted to multiclass problems and non-linear hyperplanes (Burkov, 2019).\n",
    "\n",
    "**Logistic Regression and Multinomial Logits**\n",
    "\n",
    "Logistic Regression is a classification model which models the probabilities for binary outcomes (two outcomes) (Burkov, 2019). In logistic regression, a linear combination of inputs is squeezed by the standard logistic function or sigmoid function into a codomain of 0 and 1, resulting in an output of log odds. Negative values of the log odds can map to “0” and positive ones can map to “1”.\n",
    "\n",
    "We can also map back the probabilities by the following equation (Kleinbaum, Dietz, Gail, Klein, & Klein, 2002):\n",
    "\n",
    "〖p (x;b,w)=log〗⁡〖(p(x))/(1-p(x))〗  =  e^(β0+x·β )/(1+ e^(β0+x·β)  )  +  =  1/(1 + e^(-(β0+x·β)) )  \n",
    "\n",
    "A threshold probability is set (i.e., .5), and whenever p > .5 it will result in the positive (“1”). Multinomial Logistic Regression extends this model to produce probabilities for multiple classes (more than 2).\n",
    "\n",
    "**k-Nearest Neighbors Classifier**\n",
    "\n",
    "The k-Nearest Neighbors algorithm is a non-parametric supervised learning algorithm that can be used to classify or perform regression. When the algorithm sees a new sample x that does not have a label, it finds k training examples that are closest to x according to distances between n input features. Distance metrics include Manhattan distance or cosine similarity are calculated for all input features between x and data points in the training set. The k data points that have the smallest distance are deemed the closest to the x sample, and the majority label among the k data points is given to x (Burkov, 2019).\n",
    "\n",
    "**Decision Tree/Random Forest/Gradient Boosting Tree**\n",
    "\n",
    "A decision tree is a non-parametric model that builds an acyclic graph (Burkov, 2019). The algorithm chooses a rule to split the data on (branching from nodes). When a value is above a threshold it follows one side of the branch otherwise it goes to the other one. When no more splits can be made, a leaf node is reached, and a decision is reached about which class to assign the data point. To determine whether a split is good, Entropy is calculated where high levels of entropy mean all values of a variable are probable and low entropy is where only one value is possible. A random forest extends this concept by generating multiple trees, where it randomly selects a new subset of features at each split. The outputs are combined at the end (i.e., through majority vote) to get a final classification. In doing so, this avoids correlated trees which would decrease the accuracy of prediction and reduces the variance of the final model to minimize the chance of overfitting. Another extension of the decision tree is the Gradient Boosting Tree, where multiple trees are built, but this time, each tree depends on the last tree, as the residuals for the last tree are calculated and are added back in as new labels. This modified training set is then used to produce the next tree which will have even smaller errors (i.e., smaller residuals) (Burkov, 2019).\n",
    "\n",
    "**Neural Networks**\n",
    "\n",
    "A neural network consists of a series of nested functions called layers (Burkov, 2019). The first layer is the input layer which holds an activation function (i.e., a logistic regression function) chosen by the analyst and can have multiple units. The last layer is the output layer and has one unit to combine all inputs from the second last layer into one output value. To get from the inputs (x) to the first layer, different weights are applied to each input before they are fed into all the units in the first layer. If the activation function is activated the output value is passed to the next set of units in the next layer. This continues until the output layer which produces a final regression value or class prediction. The neural network then assesses the output with the expected output and then uses that information in a process called back propagation to adjust the weights before each layer to produce a better final overall prediction.\n",
    "\n",
    "\n",
    "\n",
    "## Setup"
   ]
  },
  {
   "cell_type": "code",
   "execution_count": 151,
   "id": "d0fa669c",
   "metadata": {},
   "outputs": [],
   "source": [
    "from sklearn.model_selection import train_test_split\n",
    "from sklearn.linear_model import LogisticRegression\n",
    "from sklearn import svm\n",
    "from sklearn.neighbors import KNeighborsClassifier\n",
    "from sklearn.tree import DecisionTreeClassifier\n",
    "from sklearn.ensemble import GradientBoostingRegressor, RandomForestClassifier\n",
    "from sklearn.ensemble import GradientBoostingClassifier\n",
    "from sklearn.discriminant_analysis import LinearDiscriminantAnalysis\n",
    "from sklearn.neural_network import MLPClassifier"
   ]
  },
  {
   "cell_type": "code",
   "execution_count": 152,
   "id": "754ba21e",
   "metadata": {},
   "outputs": [],
   "source": [
    "x_vars = df.iloc[:,:13]\n",
    "#x_vars = df_d\n",
    "out = df[['stim_final','dep_final','hallu_final']]\n",
    "\n",
    "X_train, X_test, y_train, y_test = train_test_split(x_vars,out, test_size=.4, random_state=42)"
   ]
  },
  {
   "cell_type": "markdown",
   "id": "f51d1857",
   "metadata": {},
   "source": [
    "## Support Vector Machine"
   ]
  },
  {
   "cell_type": "code",
   "execution_count": 153,
   "id": "888e950e",
   "metadata": {},
   "outputs": [
    {
     "name": "stderr",
     "output_type": "stream",
     "text": [
      "C:\\ProgramData\\Anaconda3\\lib\\site-packages\\sklearn\\svm\\_base.py:985: ConvergenceWarning: Liblinear failed to converge, increase the number of iterations.\n",
      "  warnings.warn(\"Liblinear failed to converge, increase \"\n"
     ]
    }
   ],
   "source": [
    "#instantiate SVM object\n",
    "lin_clf = svm.LinearSVC()\n",
    "SVC = lin_clf.fit(X_train,y_train[\"stim_final\"])\n",
    "\n"
   ]
  },
  {
   "cell_type": "code",
   "execution_count": 154,
   "id": "0daa4752",
   "metadata": {},
   "outputs": [
    {
     "data": {
      "text/plain": [
       "0.20689655172413793"
      ]
     },
     "execution_count": 154,
     "metadata": {},
     "output_type": "execute_result"
    }
   ],
   "source": [
    "#accuracy score on test data set\n",
    "SVC.score(X_test,y_test[\"stim_final\"])"
   ]
  },
  {
   "cell_type": "markdown",
   "id": "98d370d6",
   "metadata": {},
   "source": [
    "## Logistic Regression"
   ]
  },
  {
   "cell_type": "code",
   "execution_count": 155,
   "id": "9221a16a",
   "metadata": {},
   "outputs": [
    {
     "name": "stderr",
     "output_type": "stream",
     "text": [
      "C:\\ProgramData\\Anaconda3\\lib\\site-packages\\sklearn\\linear_model\\_logistic.py:763: ConvergenceWarning: lbfgs failed to converge (status=1):\n",
      "STOP: TOTAL NO. of ITERATIONS REACHED LIMIT.\n",
      "\n",
      "Increase the number of iterations (max_iter) or scale the data as shown in:\n",
      "    https://scikit-learn.org/stable/modules/preprocessing.html\n",
      "Please also refer to the documentation for alternative solver options:\n",
      "    https://scikit-learn.org/stable/modules/linear_model.html#logistic-regression\n",
      "  n_iter_i = _check_optimize_result(\n"
     ]
    }
   ],
   "source": [
    "#instantiate logistic regression\n",
    "mnlogit = LogisticRegression(multi_class ='multinomial',fit_intercept = True , solver ='lbfgs').fit(X_train \n",
    "                                                                                                    , y_train[\"stim_final\"])\n"
   ]
  },
  {
   "cell_type": "code",
   "execution_count": 156,
   "id": "6ba569a4",
   "metadata": {},
   "outputs": [
    {
     "data": {
      "text/plain": [
       "0.9938107869142352"
      ]
     },
     "execution_count": 156,
     "metadata": {},
     "output_type": "execute_result"
    }
   ],
   "source": [
    "#accuracy score for training set\n",
    "mnlogit.score(X_train,y_train[\"stim_final\"])"
   ]
  },
  {
   "cell_type": "code",
   "execution_count": 157,
   "id": "d30d5d5d",
   "metadata": {},
   "outputs": [
    {
     "data": {
      "text/plain": [
       "0.993368700265252"
      ]
     },
     "execution_count": 157,
     "metadata": {},
     "output_type": "execute_result"
    }
   ],
   "source": [
    "#accuracy score for test set\n",
    "mnlogit.score(X_test,y_test[\"stim_final\"])"
   ]
  },
  {
   "cell_type": "markdown",
   "id": "ad4c099b",
   "metadata": {},
   "source": [
    "## K-nn classifier"
   ]
  },
  {
   "cell_type": "code",
   "execution_count": 158,
   "id": "9dad0a9f",
   "metadata": {},
   "outputs": [
    {
     "data": {
      "text/plain": [
       "KNeighborsClassifier(n_neighbors=3)"
      ]
     },
     "execution_count": 158,
     "metadata": {},
     "output_type": "execute_result"
    }
   ],
   "source": [
    "#instantiate k-nnclassifier\n",
    "neigh = KNeighborsClassifier(n_neighbors=3)\n",
    "neigh.fit(X_train,y_train[\"stim_final\"])"
   ]
  },
  {
   "cell_type": "code",
   "execution_count": 159,
   "id": "ed12d5d5",
   "metadata": {},
   "outputs": [
    {
     "data": {
      "text/plain": [
       "0.993368700265252"
      ]
     },
     "execution_count": 159,
     "metadata": {},
     "output_type": "execute_result"
    }
   ],
   "source": [
    "#accuracy score\n",
    "neigh.score(X_test,y_test[\"stim_final\"])"
   ]
  },
  {
   "cell_type": "markdown",
   "id": "aa4090fb",
   "metadata": {},
   "source": [
    "## Decision Tree"
   ]
  },
  {
   "cell_type": "code",
   "execution_count": 160,
   "id": "c5851f5e",
   "metadata": {
    "scrolled": true
   },
   "outputs": [
    {
     "data": {
      "text/plain": [
       "DecisionTreeClassifier(random_state=0)"
      ]
     },
     "execution_count": 160,
     "metadata": {},
     "output_type": "execute_result"
    }
   ],
   "source": [
    "#instantiate DT\n",
    "clf = DecisionTreeClassifier(random_state=0)\n",
    "clf.fit(X_train,y_train[\"stim_final\"])"
   ]
  },
  {
   "cell_type": "code",
   "execution_count": 161,
   "id": "88d6d357",
   "metadata": {},
   "outputs": [
    {
     "data": {
      "text/plain": [
       "0.9827586206896551"
      ]
     },
     "execution_count": 161,
     "metadata": {},
     "output_type": "execute_result"
    }
   ],
   "source": [
    "#accuracy score\n",
    "clf.score(X_test,y_test[\"stim_final\"])"
   ]
  },
  {
   "cell_type": "markdown",
   "id": "1ec52fc9",
   "metadata": {},
   "source": [
    "## Gradient Boosted Trees"
   ]
  },
  {
   "cell_type": "code",
   "execution_count": 162,
   "id": "eb1c21be",
   "metadata": {},
   "outputs": [
    {
     "data": {
      "text/plain": [
       "GradientBoostingRegressor(random_state=0)"
      ]
     },
     "execution_count": 162,
     "metadata": {},
     "output_type": "execute_result"
    }
   ],
   "source": [
    "reg = GradientBoostingRegressor(random_state=0)\n",
    "reg.fit(X_train,y_train[\"stim_final\"])"
   ]
  },
  {
   "cell_type": "code",
   "execution_count": 163,
   "id": "41757e61",
   "metadata": {},
   "outputs": [
    {
     "data": {
      "text/plain": [
       "0.974688091030849"
      ]
     },
     "execution_count": 163,
     "metadata": {},
     "output_type": "execute_result"
    }
   ],
   "source": [
    "#accuracy score - training set\n",
    "reg.score(X_train,y_train[\"stim_final\"])"
   ]
  },
  {
   "cell_type": "code",
   "execution_count": 164,
   "id": "726a9c5d",
   "metadata": {},
   "outputs": [
    {
     "data": {
      "text/plain": [
       "-6.0525862987180155"
      ]
     },
     "execution_count": 164,
     "metadata": {},
     "output_type": "execute_result"
    }
   ],
   "source": [
    "#accuracy score -test set\n",
    "reg.score(X_test,y_test[\"stim_final\"])"
   ]
  },
  {
   "cell_type": "markdown",
   "id": "7a27ab90",
   "metadata": {},
   "source": [
    "## Linear Discriminant Analysis (LDA)"
   ]
  },
  {
   "cell_type": "code",
   "execution_count": 165,
   "id": "36506cf5",
   "metadata": {},
   "outputs": [
    {
     "data": {
      "text/plain": [
       "LinearDiscriminantAnalysis()"
      ]
     },
     "execution_count": 165,
     "metadata": {},
     "output_type": "execute_result"
    }
   ],
   "source": [
    "LDA = LinearDiscriminantAnalysis()\n",
    "LDA.fit(X_train,y_train[\"stim_final\"])"
   ]
  },
  {
   "cell_type": "code",
   "execution_count": 166,
   "id": "83e50be0",
   "metadata": {},
   "outputs": [
    {
     "data": {
      "text/plain": [
       "0.9920424403183024"
      ]
     },
     "execution_count": 166,
     "metadata": {},
     "output_type": "execute_result"
    }
   ],
   "source": [
    "#accuracy score - training set\n",
    "LDA.score(X_train,y_train[\"stim_final\"])"
   ]
  },
  {
   "cell_type": "code",
   "execution_count": 167,
   "id": "fa34dd1c",
   "metadata": {},
   "outputs": [
    {
     "data": {
      "text/plain": [
       "0.9907161803713528"
      ]
     },
     "execution_count": 167,
     "metadata": {},
     "output_type": "execute_result"
    }
   ],
   "source": [
    "#accuracy score -test set\n",
    "LDA.score(X_test,y_test[\"stim_final\"])"
   ]
  },
  {
   "cell_type": "markdown",
   "id": "f3a1c9c2",
   "metadata": {},
   "source": [
    "## Neural Network"
   ]
  },
  {
   "cell_type": "code",
   "execution_count": 168,
   "id": "368f8203",
   "metadata": {},
   "outputs": [],
   "source": [
    "NN = MLPClassifier(random_state=1, max_iter=300).fit(X_train,y_train[\"stim_final\"])"
   ]
  },
  {
   "cell_type": "code",
   "execution_count": 169,
   "id": "7a817a19",
   "metadata": {},
   "outputs": [
    {
     "data": {
      "text/plain": [
       "0.9938107869142352"
      ]
     },
     "execution_count": 169,
     "metadata": {},
     "output_type": "execute_result"
    }
   ],
   "source": [
    "#accuracy score - train set\n",
    "NN.score(X_train,y_train[\"stim_final\"])"
   ]
  },
  {
   "cell_type": "code",
   "execution_count": 170,
   "id": "5515ece0",
   "metadata": {},
   "outputs": [
    {
     "data": {
      "text/plain": [
       "0.993368700265252"
      ]
     },
     "execution_count": 170,
     "metadata": {},
     "output_type": "execute_result"
    }
   ],
   "source": [
    "#accuracy score -test set\n",
    "NN.score(X_test,y_test[\"stim_final\"])"
   ]
  },
  {
   "cell_type": "markdown",
   "id": "f863ac8b",
   "metadata": {},
   "source": [
    "## RandomForestClassifier"
   ]
  },
  {
   "cell_type": "code",
   "execution_count": 171,
   "id": "25f90126",
   "metadata": {},
   "outputs": [],
   "source": [
    "#instantiate RF\n",
    "RF = RandomForestClassifier().fit(X_train,y_train[\"stim_final\"])"
   ]
  },
  {
   "cell_type": "code",
   "execution_count": 173,
   "id": "5d824d6b",
   "metadata": {},
   "outputs": [
    {
     "data": {
      "text/plain": [
       "0.993368700265252"
      ]
     },
     "execution_count": 173,
     "metadata": {},
     "output_type": "execute_result"
    }
   ],
   "source": [
    "#get accuracy\n",
    "RF.score(X_test,y_test[\"stim_final\"])"
   ]
  },
  {
   "cell_type": "markdown",
   "id": "aeb68c91",
   "metadata": {},
   "source": [
    "# Rebalance\n",
    "\n",
    "\n",
    "In this section the outcome variable classes are rebalanced using the SMOTE oversampling method. The RandomOverSampler method was also used and compared with the SMOTE method. The four selected classifiers were then re-calibrated using the rebalanced data. All of the rebalanced models performed better than the initial models in decreasing overfitting. In the end the SMOTE results resulted in better overall model accuracy and was selected as the preferred balancing method."
   ]
  },
  {
   "cell_type": "code",
   "execution_count": 174,
   "id": "dacfee98",
   "metadata": {},
   "outputs": [],
   "source": [
    "#import libraries for re-balancing\n",
    "from imblearn.over_sampling import SMOTE, RandomOverSampler\n",
    "from sklearn.metrics import roc_auc_score"
   ]
  },
  {
   "cell_type": "code",
   "execution_count": 175,
   "id": "04243fa4",
   "metadata": {},
   "outputs": [],
   "source": [
    "#oversample\n",
    "over = SMOTE(k_neighbors=2,random_state=42)\n",
    "#over = RandomOverSampler(random_state=42)"
   ]
  },
  {
   "cell_type": "code",
   "execution_count": 176,
   "id": "c9fc59f6",
   "metadata": {},
   "outputs": [],
   "source": [
    "# x_vars = df.iloc[:,:13]\n",
    "# out = df[['stim_final','dep_final','hallu_final']]\n",
    "\n",
    "# X_train, X_test, y_train, y_test = train_test_split(x_vars,out, test_size=.4, random_state=42)"
   ]
  },
  {
   "cell_type": "code",
   "execution_count": 177,
   "id": "406e068e",
   "metadata": {},
   "outputs": [],
   "source": [
    "#oversample training set\n",
    "X_sampled,y_sampled = over.fit_resample(X_train,y_train[\"stim_final\"])"
   ]
  },
  {
   "cell_type": "code",
   "execution_count": 178,
   "id": "975e3db5",
   "metadata": {},
   "outputs": [
    {
     "data": {
      "text/plain": [
       "0    1124\n",
       "2    1124\n",
       "3    1124\n",
       "Name: stim_final, dtype: int64"
      ]
     },
     "execution_count": 178,
     "metadata": {},
     "output_type": "execute_result"
    }
   ],
   "source": [
    "#check value counts of outcome Stimulants\n",
    "y_sampled.value_counts()"
   ]
  },
  {
   "cell_type": "markdown",
   "id": "dc086709",
   "metadata": {},
   "source": [
    "## Rebalanced - Linear Classifier"
   ]
  },
  {
   "cell_type": "code",
   "execution_count": 179,
   "id": "33bef5ce",
   "metadata": {},
   "outputs": [
    {
     "name": "stderr",
     "output_type": "stream",
     "text": [
      "C:\\ProgramData\\Anaconda3\\lib\\site-packages\\sklearn\\svm\\_base.py:985: ConvergenceWarning: Liblinear failed to converge, increase the number of iterations.\n",
      "  warnings.warn(\"Liblinear failed to converge, increase \"\n"
     ]
    }
   ],
   "source": [
    "#instantiate SVM object\n",
    "lin_clf = svm.LinearSVC()\n",
    "\n",
    "#fit data\n",
    "SVC = lin_clf.fit(X_sampled,y_sampled)\n"
   ]
  },
  {
   "cell_type": "code",
   "execution_count": 180,
   "id": "5e41cbe8",
   "metadata": {},
   "outputs": [
    {
     "data": {
      "text/plain": [
       "0.3050397877984085"
      ]
     },
     "execution_count": 180,
     "metadata": {},
     "output_type": "execute_result"
    }
   ],
   "source": [
    "#accuracy score on test data set\n",
    "SVC.score(X_test,y_test[\"stim_final\"])"
   ]
  },
  {
   "cell_type": "code",
   "execution_count": 181,
   "id": "5c57e3aa",
   "metadata": {},
   "outputs": [
    {
     "data": {
      "text/html": [
       "<div>\n",
       "<style scoped>\n",
       "    .dataframe tbody tr th:only-of-type {\n",
       "        vertical-align: middle;\n",
       "    }\n",
       "\n",
       "    .dataframe tbody tr th {\n",
       "        vertical-align: top;\n",
       "    }\n",
       "\n",
       "    .dataframe thead th {\n",
       "        text-align: right;\n",
       "    }\n",
       "</style>\n",
       "<table border=\"1\" class=\"dataframe\">\n",
       "  <thead>\n",
       "    <tr style=\"text-align: right;\">\n",
       "      <th></th>\n",
       "      <th>stim_final</th>\n",
       "      <th>dep_final</th>\n",
       "      <th>hallu_final</th>\n",
       "    </tr>\n",
       "  </thead>\n",
       "  <tbody>\n",
       "    <tr>\n",
       "      <th>307</th>\n",
       "      <td>3</td>\n",
       "      <td>3</td>\n",
       "      <td>0</td>\n",
       "    </tr>\n",
       "    <tr>\n",
       "      <th>382</th>\n",
       "      <td>3</td>\n",
       "      <td>3</td>\n",
       "      <td>0</td>\n",
       "    </tr>\n",
       "    <tr>\n",
       "      <th>462</th>\n",
       "      <td>3</td>\n",
       "      <td>3</td>\n",
       "      <td>2</td>\n",
       "    </tr>\n",
       "    <tr>\n",
       "      <th>1741</th>\n",
       "      <td>3</td>\n",
       "      <td>2</td>\n",
       "      <td>0</td>\n",
       "    </tr>\n",
       "    <tr>\n",
       "      <th>917</th>\n",
       "      <td>3</td>\n",
       "      <td>3</td>\n",
       "      <td>3</td>\n",
       "    </tr>\n",
       "    <tr>\n",
       "      <th>...</th>\n",
       "      <td>...</td>\n",
       "      <td>...</td>\n",
       "      <td>...</td>\n",
       "    </tr>\n",
       "    <tr>\n",
       "      <th>129</th>\n",
       "      <td>3</td>\n",
       "      <td>3</td>\n",
       "      <td>0</td>\n",
       "    </tr>\n",
       "    <tr>\n",
       "      <th>1759</th>\n",
       "      <td>3</td>\n",
       "      <td>3</td>\n",
       "      <td>3</td>\n",
       "    </tr>\n",
       "    <tr>\n",
       "      <th>323</th>\n",
       "      <td>3</td>\n",
       "      <td>3</td>\n",
       "      <td>0</td>\n",
       "    </tr>\n",
       "    <tr>\n",
       "      <th>1027</th>\n",
       "      <td>3</td>\n",
       "      <td>3</td>\n",
       "      <td>2</td>\n",
       "    </tr>\n",
       "    <tr>\n",
       "      <th>756</th>\n",
       "      <td>3</td>\n",
       "      <td>3</td>\n",
       "      <td>3</td>\n",
       "    </tr>\n",
       "  </tbody>\n",
       "</table>\n",
       "<p>754 rows × 3 columns</p>\n",
       "</div>"
      ],
      "text/plain": [
       "      stim_final  dep_final  hallu_final\n",
       "307            3          3            0\n",
       "382            3          3            0\n",
       "462            3          3            2\n",
       "1741           3          2            0\n",
       "917            3          3            3\n",
       "...          ...        ...          ...\n",
       "129            3          3            0\n",
       "1759           3          3            3\n",
       "323            3          3            0\n",
       "1027           3          3            2\n",
       "756            3          3            3\n",
       "\n",
       "[754 rows x 3 columns]"
      ]
     },
     "execution_count": 181,
     "metadata": {},
     "output_type": "execute_result"
    }
   ],
   "source": [
    "y_test"
   ]
  },
  {
   "cell_type": "code",
   "execution_count": 182,
   "id": "a4ab18f1",
   "metadata": {},
   "outputs": [],
   "source": [
    "#get probability\n",
    "y_prob = lin_clf.decision_function(X_test)"
   ]
  },
  {
   "cell_type": "code",
   "execution_count": 183,
   "id": "818484c7",
   "metadata": {},
   "outputs": [
    {
     "data": {
      "text/plain": [
       "array([[-0.70253351, -1.58167628,  0.0210641 ],\n",
       "       [-1.58668446, -1.65301976,  0.32389062],\n",
       "       [-0.80770917, -2.2199444 ,  0.31764562],\n",
       "       ...,\n",
       "       [-0.85193392, -1.44609927,  0.07985877],\n",
       "       [ 0.0542912 , -3.02996229, -1.5733227 ],\n",
       "       [-0.03494586, -0.82960728, -2.40621609]])"
      ]
     },
     "execution_count": 183,
     "metadata": {},
     "output_type": "execute_result"
    }
   ],
   "source": [
    "#show\n",
    "y_prob"
   ]
  },
  {
   "cell_type": "code",
   "execution_count": 184,
   "id": "3ab6a87f",
   "metadata": {},
   "outputs": [
    {
     "data": {
      "text/plain": [
       "0.5556742323097463"
      ]
     },
     "execution_count": 184,
     "metadata": {},
     "output_type": "execute_result"
    }
   ],
   "source": [
    "#get auc score\n",
    "roc_auc_score(y_test[\"stim_final\"],lin_clf.predict(X_test), multi_class='ovr')"
   ]
  },
  {
   "cell_type": "markdown",
   "id": "9f7cae91",
   "metadata": {},
   "source": [
    "## Rebalanced - Logistic Regression"
   ]
  },
  {
   "cell_type": "code",
   "execution_count": 185,
   "id": "321ff66f",
   "metadata": {},
   "outputs": [],
   "source": [
    "#instantiate logistic regression\n",
    "mnlogit = LogisticRegression(multi_class ='multinomial',fit_intercept = True , C =0.001,\n",
    "                             max_iter=10000 ).fit(X_sampled,y_sampled)\n"
   ]
  },
  {
   "cell_type": "code",
   "execution_count": 186,
   "id": "21aae726",
   "metadata": {},
   "outputs": [
    {
     "data": {
      "text/plain": [
       "0.5888594164456233"
      ]
     },
     "execution_count": 186,
     "metadata": {},
     "output_type": "execute_result"
    }
   ],
   "source": [
    "#accuracy score for training set\n",
    "mnlogit.score(X_train,y_train[\"stim_final\"])"
   ]
  },
  {
   "cell_type": "code",
   "execution_count": 187,
   "id": "c7239750",
   "metadata": {},
   "outputs": [
    {
     "data": {
      "text/plain": [
       "0.6021220159151194"
      ]
     },
     "execution_count": 187,
     "metadata": {},
     "output_type": "execute_result"
    }
   ],
   "source": [
    "#accuracy score on test data set\n",
    "mnlogit.score(X_test,y_test[\"stim_final\"])"
   ]
  },
  {
   "cell_type": "code",
   "execution_count": 188,
   "id": "4fafc05b",
   "metadata": {},
   "outputs": [
    {
     "data": {
      "text/plain": [
       "array([[0.05295425, 0.6860109 , 0.26103485],\n",
       "       [0.03307232, 0.65860127, 0.30832641],\n",
       "       [0.05434412, 0.35640378, 0.5892521 ],\n",
       "       ...,\n",
       "       [0.0651547 , 0.73431628, 0.20052902],\n",
       "       [0.21888602, 0.11546577, 0.66564821],\n",
       "       [0.09948794, 0.7003346 , 0.20017747]])"
      ]
     },
     "execution_count": 188,
     "metadata": {},
     "output_type": "execute_result"
    }
   ],
   "source": [
    "#get probability\n",
    "mnlogit.predict_proba(X_test)"
   ]
  },
  {
   "cell_type": "code",
   "execution_count": 189,
   "id": "3396517a",
   "metadata": {},
   "outputs": [
    {
     "data": {
      "text/plain": [
       "3    749\n",
       "2      5\n",
       "Name: stim_final, dtype: int64"
      ]
     },
     "execution_count": 189,
     "metadata": {},
     "output_type": "execute_result"
    }
   ],
   "source": [
    "#view value counts\n",
    "y_test[\"stim_final\"].value_counts()"
   ]
  },
  {
   "cell_type": "code",
   "execution_count": 190,
   "id": "f43da370",
   "metadata": {},
   "outputs": [
    {
     "data": {
      "text/plain": [
       "0.5013351134846462"
      ]
     },
     "execution_count": 190,
     "metadata": {},
     "output_type": "execute_result"
    }
   ],
   "source": [
    "#get auc score \n",
    "roc_auc_score(y_test[\"stim_final\"],mnlogit.predict(X_test), multi_class='ovo')"
   ]
  },
  {
   "cell_type": "markdown",
   "id": "8ae38b7f",
   "metadata": {},
   "source": [
    "## Rebalanced  - K-nn classifier"
   ]
  },
  {
   "cell_type": "code",
   "execution_count": 191,
   "id": "37148498",
   "metadata": {},
   "outputs": [],
   "source": [
    "error_rate = []\n",
    "# Will take some time - try range of neighbours\n",
    "for i in range(1,40):\n",
    "    #instantiate k-NN\n",
    "    knn = KNeighborsClassifier(n_neighbors=i)\n",
    "    #fit\n",
    "    knn.fit(X_sampled,y_sampled)\n",
    "    #get predicted values\n",
    "    pred_i = knn.predict(X_test)\n",
    "    #calculate and append error rate\n",
    "    error_rate.append(np.mean(pred_i != y_test[\"stim_final\"]))"
   ]
  },
  {
   "cell_type": "code",
   "execution_count": 192,
   "id": "1a397175",
   "metadata": {},
   "outputs": [
    {
     "data": {
      "text/plain": [
       "Text(0, 0.5, 'Error Rate')"
      ]
     },
     "execution_count": 192,
     "metadata": {},
     "output_type": "execute_result"
    },
    {
     "data": {
      "image/png": "[encoded data removed]",
      "text/plain": [
       "<Figure size 720x432 with 1 Axes>"
      ]
     },
     "metadata": {
      "needs_background": "light"
     },
     "output_type": "display_data"
    }
   ],
   "source": [
    "#plot Error Rate vs K-Value to determine best k (k=20)\n",
    "plt.figure(figsize=(10,6))\n",
    "plt.plot(range(1,40),error_rate,color='blue', linestyle='dashed', marker='o',\n",
    " markerfacecolor='red', markersize=10)\n",
    "plt.title('Error Rate vs. K Value')\n",
    "plt.xlabel('K')\n",
    "plt.ylabel('Error Rate')"
   ]
  },
  {
   "cell_type": "code",
   "execution_count": 193,
   "id": "64019eb8",
   "metadata": {},
   "outputs": [
    {
     "data": {
      "text/plain": [
       "KNeighborsClassifier(n_neighbors=20)"
      ]
     },
     "execution_count": 193,
     "metadata": {},
     "output_type": "execute_result"
    }
   ],
   "source": [
    "#instantiate k-nnclassifier with k=20\n",
    "neigh = KNeighborsClassifier(n_neighbors=20)\n",
    "#fit\n",
    "neigh.fit(X_sampled,y_sampled)"
   ]
  },
  {
   "cell_type": "code",
   "execution_count": 194,
   "id": "84fe79bb",
   "metadata": {},
   "outputs": [
    {
     "data": {
      "text/plain": [
       "0.253315649867374"
      ]
     },
     "execution_count": 194,
     "metadata": {},
     "output_type": "execute_result"
    }
   ],
   "source": [
    "#accuracy score\n",
    "neigh.score(X_test,y_test[\"stim_final\"])"
   ]
  },
  {
   "cell_type": "code",
   "execution_count": 195,
   "id": "30dccd2b",
   "metadata": {},
   "outputs": [
    {
     "data": {
      "text/plain": [
       "0.256475300400534"
      ]
     },
     "execution_count": 195,
     "metadata": {},
     "output_type": "execute_result"
    }
   ],
   "source": [
    "#get auc score\n",
    "roc_auc_score(y_test[\"stim_final\"],neigh.predict(X_test), multi_class='ovo')"
   ]
  },
  {
   "cell_type": "markdown",
   "id": "04f700fe",
   "metadata": {},
   "source": [
    "## Rebalanced - Decision Tree\n",
    "\n",
    "### Using pruning to prevent over fitting - Determining the correct ccp_alpha"
   ]
  },
  {
   "cell_type": "code",
   "execution_count": 196,
   "id": "8d6e193d",
   "metadata": {},
   "outputs": [],
   "source": [
    "#use cost_complexity_pruning_path() to determine alphas to test\n",
    "path = clf.cost_complexity_pruning_path(X_sampled,y_sampled)\n",
    "ccp_alphas, impurities = path.ccp_alphas, path.impurities"
   ]
  },
  {
   "cell_type": "code",
   "execution_count": 197,
   "id": "c578d2b6",
   "metadata": {},
   "outputs": [
    {
     "name": "stdout",
     "output_type": "stream",
     "text": [
      "Number of nodes in the last tree is: 1 with ccp_alpha: 0.20578540678660684\n"
     ]
    }
   ],
   "source": [
    "#store DT objects instantiated with different alphas and fitted on smote balanced data\n",
    "clfs = []\n",
    "for ccp_alpha in ccp_alphas:\n",
    "    #instantiate Tree\n",
    "    clf = DecisionTreeClassifier(random_state=0, ccp_alpha=ccp_alpha)\n",
    "    \n",
    "    #fit\n",
    "    clf.fit(X_sampled,y_sampled)\n",
    "    \n",
    "    #append model to list\n",
    "    clfs.append(clf)\n",
    "print(\n",
    "    \"Number of nodes in the last tree is: {} with ccp_alpha: {}\".format(\n",
    "        clfs[-1].tree_.node_count, ccp_alphas[-1]\n",
    "    )\n",
    ")"
   ]
  },
  {
   "cell_type": "code",
   "execution_count": 198,
   "id": "cb3f8388",
   "metadata": {
    "scrolled": true
   },
   "outputs": [
    {
     "data": {
      "image/png": "[encoded data removed]",
      "text/plain": [
       "<Figure size 432x288 with 2 Axes>"
      ]
     },
     "metadata": {
      "needs_background": "light"
     },
     "output_type": "display_data"
    }
   ],
   "source": [
    "#plot all but last model/alha\n",
    "clfs = clfs[:-1]\n",
    "ccp_alphas = ccp_alphas[:-1]\n",
    "\n",
    "#plot of nodes vs alpha and depth vs alpha\n",
    "node_counts = [clf.tree_.node_count for clf in clfs]\n",
    "depth = [clf.tree_.max_depth for clf in clfs]\n",
    "fig, ax = plt.subplots(2, 1)\n",
    "ax[0].plot(ccp_alphas, node_counts, marker=\"o\", drawstyle=\"steps-post\")\n",
    "ax[0].set_xlabel(\"alpha\")\n",
    "ax[0].set_ylabel(\"number of nodes\")\n",
    "ax[0].set_title(\"Number of nodes vs alpha\")\n",
    "ax[1].plot(ccp_alphas, depth, marker=\"o\", drawstyle=\"steps-post\")\n",
    "ax[1].set_xlabel(\"alpha\")\n",
    "ax[1].set_ylabel(\"depth of tree\")\n",
    "ax[1].set_title(\"Depth vs alpha\")\n",
    "fig.tight_layout()"
   ]
  },
  {
   "cell_type": "code",
   "execution_count": 199,
   "id": "26d3a764",
   "metadata": {},
   "outputs": [
    {
     "data": {
      "image/png": "[encoded data removed]",
      "text/plain": [
       "<Figure size 432x288 with 1 Axes>"
      ]
     },
     "metadata": {
      "needs_background": "light"
     },
     "output_type": "display_data"
    }
   ],
   "source": [
    "#plot the accuracy of test and train datasets vs alpha\n",
    "train_scores = [clf.score(X_train,y_train[\"stim_final\"]) for clf in clfs]\n",
    "test_scores = [clf.score(X_test,y_test[\"stim_final\"]) for clf in clfs]\n",
    "\n",
    "#plot accuracy vs alpha\n",
    "fig, ax = plt.subplots()\n",
    "ax.set_xlabel(\"alpha\")\n",
    "ax.set_ylabel(\"accuracy\")\n",
    "ax.set_title(\"Accuracy vs alpha for training and testing sets\")\n",
    "ax.plot(ccp_alphas, train_scores, marker=\"o\", label=\"train\", drawstyle=\"steps-post\")\n",
    "ax.plot(ccp_alphas, test_scores, marker=\"o\", label=\"test\", drawstyle=\"steps-post\")\n",
    "ax.legend()\n",
    "plt.show()"
   ]
  },
  {
   "cell_type": "markdown",
   "id": "336f28ce",
   "metadata": {},
   "source": [
    "### Fit Using the alpha determined above (0.05) - most stable accuracy across increasing alphas"
   ]
  },
  {
   "cell_type": "code",
   "execution_count": 200,
   "id": "5c1e7d4e",
   "metadata": {
    "scrolled": true
   },
   "outputs": [
    {
     "data": {
      "text/plain": [
       "DecisionTreeClassifier(ccp_alpha=0.05, random_state=0)"
      ]
     },
     "execution_count": 200,
     "metadata": {},
     "output_type": "execute_result"
    }
   ],
   "source": [
    "#instantiate DT\n",
    "clf = DecisionTreeClassifier(random_state=0, ccp_alpha=0.05)\n",
    "\n",
    "#fit\n",
    "clf.fit(X_sampled,y_sampled)"
   ]
  },
  {
   "cell_type": "code",
   "execution_count": 201,
   "id": "e3ca1929",
   "metadata": {},
   "outputs": [
    {
     "data": {
      "text/plain": [
       "0.7493368700265252"
      ]
     },
     "execution_count": 201,
     "metadata": {},
     "output_type": "execute_result"
    }
   ],
   "source": [
    "#accuracy score\n",
    "clf.score(X_test,y_test[\"stim_final\"])"
   ]
  },
  {
   "cell_type": "code",
   "execution_count": 202,
   "id": "dc465bae",
   "metadata": {},
   "outputs": [
    {
     "data": {
      "text/plain": [
       "0.48624833110814425"
      ]
     },
     "execution_count": 202,
     "metadata": {},
     "output_type": "execute_result"
    }
   ],
   "source": [
    "#get auc scre\n",
    "roc_auc_score(y_test[\"stim_final\"],clf.predict(X_test), multi_class='ovr')"
   ]
  },
  {
   "cell_type": "markdown",
   "id": "5548373f",
   "metadata": {},
   "source": [
    "## Rebalanced - Boosted Tree\n",
    "\n",
    "### Fit Using the alpha determined above (0.05) - most stable accuracy across increasing alphas"
   ]
  },
  {
   "cell_type": "code",
   "execution_count": 203,
   "id": "67892cdd",
   "metadata": {},
   "outputs": [
    {
     "data": {
      "text/plain": [
       "GradientBoostingClassifier(ccp_alpha=0.05, random_state=0)"
      ]
     },
     "execution_count": 203,
     "metadata": {},
     "output_type": "execute_result"
    }
   ],
   "source": [
    "#instantiate GradientBoosting Tree\n",
    "reg = GradientBoostingClassifier(random_state=0, ccp_alpha=0.05)\n",
    "\n",
    "#fit\n",
    "reg.fit(X_sampled,y_sampled)"
   ]
  },
  {
   "cell_type": "code",
   "execution_count": 204,
   "id": "b59891ac",
   "metadata": {},
   "outputs": [
    {
     "data": {
      "text/plain": [
       "0.8682581786030061"
      ]
     },
     "execution_count": 204,
     "metadata": {},
     "output_type": "execute_result"
    }
   ],
   "source": [
    "#accuracy score - training set\n",
    "reg.score(X_train,y_train[\"stim_final\"])"
   ]
  },
  {
   "cell_type": "code",
   "execution_count": 205,
   "id": "bead5227",
   "metadata": {},
   "outputs": [
    {
     "data": {
      "text/plain": [
       "0.8713527851458885"
      ]
     },
     "execution_count": 205,
     "metadata": {},
     "output_type": "execute_result"
    }
   ],
   "source": [
    "#accuracy score -test set\n",
    "reg.score(X_test,y_test[\"stim_final\"])"
   ]
  },
  {
   "cell_type": "markdown",
   "id": "c590ebd2",
   "metadata": {},
   "source": [
    "## Rebalanced - Linear Discriminant Analysis (LDA)"
   ]
  },
  {
   "cell_type": "code",
   "execution_count": 206,
   "id": "8b6b2500",
   "metadata": {},
   "outputs": [
    {
     "data": {
      "text/plain": [
       "LinearDiscriminantAnalysis()"
      ]
     },
     "execution_count": 206,
     "metadata": {},
     "output_type": "execute_result"
    }
   ],
   "source": [
    "LDA = LinearDiscriminantAnalysis()\n",
    "LDA.fit(X_sampled,y_sampled)"
   ]
  },
  {
   "cell_type": "code",
   "execution_count": 207,
   "id": "e7105fd4",
   "metadata": {},
   "outputs": [
    {
     "data": {
      "text/plain": [
       "0.649867374005305"
      ]
     },
     "execution_count": 207,
     "metadata": {},
     "output_type": "execute_result"
    }
   ],
   "source": [
    "#accuracy score - training set\n",
    "LDA.score(X_train,y_train[\"stim_final\"])"
   ]
  },
  {
   "cell_type": "code",
   "execution_count": 208,
   "id": "14a08c24",
   "metadata": {},
   "outputs": [
    {
     "data": {
      "text/plain": [
       "0.6830238726790451"
      ]
     },
     "execution_count": 208,
     "metadata": {},
     "output_type": "execute_result"
    }
   ],
   "source": [
    "#accuracy score -test set\n",
    "LDA.score(X_test,y_test[\"stim_final\"])"
   ]
  },
  {
   "cell_type": "markdown",
   "id": "1acaa132",
   "metadata": {},
   "source": [
    "## Rebalanced - Neural Network"
   ]
  },
  {
   "cell_type": "code",
   "execution_count": 209,
   "id": "fdc73db9",
   "metadata": {},
   "outputs": [],
   "source": [
    "NN = MLPClassifier(random_state=1, max_iter=300).fit(X_sampled,y_sampled)"
   ]
  },
  {
   "cell_type": "code",
   "execution_count": 210,
   "id": "8bd23582",
   "metadata": {},
   "outputs": [
    {
     "data": {
      "text/plain": [
       "0.9283819628647215"
      ]
     },
     "execution_count": 210,
     "metadata": {},
     "output_type": "execute_result"
    }
   ],
   "source": [
    "#accuracy score - train set\n",
    "NN.score(X_train,y_train[\"stim_final\"])"
   ]
  },
  {
   "cell_type": "code",
   "execution_count": 211,
   "id": "c57317e2",
   "metadata": {},
   "outputs": [
    {
     "data": {
      "text/plain": [
       "0.9124668435013262"
      ]
     },
     "execution_count": 211,
     "metadata": {},
     "output_type": "execute_result"
    }
   ],
   "source": [
    "#accuracy score -test set\n",
    "NN.score(X_test,y_test[\"stim_final\"])"
   ]
  },
  {
   "cell_type": "markdown",
   "id": "d6521b94",
   "metadata": {},
   "source": [
    "## Rebalanced - Random Forest Classifier"
   ]
  },
  {
   "cell_type": "code",
   "execution_count": 212,
   "id": "d89e238a",
   "metadata": {},
   "outputs": [],
   "source": [
    "#instantiate\n",
    "RF = RandomForestClassifier(random_state=0, ccp_alpha=0.05).fit(X_sampled,y_sampled)"
   ]
  },
  {
   "cell_type": "code",
   "execution_count": 213,
   "id": "8ac24aa0",
   "metadata": {},
   "outputs": [
    {
     "data": {
      "text/plain": [
       "0.8859416445623343"
      ]
     },
     "execution_count": 213,
     "metadata": {},
     "output_type": "execute_result"
    }
   ],
   "source": [
    "#accuracy score on train set\n",
    "RF.score(X_train,y_train[\"stim_final\"])"
   ]
  },
  {
   "cell_type": "code",
   "execution_count": 214,
   "id": "6ee702b8",
   "metadata": {},
   "outputs": [
    {
     "data": {
      "text/plain": [
       "0.8819628647214854"
      ]
     },
     "execution_count": 214,
     "metadata": {},
     "output_type": "execute_result"
    }
   ],
   "source": [
    "#accuracy score on test set\n",
    "RF.score(X_test,y_test[\"stim_final\"])"
   ]
  },
  {
   "cell_type": "code",
   "execution_count": 225,
   "id": "d7567535",
   "metadata": {},
   "outputs": [
    {
     "data": {
      "image/png": "[encoded data removed]",
      "text/plain": [
       "<Figure size 864x576 with 1 Axes>"
      ]
     },
     "metadata": {
      "needs_background": "light"
     },
     "output_type": "display_data"
    }
   ],
   "source": [
    "#retrieve feature importance\n",
    "feature_names = X_test.columns.tolist()\n",
    "importances = RF.feature_importances_\n",
    "\n",
    "forest_importances = pd.Series(importances, index=feature_names)\n",
    "std = np.std([tree.feature_importances_ for tree in RF.estimators_], axis=0)\n",
    "fig, ax = plt.subplots(figsize=(12,8))\n",
    "forest_importances.plot.bar(yerr=std, ax=ax)\n",
    "ax.set_title(\"Feature importances using MDI\")\n",
    "ax.set_ylabel(\"Mean decrease in impurity\")\n",
    "fig.tight_layout()"
   ]
  },
  {
   "cell_type": "code",
   "execution_count": 234,
   "id": "061066f4",
   "metadata": {},
   "outputs": [
    {
     "data": {
      "text/plain": [
       "ID           0.039335\n",
       "Age          0.058386\n",
       "Gender       0.143130\n",
       "Education    0.068394\n",
       "Country      0.055397\n",
       "Ethnicity    0.195933\n",
       "NEO_N        0.212085\n",
       "NEO_E        0.044200\n",
       "NEO_O        0.007581\n",
       "NEO_A        0.022740\n",
       "NEO_C        0.064630\n",
       "IMP          0.056356\n",
       "SS           0.031834\n",
       "dtype: float64"
      ]
     },
     "execution_count": 234,
     "metadata": {},
     "output_type": "execute_result"
    }
   ],
   "source": [
    "#show list of importances\n",
    "forest_importances"
   ]
  },
  {
   "cell_type": "markdown",
   "id": "2ef88286",
   "metadata": {},
   "source": [
    "# Evaluation Metrics - AUC calculations and plots\n",
    "\n",
    "The ROC curve is an evaluation metric to evaluate the output of a classifier. True positive rate is plotted on the y-axis and false positive rate is plotted on the x-axis. Goes from 0 to 1 from both axes.\n",
    "\n",
    "\"Steepness\" is important to maximize the TPR while minimizing the FPR - the ideal is 1 TPR and 0 FPR. \n",
    "\n",
    "Typically are used in binary classification evaluation, however, since we have a multi-class problem (three classes), we need to binarize the output.\n",
    "\n",
    "In implementing this approach, an ROC curve can be drawn per label. An overall ROC curve can also be created by considering each element of the label indicator matrix as a binary prediction (micro-averaging)."
   ]
  },
  {
   "cell_type": "code",
   "execution_count": 81,
   "id": "ca3e39f6",
   "metadata": {},
   "outputs": [],
   "source": [
    "from sklearn import svm, datasets\n",
    "from sklearn.preprocessing import label_binarize\n",
    "from sklearn.metrics import roc_curve, auc\n",
    "from sklearn.multiclass import OneVsRestClassifier\n",
    "from sklearn.metrics import classification_report, accuracy_score, average_precision_score, f1_score\n",
    "from itertools import cycle\n",
    "import time"
   ]
  },
  {
   "cell_type": "markdown",
   "id": "e60a1af7",
   "metadata": {},
   "source": [
    "## Linear Classifier - AUC"
   ]
  },
  {
   "cell_type": "code",
   "execution_count": 227,
   "id": "0f6febdf",
   "metadata": {},
   "outputs": [
    {
     "name": "stdout",
     "output_type": "stream",
     "text": [
      "Total Time in seconds: 0.03500509262084961\n"
     ]
    }
   ],
   "source": [
    "start = time.time()\n",
    "# Binarize the output\n",
    "y = label_binarize(y_sampled, classes=[0, 2, 3])\n",
    "n_classes = y.shape[1]\n",
    "random_state = np.random.RandomState(0)\n",
    "\n",
    "# shuffle and split training and test sets\n",
    "X_train, X_test, y_train, y_test = train_test_split(X_sampled, y, test_size=0.5, random_state=0)\n",
    "\n",
    "# Learn to predict each class against the other\n",
    "classifier = OneVsRestClassifier(\n",
    "    #LinearDiscriminantAnalysis()\n",
    "    #GradientBoostingClassifier(random_state=0, ccp_alpha=0.05)\n",
    "    #MLPClassifier(random_state=1, max_iter=300)\n",
    "    #DecisionTreeClassifier(random_state=0, ccp_alpha=0.05)\n",
    "    #KNeighborsClassifier(n_neighbors=20)\n",
    "    #LogisticRegression(random_state=42)\n",
    "    svm.LinearSVC(C=.001, random_state=42, max_iter=10000, dual=False)\n",
    "    #svm.SVC(kernel=\"linear\", probability=True, C=0.01, random_state=42)\n",
    ")\n",
    "clf_fitted = classifier.fit(X_train, y_train)\n",
    "\n",
    "y_score = clf_fitted.decision_function(X_test)\n",
    "y_pred = clf_fitted.fit(X_train, y_train).predict(X_test)\n",
    "\n",
    "print(f\"Total Time in seconds: {time.time()-start}\")"
   ]
  },
  {
   "cell_type": "code",
   "execution_count": 228,
   "id": "022604f5",
   "metadata": {},
   "outputs": [],
   "source": [
    "# Compute ROC curve and ROC area for each class\n",
    "fpr = dict()\n",
    "tpr = dict()\n",
    "roc_auc = dict()\n",
    "for i in range(n_classes):\n",
    "    fpr[i], tpr[i], _ = roc_curve(y_test[:, i], y_score[:, i])\n",
    "    roc_auc[i] = auc(fpr[i], tpr[i])\n",
    "\n",
    "# Compute micro-average ROC curve and ROC area\n",
    "fpr[\"micro\"], tpr[\"micro\"], _ = roc_curve(y_test.ravel(), y_score.ravel())\n",
    "roc_auc[\"micro\"] = auc(fpr[\"micro\"], tpr[\"micro\"])"
   ]
  },
  {
   "cell_type": "code",
   "execution_count": 229,
   "id": "afc6563f",
   "metadata": {},
   "outputs": [
    {
     "data": {
      "text/plain": [
       "{0: 0.938184562000471,\n",
       " 1: 0.9319018700597648,\n",
       " 2: 0.885178746648742,\n",
       " 'micro': 0.9156413714787469}"
      ]
     },
     "execution_count": 229,
     "metadata": {},
     "output_type": "execute_result"
    }
   ],
   "source": [
    "#display auc scores for each category and overall\n",
    "roc_auc"
   ]
  },
  {
   "cell_type": "code",
   "execution_count": 236,
   "id": "83269b53",
   "metadata": {
    "scrolled": false
   },
   "outputs": [
    {
     "data": {
      "image/png": "[encoded data removed]",
      "text/plain": [
       "<Figure size 864x576 with 1 Axes>"
      ]
     },
     "metadata": {
      "needs_background": "light"
     },
     "output_type": "display_data"
    }
   ],
   "source": [
    "lw = 2\n",
    "# First aggregate all false positive rates\n",
    "all_fpr = np.unique(np.concatenate([fpr[i] for i in range(n_classes)]))\n",
    "\n",
    "# Then interpolate all ROC curves at this points\n",
    "mean_tpr = np.zeros_like(all_fpr)\n",
    "for i in range(n_classes):\n",
    "    mean_tpr += np.interp(all_fpr, fpr[i], tpr[i])\n",
    "\n",
    "# Finally average it and compute AUC\n",
    "mean_tpr /= n_classes\n",
    "\n",
    "fpr[\"macro\"] = all_fpr\n",
    "tpr[\"macro\"] = mean_tpr\n",
    "roc_auc[\"macro\"] = auc(fpr[\"macro\"], tpr[\"macro\"])\n",
    "\n",
    "# Plot all ROC curves\n",
    "plt.figure(figsize=(12,8))\n",
    "plt.plot(\n",
    "    fpr[\"micro\"],\n",
    "    tpr[\"micro\"],\n",
    "    label=\"micro-average ROC curve (area = {0:0.2f})\".format(roc_auc[\"micro\"]),\n",
    "    color=\"deeppink\",\n",
    "    linestyle=\":\",\n",
    "    linewidth=4,\n",
    ")\n",
    "\n",
    "plt.plot(\n",
    "    fpr[\"macro\"],\n",
    "    tpr[\"macro\"],\n",
    "    label=\"macro-average ROC curve (area = {0:0.2f})\".format(roc_auc[\"macro\"]),\n",
    "    color=\"navy\",\n",
    "    linestyle=\":\",\n",
    "    linewidth=4,\n",
    ")\n",
    "\n",
    "colors = cycle([\"aqua\", \"darkorange\", \"cornflowerblue\"])\n",
    "for i, color in zip(range(n_classes), colors):\n",
    "    plt.plot(\n",
    "        fpr[i],\n",
    "        tpr[i],\n",
    "        color=color,\n",
    "        lw=lw,\n",
    "        label=\"ROC curve of class {0} (area = {1:0.2f})\".format(i, roc_auc[i]),\n",
    "    )\n",
    "\n",
    "plt.plot([0, 1], [0, 1], \"k--\", lw=lw)\n",
    "plt.xlim([0.0, 1.0])\n",
    "plt.ylim([0.0, 1.05])\n",
    "plt.xlabel(\"False Positive Rate\")\n",
    "plt.ylabel(\"True Positive Rate\")\n",
    "plt.title(\"Extension of Receiver operating characteristic to multiclass - Stimulants\")\n",
    "plt.legend(loc=\"lower right\")\n",
    "plt.show()"
   ]
  },
  {
   "cell_type": "code",
   "execution_count": 122,
   "id": "eb640076",
   "metadata": {},
   "outputs": [
    {
     "name": "stdout",
     "output_type": "stream",
     "text": [
      "--------------------mean accuracy from classifier method--------------------\n",
      "Accuracy from classifier method: 0.7224199288256228\n",
      "\n",
      "\n",
      "--------------------accuracy classification score for all classes--------------------\n",
      "Accuracy from classifier method: 0.8734677738236457\n",
      "\n",
      "\n",
      "--------------------average precision score for all classes--------------------\n",
      "Accuracy from classifier method: 0.7210040782325281\n"
     ]
    }
   ],
   "source": [
    "#accuracy\n",
    "print(\"-\"*20 +\"mean accuracy from classifier method\"+ \"-\"*20)\n",
    "print(f\"Accuracy from classifier method: {classifier.score(X_test,y_test)}\")\n",
    "print(\"\\n\")\n",
    "\n",
    "#metric.accuracy\n",
    "print(\"-\"*20 +\"accuracy classification score for all classes\"+ \"-\"*20)\n",
    "print(f\"Accuracy from classifier method: {accuracy_score(y_test.ravel(), y_pred.ravel())}\")\n",
    "print(\"\\n\")\n",
    "\n",
    "#average precision\n",
    "print(\"-\"*20 +\"average precision score for all classes\"+ \"-\"*20)\n",
    "print(f\"Accuracy from classifier method: {average_precision_score(y_test.ravel(), y_pred.ravel())}\")"
   ]
  },
  {
   "cell_type": "code",
   "execution_count": 123,
   "id": "de22c512",
   "metadata": {},
   "outputs": [
    {
     "data": {
      "text/html": [
       "<div>\n",
       "<style scoped>\n",
       "    .dataframe tbody tr th:only-of-type {\n",
       "        vertical-align: middle;\n",
       "    }\n",
       "\n",
       "    .dataframe tbody tr th {\n",
       "        vertical-align: top;\n",
       "    }\n",
       "\n",
       "    .dataframe thead th {\n",
       "        text-align: right;\n",
       "    }\n",
       "</style>\n",
       "<table border=\"1\" class=\"dataframe\">\n",
       "  <thead>\n",
       "    <tr style=\"text-align: right;\">\n",
       "      <th></th>\n",
       "      <th>precision</th>\n",
       "      <th>recall</th>\n",
       "      <th>f1-score</th>\n",
       "      <th>support</th>\n",
       "    </tr>\n",
       "  </thead>\n",
       "  <tbody>\n",
       "    <tr>\n",
       "      <th>class_0</th>\n",
       "      <td>0.892078</td>\n",
       "      <td>0.921708</td>\n",
       "      <td>0.906651</td>\n",
       "      <td>3372.000000</td>\n",
       "    </tr>\n",
       "    <tr>\n",
       "      <th>class_1</th>\n",
       "      <td>0.832274</td>\n",
       "      <td>0.776987</td>\n",
       "      <td>0.803681</td>\n",
       "      <td>1686.000000</td>\n",
       "    </tr>\n",
       "    <tr>\n",
       "      <th>accuracy</th>\n",
       "      <td>0.873468</td>\n",
       "      <td>0.873468</td>\n",
       "      <td>0.873468</td>\n",
       "      <td>0.873468</td>\n",
       "    </tr>\n",
       "    <tr>\n",
       "      <th>macro avg</th>\n",
       "      <td>0.862176</td>\n",
       "      <td>0.849348</td>\n",
       "      <td>0.855166</td>\n",
       "      <td>5058.000000</td>\n",
       "    </tr>\n",
       "    <tr>\n",
       "      <th>weighted avg</th>\n",
       "      <td>0.872144</td>\n",
       "      <td>0.873468</td>\n",
       "      <td>0.872328</td>\n",
       "      <td>5058.000000</td>\n",
       "    </tr>\n",
       "  </tbody>\n",
       "</table>\n",
       "</div>"
      ],
      "text/plain": [
       "              precision    recall  f1-score      support\n",
       "class_0        0.892078  0.921708  0.906651  3372.000000\n",
       "class_1        0.832274  0.776987  0.803681  1686.000000\n",
       "accuracy       0.873468  0.873468  0.873468     0.873468\n",
       "macro avg      0.862176  0.849348  0.855166  5058.000000\n",
       "weighted avg   0.872144  0.873468  0.872328  5058.000000"
      ]
     },
     "execution_count": 123,
     "metadata": {},
     "output_type": "execute_result"
    }
   ],
   "source": [
    "target_names = ['class_0', 'class_1']\n",
    "pd.DataFrame(classification_report(y_test.ravel(), y_pred.ravel(), target_names=target_names ,output_dict=True)).T"
   ]
  },
  {
   "cell_type": "code",
   "execution_count": 124,
   "id": "5ff46a7f",
   "metadata": {
    "scrolled": true
   },
   "outputs": [
    {
     "data": {
      "text/plain": [
       "{'class_0': {'precision': 0.8920780711825488,\n",
       "  'recall': 0.9217081850533808,\n",
       "  'f1-score': 0.9066511085180863,\n",
       "  'support': 3372},\n",
       " 'class_1': {'precision': 0.832274459974587,\n",
       "  'recall': 0.7769869513641756,\n",
       "  'f1-score': 0.803680981595092,\n",
       "  'support': 1686},\n",
       " 'accuracy': 0.8734677738236457,\n",
       " 'macro avg': {'precision': 0.8621762655785679,\n",
       "  'recall': 0.8493475682087782,\n",
       "  'f1-score': 0.8551660450565892,\n",
       "  'support': 5058},\n",
       " 'weighted avg': {'precision': 0.8721435341132282,\n",
       "  'recall': 0.8734677738236457,\n",
       "  'f1-score': 0.8723277328770882,\n",
       "  'support': 5058}}"
      ]
     },
     "execution_count": 124,
     "metadata": {},
     "output_type": "execute_result"
    }
   ],
   "source": [
    "classification_report(y_test.ravel(), y_pred.ravel(), target_names=target_names ,output_dict=True)"
   ]
  },
  {
   "cell_type": "markdown",
   "id": "3cd4be6d",
   "metadata": {},
   "source": [
    "## Logistic Regression - AUC"
   ]
  },
  {
   "cell_type": "code",
   "execution_count": 82,
   "id": "8daba52d",
   "metadata": {},
   "outputs": [
    {
     "name": "stdout",
     "output_type": "stream",
     "text": [
      "Total Time in seconds: 0.14359307289123535\n"
     ]
    }
   ],
   "source": [
    "start = time.time()\n",
    "# Binarize the output\n",
    "y = label_binarize(y_sampled, classes=[0, 2, 3])\n",
    "n_classes = y.shape[1]\n",
    "random_state = np.random.RandomState(0)\n",
    "\n",
    "# shuffle and split training and test sets\n",
    "X_train, X_test, y_train, y_test = train_test_split(X_sampled, y, test_size=0.5, random_state=0)\n",
    "\n",
    "# Learn to predict each class against the other\n",
    "classifier = OneVsRestClassifier(\n",
    "    #LinearDiscriminantAnalysis()\n",
    "    #GradientBoostingClassifier(random_state=0, ccp_alpha=0.05)\n",
    "    #MLPClassifier(random_state=1, max_iter=300)\n",
    "    #DecisionTreeClassifier(random_state=0, ccp_alpha=0.05)\n",
    "    #KNeighborsClassifier(n_neighbors=20)\n",
    "    LogisticRegression(multi_class ='auto',fit_intercept = True , C =0.001,\n",
    "                             max_iter=10000, random_state=42)\n",
    "    #svm.SVC(kernel=\"linear\", probability=True, random_state=42)\n",
    ")\n",
    "\n",
    "y_score = classifier.fit(X_train, y_train).predict_proba(X_test)\n",
    "y_pred = classifier.fit(X_train, y_train).predict(X_test)\n",
    "\n",
    "print(f\"Total Time in seconds: {time.time()-start}\")"
   ]
  },
  {
   "cell_type": "code",
   "execution_count": 83,
   "id": "9271694c",
   "metadata": {},
   "outputs": [],
   "source": [
    "# Compute ROC curve and ROC area for each class\n",
    "fpr = dict()\n",
    "tpr = dict()\n",
    "roc_auc = dict()\n",
    "for i in range(n_classes):\n",
    "    fpr[i], tpr[i], _ = roc_curve(y_test[:, i], y_score[:, i])\n",
    "    roc_auc[i] = auc(fpr[i], tpr[i])\n",
    "\n",
    "# Compute micro-average ROC curve and ROC area\n",
    "fpr[\"micro\"], tpr[\"micro\"], _ = roc_curve(y_test.ravel(), y_score.ravel())\n",
    "roc_auc[\"micro\"] = auc(fpr[\"micro\"], tpr[\"micro\"])"
   ]
  },
  {
   "cell_type": "code",
   "execution_count": 84,
   "id": "8d3ec95f",
   "metadata": {},
   "outputs": [
    {
     "data": {
      "text/plain": [
       "{0: 0.8636571170417789,\n",
       " 1: 0.8510121457489879,\n",
       " 2: 0.8631002325599363,\n",
       " 'micro': 0.8575655844164981}"
      ]
     },
     "execution_count": 84,
     "metadata": {},
     "output_type": "execute_result"
    }
   ],
   "source": [
    "#display auc scores for each category and overall\n",
    "roc_auc"
   ]
  },
  {
   "cell_type": "code",
   "execution_count": 85,
   "id": "2d679144",
   "metadata": {},
   "outputs": [
    {
     "data": {
      "image/png": "[encoded data removed]",
      "text/plain": [
       "<Figure size 432x288 with 1 Axes>"
      ]
     },
     "metadata": {
      "needs_background": "light"
     },
     "output_type": "display_data"
    }
   ],
   "source": [
    "lw = 2\n",
    "# First aggregate all false positive rates\n",
    "all_fpr = np.unique(np.concatenate([fpr[i] for i in range(n_classes)]))\n",
    "\n",
    "# Then interpolate all ROC curves at this points\n",
    "mean_tpr = np.zeros_like(all_fpr)\n",
    "for i in range(n_classes):\n",
    "    mean_tpr += np.interp(all_fpr, fpr[i], tpr[i])\n",
    "\n",
    "# Finally average it and compute AUC\n",
    "mean_tpr /= n_classes\n",
    "\n",
    "fpr[\"macro\"] = all_fpr\n",
    "tpr[\"macro\"] = mean_tpr\n",
    "roc_auc[\"macro\"] = auc(fpr[\"macro\"], tpr[\"macro\"])\n",
    "\n",
    "# Plot all ROC curves\n",
    "plt.figure()\n",
    "plt.plot(\n",
    "    fpr[\"micro\"],\n",
    "    tpr[\"micro\"],\n",
    "    label=\"micro-average ROC curve (area = {0:0.2f})\".format(roc_auc[\"micro\"]),\n",
    "    color=\"deeppink\",\n",
    "    linestyle=\":\",\n",
    "    linewidth=4,\n",
    ")\n",
    "\n",
    "plt.plot(\n",
    "    fpr[\"macro\"],\n",
    "    tpr[\"macro\"],\n",
    "    label=\"macro-average ROC curve (area = {0:0.2f})\".format(roc_auc[\"macro\"]),\n",
    "    color=\"navy\",\n",
    "    linestyle=\":\",\n",
    "    linewidth=4,\n",
    ")\n",
    "\n",
    "colors = cycle([\"aqua\", \"darkorange\", \"cornflowerblue\"])\n",
    "for i, color in zip(range(n_classes), colors):\n",
    "    plt.plot(\n",
    "        fpr[i],\n",
    "        tpr[i],\n",
    "        color=color,\n",
    "        lw=lw,\n",
    "        label=\"ROC curve of class {0} (area = {1:0.2f})\".format(i, roc_auc[i]),\n",
    "    )\n",
    "\n",
    "plt.plot([0, 1], [0, 1], \"k--\", lw=lw)\n",
    "plt.xlim([0.0, 1.0])\n",
    "plt.ylim([0.0, 1.05])\n",
    "plt.xlabel(\"False Positive Rate\")\n",
    "plt.ylabel(\"True Positive Rate\")\n",
    "plt.title(\"Some extension of Receiver operating characteristic to multiclass\")\n",
    "plt.legend(loc=\"lower right\")\n",
    "plt.show()"
   ]
  },
  {
   "cell_type": "code",
   "execution_count": 86,
   "id": "adea045f",
   "metadata": {},
   "outputs": [
    {
     "name": "stdout",
     "output_type": "stream",
     "text": [
      "--------------------mean accuracy from classifier method--------------------\n",
      "Accuracy from classifier method: 0.41874258600237246\n",
      "\n",
      "\n",
      "--------------------accuracy classification score for all classes--------------------\n",
      "Accuracy from classifier method: 0.7558323448003164\n",
      "\n",
      "\n",
      "--------------------average precision score for all classes--------------------\n",
      "Accuracy from classifier method: 0.5025446753147361\n"
     ]
    }
   ],
   "source": [
    "#accuracy\n",
    "print(\"-\"*20 +\"mean accuracy from classifier method\"+ \"-\"*20)\n",
    "print(f\"Accuracy from classifier method: {classifier.score(X_test,y_test)}\")\n",
    "print(\"\\n\")\n",
    "\n",
    "#metric.accuracy\n",
    "print(\"-\"*20 +\"accuracy classification score for all classes\"+ \"-\"*20)\n",
    "print(f\"Accuracy from classifier method: {accuracy_score(y_test.ravel(), y_pred.ravel())}\")\n",
    "print(\"\\n\")\n",
    "\n",
    "#average precision\n",
    "print(\"-\"*20 +\"average precision score for all classes\"+ \"-\"*20)\n",
    "print(f\"Accuracy from classifier method: {average_precision_score(y_test.ravel(), y_pred.ravel())}\")"
   ]
  },
  {
   "cell_type": "code",
   "execution_count": 87,
   "id": "cc21faee",
   "metadata": {
    "scrolled": true
   },
   "outputs": [
    {
     "data": {
      "text/html": [
       "<div>\n",
       "<style scoped>\n",
       "    .dataframe tbody tr th:only-of-type {\n",
       "        vertical-align: middle;\n",
       "    }\n",
       "\n",
       "    .dataframe tbody tr th {\n",
       "        vertical-align: top;\n",
       "    }\n",
       "\n",
       "    .dataframe thead th {\n",
       "        text-align: right;\n",
       "    }\n",
       "</style>\n",
       "<table border=\"1\" class=\"dataframe\">\n",
       "  <thead>\n",
       "    <tr style=\"text-align: right;\">\n",
       "      <th></th>\n",
       "      <th>precision</th>\n",
       "      <th>recall</th>\n",
       "      <th>f1-score</th>\n",
       "      <th>support</th>\n",
       "    </tr>\n",
       "  </thead>\n",
       "  <tbody>\n",
       "    <tr>\n",
       "      <th>0</th>\n",
       "      <td>0.764808</td>\n",
       "      <td>0.915184</td>\n",
       "      <td>0.833266</td>\n",
       "      <td>3372.000000</td>\n",
       "    </tr>\n",
       "    <tr>\n",
       "      <th>1</th>\n",
       "      <td>0.720430</td>\n",
       "      <td>0.437129</td>\n",
       "      <td>0.544112</td>\n",
       "      <td>1686.000000</td>\n",
       "    </tr>\n",
       "    <tr>\n",
       "      <th>accuracy</th>\n",
       "      <td>0.755832</td>\n",
       "      <td>0.755832</td>\n",
       "      <td>0.755832</td>\n",
       "      <td>0.755832</td>\n",
       "    </tr>\n",
       "    <tr>\n",
       "      <th>macro avg</th>\n",
       "      <td>0.742619</td>\n",
       "      <td>0.676157</td>\n",
       "      <td>0.688689</td>\n",
       "      <td>5058.000000</td>\n",
       "    </tr>\n",
       "    <tr>\n",
       "      <th>weighted avg</th>\n",
       "      <td>0.750015</td>\n",
       "      <td>0.755832</td>\n",
       "      <td>0.736881</td>\n",
       "      <td>5058.000000</td>\n",
       "    </tr>\n",
       "  </tbody>\n",
       "</table>\n",
       "</div>"
      ],
      "text/plain": [
       "              precision    recall  f1-score      support\n",
       "0              0.764808  0.915184  0.833266  3372.000000\n",
       "1              0.720430  0.437129  0.544112  1686.000000\n",
       "accuracy       0.755832  0.755832  0.755832     0.755832\n",
       "macro avg      0.742619  0.676157  0.688689  5058.000000\n",
       "weighted avg   0.750015  0.755832  0.736881  5058.000000"
      ]
     },
     "execution_count": 87,
     "metadata": {},
     "output_type": "execute_result"
    }
   ],
   "source": [
    "pd.DataFrame(classification_report(y_test.ravel(), y_pred.ravel(), output_dict=True)).T"
   ]
  },
  {
   "cell_type": "markdown",
   "id": "2bbf3aeb",
   "metadata": {},
   "source": [
    "## KNeighbors Classifier - AUC"
   ]
  },
  {
   "cell_type": "code",
   "execution_count": 88,
   "id": "b42e9da7",
   "metadata": {},
   "outputs": [
    {
     "name": "stdout",
     "output_type": "stream",
     "text": [
      "Total Time in seconds: 0.07679438591003418\n"
     ]
    }
   ],
   "source": [
    "start = time.time()\n",
    "# Binarize the output\n",
    "y = label_binarize(y_sampled, classes=[0, 2, 3])\n",
    "n_classes = y.shape[1]\n",
    "random_state = np.random.RandomState(0)\n",
    "\n",
    "# shuffle and split training and test sets\n",
    "X_train, X_test, y_train, y_test = train_test_split(X_sampled, y, test_size=0.5, random_state=0)\n",
    "\n",
    "# Learn to predict each class against the other\n",
    "classifier = OneVsRestClassifier(\n",
    "    #LinearDiscriminantAnalysis()\n",
    "    #GradientBoostingClassifier(random_state=0, ccp_alpha=0.05)\n",
    "    #MLPClassifier(random_state=1, max_iter=300)\n",
    "    #DecisionTreeClassifier(random_state=0, ccp_alpha=0.05)\n",
    "    KNeighborsClassifier(n_neighbors=20)\n",
    "    #LogisticRegression(multi_class ='multinomial',fit_intercept = True , C =0.001,max_iter=10000, random_state=42)\n",
    "    #svm.SVC(kernel=\"linear\", probability=True, random_state=42)\n",
    ")\n",
    "\n",
    "y_score = classifier.fit(X_train, y_train).predict_proba(X_test)\n",
    "y_pred = classifier.fit(X_train, y_train).predict(X_test)\n",
    "\n",
    "print(f\"Total Time in seconds: {time.time()-start}\")"
   ]
  },
  {
   "cell_type": "code",
   "execution_count": 89,
   "id": "8d92be35",
   "metadata": {},
   "outputs": [],
   "source": [
    "# Compute ROC curve and ROC area for each class\n",
    "fpr = dict()\n",
    "tpr = dict()\n",
    "roc_auc = dict()\n",
    "for i in range(n_classes):\n",
    "    fpr[i], tpr[i], _ = roc_curve(y_test[:, i], y_score[:, i])\n",
    "    roc_auc[i] = auc(fpr[i], tpr[i])\n",
    "\n",
    "# Compute micro-average ROC curve and ROC area\n",
    "fpr[\"micro\"], tpr[\"micro\"], _ = roc_curve(y_test.ravel(), y_score.ravel())\n",
    "roc_auc[\"micro\"] = auc(fpr[\"micro\"], tpr[\"micro\"])"
   ]
  },
  {
   "cell_type": "code",
   "execution_count": 90,
   "id": "3e7a7a3b",
   "metadata": {},
   "outputs": [
    {
     "data": {
      "text/plain": [
       "{0: 0.7852824276328754,\n",
       " 1: 0.8355937921727395,\n",
       " 2: 0.6841248870036855,\n",
       " 'micro': 0.7916312237124095}"
      ]
     },
     "execution_count": 90,
     "metadata": {},
     "output_type": "execute_result"
    }
   ],
   "source": [
    "#display auc scores for each category and overall\n",
    "roc_auc"
   ]
  },
  {
   "cell_type": "code",
   "execution_count": 91,
   "id": "ffe2450e",
   "metadata": {},
   "outputs": [
    {
     "data": {
      "image/png": "[encoded data removed]",
      "text/plain": [
       "<Figure size 432x288 with 1 Axes>"
      ]
     },
     "metadata": {
      "needs_background": "light"
     },
     "output_type": "display_data"
    }
   ],
   "source": [
    "lw = 2\n",
    "# First aggregate all false positive rates\n",
    "all_fpr = np.unique(np.concatenate([fpr[i] for i in range(n_classes)]))\n",
    "\n",
    "# Then interpolate all ROC curves at this points\n",
    "mean_tpr = np.zeros_like(all_fpr)\n",
    "for i in range(n_classes):\n",
    "    mean_tpr += np.interp(all_fpr, fpr[i], tpr[i])\n",
    "\n",
    "# Finally average it and compute AUC\n",
    "mean_tpr /= n_classes\n",
    "\n",
    "fpr[\"macro\"] = all_fpr\n",
    "tpr[\"macro\"] = mean_tpr\n",
    "roc_auc[\"macro\"] = auc(fpr[\"macro\"], tpr[\"macro\"])\n",
    "\n",
    "# Plot all ROC curves\n",
    "plt.figure()\n",
    "plt.plot(\n",
    "    fpr[\"micro\"],\n",
    "    tpr[\"micro\"],\n",
    "    label=\"micro-average ROC curve (area = {0:0.2f})\".format(roc_auc[\"micro\"]),\n",
    "    color=\"deeppink\",\n",
    "    linestyle=\":\",\n",
    "    linewidth=4,\n",
    ")\n",
    "\n",
    "plt.plot(\n",
    "    fpr[\"macro\"],\n",
    "    tpr[\"macro\"],\n",
    "    label=\"macro-average ROC curve (area = {0:0.2f})\".format(roc_auc[\"macro\"]),\n",
    "    color=\"navy\",\n",
    "    linestyle=\":\",\n",
    "    linewidth=4,\n",
    ")\n",
    "\n",
    "colors = cycle([\"aqua\", \"darkorange\", \"cornflowerblue\"])\n",
    "for i, color in zip(range(n_classes), colors):\n",
    "    plt.plot(\n",
    "        fpr[i],\n",
    "        tpr[i],\n",
    "        color=color,\n",
    "        lw=lw,\n",
    "        label=\"ROC curve of class {0} (area = {1:0.2f})\".format(i, roc_auc[i]),\n",
    "    )\n",
    "\n",
    "plt.plot([0, 1], [0, 1], \"k--\", lw=lw)\n",
    "plt.xlim([0.0, 1.0])\n",
    "plt.ylim([0.0, 1.05])\n",
    "plt.xlabel(\"False Positive Rate\")\n",
    "plt.ylabel(\"True Positive Rate\")\n",
    "plt.title(\"Some extension of Receiver operating characteristic to multiclass\")\n",
    "plt.legend(loc=\"lower right\")\n",
    "plt.show()"
   ]
  },
  {
   "cell_type": "code",
   "execution_count": 92,
   "id": "ce007b92",
   "metadata": {},
   "outputs": [
    {
     "name": "stdout",
     "output_type": "stream",
     "text": [
      "--------------------mean accuracy from classifier method--------------------\n",
      "Accuracy from classifier method: 0.48279952550415184\n",
      "\n",
      "\n",
      "--------------------accuracy classification score for all classes--------------------\n",
      "Accuracy from classifier method: 0.7404112297350731\n",
      "\n",
      "\n",
      "--------------------average precision score for all classes--------------------\n",
      "Accuracy from classifier method: 0.48554662331299553\n"
     ]
    }
   ],
   "source": [
    "#accuracy\n",
    "print(\"-\"*20 +\"mean accuracy from classifier method\"+ \"-\"*20)\n",
    "print(f\"Accuracy from classifier method: {classifier.score(X_test,y_test)}\")\n",
    "print(\"\\n\")\n",
    "\n",
    "#metric.accuracy\n",
    "print(\"-\"*20 +\"accuracy classification score for all classes\"+ \"-\"*20)\n",
    "print(f\"Accuracy from classifier method: {accuracy_score(y_test.ravel(), y_pred.ravel())}\")\n",
    "print(\"\\n\")\n",
    "\n",
    "#average precision\n",
    "print(\"-\"*20 +\"average precision score for all classes\"+ \"-\"*20)\n",
    "print(f\"Accuracy from classifier method: {average_precision_score(y_test.ravel(), y_pred.ravel())}\")"
   ]
  },
  {
   "cell_type": "code",
   "execution_count": 93,
   "id": "6bf52065",
   "metadata": {
    "scrolled": true
   },
   "outputs": [
    {
     "data": {
      "text/html": [
       "<div>\n",
       "<style scoped>\n",
       "    .dataframe tbody tr th:only-of-type {\n",
       "        vertical-align: middle;\n",
       "    }\n",
       "\n",
       "    .dataframe tbody tr th {\n",
       "        vertical-align: top;\n",
       "    }\n",
       "\n",
       "    .dataframe thead th {\n",
       "        text-align: right;\n",
       "    }\n",
       "</style>\n",
       "<table border=\"1\" class=\"dataframe\">\n",
       "  <thead>\n",
       "    <tr style=\"text-align: right;\">\n",
       "      <th></th>\n",
       "      <th>precision</th>\n",
       "      <th>recall</th>\n",
       "      <th>f1-score</th>\n",
       "      <th>support</th>\n",
       "    </tr>\n",
       "  </thead>\n",
       "  <tbody>\n",
       "    <tr>\n",
       "      <th>0</th>\n",
       "      <td>0.770707</td>\n",
       "      <td>0.869217</td>\n",
       "      <td>0.817003</td>\n",
       "      <td>3372.000000</td>\n",
       "    </tr>\n",
       "    <tr>\n",
       "      <th>1</th>\n",
       "      <td>0.648606</td>\n",
       "      <td>0.482800</td>\n",
       "      <td>0.553553</td>\n",
       "      <td>1686.000000</td>\n",
       "    </tr>\n",
       "    <tr>\n",
       "      <th>accuracy</th>\n",
       "      <td>0.740411</td>\n",
       "      <td>0.740411</td>\n",
       "      <td>0.740411</td>\n",
       "      <td>0.740411</td>\n",
       "    </tr>\n",
       "    <tr>\n",
       "      <th>macro avg</th>\n",
       "      <td>0.709656</td>\n",
       "      <td>0.676008</td>\n",
       "      <td>0.685278</td>\n",
       "      <td>5058.000000</td>\n",
       "    </tr>\n",
       "    <tr>\n",
       "      <th>weighted avg</th>\n",
       "      <td>0.730007</td>\n",
       "      <td>0.740411</td>\n",
       "      <td>0.729187</td>\n",
       "      <td>5058.000000</td>\n",
       "    </tr>\n",
       "  </tbody>\n",
       "</table>\n",
       "</div>"
      ],
      "text/plain": [
       "              precision    recall  f1-score      support\n",
       "0              0.770707  0.869217  0.817003  3372.000000\n",
       "1              0.648606  0.482800  0.553553  1686.000000\n",
       "accuracy       0.740411  0.740411  0.740411     0.740411\n",
       "macro avg      0.709656  0.676008  0.685278  5058.000000\n",
       "weighted avg   0.730007  0.740411  0.729187  5058.000000"
      ]
     },
     "execution_count": 93,
     "metadata": {},
     "output_type": "execute_result"
    }
   ],
   "source": [
    "pd.DataFrame(classification_report(y_test.ravel(), y_pred.ravel(), output_dict=True)).T"
   ]
  },
  {
   "cell_type": "markdown",
   "id": "0c201a2d",
   "metadata": {},
   "source": [
    "## Decision Tree - AUC"
   ]
  },
  {
   "cell_type": "code",
   "execution_count": 94,
   "id": "29155c0a",
   "metadata": {},
   "outputs": [
    {
     "name": "stdout",
     "output_type": "stream",
     "text": [
      "Total Time in seconds: 0.06382989883422852\n"
     ]
    }
   ],
   "source": [
    "start = time.time()\n",
    "# Binarize the output\n",
    "y = label_binarize(y_sampled, classes=[0, 2, 3])\n",
    "n_classes = y.shape[1]\n",
    "random_state = np.random.RandomState(0)\n",
    "\n",
    "# shuffle and split training and test sets\n",
    "X_train, X_test, y_train, y_test = train_test_split(X_sampled, y, test_size=0.5, random_state=0)\n",
    "\n",
    "# Learn to predict each class against the other\n",
    "classifier = OneVsRestClassifier(\n",
    "    #LinearDiscriminantAnalysis()\n",
    "    #GradientBoostingClassifier(random_state=0, ccp_alpha=0.05)\n",
    "    #MLPClassifier(random_state=1, max_iter=300)\n",
    "    DecisionTreeClassifier(random_state=0, ccp_alpha=0.09)\n",
    "    #KNeighborsClassifier(n_neighbors=20)\n",
    "    #LogisticRegression(multi_class ='multinomial',fit_intercept = True , C =0.001,max_iter=10000, random_state=42)\n",
    "    #svm.SVC(kernel=\"linear\", probability=True, random_state=42)\n",
    ")\n",
    "\n",
    "y_score = classifier.fit(X_train, y_train).predict_proba(X_test)\n",
    "y_pred = classifier.fit(X_train, y_train).predict(X_test)\n",
    "\n",
    "print(f\"Total Time in seconds: {time.time()-start}\")"
   ]
  },
  {
   "cell_type": "code",
   "execution_count": 95,
   "id": "3423416f",
   "metadata": {},
   "outputs": [],
   "source": [
    "# Compute ROC curve and ROC area for each class\n",
    "fpr = dict()\n",
    "tpr = dict()\n",
    "roc_auc = dict()\n",
    "for i in range(n_classes):\n",
    "    fpr[i], tpr[i], _ = roc_curve(y_test[:, i], y_score[:, i])\n",
    "    roc_auc[i] = auc(fpr[i], tpr[i])\n",
    "\n",
    "# Compute micro-average ROC curve and ROC area\n",
    "fpr[\"micro\"], tpr[\"micro\"], _ = roc_curve(y_test.ravel(), y_score.ravel())\n",
    "roc_auc[\"micro\"] = auc(fpr[\"micro\"], tpr[\"micro\"])"
   ]
  },
  {
   "cell_type": "code",
   "execution_count": 96,
   "id": "e507ed7e",
   "metadata": {},
   "outputs": [
    {
     "data": {
      "text/plain": [
       "{0: 0.858706883707965,\n",
       " 1: 0.9420883940620783,\n",
       " 2: 0.6992049695199685,\n",
       " 'micro': 0.8979915717886046}"
      ]
     },
     "execution_count": 96,
     "metadata": {},
     "output_type": "execute_result"
    }
   ],
   "source": [
    "#display auc scores for each category and overall\n",
    "roc_auc"
   ]
  },
  {
   "cell_type": "code",
   "execution_count": 97,
   "id": "6e3b48f3",
   "metadata": {},
   "outputs": [
    {
     "data": {
      "image/png": "[encoded data removed]",
      "text/plain": [
       "<Figure size 432x288 with 1 Axes>"
      ]
     },
     "metadata": {
      "needs_background": "light"
     },
     "output_type": "display_data"
    }
   ],
   "source": [
    "lw = 2\n",
    "# First aggregate all false positive rates\n",
    "all_fpr = np.unique(np.concatenate([fpr[i] for i in range(n_classes)]))\n",
    "\n",
    "# Then interpolate all ROC curves at this points\n",
    "mean_tpr = np.zeros_like(all_fpr)\n",
    "for i in range(n_classes):\n",
    "    mean_tpr += np.interp(all_fpr, fpr[i], tpr[i])\n",
    "\n",
    "# Finally average it and compute AUC\n",
    "mean_tpr /= n_classes\n",
    "\n",
    "fpr[\"macro\"] = all_fpr\n",
    "tpr[\"macro\"] = mean_tpr\n",
    "roc_auc[\"macro\"] = auc(fpr[\"macro\"], tpr[\"macro\"])\n",
    "\n",
    "# Plot all ROC curves\n",
    "plt.figure()\n",
    "plt.plot(\n",
    "    fpr[\"micro\"],\n",
    "    tpr[\"micro\"],\n",
    "    label=\"micro-average ROC curve (area = {0:0.2f})\".format(roc_auc[\"micro\"]),\n",
    "    color=\"deeppink\",\n",
    "    linestyle=\":\",\n",
    "    linewidth=4,\n",
    ")\n",
    "\n",
    "plt.plot(\n",
    "    fpr[\"macro\"],\n",
    "    tpr[\"macro\"],\n",
    "    label=\"macro-average ROC curve (area = {0:0.2f})\".format(roc_auc[\"macro\"]),\n",
    "    color=\"navy\",\n",
    "    linestyle=\":\",\n",
    "    linewidth=4,\n",
    ")\n",
    "\n",
    "colors = cycle([\"aqua\", \"darkorange\", \"cornflowerblue\"])\n",
    "for i, color in zip(range(n_classes), colors):\n",
    "    plt.plot(\n",
    "        fpr[i],\n",
    "        tpr[i],\n",
    "        color=color,\n",
    "        lw=lw,\n",
    "        label=\"ROC curve of class {0} (area = {1:0.2f})\".format(i, roc_auc[i]),\n",
    "    )\n",
    "\n",
    "plt.plot([0, 1], [0, 1], \"k--\", lw=lw)\n",
    "plt.xlim([0.0, 1.0])\n",
    "plt.ylim([0.0, 1.05])\n",
    "plt.xlabel(\"False Positive Rate\")\n",
    "plt.ylabel(\"True Positive Rate\")\n",
    "plt.title(\"Some extension of Receiver operating characteristic to multiclass\")\n",
    "plt.legend(loc=\"lower right\")\n",
    "plt.show()"
   ]
  },
  {
   "cell_type": "code",
   "execution_count": 98,
   "id": "0ae438cb",
   "metadata": {},
   "outputs": [
    {
     "name": "stdout",
     "output_type": "stream",
     "text": [
      "--------------------mean accuracy from classifier method--------------------\n",
      "Accuracy from classifier method: 0.6530249110320284\n",
      "\n",
      "\n",
      "--------------------accuracy classification score for all classes--------------------\n",
      "Accuracy from classifier method: 0.8703044681692369\n",
      "\n",
      "\n",
      "--------------------average precision score for all classes--------------------\n",
      "Accuracy from classifier method: 0.7212263722689909\n"
     ]
    }
   ],
   "source": [
    "#accuracy\n",
    "print(\"-\"*20 +\"mean accuracy from classifier method\"+ \"-\"*20)\n",
    "print(f\"Accuracy from classifier method: {classifier.score(X_test,y_test)}\")\n",
    "print(\"\\n\")\n",
    "\n",
    "#metric.accuracy\n",
    "print(\"-\"*20 +\"accuracy classification score for all classes\"+ \"-\"*20)\n",
    "print(f\"Accuracy from classifier method: {accuracy_score(y_test.ravel(), y_pred.ravel())}\")\n",
    "print(\"\\n\")\n",
    "\n",
    "#average precision\n",
    "print(\"-\"*20 +\"average precision score for all classes\"+ \"-\"*20)\n",
    "print(f\"Accuracy from classifier method: {average_precision_score(y_test.ravel(), y_pred.ravel())}\")"
   ]
  },
  {
   "cell_type": "code",
   "execution_count": 99,
   "id": "a2e43b55",
   "metadata": {
    "scrolled": true
   },
   "outputs": [
    {
     "data": {
      "text/html": [
       "<div>\n",
       "<style scoped>\n",
       "    .dataframe tbody tr th:only-of-type {\n",
       "        vertical-align: middle;\n",
       "    }\n",
       "\n",
       "    .dataframe tbody tr th {\n",
       "        vertical-align: top;\n",
       "    }\n",
       "\n",
       "    .dataframe thead th {\n",
       "        text-align: right;\n",
       "    }\n",
       "</style>\n",
       "<table border=\"1\" class=\"dataframe\">\n",
       "  <thead>\n",
       "    <tr style=\"text-align: right;\">\n",
       "      <th></th>\n",
       "      <th>precision</th>\n",
       "      <th>recall</th>\n",
       "      <th>f1-score</th>\n",
       "      <th>support</th>\n",
       "    </tr>\n",
       "  </thead>\n",
       "  <tbody>\n",
       "    <tr>\n",
       "      <th>0</th>\n",
       "      <td>0.863685</td>\n",
       "      <td>0.956406</td>\n",
       "      <td>0.907684</td>\n",
       "      <td>3372.000000</td>\n",
       "    </tr>\n",
       "    <tr>\n",
       "      <th>1</th>\n",
       "      <td>0.888973</td>\n",
       "      <td>0.698102</td>\n",
       "      <td>0.782060</td>\n",
       "      <td>1686.000000</td>\n",
       "    </tr>\n",
       "    <tr>\n",
       "      <th>accuracy</th>\n",
       "      <td>0.870304</td>\n",
       "      <td>0.870304</td>\n",
       "      <td>0.870304</td>\n",
       "      <td>0.870304</td>\n",
       "    </tr>\n",
       "    <tr>\n",
       "      <th>macro avg</th>\n",
       "      <td>0.876329</td>\n",
       "      <td>0.827254</td>\n",
       "      <td>0.844872</td>\n",
       "      <td>5058.000000</td>\n",
       "    </tr>\n",
       "    <tr>\n",
       "      <th>weighted avg</th>\n",
       "      <td>0.872114</td>\n",
       "      <td>0.870304</td>\n",
       "      <td>0.865809</td>\n",
       "      <td>5058.000000</td>\n",
       "    </tr>\n",
       "  </tbody>\n",
       "</table>\n",
       "</div>"
      ],
      "text/plain": [
       "              precision    recall  f1-score      support\n",
       "0              0.863685  0.956406  0.907684  3372.000000\n",
       "1              0.888973  0.698102  0.782060  1686.000000\n",
       "accuracy       0.870304  0.870304  0.870304     0.870304\n",
       "macro avg      0.876329  0.827254  0.844872  5058.000000\n",
       "weighted avg   0.872114  0.870304  0.865809  5058.000000"
      ]
     },
     "execution_count": 99,
     "metadata": {},
     "output_type": "execute_result"
    }
   ],
   "source": [
    "pd.DataFrame(classification_report(y_test.ravel(), y_pred.ravel(), output_dict=True)).T"
   ]
  },
  {
   "cell_type": "code",
   "execution_count": null,
   "id": "9e8c4fce",
   "metadata": {},
   "outputs": [],
   "source": []
  },
  {
   "cell_type": "code",
   "execution_count": null,
   "id": "074031c2",
   "metadata": {},
   "outputs": [],
   "source": []
  },
  {
   "cell_type": "markdown",
   "id": "71c6e523",
   "metadata": {},
   "source": [
    "## Boosted - AUC"
   ]
  },
  {
   "cell_type": "code",
   "execution_count": 100,
   "id": "56fa183a",
   "metadata": {},
   "outputs": [
    {
     "name": "stdout",
     "output_type": "stream",
     "text": [
      "Total Time in seconds: 1.61570143699646\n"
     ]
    }
   ],
   "source": [
    "start = time.time()\n",
    "# Binarize the output\n",
    "y = label_binarize(y_sampled, classes=[0, 2, 3])\n",
    "n_classes = y.shape[1]\n",
    "random_state = np.random.RandomState(0)\n",
    "\n",
    "# shuffle and split training and test sets\n",
    "X_train, X_test, y_train, y_test = train_test_split(X_sampled, y, test_size=0.5, random_state=0)\n",
    "\n",
    "# Learn to predict each class against the other\n",
    "classifier = OneVsRestClassifier(\n",
    "    #LinearDiscriminantAnalysis()\n",
    "    GradientBoostingClassifier(random_state=0, ccp_alpha=0.05)\n",
    "    #MLPClassifier(random_state=1, max_iter=300)\n",
    "    #DecisionTreeClassifier(random_state=0, ccp_alpha=0.09)\n",
    "    #KNeighborsClassifier(n_neighbors=20)\n",
    "    #LogisticRegression(multi_class ='multinomial',fit_intercept = True , C =0.001,max_iter=10000, random_state=42)\n",
    "    #svm.SVC(kernel=\"linear\", probability=True, random_state=42)\n",
    ")\n",
    "\n",
    "y_score = classifier.fit(X_train, y_train).predict_proba(X_test)\n",
    "y_pred = classifier.fit(X_train, y_train).predict(X_test)\n",
    "\n",
    "print(f\"Total Time in seconds: {time.time()-start}\")"
   ]
  },
  {
   "cell_type": "code",
   "execution_count": 101,
   "id": "2c4f7ab7",
   "metadata": {},
   "outputs": [],
   "source": [
    "# Compute ROC curve and ROC area for each class\n",
    "fpr = dict()\n",
    "tpr = dict()\n",
    "roc_auc = dict()\n",
    "for i in range(n_classes):\n",
    "    fpr[i], tpr[i], _ = roc_curve(y_test[:, i], y_score[:, i])\n",
    "    roc_auc[i] = auc(fpr[i], tpr[i])\n",
    "\n",
    "# Compute micro-average ROC curve and ROC area\n",
    "fpr[\"micro\"], tpr[\"micro\"], _ = roc_curve(y_test.ravel(), y_score.ravel())\n",
    "roc_auc[\"micro\"] = auc(fpr[\"micro\"], tpr[\"micro\"])"
   ]
  },
  {
   "cell_type": "code",
   "execution_count": 102,
   "id": "a1d22217",
   "metadata": {},
   "outputs": [
    {
     "data": {
      "text/plain": [
       "{0: 0.858706883707965,\n",
       " 1: 0.9420883940620783,\n",
       " 2: 0.9237041157700361,\n",
       " 'micro': 0.8973781360418434}"
      ]
     },
     "execution_count": 102,
     "metadata": {},
     "output_type": "execute_result"
    }
   ],
   "source": [
    "#display auc scores for each category and overall\n",
    "roc_auc"
   ]
  },
  {
   "cell_type": "code",
   "execution_count": 103,
   "id": "56b8c0a0",
   "metadata": {},
   "outputs": [
    {
     "data": {
      "image/png": "[encoded data removed]",
      "text/plain": [
       "<Figure size 432x288 with 1 Axes>"
      ]
     },
     "metadata": {
      "needs_background": "light"
     },
     "output_type": "display_data"
    }
   ],
   "source": [
    "lw = 2\n",
    "# First aggregate all false positive rates\n",
    "all_fpr = np.unique(np.concatenate([fpr[i] for i in range(n_classes)]))\n",
    "\n",
    "# Then interpolate all ROC curves at this points\n",
    "mean_tpr = np.zeros_like(all_fpr)\n",
    "for i in range(n_classes):\n",
    "    mean_tpr += np.interp(all_fpr, fpr[i], tpr[i])\n",
    "\n",
    "# Finally average it and compute AUC\n",
    "mean_tpr /= n_classes\n",
    "\n",
    "fpr[\"macro\"] = all_fpr\n",
    "tpr[\"macro\"] = mean_tpr\n",
    "roc_auc[\"macro\"] = auc(fpr[\"macro\"], tpr[\"macro\"])\n",
    "\n",
    "# Plot all ROC curves\n",
    "plt.figure()\n",
    "plt.plot(\n",
    "    fpr[\"micro\"],\n",
    "    tpr[\"micro\"],\n",
    "    label=\"micro-average ROC curve (area = {0:0.2f})\".format(roc_auc[\"micro\"]),\n",
    "    color=\"deeppink\",\n",
    "    linestyle=\":\",\n",
    "    linewidth=4,\n",
    ")\n",
    "\n",
    "plt.plot(\n",
    "    fpr[\"macro\"],\n",
    "    tpr[\"macro\"],\n",
    "    label=\"macro-average ROC curve (area = {0:0.2f})\".format(roc_auc[\"macro\"]),\n",
    "    color=\"navy\",\n",
    "    linestyle=\":\",\n",
    "    linewidth=4,\n",
    ")\n",
    "\n",
    "colors = cycle([\"aqua\", \"darkorange\", \"cornflowerblue\"])\n",
    "for i, color in zip(range(n_classes), colors):\n",
    "    plt.plot(\n",
    "        fpr[i],\n",
    "        tpr[i],\n",
    "        color=color,\n",
    "        lw=lw,\n",
    "        label=\"ROC curve of class {0} (area = {1:0.2f})\".format(i, roc_auc[i]),\n",
    "    )\n",
    "\n",
    "plt.plot([0, 1], [0, 1], \"k--\", lw=lw)\n",
    "plt.xlim([0.0, 1.0])\n",
    "plt.ylim([0.0, 1.05])\n",
    "plt.xlabel(\"False Positive Rate\")\n",
    "plt.ylabel(\"True Positive Rate\")\n",
    "plt.title(\"Some extension of Receiver operating characteristic to multiclass\")\n",
    "plt.legend(loc=\"lower right\")\n",
    "plt.show()"
   ]
  },
  {
   "cell_type": "code",
   "execution_count": 104,
   "id": "b5846b45",
   "metadata": {},
   "outputs": [
    {
     "name": "stdout",
     "output_type": "stream",
     "text": [
      "--------------------mean accuracy from classifier method--------------------\n",
      "Accuracy from classifier method: 0.34341637010676157\n",
      "\n",
      "\n",
      "--------------------accuracy classification score for all classes--------------------\n",
      "Accuracy from classifier method: 0.7769869513641756\n",
      "\n",
      "\n",
      "--------------------average precision score for all classes--------------------\n",
      "Accuracy from classifier method: 0.5502580071174377\n"
     ]
    }
   ],
   "source": [
    "#accuracy\n",
    "print(\"-\"*20 +\"mean accuracy from classifier method\"+ \"-\"*20)\n",
    "print(f\"Accuracy from classifier method: {classifier.score(X_test,y_test)}\")\n",
    "print(\"\\n\")\n",
    "\n",
    "#metric.accuracy\n",
    "print(\"-\"*20 +\"accuracy classification score for all classes\"+ \"-\"*20)\n",
    "print(f\"Accuracy from classifier method: {accuracy_score(y_test.ravel(), y_pred.ravel())}\")\n",
    "print(\"\\n\")\n",
    "\n",
    "#average precision\n",
    "print(\"-\"*20 +\"average precision score for all classes\"+ \"-\"*20)\n",
    "print(f\"Accuracy from classifier method: {average_precision_score(y_test.ravel(), y_pred.ravel())}\")"
   ]
  },
  {
   "cell_type": "code",
   "execution_count": 105,
   "id": "28b5ab63",
   "metadata": {
    "scrolled": true
   },
   "outputs": [
    {
     "data": {
      "text/html": [
       "<div>\n",
       "<style scoped>\n",
       "    .dataframe tbody tr th:only-of-type {\n",
       "        vertical-align: middle;\n",
       "    }\n",
       "\n",
       "    .dataframe tbody tr th {\n",
       "        vertical-align: top;\n",
       "    }\n",
       "\n",
       "    .dataframe thead th {\n",
       "        text-align: right;\n",
       "    }\n",
       "</style>\n",
       "<table border=\"1\" class=\"dataframe\">\n",
       "  <thead>\n",
       "    <tr style=\"text-align: right;\">\n",
       "      <th></th>\n",
       "      <th>precision</th>\n",
       "      <th>recall</th>\n",
       "      <th>f1-score</th>\n",
       "      <th>support</th>\n",
       "    </tr>\n",
       "  </thead>\n",
       "  <tbody>\n",
       "    <tr>\n",
       "      <th>0</th>\n",
       "      <td>0.751682</td>\n",
       "      <td>0.993772</td>\n",
       "      <td>0.855939</td>\n",
       "      <td>3372.000000</td>\n",
       "    </tr>\n",
       "    <tr>\n",
       "      <th>1</th>\n",
       "      <td>0.965000</td>\n",
       "      <td>0.343416</td>\n",
       "      <td>0.506562</td>\n",
       "      <td>1686.000000</td>\n",
       "    </tr>\n",
       "    <tr>\n",
       "      <th>accuracy</th>\n",
       "      <td>0.776987</td>\n",
       "      <td>0.776987</td>\n",
       "      <td>0.776987</td>\n",
       "      <td>0.776987</td>\n",
       "    </tr>\n",
       "    <tr>\n",
       "      <th>macro avg</th>\n",
       "      <td>0.858341</td>\n",
       "      <td>0.668594</td>\n",
       "      <td>0.681250</td>\n",
       "      <td>5058.000000</td>\n",
       "    </tr>\n",
       "    <tr>\n",
       "      <th>weighted avg</th>\n",
       "      <td>0.822788</td>\n",
       "      <td>0.776987</td>\n",
       "      <td>0.739480</td>\n",
       "      <td>5058.000000</td>\n",
       "    </tr>\n",
       "  </tbody>\n",
       "</table>\n",
       "</div>"
      ],
      "text/plain": [
       "              precision    recall  f1-score      support\n",
       "0              0.751682  0.993772  0.855939  3372.000000\n",
       "1              0.965000  0.343416  0.506562  1686.000000\n",
       "accuracy       0.776987  0.776987  0.776987     0.776987\n",
       "macro avg      0.858341  0.668594  0.681250  5058.000000\n",
       "weighted avg   0.822788  0.776987  0.739480  5058.000000"
      ]
     },
     "execution_count": 105,
     "metadata": {},
     "output_type": "execute_result"
    }
   ],
   "source": [
    "pd.DataFrame(classification_report(y_test.ravel(), y_pred.ravel(), output_dict=True)).T"
   ]
  },
  {
   "cell_type": "code",
   "execution_count": null,
   "id": "505e9505",
   "metadata": {},
   "outputs": [],
   "source": []
  },
  {
   "cell_type": "markdown",
   "id": "4fdfda76",
   "metadata": {},
   "source": [
    "## Neural Network - AUC"
   ]
  },
  {
   "cell_type": "code",
   "execution_count": 106,
   "id": "5c992aa1",
   "metadata": {},
   "outputs": [
    {
     "name": "stdout",
     "output_type": "stream",
     "text": [
      "Total Time in seconds: 2.415538787841797\n"
     ]
    }
   ],
   "source": [
    "start = time.time()\n",
    "# Binarize the output\n",
    "y = label_binarize(y_sampled, classes=[0, 2, 3])\n",
    "n_classes = y.shape[1]\n",
    "random_state = np.random.RandomState(0)\n",
    "\n",
    "# shuffle and split training and test sets\n",
    "X_train, X_test, y_train, y_test = train_test_split(X_sampled, y, test_size=0.5, random_state=0)\n",
    "\n",
    "# Learn to predict each class against the other\n",
    "classifier = OneVsRestClassifier(\n",
    "    #LinearDiscriminantAnalysis()\n",
    "    #GradientBoostingClassifier(random_state=0, ccp_alpha=0.05)\n",
    "    MLPClassifier(random_state=1, alpha = 0.001, max_iter=400)\n",
    "    #DecisionTreeClassifier(random_state=0, ccp_alpha=0.09)\n",
    "    #KNeighborsClassifier(n_neighbors=20)\n",
    "    #LogisticRegression(multi_class ='multinomial',fit_intercept = True , C =0.001,max_iter=10000, random_state=42)\n",
    "    #svm.SVC(kernel=\"linear\", probability=True, random_state=42)\n",
    ")\n",
    "\n",
    "y_score = classifier.fit(X_train, y_train).predict_proba(X_test)\n",
    "y_pred = classifier.fit(X_train, y_train).predict(X_test)\n",
    "\n",
    "print(f\"Total Time in seconds: {time.time()-start}\")"
   ]
  },
  {
   "cell_type": "code",
   "execution_count": 107,
   "id": "ac36dd1f",
   "metadata": {},
   "outputs": [],
   "source": [
    "# Compute ROC curve and ROC area for each class\n",
    "fpr = dict()\n",
    "tpr = dict()\n",
    "roc_auc = dict()\n",
    "for i in range(n_classes):\n",
    "    fpr[i], tpr[i], _ = roc_curve(y_test[:, i], y_score[:, i])\n",
    "    roc_auc[i] = auc(fpr[i], tpr[i])\n",
    "\n",
    "# Compute micro-average ROC curve and ROC area\n",
    "fpr[\"micro\"], tpr[\"micro\"], _ = roc_curve(y_test.ravel(), y_score.ravel())\n",
    "roc_auc[\"micro\"] = auc(fpr[\"micro\"], tpr[\"micro\"])"
   ]
  },
  {
   "cell_type": "code",
   "execution_count": 108,
   "id": "fb019e30",
   "metadata": {},
   "outputs": [
    {
     "data": {
      "text/plain": [
       "{0: 0.9924464886184683,\n",
       " 1: 0.9941568665252876,\n",
       " 2: 0.934466000664457,\n",
       " 'micro': 0.9801398088226396}"
      ]
     },
     "execution_count": 108,
     "metadata": {},
     "output_type": "execute_result"
    }
   ],
   "source": [
    "#display auc scores for each category and overall\n",
    "roc_auc"
   ]
  },
  {
   "cell_type": "code",
   "execution_count": 109,
   "id": "521023a7",
   "metadata": {},
   "outputs": [
    {
     "data": {
      "image/png": "[encoded data removed]",
      "text/plain": [
       "<Figure size 432x288 with 1 Axes>"
      ]
     },
     "metadata": {
      "needs_background": "light"
     },
     "output_type": "display_data"
    }
   ],
   "source": [
    "lw = 2\n",
    "# First aggregate all false positive rates\n",
    "all_fpr = np.unique(np.concatenate([fpr[i] for i in range(n_classes)]))\n",
    "\n",
    "# Then interpolate all ROC curves at this points\n",
    "mean_tpr = np.zeros_like(all_fpr)\n",
    "for i in range(n_classes):\n",
    "    mean_tpr += np.interp(all_fpr, fpr[i], tpr[i])\n",
    "\n",
    "# Finally average it and compute AUC\n",
    "mean_tpr /= n_classes\n",
    "\n",
    "fpr[\"macro\"] = all_fpr\n",
    "tpr[\"macro\"] = mean_tpr\n",
    "roc_auc[\"macro\"] = auc(fpr[\"macro\"], tpr[\"macro\"])\n",
    "\n",
    "# Plot all ROC curves\n",
    "plt.figure()\n",
    "plt.plot(\n",
    "    fpr[\"micro\"],\n",
    "    tpr[\"micro\"],\n",
    "    label=\"micro-average ROC curve (area = {0:0.2f})\".format(roc_auc[\"micro\"]),\n",
    "    color=\"deeppink\",\n",
    "    linestyle=\":\",\n",
    "    linewidth=4,\n",
    ")\n",
    "\n",
    "plt.plot(\n",
    "    fpr[\"macro\"],\n",
    "    tpr[\"macro\"],\n",
    "    label=\"macro-average ROC curve (area = {0:0.2f})\".format(roc_auc[\"macro\"]),\n",
    "    color=\"navy\",\n",
    "    linestyle=\":\",\n",
    "    linewidth=4,\n",
    ")\n",
    "\n",
    "colors = cycle([\"aqua\", \"darkorange\", \"cornflowerblue\"])\n",
    "for i, color in zip(range(n_classes), colors):\n",
    "    plt.plot(\n",
    "        fpr[i],\n",
    "        tpr[i],\n",
    "        color=color,\n",
    "        lw=lw,\n",
    "        label=\"ROC curve of class {0} (area = {1:0.2f})\".format(i, roc_auc[i]),\n",
    "    )\n",
    "\n",
    "plt.plot([0, 1], [0, 1], \"k--\", lw=lw)\n",
    "plt.xlim([0.0, 1.0])\n",
    "plt.ylim([0.0, 1.05])\n",
    "plt.xlabel(\"False Positive Rate\")\n",
    "plt.ylabel(\"True Positive Rate\")\n",
    "plt.title(\"Some extension of Receiver operating characteristic to multiclass\")\n",
    "plt.legend(loc=\"lower right\")\n",
    "plt.show()"
   ]
  },
  {
   "cell_type": "code",
   "execution_count": 110,
   "id": "7fc6be55",
   "metadata": {},
   "outputs": [
    {
     "name": "stdout",
     "output_type": "stream",
     "text": [
      "--------------------mean accuracy from classifier method--------------------\n",
      "Accuracy from classifier method: 0.8861209964412812\n",
      "\n",
      "\n",
      "--------------------accuracy classification score for all classes--------------------\n",
      "Accuracy from classifier method: 0.9462238038750495\n",
      "\n",
      "\n",
      "--------------------average precision score for all classes--------------------\n",
      "Accuracy from classifier method: 0.8767406295922523\n"
     ]
    }
   ],
   "source": [
    "#accuracy\n",
    "print(\"-\"*20 +\"mean accuracy from classifier method\"+ \"-\"*20)\n",
    "print(f\"Accuracy from classifier method: {classifier.score(X_test,y_test)}\")\n",
    "print(\"\\n\")\n",
    "\n",
    "#metric.accuracy\n",
    "print(\"-\"*20 +\"accuracy classification score for all classes\"+ \"-\"*20)\n",
    "print(f\"Accuracy from classifier method: {accuracy_score(y_test.ravel(), y_pred.ravel())}\")\n",
    "print(\"\\n\")\n",
    "\n",
    "#average precision\n",
    "print(\"-\"*20 +\"average precision score for all classes\"+ \"-\"*20)\n",
    "print(f\"Accuracy from classifier method: {average_precision_score(y_test.ravel(), y_pred.ravel())}\")"
   ]
  },
  {
   "cell_type": "code",
   "execution_count": 111,
   "id": "b5b52009",
   "metadata": {
    "scrolled": true
   },
   "outputs": [
    {
     "data": {
      "text/html": [
       "<div>\n",
       "<style scoped>\n",
       "    .dataframe tbody tr th:only-of-type {\n",
       "        vertical-align: middle;\n",
       "    }\n",
       "\n",
       "    .dataframe tbody tr th {\n",
       "        vertical-align: top;\n",
       "    }\n",
       "\n",
       "    .dataframe thead th {\n",
       "        text-align: right;\n",
       "    }\n",
       "</style>\n",
       "<table border=\"1\" class=\"dataframe\">\n",
       "  <thead>\n",
       "    <tr style=\"text-align: right;\">\n",
       "      <th></th>\n",
       "      <th>precision</th>\n",
       "      <th>recall</th>\n",
       "      <th>f1-score</th>\n",
       "      <th>support</th>\n",
       "    </tr>\n",
       "  </thead>\n",
       "  <tbody>\n",
       "    <tr>\n",
       "      <th>0</th>\n",
       "      <td>0.949275</td>\n",
       "      <td>0.971234</td>\n",
       "      <td>0.960129</td>\n",
       "      <td>3372.000000</td>\n",
       "    </tr>\n",
       "    <tr>\n",
       "      <th>1</th>\n",
       "      <td>0.939677</td>\n",
       "      <td>0.896204</td>\n",
       "      <td>0.917426</td>\n",
       "      <td>1686.000000</td>\n",
       "    </tr>\n",
       "    <tr>\n",
       "      <th>accuracy</th>\n",
       "      <td>0.946224</td>\n",
       "      <td>0.946224</td>\n",
       "      <td>0.946224</td>\n",
       "      <td>0.946224</td>\n",
       "    </tr>\n",
       "    <tr>\n",
       "      <th>macro avg</th>\n",
       "      <td>0.944476</td>\n",
       "      <td>0.933719</td>\n",
       "      <td>0.938777</td>\n",
       "      <td>5058.000000</td>\n",
       "    </tr>\n",
       "    <tr>\n",
       "      <th>weighted avg</th>\n",
       "      <td>0.946076</td>\n",
       "      <td>0.946224</td>\n",
       "      <td>0.945895</td>\n",
       "      <td>5058.000000</td>\n",
       "    </tr>\n",
       "  </tbody>\n",
       "</table>\n",
       "</div>"
      ],
      "text/plain": [
       "              precision    recall  f1-score      support\n",
       "0              0.949275  0.971234  0.960129  3372.000000\n",
       "1              0.939677  0.896204  0.917426  1686.000000\n",
       "accuracy       0.946224  0.946224  0.946224     0.946224\n",
       "macro avg      0.944476  0.933719  0.938777  5058.000000\n",
       "weighted avg   0.946076  0.946224  0.945895  5058.000000"
      ]
     },
     "execution_count": 111,
     "metadata": {},
     "output_type": "execute_result"
    }
   ],
   "source": [
    "pd.DataFrame(classification_report(y_test.ravel(), y_pred.ravel(), output_dict=True)).T"
   ]
  },
  {
   "cell_type": "code",
   "execution_count": null,
   "id": "0443d0fb",
   "metadata": {},
   "outputs": [],
   "source": []
  },
  {
   "cell_type": "code",
   "execution_count": null,
   "id": "af95bc10",
   "metadata": {},
   "outputs": [],
   "source": []
  },
  {
   "cell_type": "markdown",
   "id": "a6ad1b3c",
   "metadata": {},
   "source": [
    "## RandomForest - AUC"
   ]
  },
  {
   "cell_type": "code",
   "execution_count": 125,
   "id": "7c901b6b",
   "metadata": {},
   "outputs": [
    {
     "name": "stdout",
     "output_type": "stream",
     "text": [
      "Total Time in seconds: 1.5059447288513184\n"
     ]
    }
   ],
   "source": [
    "start = time.time()\n",
    "# Binarize the output\n",
    "y = label_binarize(y_sampled, classes=[0, 2, 3])\n",
    "n_classes = y.shape[1]\n",
    "random_state = np.random.RandomState(0)\n",
    "\n",
    "# shuffle and split training and test sets\n",
    "X_train, X_test, y_train, y_test = train_test_split(X_sampled, y, test_size=0.5, random_state=0)\n",
    "\n",
    "# Learn to predict each class against the other\n",
    "classifier = OneVsRestClassifier(\n",
    "    RandomForestClassifier(random_state=0, ccp_alpha=0.09)\n",
    "    #LinearDiscriminantAnalysis()\n",
    "    #GradientBoostingClassifier(random_state=0, ccp_alpha=0.05)\n",
    "    #MLPClassifier(random_state=1, max_iter=300)\n",
    "    #DecisionTreeClassifier(random_state=0, ccp_alpha=0.09)\n",
    "    #KNeighborsClassifier(n_neighbors=20)\n",
    "    #LogisticRegression(multi_class ='multinomial',fit_intercept = True , C =0.001,max_iter=10000, random_state=42)\n",
    "    #svm.SVC(kernel=\"linear\", probability=True, random_state=42)\n",
    ")\n",
    "\n",
    "y_score = classifier.fit(X_train, y_train).predict_proba(X_test)\n",
    "y_pred = classifier.fit(X_train, y_train).predict(X_test)\n",
    "y_pred_t = classifier.fit(X_train, y_train).predict(X_train)\n",
    "\n",
    "print(f\"Total Time in seconds: {time.time()-start}\")"
   ]
  },
  {
   "cell_type": "code",
   "execution_count": 126,
   "id": "16c2dfc0",
   "metadata": {},
   "outputs": [],
   "source": [
    "# Compute ROC curve and ROC area for each class\n",
    "fpr = dict()\n",
    "tpr = dict()\n",
    "roc_auc = dict()\n",
    "for i in range(n_classes):\n",
    "    fpr[i], tpr[i], _ = roc_curve(y_test[:, i], y_score[:, i])\n",
    "    roc_auc[i] = auc(fpr[i], tpr[i])\n",
    "\n",
    "# Compute micro-average ROC curve and ROC area\n",
    "fpr[\"micro\"], tpr[\"micro\"], _ = roc_curve(y_test.ravel(), y_score.ravel())\n",
    "roc_auc[\"micro\"] = auc(fpr[\"micro\"], tpr[\"micro\"])"
   ]
  },
  {
   "cell_type": "code",
   "execution_count": 127,
   "id": "dca4aa69",
   "metadata": {},
   "outputs": [
    {
     "data": {
      "text/plain": [
       "{0: 0.9938530597728659,\n",
       " 1: 0.9990633635370478,\n",
       " 2: 0.9873212340356489,\n",
       " 'micro': 0.9892756480344023}"
      ]
     },
     "execution_count": 127,
     "metadata": {},
     "output_type": "execute_result"
    }
   ],
   "source": [
    "#display auc scores for each category and overall\n",
    "roc_auc"
   ]
  },
  {
   "cell_type": "code",
   "execution_count": 128,
   "id": "eb5d75e6",
   "metadata": {},
   "outputs": [
    {
     "data": {
      "image/png": "[encoded data removed]",
      "text/plain": [
       "<Figure size 432x288 with 1 Axes>"
      ]
     },
     "metadata": {
      "needs_background": "light"
     },
     "output_type": "display_data"
    }
   ],
   "source": [
    "lw = 2\n",
    "# First aggregate all false positive rates\n",
    "all_fpr = np.unique(np.concatenate([fpr[i] for i in range(n_classes)]))\n",
    "\n",
    "# Then interpolate all ROC curves at this points\n",
    "mean_tpr = np.zeros_like(all_fpr)\n",
    "for i in range(n_classes):\n",
    "    mean_tpr += np.interp(all_fpr, fpr[i], tpr[i])\n",
    "\n",
    "# Finally average it and compute AUC\n",
    "mean_tpr /= n_classes\n",
    "\n",
    "fpr[\"macro\"] = all_fpr\n",
    "tpr[\"macro\"] = mean_tpr\n",
    "roc_auc[\"macro\"] = auc(fpr[\"macro\"], tpr[\"macro\"])\n",
    "\n",
    "# Plot all ROC curves\n",
    "plt.figure()\n",
    "plt.plot(\n",
    "    fpr[\"micro\"],\n",
    "    tpr[\"micro\"],\n",
    "    label=\"micro-average ROC curve (area = {0:0.2f})\".format(roc_auc[\"micro\"]),\n",
    "    color=\"deeppink\",\n",
    "    linestyle=\":\",\n",
    "    linewidth=4,\n",
    ")\n",
    "\n",
    "plt.plot(\n",
    "    fpr[\"macro\"],\n",
    "    tpr[\"macro\"],\n",
    "    label=\"macro-average ROC curve (area = {0:0.2f})\".format(roc_auc[\"macro\"]),\n",
    "    color=\"navy\",\n",
    "    linestyle=\":\",\n",
    "    linewidth=4,\n",
    ")\n",
    "\n",
    "colors = cycle([\"aqua\", \"darkorange\", \"cornflowerblue\"])\n",
    "for i, color in zip(range(n_classes), colors):\n",
    "    plt.plot(\n",
    "        fpr[i],\n",
    "        tpr[i],\n",
    "        color=color,\n",
    "        lw=lw,\n",
    "        label=\"ROC curve of class {0} (area = {1:0.2f})\".format(i, roc_auc[i]),\n",
    "    )\n",
    "\n",
    "plt.plot([0, 1], [0, 1], \"k--\", lw=lw)\n",
    "plt.xlim([0.0, 1.0])\n",
    "plt.ylim([0.0, 1.05])\n",
    "plt.xlabel(\"False Positive Rate\")\n",
    "plt.ylabel(\"True Positive Rate\")\n",
    "plt.title(\"Some extension of Receiver operating characteristic to multiclass\")\n",
    "plt.legend(loc=\"lower right\")\n",
    "plt.show()"
   ]
  },
  {
   "cell_type": "code",
   "execution_count": 129,
   "id": "da064511",
   "metadata": {},
   "outputs": [
    {
     "name": "stdout",
     "output_type": "stream",
     "text": [
      "--------------------mean accuracy from classifier method--------------------\n",
      "Accuracy from classifier method: 0.7402135231316725\n",
      "\n",
      "\n",
      "--------------------accuracy classification score for all classes--------------------\n",
      "Accuracy from classifier method: 0.9066824831949387\n",
      "\n",
      "\n",
      "--------------------average precision score for all classes--------------------\n",
      "Accuracy from classifier method: 0.8058673470942004\n"
     ]
    }
   ],
   "source": [
    "#accuracy\n",
    "print(\"-\"*20 +\"mean accuracy from classifier method\"+ \"-\"*20)\n",
    "print(f\"Accuracy from classifier method: {classifier.score(X_test,y_test)}\")\n",
    "print(\"\\n\")\n",
    "\n",
    "#metric.accuracy\n",
    "print(\"-\"*20 +\"accuracy classification score for all classes\"+ \"-\"*20)\n",
    "print(f\"Accuracy from classifier method: {accuracy_score(y_test.ravel(), y_pred.ravel())}\")\n",
    "print(\"\\n\")\n",
    "\n",
    "#average precision\n",
    "print(\"-\"*20 +\"average precision score for all classes\"+ \"-\"*20)\n",
    "print(f\"Accuracy from classifier method: {average_precision_score(y_test.ravel(), y_pred.ravel())}\")"
   ]
  },
  {
   "cell_type": "code",
   "execution_count": 130,
   "id": "7e0d3ee4",
   "metadata": {
    "scrolled": false
   },
   "outputs": [
    {
     "data": {
      "text/html": [
       "<div>\n",
       "<style scoped>\n",
       "    .dataframe tbody tr th:only-of-type {\n",
       "        vertical-align: middle;\n",
       "    }\n",
       "\n",
       "    .dataframe tbody tr th {\n",
       "        vertical-align: top;\n",
       "    }\n",
       "\n",
       "    .dataframe thead th {\n",
       "        text-align: right;\n",
       "    }\n",
       "</style>\n",
       "<table border=\"1\" class=\"dataframe\">\n",
       "  <thead>\n",
       "    <tr style=\"text-align: right;\">\n",
       "      <th></th>\n",
       "      <th>precision</th>\n",
       "      <th>recall</th>\n",
       "      <th>f1-score</th>\n",
       "      <th>support</th>\n",
       "    </tr>\n",
       "  </thead>\n",
       "  <tbody>\n",
       "    <tr>\n",
       "      <th>0</th>\n",
       "      <td>0.885638</td>\n",
       "      <td>0.987544</td>\n",
       "      <td>0.933819</td>\n",
       "      <td>3372.000000</td>\n",
       "    </tr>\n",
       "    <tr>\n",
       "      <th>1</th>\n",
       "      <td>0.967643</td>\n",
       "      <td>0.744958</td>\n",
       "      <td>0.841823</td>\n",
       "      <td>1686.000000</td>\n",
       "    </tr>\n",
       "    <tr>\n",
       "      <th>accuracy</th>\n",
       "      <td>0.906682</td>\n",
       "      <td>0.906682</td>\n",
       "      <td>0.906682</td>\n",
       "      <td>0.906682</td>\n",
       "    </tr>\n",
       "    <tr>\n",
       "      <th>macro avg</th>\n",
       "      <td>0.926640</td>\n",
       "      <td>0.866251</td>\n",
       "      <td>0.887821</td>\n",
       "      <td>5058.000000</td>\n",
       "    </tr>\n",
       "    <tr>\n",
       "      <th>weighted avg</th>\n",
       "      <td>0.912973</td>\n",
       "      <td>0.906682</td>\n",
       "      <td>0.903154</td>\n",
       "      <td>5058.000000</td>\n",
       "    </tr>\n",
       "  </tbody>\n",
       "</table>\n",
       "</div>"
      ],
      "text/plain": [
       "              precision    recall  f1-score      support\n",
       "0              0.885638  0.987544  0.933819  3372.000000\n",
       "1              0.967643  0.744958  0.841823  1686.000000\n",
       "accuracy       0.906682  0.906682  0.906682     0.906682\n",
       "macro avg      0.926640  0.866251  0.887821  5058.000000\n",
       "weighted avg   0.912973  0.906682  0.903154  5058.000000"
      ]
     },
     "execution_count": 130,
     "metadata": {},
     "output_type": "execute_result"
    }
   ],
   "source": [
    "pd.DataFrame(classification_report(y_test.ravel(), y_pred.ravel(), output_dict=True)).T"
   ]
  },
  {
   "cell_type": "markdown",
   "id": "25a55dda",
   "metadata": {},
   "source": [
    "# Cross-Validate Final Models\n",
    "\n",
    "To ensure that model metrics are not due to a random selection of the data (that they are non-trivial), K-fold validation is used to train and test the model k times to ensure metric scores remain the same. The four final models were:\n",
    "\n",
    "+ Logistic Regression\n",
    "+ Support Vector Machines\n",
    "+ Random Forests\n",
    "+ Neural Network"
   ]
  },
  {
   "cell_type": "code",
   "execution_count": 91,
   "id": "88ef8e83",
   "metadata": {},
   "outputs": [],
   "source": [
    "#import cross validate libraries\n",
    "from sklearn.model_selection import cross_validate\n",
    "import sklearn.metrics"
   ]
  },
  {
   "cell_type": "code",
   "execution_count": 92,
   "id": "370e38ee",
   "metadata": {},
   "outputs": [
    {
     "data": {
      "text/plain": [
       "dict_keys(['explained_variance', 'r2', 'max_error', 'neg_median_absolute_error', 'neg_mean_absolute_error', 'neg_mean_absolute_percentage_error', 'neg_mean_squared_error', 'neg_mean_squared_log_error', 'neg_root_mean_squared_error', 'neg_mean_poisson_deviance', 'neg_mean_gamma_deviance', 'accuracy', 'top_k_accuracy', 'roc_auc', 'roc_auc_ovr', 'roc_auc_ovo', 'roc_auc_ovr_weighted', 'roc_auc_ovo_weighted', 'balanced_accuracy', 'average_precision', 'neg_log_loss', 'neg_brier_score', 'adjusted_rand_score', 'rand_score', 'homogeneity_score', 'completeness_score', 'v_measure_score', 'mutual_info_score', 'adjusted_mutual_info_score', 'normalized_mutual_info_score', 'fowlkes_mallows_score', 'precision', 'precision_macro', 'precision_micro', 'precision_samples', 'precision_weighted', 'recall', 'recall_macro', 'recall_micro', 'recall_samples', 'recall_weighted', 'f1', 'f1_macro', 'f1_micro', 'f1_samples', 'f1_weighted', 'jaccard', 'jaccard_macro', 'jaccard_micro', 'jaccard_samples', 'jaccard_weighted'])"
      ]
     },
     "execution_count": 92,
     "metadata": {},
     "output_type": "execute_result"
    }
   ],
   "source": [
    "sklearn.metrics.SCORERS.keys()"
   ]
  },
  {
   "cell_type": "markdown",
   "id": "d88c896d",
   "metadata": {},
   "source": [
    "## SVM"
   ]
  },
  {
   "cell_type": "code",
   "execution_count": 117,
   "id": "62ec73b8",
   "metadata": {},
   "outputs": [
    {
     "name": "stdout",
     "output_type": "stream",
     "text": [
      "Total Time in seconds: 0.22539663314819336\n"
     ]
    }
   ],
   "source": [
    "start = time.time()\n",
    "# Binarize the output\n",
    "y = label_binarize(y_sampled, classes=[0, 2, 3])\n",
    "n_classes = y.shape[1]\n",
    "random_state = np.random.RandomState()\n",
    "\n",
    "# shuffle and split training and test sets\n",
    "X_train, X_test, y_train, y_test = train_test_split(X_sampled, y, test_size=0.5, random_state=0)\n",
    "\n",
    "scoring =  ['accuracy','precision_macro','recall_macro','average_precision','f1_macro'] \n",
    "                     \n",
    "\n",
    "# Learn to predict each class against the other\n",
    "score = cross_validate(OneVsRestClassifier(\n",
    "    #LinearDiscriminantAnalysis()\n",
    "    #GradientBoostingClassifier(random_state=0, ccp_alpha=0.05)\n",
    "    #MLPClassifier(random_state=1, max_iter=300)\n",
    "    #DecisionTreeClassifier(random_state=0, ccp_alpha=0.05)\n",
    "    #KNeighborsClassifier(n_neighbors=20)\n",
    "    #LogisticRegression(multi_class ='auto',fit_intercept = True , C =0.001,\n",
    "                             #max_iter=10000, random_state=42)\n",
    "    svm.LinearSVC(C=.001, random_state=42, max_iter=10000, dual=False)\n",
    "    #svm.SVC(kernel=\"linear\", probability=True, C=0.01, random_state=42)\n",
    "), X_train,y_train, cv=10, scoring=scoring)\n",
    "\n",
    "\n",
    "print(f\"Total Time in seconds: {time.time()-start}\")"
   ]
  },
  {
   "cell_type": "code",
   "execution_count": 116,
   "id": "4cde4f89",
   "metadata": {},
   "outputs": [
    {
     "data": {
      "text/html": [
       "<div>\n",
       "<style scoped>\n",
       "    .dataframe tbody tr th:only-of-type {\n",
       "        vertical-align: middle;\n",
       "    }\n",
       "\n",
       "    .dataframe tbody tr th {\n",
       "        vertical-align: top;\n",
       "    }\n",
       "\n",
       "    .dataframe thead th {\n",
       "        text-align: right;\n",
       "    }\n",
       "</style>\n",
       "<table border=\"1\" class=\"dataframe\">\n",
       "  <thead>\n",
       "    <tr style=\"text-align: right;\">\n",
       "      <th></th>\n",
       "      <th>fit_time</th>\n",
       "      <th>score_time</th>\n",
       "      <th>test_accuracy</th>\n",
       "      <th>test_precision_macro</th>\n",
       "      <th>test_recall_macro</th>\n",
       "      <th>test_average_precision</th>\n",
       "      <th>test_f1_macro</th>\n",
       "    </tr>\n",
       "  </thead>\n",
       "  <tbody>\n",
       "    <tr>\n",
       "      <th>0</th>\n",
       "      <td>0.013990</td>\n",
       "      <td>0.011940</td>\n",
       "      <td>0.899408</td>\n",
       "      <td>0.927173</td>\n",
       "      <td>0.923077</td>\n",
       "      <td>0.874287</td>\n",
       "      <td>0.917665</td>\n",
       "    </tr>\n",
       "    <tr>\n",
       "      <th>1</th>\n",
       "      <td>0.014960</td>\n",
       "      <td>0.010970</td>\n",
       "      <td>0.834320</td>\n",
       "      <td>0.893868</td>\n",
       "      <td>0.882716</td>\n",
       "      <td>0.836156</td>\n",
       "      <td>0.870875</td>\n",
       "    </tr>\n",
       "    <tr>\n",
       "      <th>2</th>\n",
       "      <td>0.014960</td>\n",
       "      <td>0.010971</td>\n",
       "      <td>0.857988</td>\n",
       "      <td>0.913820</td>\n",
       "      <td>0.892857</td>\n",
       "      <td>0.878543</td>\n",
       "      <td>0.889888</td>\n",
       "    </tr>\n",
       "    <tr>\n",
       "      <th>3</th>\n",
       "      <td>0.012993</td>\n",
       "      <td>0.010971</td>\n",
       "      <td>0.869822</td>\n",
       "      <td>0.923453</td>\n",
       "      <td>0.901235</td>\n",
       "      <td>0.898338</td>\n",
       "      <td>0.901156</td>\n",
       "    </tr>\n",
       "    <tr>\n",
       "      <th>4</th>\n",
       "      <td>0.012992</td>\n",
       "      <td>0.010971</td>\n",
       "      <td>0.911243</td>\n",
       "      <td>0.948095</td>\n",
       "      <td>0.925170</td>\n",
       "      <td>0.933678</td>\n",
       "      <td>0.930517</td>\n",
       "    </tr>\n",
       "    <tr>\n",
       "      <th>5</th>\n",
       "      <td>0.012965</td>\n",
       "      <td>0.010942</td>\n",
       "      <td>0.857988</td>\n",
       "      <td>0.914620</td>\n",
       "      <td>0.901235</td>\n",
       "      <td>0.863844</td>\n",
       "      <td>0.896413</td>\n",
       "    </tr>\n",
       "    <tr>\n",
       "      <th>6</th>\n",
       "      <td>0.011997</td>\n",
       "      <td>0.010965</td>\n",
       "      <td>0.916667</td>\n",
       "      <td>0.936081</td>\n",
       "      <td>0.935673</td>\n",
       "      <td>0.883453</td>\n",
       "      <td>0.930542</td>\n",
       "    </tr>\n",
       "    <tr>\n",
       "      <th>7</th>\n",
       "      <td>0.011965</td>\n",
       "      <td>0.010977</td>\n",
       "      <td>0.845238</td>\n",
       "      <td>0.915344</td>\n",
       "      <td>0.879310</td>\n",
       "      <td>0.842274</td>\n",
       "      <td>0.881118</td>\n",
       "    </tr>\n",
       "    <tr>\n",
       "      <th>8</th>\n",
       "      <td>0.011966</td>\n",
       "      <td>0.010970</td>\n",
       "      <td>0.863095</td>\n",
       "      <td>0.916900</td>\n",
       "      <td>0.899371</td>\n",
       "      <td>0.875866</td>\n",
       "      <td>0.895552</td>\n",
       "    </tr>\n",
       "    <tr>\n",
       "      <th>9</th>\n",
       "      <td>0.012938</td>\n",
       "      <td>0.010998</td>\n",
       "      <td>0.886905</td>\n",
       "      <td>0.922409</td>\n",
       "      <td>0.905797</td>\n",
       "      <td>0.852727</td>\n",
       "      <td>0.903767</td>\n",
       "    </tr>\n",
       "  </tbody>\n",
       "</table>\n",
       "</div>"
      ],
      "text/plain": [
       "   fit_time  score_time  test_accuracy  test_precision_macro  \\\n",
       "0  0.013990    0.011940       0.899408              0.927173   \n",
       "1  0.014960    0.010970       0.834320              0.893868   \n",
       "2  0.014960    0.010971       0.857988              0.913820   \n",
       "3  0.012993    0.010971       0.869822              0.923453   \n",
       "4  0.012992    0.010971       0.911243              0.948095   \n",
       "5  0.012965    0.010942       0.857988              0.914620   \n",
       "6  0.011997    0.010965       0.916667              0.936081   \n",
       "7  0.011965    0.010977       0.845238              0.915344   \n",
       "8  0.011966    0.010970       0.863095              0.916900   \n",
       "9  0.012938    0.010998       0.886905              0.922409   \n",
       "\n",
       "   test_recall_macro  test_average_precision  test_f1_macro  \n",
       "0           0.923077                0.874287       0.917665  \n",
       "1           0.882716                0.836156       0.870875  \n",
       "2           0.892857                0.878543       0.889888  \n",
       "3           0.901235                0.898338       0.901156  \n",
       "4           0.925170                0.933678       0.930517  \n",
       "5           0.901235                0.863844       0.896413  \n",
       "6           0.935673                0.883453       0.930542  \n",
       "7           0.879310                0.842274       0.881118  \n",
       "8           0.899371                0.875866       0.895552  \n",
       "9           0.905797                0.852727       0.903767  "
      ]
     },
     "execution_count": 116,
     "metadata": {},
     "output_type": "execute_result"
    }
   ],
   "source": [
    "pd.DataFrame(score)"
   ]
  },
  {
   "cell_type": "markdown",
   "id": "e017771d",
   "metadata": {},
   "source": [
    "## Logistic Regression"
   ]
  },
  {
   "cell_type": "code",
   "execution_count": 184,
   "id": "3814583f",
   "metadata": {},
   "outputs": [
    {
     "name": "stdout",
     "output_type": "stream",
     "text": [
      "Total Time in seconds: 0.6611638069152832\n"
     ]
    }
   ],
   "source": [
    "start = time.time()\n",
    "# Binarize the output\n",
    "y = label_binarize(y_sampled, classes=[0, 2, 3])\n",
    "n_classes = y.shape[1]\n",
    "random_state = np.random.RandomState()\n",
    "\n",
    "# shuffle and split training and test sets\n",
    "X_train, X_test, y_train, y_test = train_test_split(X_sampled, y, test_size=0.5, random_state=0)\n",
    "\n",
    "scoring =  ['accuracy','precision_macro','recall_macro','average_precision','f1_macro'] \n",
    "                     \n",
    "\n",
    "\n",
    "# Learn to predict each class against the other\n",
    "score = cross_validate(OneVsRestClassifier(\n",
    "    #LinearDiscriminantAnalysis()\n",
    "    #GradientBoostingClassifier(random_state=0, ccp_alpha=0.05)\n",
    "    #MLPClassifier(random_state=1, max_iter=300)\n",
    "    #DecisionTreeClassifier(random_state=0, ccp_alpha=0.05)\n",
    "    #KNeighborsClassifier(n_neighbors=20)\n",
    "    LogisticRegression(multi_class ='auto',fit_intercept = True , C =0.001,\n",
    "                             max_iter=10000, random_state=42)\n",
    "    #svm.SVC(kernel=\"linear\", probability=True, C=0.01, random_state=42)\n",
    "), X_train,y_train, cv=10, scoring=scoring)\n",
    "\n",
    "\n",
    "print(f\"Total Time in seconds: {time.time()-start}\")"
   ]
  },
  {
   "cell_type": "code",
   "execution_count": 187,
   "id": "0aacf38e",
   "metadata": {
    "scrolled": false
   },
   "outputs": [
    {
     "data": {
      "text/html": [
       "<div>\n",
       "<style scoped>\n",
       "    .dataframe tbody tr th:only-of-type {\n",
       "        vertical-align: middle;\n",
       "    }\n",
       "\n",
       "    .dataframe tbody tr th {\n",
       "        vertical-align: top;\n",
       "    }\n",
       "\n",
       "    .dataframe thead th {\n",
       "        text-align: right;\n",
       "    }\n",
       "</style>\n",
       "<table border=\"1\" class=\"dataframe\">\n",
       "  <thead>\n",
       "    <tr style=\"text-align: right;\">\n",
       "      <th></th>\n",
       "      <th>fit_time</th>\n",
       "      <th>score_time</th>\n",
       "      <th>test_accuracy</th>\n",
       "      <th>test_precision_macro</th>\n",
       "      <th>test_recall_macro</th>\n",
       "      <th>test_average_precision</th>\n",
       "      <th>test_f1_macro</th>\n",
       "    </tr>\n",
       "  </thead>\n",
       "  <tbody>\n",
       "    <tr>\n",
       "      <th>0</th>\n",
       "      <td>0.045853</td>\n",
       "      <td>0.011968</td>\n",
       "      <td>0.467456</td>\n",
       "      <td>0.841406</td>\n",
       "      <td>0.468753</td>\n",
       "      <td>0.769350</td>\n",
       "      <td>0.561743</td>\n",
       "    </tr>\n",
       "    <tr>\n",
       "      <th>1</th>\n",
       "      <td>0.054852</td>\n",
       "      <td>0.010971</td>\n",
       "      <td>0.372781</td>\n",
       "      <td>0.767677</td>\n",
       "      <td>0.378918</td>\n",
       "      <td>0.642286</td>\n",
       "      <td>0.442678</td>\n",
       "    </tr>\n",
       "    <tr>\n",
       "      <th>2</th>\n",
       "      <td>0.060837</td>\n",
       "      <td>0.010971</td>\n",
       "      <td>0.414201</td>\n",
       "      <td>0.797101</td>\n",
       "      <td>0.419486</td>\n",
       "      <td>0.692192</td>\n",
       "      <td>0.490471</td>\n",
       "    </tr>\n",
       "    <tr>\n",
       "      <th>3</th>\n",
       "      <td>0.049889</td>\n",
       "      <td>0.010948</td>\n",
       "      <td>0.420118</td>\n",
       "      <td>0.791035</td>\n",
       "      <td>0.421917</td>\n",
       "      <td>0.695509</td>\n",
       "      <td>0.512051</td>\n",
       "    </tr>\n",
       "    <tr>\n",
       "      <th>4</th>\n",
       "      <td>0.054853</td>\n",
       "      <td>0.010971</td>\n",
       "      <td>0.467456</td>\n",
       "      <td>0.891204</td>\n",
       "      <td>0.456355</td>\n",
       "      <td>0.765587</td>\n",
       "      <td>0.570694</td>\n",
       "    </tr>\n",
       "    <tr>\n",
       "      <th>5</th>\n",
       "      <td>0.058777</td>\n",
       "      <td>0.011968</td>\n",
       "      <td>0.420118</td>\n",
       "      <td>0.834261</td>\n",
       "      <td>0.416600</td>\n",
       "      <td>0.712906</td>\n",
       "      <td>0.519160</td>\n",
       "    </tr>\n",
       "    <tr>\n",
       "      <th>6</th>\n",
       "      <td>0.055850</td>\n",
       "      <td>0.010971</td>\n",
       "      <td>0.351190</td>\n",
       "      <td>0.775253</td>\n",
       "      <td>0.376963</td>\n",
       "      <td>0.696057</td>\n",
       "      <td>0.447008</td>\n",
       "    </tr>\n",
       "    <tr>\n",
       "      <th>7</th>\n",
       "      <td>0.053878</td>\n",
       "      <td>0.012943</td>\n",
       "      <td>0.422619</td>\n",
       "      <td>0.810280</td>\n",
       "      <td>0.440543</td>\n",
       "      <td>0.708556</td>\n",
       "      <td>0.500962</td>\n",
       "    </tr>\n",
       "    <tr>\n",
       "      <th>8</th>\n",
       "      <td>0.052859</td>\n",
       "      <td>0.011968</td>\n",
       "      <td>0.434524</td>\n",
       "      <td>0.783831</td>\n",
       "      <td>0.442982</td>\n",
       "      <td>0.654279</td>\n",
       "      <td>0.506699</td>\n",
       "    </tr>\n",
       "    <tr>\n",
       "      <th>9</th>\n",
       "      <td>0.053855</td>\n",
       "      <td>0.010996</td>\n",
       "      <td>0.488095</td>\n",
       "      <td>0.850602</td>\n",
       "      <td>0.460801</td>\n",
       "      <td>0.744324</td>\n",
       "      <td>0.531007</td>\n",
       "    </tr>\n",
       "  </tbody>\n",
       "</table>\n",
       "</div>"
      ],
      "text/plain": [
       "   fit_time  score_time  test_accuracy  test_precision_macro  \\\n",
       "0  0.045853    0.011968       0.467456              0.841406   \n",
       "1  0.054852    0.010971       0.372781              0.767677   \n",
       "2  0.060837    0.010971       0.414201              0.797101   \n",
       "3  0.049889    0.010948       0.420118              0.791035   \n",
       "4  0.054853    0.010971       0.467456              0.891204   \n",
       "5  0.058777    0.011968       0.420118              0.834261   \n",
       "6  0.055850    0.010971       0.351190              0.775253   \n",
       "7  0.053878    0.012943       0.422619              0.810280   \n",
       "8  0.052859    0.011968       0.434524              0.783831   \n",
       "9  0.053855    0.010996       0.488095              0.850602   \n",
       "\n",
       "   test_recall_macro  test_average_precision  test_f1_macro  \n",
       "0           0.468753                0.769350       0.561743  \n",
       "1           0.378918                0.642286       0.442678  \n",
       "2           0.419486                0.692192       0.490471  \n",
       "3           0.421917                0.695509       0.512051  \n",
       "4           0.456355                0.765587       0.570694  \n",
       "5           0.416600                0.712906       0.519160  \n",
       "6           0.376963                0.696057       0.447008  \n",
       "7           0.440543                0.708556       0.500962  \n",
       "8           0.442982                0.654279       0.506699  \n",
       "9           0.460801                0.744324       0.531007  "
      ]
     },
     "execution_count": 187,
     "metadata": {},
     "output_type": "execute_result"
    }
   ],
   "source": [
    "LR_scores = pd.DataFrame(score)\n",
    "LR_scores"
   ]
  },
  {
   "cell_type": "markdown",
   "id": "d637fa22",
   "metadata": {},
   "source": [
    "## Random Forest - Cross-validation"
   ]
  },
  {
   "cell_type": "code",
   "execution_count": 188,
   "id": "b058fdfb",
   "metadata": {},
   "outputs": [
    {
     "name": "stdout",
     "output_type": "stream",
     "text": [
      "Total Time in seconds: 2.301814079284668\n"
     ]
    }
   ],
   "source": [
    "start = time.time()\n",
    "# Binarize the output\n",
    "y = label_binarize(y_sampled, classes=[0, 2, 3])\n",
    "n_classes = y.shape[1]\n",
    "random_state = np.random.RandomState()\n",
    "\n",
    "# shuffle and split training and test sets\n",
    "X_train, X_test, y_train, y_test = train_test_split(X_sampled, y, test_size=0.5, random_state=0)\n",
    "\n",
    "scoring =  ['accuracy','precision_macro','recall_macro','average_precision','f1_macro'] \n",
    "                     \n",
    "\n",
    "\n",
    "# Learn to predict each class against the other\n",
    "score = cross_validate(OneVsRestClassifier(\n",
    "    #LinearDiscriminantAnalysis()\n",
    "    #GradientBoostingClassifier(random_state=0, ccp_alpha=0.05)\n",
    "    #MLPClassifier(random_state=1, max_iter=300)\n",
    "    #DecisionTreeClassifier(random_state=0, ccp_alpha=0.05)\n",
    "    #KNeighborsClassifier(n_neighbors=20)\n",
    "    RandomForestClassifier(random_state=0, ccp_alpha=0.09)\n",
    "    #LogisticRegression(multi_class ='auto',fit_intercept = True , C =0.001,\n",
    "                             #max_iter=10000, random_state=42)\n",
    "    #svm.SVC(kernel=\"linear\", probability=True, C=0.01, random_state=42)\n",
    "), X_train,y_train, cv=5, scoring=scoring)\n",
    "\n",
    "\n",
    "print(f\"Total Time in seconds: {time.time()-start}\")"
   ]
  },
  {
   "cell_type": "code",
   "execution_count": 189,
   "id": "0b00edf8",
   "metadata": {
    "scrolled": false
   },
   "outputs": [
    {
     "data": {
      "text/html": [
       "<div>\n",
       "<style scoped>\n",
       "    .dataframe tbody tr th:only-of-type {\n",
       "        vertical-align: middle;\n",
       "    }\n",
       "\n",
       "    .dataframe tbody tr th {\n",
       "        vertical-align: top;\n",
       "    }\n",
       "\n",
       "    .dataframe thead th {\n",
       "        text-align: right;\n",
       "    }\n",
       "</style>\n",
       "<table border=\"1\" class=\"dataframe\">\n",
       "  <thead>\n",
       "    <tr style=\"text-align: right;\">\n",
       "      <th></th>\n",
       "      <th>fit_time</th>\n",
       "      <th>score_time</th>\n",
       "      <th>test_accuracy</th>\n",
       "      <th>test_precision_macro</th>\n",
       "      <th>test_recall_macro</th>\n",
       "      <th>test_average_precision</th>\n",
       "      <th>test_f1_macro</th>\n",
       "    </tr>\n",
       "  </thead>\n",
       "  <tbody>\n",
       "    <tr>\n",
       "      <th>0</th>\n",
       "      <td>0.401895</td>\n",
       "      <td>0.058843</td>\n",
       "      <td>0.763314</td>\n",
       "      <td>0.983871</td>\n",
       "      <td>0.758344</td>\n",
       "      <td>0.989680</td>\n",
       "      <td>0.843583</td>\n",
       "    </tr>\n",
       "    <tr>\n",
       "      <th>1</th>\n",
       "      <td>0.398932</td>\n",
       "      <td>0.060838</td>\n",
       "      <td>0.738872</td>\n",
       "      <td>0.975243</td>\n",
       "      <td>0.740370</td>\n",
       "      <td>0.991362</td>\n",
       "      <td>0.823184</td>\n",
       "    </tr>\n",
       "    <tr>\n",
       "      <th>2</th>\n",
       "      <td>0.401925</td>\n",
       "      <td>0.059840</td>\n",
       "      <td>0.780415</td>\n",
       "      <td>0.992537</td>\n",
       "      <td>0.759741</td>\n",
       "      <td>0.994336</td>\n",
       "      <td>0.845313</td>\n",
       "    </tr>\n",
       "    <tr>\n",
       "      <th>3</th>\n",
       "      <td>0.397935</td>\n",
       "      <td>0.060837</td>\n",
       "      <td>0.774481</td>\n",
       "      <td>0.971025</td>\n",
       "      <td>0.786519</td>\n",
       "      <td>0.991551</td>\n",
       "      <td>0.858482</td>\n",
       "    </tr>\n",
       "    <tr>\n",
       "      <th>4</th>\n",
       "      <td>0.395941</td>\n",
       "      <td>0.059840</td>\n",
       "      <td>0.780415</td>\n",
       "      <td>0.971375</td>\n",
       "      <td>0.773497</td>\n",
       "      <td>0.992751</td>\n",
       "      <td>0.846150</td>\n",
       "    </tr>\n",
       "  </tbody>\n",
       "</table>\n",
       "</div>"
      ],
      "text/plain": [
       "   fit_time  score_time  test_accuracy  test_precision_macro  \\\n",
       "0  0.401895    0.058843       0.763314              0.983871   \n",
       "1  0.398932    0.060838       0.738872              0.975243   \n",
       "2  0.401925    0.059840       0.780415              0.992537   \n",
       "3  0.397935    0.060837       0.774481              0.971025   \n",
       "4  0.395941    0.059840       0.780415              0.971375   \n",
       "\n",
       "   test_recall_macro  test_average_precision  test_f1_macro  \n",
       "0           0.758344                0.989680       0.843583  \n",
       "1           0.740370                0.991362       0.823184  \n",
       "2           0.759741                0.994336       0.845313  \n",
       "3           0.786519                0.991551       0.858482  \n",
       "4           0.773497                0.992751       0.846150  "
      ]
     },
     "execution_count": 189,
     "metadata": {},
     "output_type": "execute_result"
    }
   ],
   "source": [
    "RF_Scores = pd.DataFrame(score)\n",
    "RF_Scores"
   ]
  },
  {
   "cell_type": "code",
   "execution_count": null,
   "id": "07987cbc",
   "metadata": {},
   "outputs": [],
   "source": []
  },
  {
   "cell_type": "markdown",
   "id": "84be5391",
   "metadata": {},
   "source": [
    "## Neural Network - Cross-validation"
   ]
  },
  {
   "cell_type": "code",
   "execution_count": 190,
   "id": "2df32ae9",
   "metadata": {},
   "outputs": [
    {
     "name": "stdout",
     "output_type": "stream",
     "text": [
      "Total Time in seconds: 5.588032007217407\n"
     ]
    }
   ],
   "source": [
    "start = time.time()\n",
    "# Binarize the output\n",
    "y = label_binarize(y_sampled, classes=[0, 2, 3])\n",
    "n_classes = y.shape[1]\n",
    "random_state = np.random.RandomState()\n",
    "\n",
    "# shuffle and split training and test sets\n",
    "X_train, X_test, y_train, y_test = train_test_split(X_sampled, y, test_size=0.5, random_state=0)\n",
    "\n",
    "scoring =  ['accuracy','precision_macro','recall_macro','average_precision'] \n",
    "                     \n",
    "\n",
    "\n",
    "# Learn to predict each class against the other\n",
    "score = cross_validate(OneVsRestClassifier(\n",
    "    #LinearDiscriminantAnalysis()\n",
    "    #GradientBoostingClassifier(random_state=0, ccp_alpha=0.05)\n",
    "    MLPClassifier(random_state=1, alpha = 0.001, max_iter=400)\n",
    "    #DecisionTreeClassifier(random_state=0, ccp_alpha=0.05)\n",
    "    #KNeighborsClassifier(n_neighbors=20)\n",
    "    #RandomForestClassifier(random_state=0, ccp_alpha=0.09)\n",
    "    #LogisticRegression(multi_class ='auto',fit_intercept = True , C =0.001,\n",
    "                             #max_iter=10000, random_state=42)\n",
    "    #svm.SVC(kernel=\"linear\", probability=True, C=0.01, random_state=42)\n",
    "), X_train,y_train, cv=5, scoring=scoring)\n",
    "\n",
    "\n",
    "print(f\"Total Time in seconds: {time.time()-start}\")"
   ]
  },
  {
   "cell_type": "code",
   "execution_count": 191,
   "id": "88f00d5a",
   "metadata": {},
   "outputs": [
    {
     "data": {
      "text/html": [
       "<div>\n",
       "<style scoped>\n",
       "    .dataframe tbody tr th:only-of-type {\n",
       "        vertical-align: middle;\n",
       "    }\n",
       "\n",
       "    .dataframe tbody tr th {\n",
       "        vertical-align: top;\n",
       "    }\n",
       "\n",
       "    .dataframe thead th {\n",
       "        text-align: right;\n",
       "    }\n",
       "</style>\n",
       "<table border=\"1\" class=\"dataframe\">\n",
       "  <thead>\n",
       "    <tr style=\"text-align: right;\">\n",
       "      <th></th>\n",
       "      <th>fit_time</th>\n",
       "      <th>score_time</th>\n",
       "      <th>test_accuracy</th>\n",
       "      <th>test_precision_macro</th>\n",
       "      <th>test_recall_macro</th>\n",
       "      <th>test_average_precision</th>\n",
       "    </tr>\n",
       "  </thead>\n",
       "  <tbody>\n",
       "    <tr>\n",
       "      <th>0</th>\n",
       "      <td>1.031225</td>\n",
       "      <td>0.012966</td>\n",
       "      <td>0.872781</td>\n",
       "      <td>0.907155</td>\n",
       "      <td>0.937107</td>\n",
       "      <td>0.946368</td>\n",
       "    </tr>\n",
       "    <tr>\n",
       "      <th>1</th>\n",
       "      <td>1.044206</td>\n",
       "      <td>0.013963</td>\n",
       "      <td>0.881306</td>\n",
       "      <td>0.966503</td>\n",
       "      <td>0.881818</td>\n",
       "      <td>0.950599</td>\n",
       "    </tr>\n",
       "    <tr>\n",
       "      <th>2</th>\n",
       "      <td>1.018281</td>\n",
       "      <td>0.011967</td>\n",
       "      <td>0.863501</td>\n",
       "      <td>0.974412</td>\n",
       "      <td>0.857215</td>\n",
       "      <td>0.955223</td>\n",
       "    </tr>\n",
       "    <tr>\n",
       "      <th>3</th>\n",
       "      <td>1.292543</td>\n",
       "      <td>0.014958</td>\n",
       "      <td>0.925816</td>\n",
       "      <td>0.944337</td>\n",
       "      <td>0.968116</td>\n",
       "      <td>0.959661</td>\n",
       "    </tr>\n",
       "    <tr>\n",
       "      <th>4</th>\n",
       "      <td>1.128982</td>\n",
       "      <td>0.010970</td>\n",
       "      <td>0.741840</td>\n",
       "      <td>0.821894</td>\n",
       "      <td>0.970000</td>\n",
       "      <td>0.952675</td>\n",
       "    </tr>\n",
       "  </tbody>\n",
       "</table>\n",
       "</div>"
      ],
      "text/plain": [
       "   fit_time  score_time  test_accuracy  test_precision_macro  \\\n",
       "0  1.031225    0.012966       0.872781              0.907155   \n",
       "1  1.044206    0.013963       0.881306              0.966503   \n",
       "2  1.018281    0.011967       0.863501              0.974412   \n",
       "3  1.292543    0.014958       0.925816              0.944337   \n",
       "4  1.128982    0.010970       0.741840              0.821894   \n",
       "\n",
       "   test_recall_macro  test_average_precision  \n",
       "0           0.937107                0.946368  \n",
       "1           0.881818                0.950599  \n",
       "2           0.857215                0.955223  \n",
       "3           0.968116                0.959661  \n",
       "4           0.970000                0.952675  "
      ]
     },
     "execution_count": 191,
     "metadata": {},
     "output_type": "execute_result"
    }
   ],
   "source": [
    "NN_Scores = pd.DataFrame(score)\n",
    "NN_Scores"
   ]
  },
  {
   "cell_type": "markdown",
   "id": "a8de3b9a",
   "metadata": {},
   "source": [
    "# Hyperparameter Optimization\n",
    "\n",
    "In this final section, we begin to build the parameter grid dictionary to test different values for different parameters to test for the optimal combination for the data and the model."
   ]
  },
  {
   "cell_type": "code",
   "execution_count": null,
   "id": "88d53f9b",
   "metadata": {},
   "outputs": [],
   "source": [
    "from sklearn.model_selection import RandomizedSearchCV"
   ]
  },
  {
   "cell_type": "code",
   "execution_count": null,
   "id": "7e6c63fa",
   "metadata": {},
   "outputs": [],
   "source": [
    "param_grid = [\n",
    "    {'classifier' : [LogisticRegression()],\n",
    "     'classifier__penalty' : ['l1', 'l2'],\n",
    "    'classifier__C' : np.logspace(-4, 4, 20),\n",
    "    'classifier__solver' : ['liblinear','newton-cg', 'lbfgs']},\n",
    "    \n",
    "    {'classifier' : [RandomForestClassifier()],\n",
    "    'classifier__n_estimators' : list(range(10,101,10)),\n",
    "    'classifier__max_features' : list(range(6,32,5))}\n",
    "]"
   ]
  }
 ],
 "metadata": {
  "hide_input": false,
  "kernelspec": {
   "display_name": "Python 3",
   "language": "python",
   "name": "python3"
  },
  "language_info": {
   "codemirror_mode": {
    "name": "ipython",
    "version": 3
   },
   "file_extension": ".py",
   "mimetype": "text/x-python",
   "name": "python",
   "nbconvert_exporter": "python",
   "pygments_lexer": "ipython3",
   "version": "3.8.11"
  },
  "toc": {
   "base_numbering": 1,
   "nav_menu": {},
   "number_sections": true,
   "sideBar": true,
   "skip_h1_title": false,
   "title_cell": "Table of Contents",
   "title_sidebar": "Contents",
   "toc_cell": true,
   "toc_position": {
    "height": "calc(100% - 180px)",
    "left": "10px",
    "top": "150px",
    "width": "341.325px"
   },
   "toc_section_display": true,
   "toc_window_display": true
  }
 },
 "nbformat": 4,
 "nbformat_minor": 5
}
