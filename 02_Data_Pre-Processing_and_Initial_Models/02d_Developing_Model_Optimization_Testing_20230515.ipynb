{
 "cells": [
  {
   "cell_type": "markdown",
   "id": "a76c96f7",
   "metadata": {
    "toc": true
   },
   "source": [
    "<h1>Table of Contents<span class=\"tocSkip\"></span></h1>\n",
    "<div class=\"toc\"><ul class=\"toc-item\"><li><span><a href=\"#Introduction\" data-toc-modified-id=\"Introduction-1\"><span class=\"toc-item-num\">1&nbsp;&nbsp;</span>Introduction</a></span></li><li><span><a href=\"#Hyperparameter-Optimization\" data-toc-modified-id=\"Hyperparameter-Optimization-2\"><span class=\"toc-item-num\">2&nbsp;&nbsp;</span>Hyperparameter Optimization</a></span></li></ul></div>"
   ]
  },
  {
   "cell_type": "markdown",
   "id": "d21743d8",
   "metadata": {},
   "source": [
    "# Introduction\n",
    "\n",
    "In this module I developed and tested a script to optimize the parameters for the various machine learning algorithms to help that metric scores.     \n",
    "\n",
    "Once I completed the working prototype here, I implemented them into the final modelling scripts for each of the drug outcomes.\n",
    "\n",
    "\n",
    "# Hyperparameter Optimization"
   ]
  },
  {
   "cell_type": "code",
   "execution_count": 15,
   "id": "59add9bc",
   "metadata": {},
   "outputs": [],
   "source": [
    "#import libraries\n",
    "import pandas as pd\n",
    "from scipy import stats\n",
    "import seaborn as sns\n",
    "import matplotlib.pyplot as plt\n",
    "import re\n",
    "import numpy as np\n",
    "%matplotlib inline"
   ]
  },
  {
   "cell_type": "code",
   "execution_count": 11,
   "id": "14e0478e",
   "metadata": {},
   "outputs": [],
   "source": [
    "#import specific machine learning models\n",
    "from sklearn.model_selection import train_test_split\n",
    "from sklearn.linear_model import LogisticRegression\n",
    "from sklearn import svm\n",
    "from sklearn.neighbors import KNeighborsClassifier\n",
    "from sklearn.tree import DecisionTreeClassifier\n",
    "from sklearn.ensemble import GradientBoostingRegressor, RandomForestClassifier\n",
    "from sklearn.ensemble import GradientBoostingClassifier\n",
    "from sklearn.discriminant_analysis import LinearDiscriminantAnalysis\n",
    "from sklearn.neural_network import MLPClassifier\n",
    "from sklearn.pipeline import Pipeline\n",
    "from sklearn.model_selection import GridSearchCV\n",
    "import numpy as np\n",
    "import time"
   ]
  },
  {
   "cell_type": "code",
   "execution_count": null,
   "id": "a9a331c6",
   "metadata": {},
   "outputs": [],
   "source": [
    "#read in dataset\n",
    "df = pd.read_csv(\"../drug_consumption_cap_20230505.csv\")\n",
    "df"
   ]
  },
  {
   "cell_type": "code",
   "execution_count": null,
   "id": "2eab082d",
   "metadata": {},
   "outputs": [],
   "source": [
    "#select only the drug variable columns\n",
    "df.iloc[:,13:]"
   ]
  },
  {
   "cell_type": "code",
   "execution_count": null,
   "id": "3b88aa42",
   "metadata": {},
   "outputs": [],
   "source": [
    "#remove 'CL' prefix\n",
    "df.iloc[:,13:] = df.iloc[:,13:].applymap(lambda x: re.sub('CL','',x))\n",
    "df.iloc[:,13:]"
   ]
  },
  {
   "cell_type": "code",
   "execution_count": null,
   "id": "721bb097",
   "metadata": {},
   "outputs": [],
   "source": [
    "#recode as integer field type\n",
    "df.iloc[:,13:] = df.iloc[:,13:].apply(lambda x: x.astype(int))\n",
    "#check for field type of outcomes (should be integers)\n",
    "df.info()"
   ]
  },
  {
   "cell_type": "code",
   "execution_count": 12,
   "id": "234678e8",
   "metadata": {},
   "outputs": [],
   "source": [
    "#creating the parameter grid for GridSearchCV - parameters to try to optimize\n",
    "param_grid = [\n",
    "    {'classifier' : [LogisticRegression()], #Parameters for LogisticRegression\n",
    "     'classifier__penalty' : ['l1', 'l2'],\n",
    "    'classifier__C' : np.logspace(-4, 4, 20),\n",
    "    'classifier__solver' : ['liblinear','newton-cg', 'lbfgs','saga']},\n",
    "    \n",
    "    {'classifier' : [RandomForestClassifier()], #Parameters for RandomForestClassifier\n",
    "    'classifier__n_estimators' : [200, 400, 600, 800, 1000, 1200, 1400, 1600, 1800, 2000],\n",
    "    'classifier__max_features' : ['auto', 'sqrt','log2'],\n",
    "    'classifier__bootstrap' : [True, False],\n",
    "    'classifier__max_depth': [5,10, 20, 30, 40, 50, 60, 70, 80, 90, 100, None],\n",
    "     'classifier__min_samples_leaf': [1, 2, 4],\n",
    "     'classifier__min_samples_split': [2, 5, 10],\n",
    "    'classifier__criterion': ['gini','entropy','log_loss']},\n",
    "    \n",
    "    \n",
    "    {'classifier' : [MLPClassifier()], #Parameters for Neural Network\n",
    "    'classifier__hidden_layer_sizes': [(50,50,50), (50,100,50), (100,)],\n",
    "    'classifier__activation': ['tanh', 'relu'],\n",
    "    'classifier__solver': ['sgd', 'adam'],\n",
    "    'classifier__alpha': [0.0001, 0.05, 0.1],\n",
    "    'classifier__learning_rate': ['constant','adaptive', 'invscaling'],\n",
    "    'classifier__max_iter' :[200,300,400]}\n",
    "      \n",
    "]"
   ]
  },
  {
   "cell_type": "code",
   "execution_count": 13,
   "id": "520e4094",
   "metadata": {},
   "outputs": [],
   "source": [
    "#create Pipeline to feed parameters and model pairings with GridSearchCV\n",
    "pipe = Pipeline([('classifier' , LogisticRegression())])"
   ]
  },
  {
   "cell_type": "code",
   "execution_count": 14,
   "id": "8fb35782",
   "metadata": {},
   "outputs": [],
   "source": [
    "#Run GridSearchCV to find best parameters\n",
    "LR_clf = GridSearchCV(pipe, param_grid = param_grid, cv = 5, verbose=True, n_jobs=-1)"
   ]
  },
  {
   "cell_type": "code",
   "execution_count": null,
   "id": "19e58e46",
   "metadata": {},
   "outputs": [],
   "source": [
    "#save start\n",
    "start = time.time()\n",
    "\n",
    "#fit the model\n",
    "best_LR_clf = LR_clf.fit(X_train, y_train)\n",
    "\n",
    "#print time\n",
    "print(f\"GridSearchCV Total Time in seconds: {time.time()-start}\")"
   ]
  }
 ],
 "metadata": {
  "hide_input": false,
  "kernelspec": {
   "display_name": "Python 3",
   "language": "python",
   "name": "python3"
  },
  "language_info": {
   "codemirror_mode": {
    "name": "ipython",
    "version": 3
   },
   "file_extension": ".py",
   "mimetype": "text/x-python",
   "name": "python",
   "nbconvert_exporter": "python",
   "pygments_lexer": "ipython3",
   "version": "3.8.11"
  },
  "toc": {
   "base_numbering": 1,
   "nav_menu": {},
   "number_sections": true,
   "sideBar": false,
   "skip_h1_title": false,
   "title_cell": "Table of Contents",
   "title_sidebar": "Contents",
   "toc_cell": true,
   "toc_position": {},
   "toc_section_display": true,
   "toc_window_display": false
  }
 },
 "nbformat": 4,
 "nbformat_minor": 5
}
