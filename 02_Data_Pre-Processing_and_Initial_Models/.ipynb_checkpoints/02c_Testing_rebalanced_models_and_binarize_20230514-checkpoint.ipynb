{
 "cells": [
  {
   "cell_type": "markdown",
   "id": "80d083f1",
   "metadata": {
    "toc": true
   },
   "source": [
    "<h1>Table of Contents<span class=\"tocSkip\"></span></h1>\n",
    "<div class=\"toc\"><ul class=\"toc-item\"><li><span><a href=\"#Introduction\" data-toc-modified-id=\"Introduction-1\"><span class=\"toc-item-num\">1&nbsp;&nbsp;</span>Introduction</a></span></li><li><span><a href=\"#Data-Preprocessing-(Data-Transformations)\" data-toc-modified-id=\"Data-Preprocessing-(Data-Transformations)-2\"><span class=\"toc-item-num\">2&nbsp;&nbsp;</span>Data Preprocessing (Data Transformations)</a></span><ul class=\"toc-item\"><li><span><a href=\"#Drug-Outcome-variable-transformations\" data-toc-modified-id=\"Drug-Outcome-variable-transformations-2.1\"><span class=\"toc-item-num\">2.1&nbsp;&nbsp;</span>Drug Outcome variable transformations</a></span><ul class=\"toc-item\"><li><span><a href=\"#Remove-string-and-change-to-integer\" data-toc-modified-id=\"Remove-string-and-change-to-integer-2.1.1\"><span class=\"toc-item-num\">2.1.1&nbsp;&nbsp;</span>Remove string and change to integer</a></span></li><li><span><a href=\"#Create-3-broader-outcome-variables-(Stimulants,-Depressants-and-Hallucinogens)\" data-toc-modified-id=\"Create-3-broader-outcome-variables-(Stimulants,-Depressants-and-Hallucinogens)-2.1.2\"><span class=\"toc-item-num\">2.1.2&nbsp;&nbsp;</span>Create 3 broader outcome variables (<em>Stimulants, Depressants and Hallucinogens</em>)</a></span></li><li><span><a href=\"#Recode-from-6-levels-to-3-levels\" data-toc-modified-id=\"Recode-from-6-levels-to-3-levels-2.1.3\"><span class=\"toc-item-num\">2.1.3&nbsp;&nbsp;</span>Recode from 6 levels to 3 levels</a></span></li></ul></li></ul></li><li><span><a href=\"#Initial-Models\" data-toc-modified-id=\"Initial-Models-3\"><span class=\"toc-item-num\">3&nbsp;&nbsp;</span>Initial Models</a></span><ul class=\"toc-item\"><li><span><a href=\"#Setup\" data-toc-modified-id=\"Setup-3.1\"><span class=\"toc-item-num\">3.1&nbsp;&nbsp;</span>Setup</a></span></li><li><span><a href=\"#Support-Vector-Machine\" data-toc-modified-id=\"Support-Vector-Machine-3.2\"><span class=\"toc-item-num\">3.2&nbsp;&nbsp;</span>Support Vector Machine</a></span></li><li><span><a href=\"#Logistic-Regression\" data-toc-modified-id=\"Logistic-Regression-3.3\"><span class=\"toc-item-num\">3.3&nbsp;&nbsp;</span>Logistic Regression</a></span></li><li><span><a href=\"#k-NN-classifier\" data-toc-modified-id=\"k-NN-classifier-3.4\"><span class=\"toc-item-num\">3.4&nbsp;&nbsp;</span>k-NN classifier</a></span></li><li><span><a href=\"#Decision-Tree\" data-toc-modified-id=\"Decision-Tree-3.5\"><span class=\"toc-item-num\">3.5&nbsp;&nbsp;</span>Decision Tree</a></span></li><li><span><a href=\"#Gradient-Boosted-Trees\" data-toc-modified-id=\"Gradient-Boosted-Trees-3.6\"><span class=\"toc-item-num\">3.6&nbsp;&nbsp;</span>Gradient Boosted Trees</a></span></li><li><span><a href=\"#Linear-Discriminant-Analysis-(LDA)\" data-toc-modified-id=\"Linear-Discriminant-Analysis-(LDA)-3.7\"><span class=\"toc-item-num\">3.7&nbsp;&nbsp;</span>Linear Discriminant Analysis (LDA)</a></span></li><li><span><a href=\"#Neural-Network\" data-toc-modified-id=\"Neural-Network-3.8\"><span class=\"toc-item-num\">3.8&nbsp;&nbsp;</span>Neural Network</a></span></li></ul></li><li><span><a href=\"#Rebalance\" data-toc-modified-id=\"Rebalance-4\"><span class=\"toc-item-num\">4&nbsp;&nbsp;</span>Rebalance</a></span><ul class=\"toc-item\"><li><span><a href=\"#Rebalanced---Linear-Classifier\" data-toc-modified-id=\"Rebalanced---Linear-Classifier-4.1\"><span class=\"toc-item-num\">4.1&nbsp;&nbsp;</span>Rebalanced - Linear Classifier</a></span></li><li><span><a href=\"#Rebalanced---Logistic-Regression\" data-toc-modified-id=\"Rebalanced---Logistic-Regression-4.2\"><span class=\"toc-item-num\">4.2&nbsp;&nbsp;</span>Rebalanced - Logistic Regression</a></span></li><li><span><a href=\"#Rebalanced----K-nn-classifier\" data-toc-modified-id=\"Rebalanced----K-nn-classifier-4.3\"><span class=\"toc-item-num\">4.3&nbsp;&nbsp;</span>Rebalanced  - K-nn classifier</a></span></li><li><span><a href=\"#Rebalanced---Decision-Tree\" data-toc-modified-id=\"Rebalanced---Decision-Tree-4.4\"><span class=\"toc-item-num\">4.4&nbsp;&nbsp;</span>Rebalanced - Decision Tree</a></span><ul class=\"toc-item\"><li><span><a href=\"#Using-pruning-to-prevent-over-fitting---Determining-the-correct-ccp_alpha\" data-toc-modified-id=\"Using-pruning-to-prevent-over-fitting---Determining-the-correct-ccp_alpha-4.4.1\"><span class=\"toc-item-num\">4.4.1&nbsp;&nbsp;</span>Using pruning to prevent over fitting - Determining the correct ccp_alpha</a></span></li><li><span><a href=\"#Fit-Using-the-alpha-determined-above-(0.05)---most-stable-accuracy-across-increasing-alphas\" data-toc-modified-id=\"Fit-Using-the-alpha-determined-above-(0.05)---most-stable-accuracy-across-increasing-alphas-4.4.2\"><span class=\"toc-item-num\">4.4.2&nbsp;&nbsp;</span>Fit Using the alpha determined above (0.05) - most stable accuracy across increasing alphas</a></span></li></ul></li><li><span><a href=\"#Rebalanced---Boosted-Tree\" data-toc-modified-id=\"Rebalanced---Boosted-Tree-4.5\"><span class=\"toc-item-num\">4.5&nbsp;&nbsp;</span>Rebalanced - Boosted Tree</a></span><ul class=\"toc-item\"><li><span><a href=\"#Fit-Using-the-alpha-determined-above-(0.05)---most-stable-accuracy-across-increasing-alphas\" data-toc-modified-id=\"Fit-Using-the-alpha-determined-above-(0.05)---most-stable-accuracy-across-increasing-alphas-4.5.1\"><span class=\"toc-item-num\">4.5.1&nbsp;&nbsp;</span>Fit Using the alpha determined above (0.05) - most stable accuracy across increasing alphas</a></span></li></ul></li><li><span><a href=\"#Rebalanced---Linear-Discriminant-Analysis-(LDA)\" data-toc-modified-id=\"Rebalanced---Linear-Discriminant-Analysis-(LDA)-4.6\"><span class=\"toc-item-num\">4.6&nbsp;&nbsp;</span>Rebalanced - Linear Discriminant Analysis (LDA)</a></span></li><li><span><a href=\"#Rebalanced---Neural-Network\" data-toc-modified-id=\"Rebalanced---Neural-Network-4.7\"><span class=\"toc-item-num\">4.7&nbsp;&nbsp;</span>Rebalanced - Neural Network</a></span></li></ul></li><li><span><a href=\"#Evaluation-Metrics---AUC-calculations-and-plots\" data-toc-modified-id=\"Evaluation-Metrics---AUC-calculations-and-plots-5\"><span class=\"toc-item-num\">5&nbsp;&nbsp;</span>Evaluation Metrics - AUC calculations and plots</a></span><ul class=\"toc-item\"><li><span><a href=\"#Linear-Classifier---AUC\" data-toc-modified-id=\"Linear-Classifier---AUC-5.1\"><span class=\"toc-item-num\">5.1&nbsp;&nbsp;</span>Linear Classifier - AUC</a></span></li></ul></li></ul></div>"
   ]
  },
  {
   "cell_type": "markdown",
   "id": "e33bc222",
   "metadata": {},
   "source": [
    "# Introduction\n",
    "\n",
    "The first two sections of this module are indentical to 02b, however this module then builds on that work by adding two new sections:\n",
    "\n",
    "1. Re-balancing Data using SMOTE to Oversample - Followed by a Re-calibrating of the Models\n",
    "2. Developing an implementation of the calculation of the AUC score which allow plots to be generated for the final models\n",
    "3. The beginning development of the parameter grid for GridSearchCV function is also in this last section.\n",
    "\n",
    "Once completed, this module's scripts provide the basis for carrying out the entire modelling process from data cleaning, to re-balancing to creating the final models and retrieving the final metric values.\n"
   ]
  },
  {
   "cell_type": "code",
   "execution_count": 4,
   "id": "6d60a639",
   "metadata": {},
   "outputs": [],
   "source": [
    "#libraries\n",
    "import pandas as pd\n",
    "from scipy import stats\n",
    "import seaborn as sns\n",
    "import matplotlib.pyplot as plt\n",
    "import re\n",
    "import numpy as np\n",
    "%matplotlib inline"
   ]
  },
  {
   "cell_type": "markdown",
   "id": "8c82dbb5",
   "metadata": {},
   "source": [
    "# Data Preprocessing (Data Transformations)\n",
    "\n",
    "In this first section, the dataset is prepared for modelling in a series of data transformations.\n",
    "\n",
    "For the outcome variable, the eighteen outcome variables are collapsed into three new outcome variables, representing broader classes of drugs. They are _**Stimulants, Depressants, and Hallucinogens**_.\n",
    "\n",
    "Additionally, the 7 levels of drug use are also collapsed to three new levels of drug use: _**1 - unlike to use, 2 - medium use, 3 - high usage**_\n"
   ]
  },
  {
   "cell_type": "code",
   "execution_count": 2,
   "id": "9b3e179f",
   "metadata": {},
   "outputs": [
    {
     "data": {
      "text/html": [
       "<div>\n",
       "<style scoped>\n",
       "    .dataframe tbody tr th:only-of-type {\n",
       "        vertical-align: middle;\n",
       "    }\n",
       "\n",
       "    .dataframe tbody tr th {\n",
       "        vertical-align: top;\n",
       "    }\n",
       "\n",
       "    .dataframe thead th {\n",
       "        text-align: right;\n",
       "    }\n",
       "</style>\n",
       "<table border=\"1\" class=\"dataframe\">\n",
       "  <thead>\n",
       "    <tr style=\"text-align: right;\">\n",
       "      <th></th>\n",
       "      <th>ID</th>\n",
       "      <th>Age</th>\n",
       "      <th>Gender</th>\n",
       "      <th>Education</th>\n",
       "      <th>Country</th>\n",
       "      <th>Ethnicity</th>\n",
       "      <th>NEO_N</th>\n",
       "      <th>NEO_E</th>\n",
       "      <th>NEO_O</th>\n",
       "      <th>NEO_A</th>\n",
       "      <th>...</th>\n",
       "      <th>ECST</th>\n",
       "      <th>HEROIN</th>\n",
       "      <th>KETA</th>\n",
       "      <th>LEGALH</th>\n",
       "      <th>LSD</th>\n",
       "      <th>METH</th>\n",
       "      <th>MUSHRM</th>\n",
       "      <th>NICO</th>\n",
       "      <th>SEMER</th>\n",
       "      <th>VSA</th>\n",
       "    </tr>\n",
       "  </thead>\n",
       "  <tbody>\n",
       "    <tr>\n",
       "      <th>0</th>\n",
       "      <td>1</td>\n",
       "      <td>0.49788</td>\n",
       "      <td>0.48246</td>\n",
       "      <td>-0.05921</td>\n",
       "      <td>0.96082</td>\n",
       "      <td>0.12600</td>\n",
       "      <td>0.31287</td>\n",
       "      <td>-0.57545</td>\n",
       "      <td>-0.58331</td>\n",
       "      <td>-0.91699</td>\n",
       "      <td>...</td>\n",
       "      <td>CL0</td>\n",
       "      <td>CL0</td>\n",
       "      <td>CL0</td>\n",
       "      <td>CL0</td>\n",
       "      <td>CL0</td>\n",
       "      <td>CL0</td>\n",
       "      <td>CL0</td>\n",
       "      <td>CL2</td>\n",
       "      <td>CL0</td>\n",
       "      <td>CL0</td>\n",
       "    </tr>\n",
       "    <tr>\n",
       "      <th>1</th>\n",
       "      <td>2</td>\n",
       "      <td>-0.07854</td>\n",
       "      <td>-0.48246</td>\n",
       "      <td>1.98437</td>\n",
       "      <td>0.96082</td>\n",
       "      <td>-0.31685</td>\n",
       "      <td>-0.67825</td>\n",
       "      <td>1.93886</td>\n",
       "      <td>1.43533</td>\n",
       "      <td>0.76096</td>\n",
       "      <td>...</td>\n",
       "      <td>CL4</td>\n",
       "      <td>CL0</td>\n",
       "      <td>CL2</td>\n",
       "      <td>CL0</td>\n",
       "      <td>CL2</td>\n",
       "      <td>CL3</td>\n",
       "      <td>CL0</td>\n",
       "      <td>CL4</td>\n",
       "      <td>CL0</td>\n",
       "      <td>CL0</td>\n",
       "    </tr>\n",
       "    <tr>\n",
       "      <th>2</th>\n",
       "      <td>3</td>\n",
       "      <td>0.49788</td>\n",
       "      <td>-0.48246</td>\n",
       "      <td>-0.05921</td>\n",
       "      <td>0.96082</td>\n",
       "      <td>-0.31685</td>\n",
       "      <td>-0.46725</td>\n",
       "      <td>0.80523</td>\n",
       "      <td>-0.84732</td>\n",
       "      <td>-1.62090</td>\n",
       "      <td>...</td>\n",
       "      <td>CL0</td>\n",
       "      <td>CL0</td>\n",
       "      <td>CL0</td>\n",
       "      <td>CL0</td>\n",
       "      <td>CL0</td>\n",
       "      <td>CL0</td>\n",
       "      <td>CL1</td>\n",
       "      <td>CL0</td>\n",
       "      <td>CL0</td>\n",
       "      <td>CL0</td>\n",
       "    </tr>\n",
       "    <tr>\n",
       "      <th>3</th>\n",
       "      <td>4</td>\n",
       "      <td>-0.95197</td>\n",
       "      <td>0.48246</td>\n",
       "      <td>1.16365</td>\n",
       "      <td>0.96082</td>\n",
       "      <td>-0.31685</td>\n",
       "      <td>-0.14882</td>\n",
       "      <td>-0.80615</td>\n",
       "      <td>-0.01928</td>\n",
       "      <td>0.59042</td>\n",
       "      <td>...</td>\n",
       "      <td>CL0</td>\n",
       "      <td>CL0</td>\n",
       "      <td>CL2</td>\n",
       "      <td>CL0</td>\n",
       "      <td>CL0</td>\n",
       "      <td>CL0</td>\n",
       "      <td>CL0</td>\n",
       "      <td>CL2</td>\n",
       "      <td>CL0</td>\n",
       "      <td>CL0</td>\n",
       "    </tr>\n",
       "    <tr>\n",
       "      <th>4</th>\n",
       "      <td>5</td>\n",
       "      <td>0.49788</td>\n",
       "      <td>0.48246</td>\n",
       "      <td>1.98437</td>\n",
       "      <td>0.96082</td>\n",
       "      <td>-0.31685</td>\n",
       "      <td>0.73545</td>\n",
       "      <td>-1.63340</td>\n",
       "      <td>-0.45174</td>\n",
       "      <td>-0.30172</td>\n",
       "      <td>...</td>\n",
       "      <td>CL1</td>\n",
       "      <td>CL0</td>\n",
       "      <td>CL0</td>\n",
       "      <td>CL1</td>\n",
       "      <td>CL0</td>\n",
       "      <td>CL0</td>\n",
       "      <td>CL2</td>\n",
       "      <td>CL2</td>\n",
       "      <td>CL0</td>\n",
       "      <td>CL0</td>\n",
       "    </tr>\n",
       "    <tr>\n",
       "      <th>...</th>\n",
       "      <td>...</td>\n",
       "      <td>...</td>\n",
       "      <td>...</td>\n",
       "      <td>...</td>\n",
       "      <td>...</td>\n",
       "      <td>...</td>\n",
       "      <td>...</td>\n",
       "      <td>...</td>\n",
       "      <td>...</td>\n",
       "      <td>...</td>\n",
       "      <td>...</td>\n",
       "      <td>...</td>\n",
       "      <td>...</td>\n",
       "      <td>...</td>\n",
       "      <td>...</td>\n",
       "      <td>...</td>\n",
       "      <td>...</td>\n",
       "      <td>...</td>\n",
       "      <td>...</td>\n",
       "      <td>...</td>\n",
       "      <td>...</td>\n",
       "    </tr>\n",
       "    <tr>\n",
       "      <th>1880</th>\n",
       "      <td>1884</td>\n",
       "      <td>-0.95197</td>\n",
       "      <td>0.48246</td>\n",
       "      <td>-0.61113</td>\n",
       "      <td>-0.57009</td>\n",
       "      <td>-0.31685</td>\n",
       "      <td>-1.19430</td>\n",
       "      <td>1.74091</td>\n",
       "      <td>1.88511</td>\n",
       "      <td>0.76096</td>\n",
       "      <td>...</td>\n",
       "      <td>CL0</td>\n",
       "      <td>CL0</td>\n",
       "      <td>CL0</td>\n",
       "      <td>CL3</td>\n",
       "      <td>CL3</td>\n",
       "      <td>CL0</td>\n",
       "      <td>CL0</td>\n",
       "      <td>CL0</td>\n",
       "      <td>CL0</td>\n",
       "      <td>CL5</td>\n",
       "    </tr>\n",
       "    <tr>\n",
       "      <th>1881</th>\n",
       "      <td>1885</td>\n",
       "      <td>-0.95197</td>\n",
       "      <td>-0.48246</td>\n",
       "      <td>-0.61113</td>\n",
       "      <td>-0.57009</td>\n",
       "      <td>-0.31685</td>\n",
       "      <td>-0.24649</td>\n",
       "      <td>1.74091</td>\n",
       "      <td>0.58331</td>\n",
       "      <td>0.76096</td>\n",
       "      <td>...</td>\n",
       "      <td>CL2</td>\n",
       "      <td>CL0</td>\n",
       "      <td>CL0</td>\n",
       "      <td>CL3</td>\n",
       "      <td>CL5</td>\n",
       "      <td>CL4</td>\n",
       "      <td>CL4</td>\n",
       "      <td>CL5</td>\n",
       "      <td>CL0</td>\n",
       "      <td>CL0</td>\n",
       "    </tr>\n",
       "    <tr>\n",
       "      <th>1882</th>\n",
       "      <td>1886</td>\n",
       "      <td>-0.07854</td>\n",
       "      <td>0.48246</td>\n",
       "      <td>0.45468</td>\n",
       "      <td>-0.57009</td>\n",
       "      <td>-0.31685</td>\n",
       "      <td>1.13281</td>\n",
       "      <td>-1.37639</td>\n",
       "      <td>-1.27553</td>\n",
       "      <td>-1.77200</td>\n",
       "      <td>...</td>\n",
       "      <td>CL4</td>\n",
       "      <td>CL0</td>\n",
       "      <td>CL2</td>\n",
       "      <td>CL0</td>\n",
       "      <td>CL2</td>\n",
       "      <td>CL0</td>\n",
       "      <td>CL2</td>\n",
       "      <td>CL6</td>\n",
       "      <td>CL0</td>\n",
       "      <td>CL0</td>\n",
       "    </tr>\n",
       "    <tr>\n",
       "      <th>1883</th>\n",
       "      <td>1887</td>\n",
       "      <td>-0.95197</td>\n",
       "      <td>0.48246</td>\n",
       "      <td>-0.61113</td>\n",
       "      <td>-0.57009</td>\n",
       "      <td>-0.31685</td>\n",
       "      <td>0.91093</td>\n",
       "      <td>-1.92173</td>\n",
       "      <td>0.29338</td>\n",
       "      <td>-1.62090</td>\n",
       "      <td>...</td>\n",
       "      <td>CL3</td>\n",
       "      <td>CL0</td>\n",
       "      <td>CL0</td>\n",
       "      <td>CL3</td>\n",
       "      <td>CL3</td>\n",
       "      <td>CL0</td>\n",
       "      <td>CL3</td>\n",
       "      <td>CL4</td>\n",
       "      <td>CL0</td>\n",
       "      <td>CL0</td>\n",
       "    </tr>\n",
       "    <tr>\n",
       "      <th>1884</th>\n",
       "      <td>1888</td>\n",
       "      <td>-0.95197</td>\n",
       "      <td>-0.48246</td>\n",
       "      <td>-0.61113</td>\n",
       "      <td>0.21128</td>\n",
       "      <td>-0.31685</td>\n",
       "      <td>-0.46725</td>\n",
       "      <td>2.12700</td>\n",
       "      <td>1.65653</td>\n",
       "      <td>1.11406</td>\n",
       "      <td>...</td>\n",
       "      <td>CL3</td>\n",
       "      <td>CL0</td>\n",
       "      <td>CL0</td>\n",
       "      <td>CL3</td>\n",
       "      <td>CL3</td>\n",
       "      <td>CL0</td>\n",
       "      <td>CL3</td>\n",
       "      <td>CL6</td>\n",
       "      <td>CL0</td>\n",
       "      <td>CL2</td>\n",
       "    </tr>\n",
       "  </tbody>\n",
       "</table>\n",
       "<p>1885 rows × 32 columns</p>\n",
       "</div>"
      ],
      "text/plain": [
       "        ID      Age   Gender  Education  Country  Ethnicity    NEO_N    NEO_E  \\\n",
       "0        1  0.49788  0.48246   -0.05921  0.96082    0.12600  0.31287 -0.57545   \n",
       "1        2 -0.07854 -0.48246    1.98437  0.96082   -0.31685 -0.67825  1.93886   \n",
       "2        3  0.49788 -0.48246   -0.05921  0.96082   -0.31685 -0.46725  0.80523   \n",
       "3        4 -0.95197  0.48246    1.16365  0.96082   -0.31685 -0.14882 -0.80615   \n",
       "4        5  0.49788  0.48246    1.98437  0.96082   -0.31685  0.73545 -1.63340   \n",
       "...    ...      ...      ...        ...      ...        ...      ...      ...   \n",
       "1880  1884 -0.95197  0.48246   -0.61113 -0.57009   -0.31685 -1.19430  1.74091   \n",
       "1881  1885 -0.95197 -0.48246   -0.61113 -0.57009   -0.31685 -0.24649  1.74091   \n",
       "1882  1886 -0.07854  0.48246    0.45468 -0.57009   -0.31685  1.13281 -1.37639   \n",
       "1883  1887 -0.95197  0.48246   -0.61113 -0.57009   -0.31685  0.91093 -1.92173   \n",
       "1884  1888 -0.95197 -0.48246   -0.61113  0.21128   -0.31685 -0.46725  2.12700   \n",
       "\n",
       "        NEO_O    NEO_A  ...  ECST  HEROIN  KETA LEGALH  LSD METH MUSHRM NICO  \\\n",
       "0    -0.58331 -0.91699  ...   CL0     CL0   CL0    CL0  CL0  CL0    CL0  CL2   \n",
       "1     1.43533  0.76096  ...   CL4     CL0   CL2    CL0  CL2  CL3    CL0  CL4   \n",
       "2    -0.84732 -1.62090  ...   CL0     CL0   CL0    CL0  CL0  CL0    CL1  CL0   \n",
       "3    -0.01928  0.59042  ...   CL0     CL0   CL2    CL0  CL0  CL0    CL0  CL2   \n",
       "4    -0.45174 -0.30172  ...   CL1     CL0   CL0    CL1  CL0  CL0    CL2  CL2   \n",
       "...       ...      ...  ...   ...     ...   ...    ...  ...  ...    ...  ...   \n",
       "1880  1.88511  0.76096  ...   CL0     CL0   CL0    CL3  CL3  CL0    CL0  CL0   \n",
       "1881  0.58331  0.76096  ...   CL2     CL0   CL0    CL3  CL5  CL4    CL4  CL5   \n",
       "1882 -1.27553 -1.77200  ...   CL4     CL0   CL2    CL0  CL2  CL0    CL2  CL6   \n",
       "1883  0.29338 -1.62090  ...   CL3     CL0   CL0    CL3  CL3  CL0    CL3  CL4   \n",
       "1884  1.65653  1.11406  ...   CL3     CL0   CL0    CL3  CL3  CL0    CL3  CL6   \n",
       "\n",
       "     SEMER  VSA  \n",
       "0      CL0  CL0  \n",
       "1      CL0  CL0  \n",
       "2      CL0  CL0  \n",
       "3      CL0  CL0  \n",
       "4      CL0  CL0  \n",
       "...    ...  ...  \n",
       "1880   CL0  CL5  \n",
       "1881   CL0  CL0  \n",
       "1882   CL0  CL0  \n",
       "1883   CL0  CL0  \n",
       "1884   CL0  CL2  \n",
       "\n",
       "[1885 rows x 32 columns]"
      ]
     },
     "execution_count": 2,
     "metadata": {},
     "output_type": "execute_result"
    }
   ],
   "source": [
    "#read in dataset\n",
    "df = pd.read_csv(\"../drug_consumption_cap_20230505.csv\")\n",
    "df"
   ]
  },
  {
   "cell_type": "code",
   "execution_count": null,
   "id": "70946d87",
   "metadata": {},
   "outputs": [],
   "source": []
  },
  {
   "cell_type": "markdown",
   "id": "e6bd6006",
   "metadata": {},
   "source": [
    "## Drug Outcome variable transformations\n",
    "\n",
    "### Remove string and change to integer"
   ]
  },
  {
   "cell_type": "code",
   "execution_count": 3,
   "id": "53a75440",
   "metadata": {},
   "outputs": [
    {
     "data": {
      "text/html": [
       "<div>\n",
       "<style scoped>\n",
       "    .dataframe tbody tr th:only-of-type {\n",
       "        vertical-align: middle;\n",
       "    }\n",
       "\n",
       "    .dataframe tbody tr th {\n",
       "        vertical-align: top;\n",
       "    }\n",
       "\n",
       "    .dataframe thead th {\n",
       "        text-align: right;\n",
       "    }\n",
       "</style>\n",
       "<table border=\"1\" class=\"dataframe\">\n",
       "  <thead>\n",
       "    <tr style=\"text-align: right;\">\n",
       "      <th></th>\n",
       "      <th>ALC</th>\n",
       "      <th>AMPHET</th>\n",
       "      <th>AMYL</th>\n",
       "      <th>BENZOS</th>\n",
       "      <th>CAFF</th>\n",
       "      <th>CANNABIS</th>\n",
       "      <th>CHOC</th>\n",
       "      <th>COCAINE</th>\n",
       "      <th>CRACK</th>\n",
       "      <th>ECST</th>\n",
       "      <th>HEROIN</th>\n",
       "      <th>KETA</th>\n",
       "      <th>LEGALH</th>\n",
       "      <th>LSD</th>\n",
       "      <th>METH</th>\n",
       "      <th>MUSHRM</th>\n",
       "      <th>NICO</th>\n",
       "      <th>SEMER</th>\n",
       "      <th>VSA</th>\n",
       "    </tr>\n",
       "  </thead>\n",
       "  <tbody>\n",
       "    <tr>\n",
       "      <th>0</th>\n",
       "      <td>CL5</td>\n",
       "      <td>CL2</td>\n",
       "      <td>CL0</td>\n",
       "      <td>CL2</td>\n",
       "      <td>CL6</td>\n",
       "      <td>CL0</td>\n",
       "      <td>CL5</td>\n",
       "      <td>CL0</td>\n",
       "      <td>CL0</td>\n",
       "      <td>CL0</td>\n",
       "      <td>CL0</td>\n",
       "      <td>CL0</td>\n",
       "      <td>CL0</td>\n",
       "      <td>CL0</td>\n",
       "      <td>CL0</td>\n",
       "      <td>CL0</td>\n",
       "      <td>CL2</td>\n",
       "      <td>CL0</td>\n",
       "      <td>CL0</td>\n",
       "    </tr>\n",
       "    <tr>\n",
       "      <th>1</th>\n",
       "      <td>CL5</td>\n",
       "      <td>CL2</td>\n",
       "      <td>CL2</td>\n",
       "      <td>CL0</td>\n",
       "      <td>CL6</td>\n",
       "      <td>CL4</td>\n",
       "      <td>CL6</td>\n",
       "      <td>CL3</td>\n",
       "      <td>CL0</td>\n",
       "      <td>CL4</td>\n",
       "      <td>CL0</td>\n",
       "      <td>CL2</td>\n",
       "      <td>CL0</td>\n",
       "      <td>CL2</td>\n",
       "      <td>CL3</td>\n",
       "      <td>CL0</td>\n",
       "      <td>CL4</td>\n",
       "      <td>CL0</td>\n",
       "      <td>CL0</td>\n",
       "    </tr>\n",
       "    <tr>\n",
       "      <th>2</th>\n",
       "      <td>CL6</td>\n",
       "      <td>CL0</td>\n",
       "      <td>CL0</td>\n",
       "      <td>CL0</td>\n",
       "      <td>CL6</td>\n",
       "      <td>CL3</td>\n",
       "      <td>CL4</td>\n",
       "      <td>CL0</td>\n",
       "      <td>CL0</td>\n",
       "      <td>CL0</td>\n",
       "      <td>CL0</td>\n",
       "      <td>CL0</td>\n",
       "      <td>CL0</td>\n",
       "      <td>CL0</td>\n",
       "      <td>CL0</td>\n",
       "      <td>CL1</td>\n",
       "      <td>CL0</td>\n",
       "      <td>CL0</td>\n",
       "      <td>CL0</td>\n",
       "    </tr>\n",
       "    <tr>\n",
       "      <th>3</th>\n",
       "      <td>CL4</td>\n",
       "      <td>CL0</td>\n",
       "      <td>CL0</td>\n",
       "      <td>CL3</td>\n",
       "      <td>CL5</td>\n",
       "      <td>CL2</td>\n",
       "      <td>CL4</td>\n",
       "      <td>CL2</td>\n",
       "      <td>CL0</td>\n",
       "      <td>CL0</td>\n",
       "      <td>CL0</td>\n",
       "      <td>CL2</td>\n",
       "      <td>CL0</td>\n",
       "      <td>CL0</td>\n",
       "      <td>CL0</td>\n",
       "      <td>CL0</td>\n",
       "      <td>CL2</td>\n",
       "      <td>CL0</td>\n",
       "      <td>CL0</td>\n",
       "    </tr>\n",
       "    <tr>\n",
       "      <th>4</th>\n",
       "      <td>CL4</td>\n",
       "      <td>CL1</td>\n",
       "      <td>CL1</td>\n",
       "      <td>CL0</td>\n",
       "      <td>CL6</td>\n",
       "      <td>CL3</td>\n",
       "      <td>CL6</td>\n",
       "      <td>CL0</td>\n",
       "      <td>CL0</td>\n",
       "      <td>CL1</td>\n",
       "      <td>CL0</td>\n",
       "      <td>CL0</td>\n",
       "      <td>CL1</td>\n",
       "      <td>CL0</td>\n",
       "      <td>CL0</td>\n",
       "      <td>CL2</td>\n",
       "      <td>CL2</td>\n",
       "      <td>CL0</td>\n",
       "      <td>CL0</td>\n",
       "    </tr>\n",
       "    <tr>\n",
       "      <th>...</th>\n",
       "      <td>...</td>\n",
       "      <td>...</td>\n",
       "      <td>...</td>\n",
       "      <td>...</td>\n",
       "      <td>...</td>\n",
       "      <td>...</td>\n",
       "      <td>...</td>\n",
       "      <td>...</td>\n",
       "      <td>...</td>\n",
       "      <td>...</td>\n",
       "      <td>...</td>\n",
       "      <td>...</td>\n",
       "      <td>...</td>\n",
       "      <td>...</td>\n",
       "      <td>...</td>\n",
       "      <td>...</td>\n",
       "      <td>...</td>\n",
       "      <td>...</td>\n",
       "      <td>...</td>\n",
       "    </tr>\n",
       "    <tr>\n",
       "      <th>1880</th>\n",
       "      <td>CL5</td>\n",
       "      <td>CL0</td>\n",
       "      <td>CL0</td>\n",
       "      <td>CL0</td>\n",
       "      <td>CL4</td>\n",
       "      <td>CL5</td>\n",
       "      <td>CL4</td>\n",
       "      <td>CL0</td>\n",
       "      <td>CL0</td>\n",
       "      <td>CL0</td>\n",
       "      <td>CL0</td>\n",
       "      <td>CL0</td>\n",
       "      <td>CL3</td>\n",
       "      <td>CL3</td>\n",
       "      <td>CL0</td>\n",
       "      <td>CL0</td>\n",
       "      <td>CL0</td>\n",
       "      <td>CL0</td>\n",
       "      <td>CL5</td>\n",
       "    </tr>\n",
       "    <tr>\n",
       "      <th>1881</th>\n",
       "      <td>CL5</td>\n",
       "      <td>CL0</td>\n",
       "      <td>CL0</td>\n",
       "      <td>CL0</td>\n",
       "      <td>CL5</td>\n",
       "      <td>CL3</td>\n",
       "      <td>CL4</td>\n",
       "      <td>CL0</td>\n",
       "      <td>CL0</td>\n",
       "      <td>CL2</td>\n",
       "      <td>CL0</td>\n",
       "      <td>CL0</td>\n",
       "      <td>CL3</td>\n",
       "      <td>CL5</td>\n",
       "      <td>CL4</td>\n",
       "      <td>CL4</td>\n",
       "      <td>CL5</td>\n",
       "      <td>CL0</td>\n",
       "      <td>CL0</td>\n",
       "    </tr>\n",
       "    <tr>\n",
       "      <th>1882</th>\n",
       "      <td>CL4</td>\n",
       "      <td>CL6</td>\n",
       "      <td>CL5</td>\n",
       "      <td>CL5</td>\n",
       "      <td>CL6</td>\n",
       "      <td>CL6</td>\n",
       "      <td>CL6</td>\n",
       "      <td>CL4</td>\n",
       "      <td>CL0</td>\n",
       "      <td>CL4</td>\n",
       "      <td>CL0</td>\n",
       "      <td>CL2</td>\n",
       "      <td>CL0</td>\n",
       "      <td>CL2</td>\n",
       "      <td>CL0</td>\n",
       "      <td>CL2</td>\n",
       "      <td>CL6</td>\n",
       "      <td>CL0</td>\n",
       "      <td>CL0</td>\n",
       "    </tr>\n",
       "    <tr>\n",
       "      <th>1883</th>\n",
       "      <td>CL5</td>\n",
       "      <td>CL0</td>\n",
       "      <td>CL0</td>\n",
       "      <td>CL0</td>\n",
       "      <td>CL6</td>\n",
       "      <td>CL6</td>\n",
       "      <td>CL5</td>\n",
       "      <td>CL0</td>\n",
       "      <td>CL0</td>\n",
       "      <td>CL3</td>\n",
       "      <td>CL0</td>\n",
       "      <td>CL0</td>\n",
       "      <td>CL3</td>\n",
       "      <td>CL3</td>\n",
       "      <td>CL0</td>\n",
       "      <td>CL3</td>\n",
       "      <td>CL4</td>\n",
       "      <td>CL0</td>\n",
       "      <td>CL0</td>\n",
       "    </tr>\n",
       "    <tr>\n",
       "      <th>1884</th>\n",
       "      <td>CL4</td>\n",
       "      <td>CL3</td>\n",
       "      <td>CL0</td>\n",
       "      <td>CL3</td>\n",
       "      <td>CL6</td>\n",
       "      <td>CL3</td>\n",
       "      <td>CL6</td>\n",
       "      <td>CL3</td>\n",
       "      <td>CL0</td>\n",
       "      <td>CL3</td>\n",
       "      <td>CL0</td>\n",
       "      <td>CL0</td>\n",
       "      <td>CL3</td>\n",
       "      <td>CL3</td>\n",
       "      <td>CL0</td>\n",
       "      <td>CL3</td>\n",
       "      <td>CL6</td>\n",
       "      <td>CL0</td>\n",
       "      <td>CL2</td>\n",
       "    </tr>\n",
       "  </tbody>\n",
       "</table>\n",
       "<p>1885 rows × 19 columns</p>\n",
       "</div>"
      ],
      "text/plain": [
       "      ALC AMPHET AMYL BENZOS CAFF CANNABIS CHOC COCAINE CRACK ECST HEROIN  \\\n",
       "0     CL5    CL2  CL0    CL2  CL6      CL0  CL5     CL0   CL0  CL0    CL0   \n",
       "1     CL5    CL2  CL2    CL0  CL6      CL4  CL6     CL3   CL0  CL4    CL0   \n",
       "2     CL6    CL0  CL0    CL0  CL6      CL3  CL4     CL0   CL0  CL0    CL0   \n",
       "3     CL4    CL0  CL0    CL3  CL5      CL2  CL4     CL2   CL0  CL0    CL0   \n",
       "4     CL4    CL1  CL1    CL0  CL6      CL3  CL6     CL0   CL0  CL1    CL0   \n",
       "...   ...    ...  ...    ...  ...      ...  ...     ...   ...  ...    ...   \n",
       "1880  CL5    CL0  CL0    CL0  CL4      CL5  CL4     CL0   CL0  CL0    CL0   \n",
       "1881  CL5    CL0  CL0    CL0  CL5      CL3  CL4     CL0   CL0  CL2    CL0   \n",
       "1882  CL4    CL6  CL5    CL5  CL6      CL6  CL6     CL4   CL0  CL4    CL0   \n",
       "1883  CL5    CL0  CL0    CL0  CL6      CL6  CL5     CL0   CL0  CL3    CL0   \n",
       "1884  CL4    CL3  CL0    CL3  CL6      CL3  CL6     CL3   CL0  CL3    CL0   \n",
       "\n",
       "     KETA LEGALH  LSD METH MUSHRM NICO SEMER  VSA  \n",
       "0     CL0    CL0  CL0  CL0    CL0  CL2   CL0  CL0  \n",
       "1     CL2    CL0  CL2  CL3    CL0  CL4   CL0  CL0  \n",
       "2     CL0    CL0  CL0  CL0    CL1  CL0   CL0  CL0  \n",
       "3     CL2    CL0  CL0  CL0    CL0  CL2   CL0  CL0  \n",
       "4     CL0    CL1  CL0  CL0    CL2  CL2   CL0  CL0  \n",
       "...   ...    ...  ...  ...    ...  ...   ...  ...  \n",
       "1880  CL0    CL3  CL3  CL0    CL0  CL0   CL0  CL5  \n",
       "1881  CL0    CL3  CL5  CL4    CL4  CL5   CL0  CL0  \n",
       "1882  CL2    CL0  CL2  CL0    CL2  CL6   CL0  CL0  \n",
       "1883  CL0    CL3  CL3  CL0    CL3  CL4   CL0  CL0  \n",
       "1884  CL0    CL3  CL3  CL0    CL3  CL6   CL0  CL2  \n",
       "\n",
       "[1885 rows x 19 columns]"
      ]
     },
     "execution_count": 3,
     "metadata": {},
     "output_type": "execute_result"
    }
   ],
   "source": [
    "#select only the drug variable columns\n",
    "df.iloc[:,13:]"
   ]
  },
  {
   "cell_type": "code",
   "execution_count": 4,
   "id": "ed8871fa",
   "metadata": {},
   "outputs": [
    {
     "data": {
      "text/html": [
       "<div>\n",
       "<style scoped>\n",
       "    .dataframe tbody tr th:only-of-type {\n",
       "        vertical-align: middle;\n",
       "    }\n",
       "\n",
       "    .dataframe tbody tr th {\n",
       "        vertical-align: top;\n",
       "    }\n",
       "\n",
       "    .dataframe thead th {\n",
       "        text-align: right;\n",
       "    }\n",
       "</style>\n",
       "<table border=\"1\" class=\"dataframe\">\n",
       "  <thead>\n",
       "    <tr style=\"text-align: right;\">\n",
       "      <th></th>\n",
       "      <th>ALC</th>\n",
       "      <th>AMPHET</th>\n",
       "      <th>AMYL</th>\n",
       "      <th>BENZOS</th>\n",
       "      <th>CAFF</th>\n",
       "      <th>CANNABIS</th>\n",
       "      <th>CHOC</th>\n",
       "      <th>COCAINE</th>\n",
       "      <th>CRACK</th>\n",
       "      <th>ECST</th>\n",
       "      <th>HEROIN</th>\n",
       "      <th>KETA</th>\n",
       "      <th>LEGALH</th>\n",
       "      <th>LSD</th>\n",
       "      <th>METH</th>\n",
       "      <th>MUSHRM</th>\n",
       "      <th>NICO</th>\n",
       "      <th>SEMER</th>\n",
       "      <th>VSA</th>\n",
       "    </tr>\n",
       "  </thead>\n",
       "  <tbody>\n",
       "    <tr>\n",
       "      <th>0</th>\n",
       "      <td>5</td>\n",
       "      <td>2</td>\n",
       "      <td>0</td>\n",
       "      <td>2</td>\n",
       "      <td>6</td>\n",
       "      <td>0</td>\n",
       "      <td>5</td>\n",
       "      <td>0</td>\n",
       "      <td>0</td>\n",
       "      <td>0</td>\n",
       "      <td>0</td>\n",
       "      <td>0</td>\n",
       "      <td>0</td>\n",
       "      <td>0</td>\n",
       "      <td>0</td>\n",
       "      <td>0</td>\n",
       "      <td>2</td>\n",
       "      <td>0</td>\n",
       "      <td>0</td>\n",
       "    </tr>\n",
       "    <tr>\n",
       "      <th>1</th>\n",
       "      <td>5</td>\n",
       "      <td>2</td>\n",
       "      <td>2</td>\n",
       "      <td>0</td>\n",
       "      <td>6</td>\n",
       "      <td>4</td>\n",
       "      <td>6</td>\n",
       "      <td>3</td>\n",
       "      <td>0</td>\n",
       "      <td>4</td>\n",
       "      <td>0</td>\n",
       "      <td>2</td>\n",
       "      <td>0</td>\n",
       "      <td>2</td>\n",
       "      <td>3</td>\n",
       "      <td>0</td>\n",
       "      <td>4</td>\n",
       "      <td>0</td>\n",
       "      <td>0</td>\n",
       "    </tr>\n",
       "    <tr>\n",
       "      <th>2</th>\n",
       "      <td>6</td>\n",
       "      <td>0</td>\n",
       "      <td>0</td>\n",
       "      <td>0</td>\n",
       "      <td>6</td>\n",
       "      <td>3</td>\n",
       "      <td>4</td>\n",
       "      <td>0</td>\n",
       "      <td>0</td>\n",
       "      <td>0</td>\n",
       "      <td>0</td>\n",
       "      <td>0</td>\n",
       "      <td>0</td>\n",
       "      <td>0</td>\n",
       "      <td>0</td>\n",
       "      <td>1</td>\n",
       "      <td>0</td>\n",
       "      <td>0</td>\n",
       "      <td>0</td>\n",
       "    </tr>\n",
       "    <tr>\n",
       "      <th>3</th>\n",
       "      <td>4</td>\n",
       "      <td>0</td>\n",
       "      <td>0</td>\n",
       "      <td>3</td>\n",
       "      <td>5</td>\n",
       "      <td>2</td>\n",
       "      <td>4</td>\n",
       "      <td>2</td>\n",
       "      <td>0</td>\n",
       "      <td>0</td>\n",
       "      <td>0</td>\n",
       "      <td>2</td>\n",
       "      <td>0</td>\n",
       "      <td>0</td>\n",
       "      <td>0</td>\n",
       "      <td>0</td>\n",
       "      <td>2</td>\n",
       "      <td>0</td>\n",
       "      <td>0</td>\n",
       "    </tr>\n",
       "    <tr>\n",
       "      <th>4</th>\n",
       "      <td>4</td>\n",
       "      <td>1</td>\n",
       "      <td>1</td>\n",
       "      <td>0</td>\n",
       "      <td>6</td>\n",
       "      <td>3</td>\n",
       "      <td>6</td>\n",
       "      <td>0</td>\n",
       "      <td>0</td>\n",
       "      <td>1</td>\n",
       "      <td>0</td>\n",
       "      <td>0</td>\n",
       "      <td>1</td>\n",
       "      <td>0</td>\n",
       "      <td>0</td>\n",
       "      <td>2</td>\n",
       "      <td>2</td>\n",
       "      <td>0</td>\n",
       "      <td>0</td>\n",
       "    </tr>\n",
       "    <tr>\n",
       "      <th>...</th>\n",
       "      <td>...</td>\n",
       "      <td>...</td>\n",
       "      <td>...</td>\n",
       "      <td>...</td>\n",
       "      <td>...</td>\n",
       "      <td>...</td>\n",
       "      <td>...</td>\n",
       "      <td>...</td>\n",
       "      <td>...</td>\n",
       "      <td>...</td>\n",
       "      <td>...</td>\n",
       "      <td>...</td>\n",
       "      <td>...</td>\n",
       "      <td>...</td>\n",
       "      <td>...</td>\n",
       "      <td>...</td>\n",
       "      <td>...</td>\n",
       "      <td>...</td>\n",
       "      <td>...</td>\n",
       "    </tr>\n",
       "    <tr>\n",
       "      <th>1880</th>\n",
       "      <td>5</td>\n",
       "      <td>0</td>\n",
       "      <td>0</td>\n",
       "      <td>0</td>\n",
       "      <td>4</td>\n",
       "      <td>5</td>\n",
       "      <td>4</td>\n",
       "      <td>0</td>\n",
       "      <td>0</td>\n",
       "      <td>0</td>\n",
       "      <td>0</td>\n",
       "      <td>0</td>\n",
       "      <td>3</td>\n",
       "      <td>3</td>\n",
       "      <td>0</td>\n",
       "      <td>0</td>\n",
       "      <td>0</td>\n",
       "      <td>0</td>\n",
       "      <td>5</td>\n",
       "    </tr>\n",
       "    <tr>\n",
       "      <th>1881</th>\n",
       "      <td>5</td>\n",
       "      <td>0</td>\n",
       "      <td>0</td>\n",
       "      <td>0</td>\n",
       "      <td>5</td>\n",
       "      <td>3</td>\n",
       "      <td>4</td>\n",
       "      <td>0</td>\n",
       "      <td>0</td>\n",
       "      <td>2</td>\n",
       "      <td>0</td>\n",
       "      <td>0</td>\n",
       "      <td>3</td>\n",
       "      <td>5</td>\n",
       "      <td>4</td>\n",
       "      <td>4</td>\n",
       "      <td>5</td>\n",
       "      <td>0</td>\n",
       "      <td>0</td>\n",
       "    </tr>\n",
       "    <tr>\n",
       "      <th>1882</th>\n",
       "      <td>4</td>\n",
       "      <td>6</td>\n",
       "      <td>5</td>\n",
       "      <td>5</td>\n",
       "      <td>6</td>\n",
       "      <td>6</td>\n",
       "      <td>6</td>\n",
       "      <td>4</td>\n",
       "      <td>0</td>\n",
       "      <td>4</td>\n",
       "      <td>0</td>\n",
       "      <td>2</td>\n",
       "      <td>0</td>\n",
       "      <td>2</td>\n",
       "      <td>0</td>\n",
       "      <td>2</td>\n",
       "      <td>6</td>\n",
       "      <td>0</td>\n",
       "      <td>0</td>\n",
       "    </tr>\n",
       "    <tr>\n",
       "      <th>1883</th>\n",
       "      <td>5</td>\n",
       "      <td>0</td>\n",
       "      <td>0</td>\n",
       "      <td>0</td>\n",
       "      <td>6</td>\n",
       "      <td>6</td>\n",
       "      <td>5</td>\n",
       "      <td>0</td>\n",
       "      <td>0</td>\n",
       "      <td>3</td>\n",
       "      <td>0</td>\n",
       "      <td>0</td>\n",
       "      <td>3</td>\n",
       "      <td>3</td>\n",
       "      <td>0</td>\n",
       "      <td>3</td>\n",
       "      <td>4</td>\n",
       "      <td>0</td>\n",
       "      <td>0</td>\n",
       "    </tr>\n",
       "    <tr>\n",
       "      <th>1884</th>\n",
       "      <td>4</td>\n",
       "      <td>3</td>\n",
       "      <td>0</td>\n",
       "      <td>3</td>\n",
       "      <td>6</td>\n",
       "      <td>3</td>\n",
       "      <td>6</td>\n",
       "      <td>3</td>\n",
       "      <td>0</td>\n",
       "      <td>3</td>\n",
       "      <td>0</td>\n",
       "      <td>0</td>\n",
       "      <td>3</td>\n",
       "      <td>3</td>\n",
       "      <td>0</td>\n",
       "      <td>3</td>\n",
       "      <td>6</td>\n",
       "      <td>0</td>\n",
       "      <td>2</td>\n",
       "    </tr>\n",
       "  </tbody>\n",
       "</table>\n",
       "<p>1885 rows × 19 columns</p>\n",
       "</div>"
      ],
      "text/plain": [
       "     ALC AMPHET AMYL BENZOS CAFF CANNABIS CHOC COCAINE CRACK ECST HEROIN KETA  \\\n",
       "0      5      2    0      2    6        0    5       0     0    0      0    0   \n",
       "1      5      2    2      0    6        4    6       3     0    4      0    2   \n",
       "2      6      0    0      0    6        3    4       0     0    0      0    0   \n",
       "3      4      0    0      3    5        2    4       2     0    0      0    2   \n",
       "4      4      1    1      0    6        3    6       0     0    1      0    0   \n",
       "...   ..    ...  ...    ...  ...      ...  ...     ...   ...  ...    ...  ...   \n",
       "1880   5      0    0      0    4        5    4       0     0    0      0    0   \n",
       "1881   5      0    0      0    5        3    4       0     0    2      0    0   \n",
       "1882   4      6    5      5    6        6    6       4     0    4      0    2   \n",
       "1883   5      0    0      0    6        6    5       0     0    3      0    0   \n",
       "1884   4      3    0      3    6        3    6       3     0    3      0    0   \n",
       "\n",
       "     LEGALH LSD METH MUSHRM NICO SEMER VSA  \n",
       "0         0   0    0      0    2     0   0  \n",
       "1         0   2    3      0    4     0   0  \n",
       "2         0   0    0      1    0     0   0  \n",
       "3         0   0    0      0    2     0   0  \n",
       "4         1   0    0      2    2     0   0  \n",
       "...     ...  ..  ...    ...  ...   ...  ..  \n",
       "1880      3   3    0      0    0     0   5  \n",
       "1881      3   5    4      4    5     0   0  \n",
       "1882      0   2    0      2    6     0   0  \n",
       "1883      3   3    0      3    4     0   0  \n",
       "1884      3   3    0      3    6     0   2  \n",
       "\n",
       "[1885 rows x 19 columns]"
      ]
     },
     "execution_count": 4,
     "metadata": {},
     "output_type": "execute_result"
    }
   ],
   "source": [
    "#remove 'CL' prefix\n",
    "df.iloc[:,13:] = df.iloc[:,13:].applymap(lambda x: re.sub('CL','',x))\n",
    "df.iloc[:,13:]"
   ]
  },
  {
   "cell_type": "code",
   "execution_count": 5,
   "id": "925f9d46",
   "metadata": {},
   "outputs": [
    {
     "name": "stdout",
     "output_type": "stream",
     "text": [
      "<class 'pandas.core.frame.DataFrame'>\n",
      "RangeIndex: 1885 entries, 0 to 1884\n",
      "Data columns (total 32 columns):\n",
      " #   Column     Non-Null Count  Dtype  \n",
      "---  ------     --------------  -----  \n",
      " 0   ID         1885 non-null   int64  \n",
      " 1   Age        1885 non-null   float64\n",
      " 2   Gender     1885 non-null   float64\n",
      " 3   Education  1885 non-null   float64\n",
      " 4   Country    1885 non-null   float64\n",
      " 5   Ethnicity  1885 non-null   float64\n",
      " 6   NEO_N      1885 non-null   float64\n",
      " 7   NEO_E      1885 non-null   float64\n",
      " 8   NEO_O      1885 non-null   float64\n",
      " 9   NEO_A      1885 non-null   float64\n",
      " 10  NEO_C      1885 non-null   float64\n",
      " 11  IMP        1885 non-null   float64\n",
      " 12  SS         1885 non-null   float64\n",
      " 13  ALC        1885 non-null   int32  \n",
      " 14  AMPHET     1885 non-null   int32  \n",
      " 15  AMYL       1885 non-null   int32  \n",
      " 16  BENZOS     1885 non-null   int32  \n",
      " 17  CAFF       1885 non-null   int32  \n",
      " 18  CANNABIS   1885 non-null   int32  \n",
      " 19  CHOC       1885 non-null   int32  \n",
      " 20  COCAINE    1885 non-null   int32  \n",
      " 21  CRACK      1885 non-null   int32  \n",
      " 22  ECST       1885 non-null   int32  \n",
      " 23  HEROIN     1885 non-null   int32  \n",
      " 24  KETA       1885 non-null   int32  \n",
      " 25  LEGALH     1885 non-null   int32  \n",
      " 26  LSD        1885 non-null   int32  \n",
      " 27  METH       1885 non-null   int32  \n",
      " 28  MUSHRM     1885 non-null   int32  \n",
      " 29  NICO       1885 non-null   int32  \n",
      " 30  SEMER      1885 non-null   int32  \n",
      " 31  VSA        1885 non-null   int32  \n",
      "dtypes: float64(12), int32(19), int64(1)\n",
      "memory usage: 331.5 KB\n"
     ]
    }
   ],
   "source": [
    "#recode as integer field type\n",
    "df.iloc[:,13:] = df.iloc[:,13:].apply(lambda x: x.astype(int))\n",
    "#check for field type of outcomes (should be integers)\n",
    "df.info()"
   ]
  },
  {
   "cell_type": "markdown",
   "id": "e290bb20",
   "metadata": {},
   "source": [
    "### Create 3 broader outcome variables (*Stimulants, Depressants and Hallucinogens*)"
   ]
  },
  {
   "cell_type": "code",
   "execution_count": 6,
   "id": "297a7ab5",
   "metadata": {},
   "outputs": [],
   "source": [
    "#testing function to group drugs to create a new outcome variable\n",
    "def create_drug_test(row):      \n",
    "    return max(row['ALC'],row['AMPHET'],row['AMYL'],\\\n",
    "              row['BENZOS'],row['CANNABIS'])"
   ]
  },
  {
   "cell_type": "code",
   "execution_count": 7,
   "id": "65e213f7",
   "metadata": {},
   "outputs": [
    {
     "data": {
      "text/html": [
       "<div>\n",
       "<style scoped>\n",
       "    .dataframe tbody tr th:only-of-type {\n",
       "        vertical-align: middle;\n",
       "    }\n",
       "\n",
       "    .dataframe tbody tr th {\n",
       "        vertical-align: top;\n",
       "    }\n",
       "\n",
       "    .dataframe thead th {\n",
       "        text-align: right;\n",
       "    }\n",
       "</style>\n",
       "<table border=\"1\" class=\"dataframe\">\n",
       "  <thead>\n",
       "    <tr style=\"text-align: right;\">\n",
       "      <th></th>\n",
       "      <th>ALC</th>\n",
       "      <th>AMPHET</th>\n",
       "      <th>AMYL</th>\n",
       "      <th>BENZOS</th>\n",
       "      <th>CAFF</th>\n",
       "      <th>CANNABIS</th>\n",
       "      <th>CHOC</th>\n",
       "      <th>COCAINE</th>\n",
       "      <th>CRACK</th>\n",
       "      <th>ECST</th>\n",
       "      <th>HEROIN</th>\n",
       "      <th>KETA</th>\n",
       "      <th>LEGALH</th>\n",
       "      <th>LSD</th>\n",
       "      <th>METH</th>\n",
       "      <th>MUSHRM</th>\n",
       "      <th>NICO</th>\n",
       "      <th>SEMER</th>\n",
       "      <th>VSA</th>\n",
       "    </tr>\n",
       "  </thead>\n",
       "  <tbody>\n",
       "    <tr>\n",
       "      <th>0</th>\n",
       "      <td>5</td>\n",
       "      <td>2</td>\n",
       "      <td>0</td>\n",
       "      <td>2</td>\n",
       "      <td>6</td>\n",
       "      <td>0</td>\n",
       "      <td>5</td>\n",
       "      <td>0</td>\n",
       "      <td>0</td>\n",
       "      <td>0</td>\n",
       "      <td>0</td>\n",
       "      <td>0</td>\n",
       "      <td>0</td>\n",
       "      <td>0</td>\n",
       "      <td>0</td>\n",
       "      <td>0</td>\n",
       "      <td>2</td>\n",
       "      <td>0</td>\n",
       "      <td>0</td>\n",
       "    </tr>\n",
       "    <tr>\n",
       "      <th>1</th>\n",
       "      <td>5</td>\n",
       "      <td>2</td>\n",
       "      <td>2</td>\n",
       "      <td>0</td>\n",
       "      <td>6</td>\n",
       "      <td>4</td>\n",
       "      <td>6</td>\n",
       "      <td>3</td>\n",
       "      <td>0</td>\n",
       "      <td>4</td>\n",
       "      <td>0</td>\n",
       "      <td>2</td>\n",
       "      <td>0</td>\n",
       "      <td>2</td>\n",
       "      <td>3</td>\n",
       "      <td>0</td>\n",
       "      <td>4</td>\n",
       "      <td>0</td>\n",
       "      <td>0</td>\n",
       "    </tr>\n",
       "    <tr>\n",
       "      <th>2</th>\n",
       "      <td>6</td>\n",
       "      <td>0</td>\n",
       "      <td>0</td>\n",
       "      <td>0</td>\n",
       "      <td>6</td>\n",
       "      <td>3</td>\n",
       "      <td>4</td>\n",
       "      <td>0</td>\n",
       "      <td>0</td>\n",
       "      <td>0</td>\n",
       "      <td>0</td>\n",
       "      <td>0</td>\n",
       "      <td>0</td>\n",
       "      <td>0</td>\n",
       "      <td>0</td>\n",
       "      <td>1</td>\n",
       "      <td>0</td>\n",
       "      <td>0</td>\n",
       "      <td>0</td>\n",
       "    </tr>\n",
       "  </tbody>\n",
       "</table>\n",
       "</div>"
      ],
      "text/plain": [
       "   ALC  AMPHET  AMYL  BENZOS  CAFF  CANNABIS  CHOC  COCAINE  CRACK  ECST  \\\n",
       "0    5       2     0       2     6         0     5        0      0     0   \n",
       "1    5       2     2       0     6         4     6        3      0     4   \n",
       "2    6       0     0       0     6         3     4        0      0     0   \n",
       "\n",
       "   HEROIN  KETA  LEGALH  LSD  METH  MUSHRM  NICO  SEMER  VSA  \n",
       "0       0     0       0    0     0       0     2      0    0  \n",
       "1       0     2       0    2     3       0     4      0    0  \n",
       "2       0     0       0    0     0       1     0      0    0  "
      ]
     },
     "metadata": {},
     "output_type": "display_data"
    },
    {
     "data": {
      "text/plain": [
       "0    5\n",
       "1    5\n",
       "2    6\n",
       "dtype: int64"
      ]
     },
     "metadata": {},
     "output_type": "display_data"
    }
   ],
   "source": [
    "#test on first three throws - before and after\n",
    "display(df.iloc[:3,13:])\n",
    "\n",
    "#selection from row\n",
    "display(df.iloc[:3,13:].apply(lambda x: create_drug_test(x), axis=1))"
   ]
  },
  {
   "cell_type": "code",
   "execution_count": 8,
   "id": "23e7eae0",
   "metadata": {},
   "outputs": [],
   "source": [
    "#function to group drugs to create a new stimulants outcome variable\n",
    "def create_stimulants(row):      \n",
    "    return max(row['AMPHET'],row['NICO'],row['COCAINE'],\\\n",
    "              row['CRACK'],row['CAFF'],row['CHOC'])"
   ]
  },
  {
   "cell_type": "code",
   "execution_count": 9,
   "id": "aea18d9f",
   "metadata": {},
   "outputs": [],
   "source": [
    "#function to group drugs to create a new depressants outcome variable\n",
    "def create_depressants(row):      \n",
    "    return max(row['ALC'],row['AMYL'],row['BENZOS'],row['VSA'],row['HEROIN'],\\\n",
    "              row['METH'])"
   ]
  },
  {
   "cell_type": "code",
   "execution_count": 10,
   "id": "0f793f3f",
   "metadata": {},
   "outputs": [],
   "source": [
    "#function to group drugs to create a new hallucinogens outcome variable\n",
    "def create_hallucinogens(row):      \n",
    "    return max(row['CANNABIS'],row['ECST'],row['KETA'],row['LSD'],\\\n",
    "               row['MUSHRM'],row['LEGALH'])"
   ]
  },
  {
   "cell_type": "code",
   "execution_count": 11,
   "id": "48d08ec6",
   "metadata": {},
   "outputs": [],
   "source": [
    "df[\"stimulants\"] = df.iloc[:,13:].apply(lambda x: create_stimulants(x).astype(int), axis=1)\n",
    "df[\"depressants\"] = df.iloc[:,13:].apply(lambda x: create_depressants(x).astype(int), axis=1)\n",
    "df[\"hallucinogens\"] = df.iloc[:,13:].apply(lambda x: create_hallucinogens(x).astype(int), axis=1)\n",
    "\n"
   ]
  },
  {
   "cell_type": "code",
   "execution_count": 12,
   "id": "ef395be0",
   "metadata": {},
   "outputs": [
    {
     "data": {
      "text/html": [
       "<div>\n",
       "<style scoped>\n",
       "    .dataframe tbody tr th:only-of-type {\n",
       "        vertical-align: middle;\n",
       "    }\n",
       "\n",
       "    .dataframe tbody tr th {\n",
       "        vertical-align: top;\n",
       "    }\n",
       "\n",
       "    .dataframe thead th {\n",
       "        text-align: right;\n",
       "    }\n",
       "</style>\n",
       "<table border=\"1\" class=\"dataframe\">\n",
       "  <thead>\n",
       "    <tr style=\"text-align: right;\">\n",
       "      <th></th>\n",
       "      <th>ID</th>\n",
       "      <th>Age</th>\n",
       "      <th>Gender</th>\n",
       "      <th>Education</th>\n",
       "      <th>Country</th>\n",
       "      <th>Ethnicity</th>\n",
       "      <th>NEO_N</th>\n",
       "      <th>NEO_E</th>\n",
       "      <th>NEO_O</th>\n",
       "      <th>NEO_A</th>\n",
       "      <th>...</th>\n",
       "      <th>LEGALH</th>\n",
       "      <th>LSD</th>\n",
       "      <th>METH</th>\n",
       "      <th>MUSHRM</th>\n",
       "      <th>NICO</th>\n",
       "      <th>SEMER</th>\n",
       "      <th>VSA</th>\n",
       "      <th>stimulants</th>\n",
       "      <th>depressants</th>\n",
       "      <th>hallucinogens</th>\n",
       "    </tr>\n",
       "  </thead>\n",
       "  <tbody>\n",
       "    <tr>\n",
       "      <th>0</th>\n",
       "      <td>1</td>\n",
       "      <td>0.49788</td>\n",
       "      <td>0.48246</td>\n",
       "      <td>-0.05921</td>\n",
       "      <td>0.96082</td>\n",
       "      <td>0.12600</td>\n",
       "      <td>0.31287</td>\n",
       "      <td>-0.57545</td>\n",
       "      <td>-0.58331</td>\n",
       "      <td>-0.91699</td>\n",
       "      <td>...</td>\n",
       "      <td>0</td>\n",
       "      <td>0</td>\n",
       "      <td>0</td>\n",
       "      <td>0</td>\n",
       "      <td>2</td>\n",
       "      <td>0</td>\n",
       "      <td>0</td>\n",
       "      <td>6</td>\n",
       "      <td>5</td>\n",
       "      <td>0</td>\n",
       "    </tr>\n",
       "    <tr>\n",
       "      <th>1</th>\n",
       "      <td>2</td>\n",
       "      <td>-0.07854</td>\n",
       "      <td>-0.48246</td>\n",
       "      <td>1.98437</td>\n",
       "      <td>0.96082</td>\n",
       "      <td>-0.31685</td>\n",
       "      <td>-0.67825</td>\n",
       "      <td>1.93886</td>\n",
       "      <td>1.43533</td>\n",
       "      <td>0.76096</td>\n",
       "      <td>...</td>\n",
       "      <td>0</td>\n",
       "      <td>2</td>\n",
       "      <td>3</td>\n",
       "      <td>0</td>\n",
       "      <td>4</td>\n",
       "      <td>0</td>\n",
       "      <td>0</td>\n",
       "      <td>6</td>\n",
       "      <td>5</td>\n",
       "      <td>4</td>\n",
       "    </tr>\n",
       "    <tr>\n",
       "      <th>2</th>\n",
       "      <td>3</td>\n",
       "      <td>0.49788</td>\n",
       "      <td>-0.48246</td>\n",
       "      <td>-0.05921</td>\n",
       "      <td>0.96082</td>\n",
       "      <td>-0.31685</td>\n",
       "      <td>-0.46725</td>\n",
       "      <td>0.80523</td>\n",
       "      <td>-0.84732</td>\n",
       "      <td>-1.62090</td>\n",
       "      <td>...</td>\n",
       "      <td>0</td>\n",
       "      <td>0</td>\n",
       "      <td>0</td>\n",
       "      <td>1</td>\n",
       "      <td>0</td>\n",
       "      <td>0</td>\n",
       "      <td>0</td>\n",
       "      <td>6</td>\n",
       "      <td>6</td>\n",
       "      <td>3</td>\n",
       "    </tr>\n",
       "    <tr>\n",
       "      <th>3</th>\n",
       "      <td>4</td>\n",
       "      <td>-0.95197</td>\n",
       "      <td>0.48246</td>\n",
       "      <td>1.16365</td>\n",
       "      <td>0.96082</td>\n",
       "      <td>-0.31685</td>\n",
       "      <td>-0.14882</td>\n",
       "      <td>-0.80615</td>\n",
       "      <td>-0.01928</td>\n",
       "      <td>0.59042</td>\n",
       "      <td>...</td>\n",
       "      <td>0</td>\n",
       "      <td>0</td>\n",
       "      <td>0</td>\n",
       "      <td>0</td>\n",
       "      <td>2</td>\n",
       "      <td>0</td>\n",
       "      <td>0</td>\n",
       "      <td>5</td>\n",
       "      <td>4</td>\n",
       "      <td>2</td>\n",
       "    </tr>\n",
       "    <tr>\n",
       "      <th>4</th>\n",
       "      <td>5</td>\n",
       "      <td>0.49788</td>\n",
       "      <td>0.48246</td>\n",
       "      <td>1.98437</td>\n",
       "      <td>0.96082</td>\n",
       "      <td>-0.31685</td>\n",
       "      <td>0.73545</td>\n",
       "      <td>-1.63340</td>\n",
       "      <td>-0.45174</td>\n",
       "      <td>-0.30172</td>\n",
       "      <td>...</td>\n",
       "      <td>1</td>\n",
       "      <td>0</td>\n",
       "      <td>0</td>\n",
       "      <td>2</td>\n",
       "      <td>2</td>\n",
       "      <td>0</td>\n",
       "      <td>0</td>\n",
       "      <td>6</td>\n",
       "      <td>4</td>\n",
       "      <td>3</td>\n",
       "    </tr>\n",
       "    <tr>\n",
       "      <th>...</th>\n",
       "      <td>...</td>\n",
       "      <td>...</td>\n",
       "      <td>...</td>\n",
       "      <td>...</td>\n",
       "      <td>...</td>\n",
       "      <td>...</td>\n",
       "      <td>...</td>\n",
       "      <td>...</td>\n",
       "      <td>...</td>\n",
       "      <td>...</td>\n",
       "      <td>...</td>\n",
       "      <td>...</td>\n",
       "      <td>...</td>\n",
       "      <td>...</td>\n",
       "      <td>...</td>\n",
       "      <td>...</td>\n",
       "      <td>...</td>\n",
       "      <td>...</td>\n",
       "      <td>...</td>\n",
       "      <td>...</td>\n",
       "      <td>...</td>\n",
       "    </tr>\n",
       "    <tr>\n",
       "      <th>1880</th>\n",
       "      <td>1884</td>\n",
       "      <td>-0.95197</td>\n",
       "      <td>0.48246</td>\n",
       "      <td>-0.61113</td>\n",
       "      <td>-0.57009</td>\n",
       "      <td>-0.31685</td>\n",
       "      <td>-1.19430</td>\n",
       "      <td>1.74091</td>\n",
       "      <td>1.88511</td>\n",
       "      <td>0.76096</td>\n",
       "      <td>...</td>\n",
       "      <td>3</td>\n",
       "      <td>3</td>\n",
       "      <td>0</td>\n",
       "      <td>0</td>\n",
       "      <td>0</td>\n",
       "      <td>0</td>\n",
       "      <td>5</td>\n",
       "      <td>4</td>\n",
       "      <td>5</td>\n",
       "      <td>5</td>\n",
       "    </tr>\n",
       "    <tr>\n",
       "      <th>1881</th>\n",
       "      <td>1885</td>\n",
       "      <td>-0.95197</td>\n",
       "      <td>-0.48246</td>\n",
       "      <td>-0.61113</td>\n",
       "      <td>-0.57009</td>\n",
       "      <td>-0.31685</td>\n",
       "      <td>-0.24649</td>\n",
       "      <td>1.74091</td>\n",
       "      <td>0.58331</td>\n",
       "      <td>0.76096</td>\n",
       "      <td>...</td>\n",
       "      <td>3</td>\n",
       "      <td>5</td>\n",
       "      <td>4</td>\n",
       "      <td>4</td>\n",
       "      <td>5</td>\n",
       "      <td>0</td>\n",
       "      <td>0</td>\n",
       "      <td>5</td>\n",
       "      <td>5</td>\n",
       "      <td>5</td>\n",
       "    </tr>\n",
       "    <tr>\n",
       "      <th>1882</th>\n",
       "      <td>1886</td>\n",
       "      <td>-0.07854</td>\n",
       "      <td>0.48246</td>\n",
       "      <td>0.45468</td>\n",
       "      <td>-0.57009</td>\n",
       "      <td>-0.31685</td>\n",
       "      <td>1.13281</td>\n",
       "      <td>-1.37639</td>\n",
       "      <td>-1.27553</td>\n",
       "      <td>-1.77200</td>\n",
       "      <td>...</td>\n",
       "      <td>0</td>\n",
       "      <td>2</td>\n",
       "      <td>0</td>\n",
       "      <td>2</td>\n",
       "      <td>6</td>\n",
       "      <td>0</td>\n",
       "      <td>0</td>\n",
       "      <td>6</td>\n",
       "      <td>5</td>\n",
       "      <td>6</td>\n",
       "    </tr>\n",
       "    <tr>\n",
       "      <th>1883</th>\n",
       "      <td>1887</td>\n",
       "      <td>-0.95197</td>\n",
       "      <td>0.48246</td>\n",
       "      <td>-0.61113</td>\n",
       "      <td>-0.57009</td>\n",
       "      <td>-0.31685</td>\n",
       "      <td>0.91093</td>\n",
       "      <td>-1.92173</td>\n",
       "      <td>0.29338</td>\n",
       "      <td>-1.62090</td>\n",
       "      <td>...</td>\n",
       "      <td>3</td>\n",
       "      <td>3</td>\n",
       "      <td>0</td>\n",
       "      <td>3</td>\n",
       "      <td>4</td>\n",
       "      <td>0</td>\n",
       "      <td>0</td>\n",
       "      <td>6</td>\n",
       "      <td>5</td>\n",
       "      <td>6</td>\n",
       "    </tr>\n",
       "    <tr>\n",
       "      <th>1884</th>\n",
       "      <td>1888</td>\n",
       "      <td>-0.95197</td>\n",
       "      <td>-0.48246</td>\n",
       "      <td>-0.61113</td>\n",
       "      <td>0.21128</td>\n",
       "      <td>-0.31685</td>\n",
       "      <td>-0.46725</td>\n",
       "      <td>2.12700</td>\n",
       "      <td>1.65653</td>\n",
       "      <td>1.11406</td>\n",
       "      <td>...</td>\n",
       "      <td>3</td>\n",
       "      <td>3</td>\n",
       "      <td>0</td>\n",
       "      <td>3</td>\n",
       "      <td>6</td>\n",
       "      <td>0</td>\n",
       "      <td>2</td>\n",
       "      <td>6</td>\n",
       "      <td>4</td>\n",
       "      <td>3</td>\n",
       "    </tr>\n",
       "  </tbody>\n",
       "</table>\n",
       "<p>1885 rows × 35 columns</p>\n",
       "</div>"
      ],
      "text/plain": [
       "        ID      Age   Gender  Education  Country  Ethnicity    NEO_N    NEO_E  \\\n",
       "0        1  0.49788  0.48246   -0.05921  0.96082    0.12600  0.31287 -0.57545   \n",
       "1        2 -0.07854 -0.48246    1.98437  0.96082   -0.31685 -0.67825  1.93886   \n",
       "2        3  0.49788 -0.48246   -0.05921  0.96082   -0.31685 -0.46725  0.80523   \n",
       "3        4 -0.95197  0.48246    1.16365  0.96082   -0.31685 -0.14882 -0.80615   \n",
       "4        5  0.49788  0.48246    1.98437  0.96082   -0.31685  0.73545 -1.63340   \n",
       "...    ...      ...      ...        ...      ...        ...      ...      ...   \n",
       "1880  1884 -0.95197  0.48246   -0.61113 -0.57009   -0.31685 -1.19430  1.74091   \n",
       "1881  1885 -0.95197 -0.48246   -0.61113 -0.57009   -0.31685 -0.24649  1.74091   \n",
       "1882  1886 -0.07854  0.48246    0.45468 -0.57009   -0.31685  1.13281 -1.37639   \n",
       "1883  1887 -0.95197  0.48246   -0.61113 -0.57009   -0.31685  0.91093 -1.92173   \n",
       "1884  1888 -0.95197 -0.48246   -0.61113  0.21128   -0.31685 -0.46725  2.12700   \n",
       "\n",
       "        NEO_O    NEO_A  ...  LEGALH  LSD  METH  MUSHRM  NICO  SEMER  VSA  \\\n",
       "0    -0.58331 -0.91699  ...       0    0     0       0     2      0    0   \n",
       "1     1.43533  0.76096  ...       0    2     3       0     4      0    0   \n",
       "2    -0.84732 -1.62090  ...       0    0     0       1     0      0    0   \n",
       "3    -0.01928  0.59042  ...       0    0     0       0     2      0    0   \n",
       "4    -0.45174 -0.30172  ...       1    0     0       2     2      0    0   \n",
       "...       ...      ...  ...     ...  ...   ...     ...   ...    ...  ...   \n",
       "1880  1.88511  0.76096  ...       3    3     0       0     0      0    5   \n",
       "1881  0.58331  0.76096  ...       3    5     4       4     5      0    0   \n",
       "1882 -1.27553 -1.77200  ...       0    2     0       2     6      0    0   \n",
       "1883  0.29338 -1.62090  ...       3    3     0       3     4      0    0   \n",
       "1884  1.65653  1.11406  ...       3    3     0       3     6      0    2   \n",
       "\n",
       "      stimulants  depressants  hallucinogens  \n",
       "0              6            5              0  \n",
       "1              6            5              4  \n",
       "2              6            6              3  \n",
       "3              5            4              2  \n",
       "4              6            4              3  \n",
       "...          ...          ...            ...  \n",
       "1880           4            5              5  \n",
       "1881           5            5              5  \n",
       "1882           6            5              6  \n",
       "1883           6            5              6  \n",
       "1884           6            4              3  \n",
       "\n",
       "[1885 rows x 35 columns]"
      ]
     },
     "execution_count": 12,
     "metadata": {},
     "output_type": "execute_result"
    }
   ],
   "source": [
    "df"
   ]
  },
  {
   "cell_type": "markdown",
   "id": "41bcdc40",
   "metadata": {},
   "source": [
    "### Recode from 6 levels to 3 levels"
   ]
  },
  {
   "cell_type": "code",
   "execution_count": 13,
   "id": "30004f2d",
   "metadata": {},
   "outputs": [],
   "source": [
    "#define recoding function\n",
    "def recode(val):\n",
    "    if val >= 4:\n",
    "        return 3\n",
    "    if (val >=2) & (val< 4):\n",
    "        return 2\n",
    "    else:\n",
    "        return 0"
   ]
  },
  {
   "cell_type": "code",
   "execution_count": 14,
   "id": "a955f20d",
   "metadata": {},
   "outputs": [],
   "source": [
    "#apply recoding\n",
    "df[['stim_final','dep_final','hallu_final']] = df[['stimulants','depressants','hallucinogens']].applymap(lambda x: recode(x))"
   ]
  },
  {
   "cell_type": "code",
   "execution_count": 15,
   "id": "36a855a0",
   "metadata": {},
   "outputs": [
    {
     "data": {
      "text/html": [
       "<div>\n",
       "<style scoped>\n",
       "    .dataframe tbody tr th:only-of-type {\n",
       "        vertical-align: middle;\n",
       "    }\n",
       "\n",
       "    .dataframe tbody tr th {\n",
       "        vertical-align: top;\n",
       "    }\n",
       "\n",
       "    .dataframe thead th {\n",
       "        text-align: right;\n",
       "    }\n",
       "</style>\n",
       "<table border=\"1\" class=\"dataframe\">\n",
       "  <thead>\n",
       "    <tr style=\"text-align: right;\">\n",
       "      <th></th>\n",
       "      <th>ID</th>\n",
       "      <th>Age</th>\n",
       "      <th>Gender</th>\n",
       "      <th>Education</th>\n",
       "      <th>Country</th>\n",
       "      <th>Ethnicity</th>\n",
       "      <th>NEO_N</th>\n",
       "      <th>NEO_E</th>\n",
       "      <th>NEO_O</th>\n",
       "      <th>NEO_A</th>\n",
       "      <th>...</th>\n",
       "      <th>MUSHRM</th>\n",
       "      <th>NICO</th>\n",
       "      <th>SEMER</th>\n",
       "      <th>VSA</th>\n",
       "      <th>stimulants</th>\n",
       "      <th>depressants</th>\n",
       "      <th>hallucinogens</th>\n",
       "      <th>stim_final</th>\n",
       "      <th>dep_final</th>\n",
       "      <th>hallu_final</th>\n",
       "    </tr>\n",
       "  </thead>\n",
       "  <tbody>\n",
       "    <tr>\n",
       "      <th>0</th>\n",
       "      <td>1</td>\n",
       "      <td>0.49788</td>\n",
       "      <td>0.48246</td>\n",
       "      <td>-0.05921</td>\n",
       "      <td>0.96082</td>\n",
       "      <td>0.12600</td>\n",
       "      <td>0.31287</td>\n",
       "      <td>-0.57545</td>\n",
       "      <td>-0.58331</td>\n",
       "      <td>-0.91699</td>\n",
       "      <td>...</td>\n",
       "      <td>0</td>\n",
       "      <td>2</td>\n",
       "      <td>0</td>\n",
       "      <td>0</td>\n",
       "      <td>6</td>\n",
       "      <td>5</td>\n",
       "      <td>0</td>\n",
       "      <td>3</td>\n",
       "      <td>3</td>\n",
       "      <td>0</td>\n",
       "    </tr>\n",
       "    <tr>\n",
       "      <th>1</th>\n",
       "      <td>2</td>\n",
       "      <td>-0.07854</td>\n",
       "      <td>-0.48246</td>\n",
       "      <td>1.98437</td>\n",
       "      <td>0.96082</td>\n",
       "      <td>-0.31685</td>\n",
       "      <td>-0.67825</td>\n",
       "      <td>1.93886</td>\n",
       "      <td>1.43533</td>\n",
       "      <td>0.76096</td>\n",
       "      <td>...</td>\n",
       "      <td>0</td>\n",
       "      <td>4</td>\n",
       "      <td>0</td>\n",
       "      <td>0</td>\n",
       "      <td>6</td>\n",
       "      <td>5</td>\n",
       "      <td>4</td>\n",
       "      <td>3</td>\n",
       "      <td>3</td>\n",
       "      <td>3</td>\n",
       "    </tr>\n",
       "    <tr>\n",
       "      <th>2</th>\n",
       "      <td>3</td>\n",
       "      <td>0.49788</td>\n",
       "      <td>-0.48246</td>\n",
       "      <td>-0.05921</td>\n",
       "      <td>0.96082</td>\n",
       "      <td>-0.31685</td>\n",
       "      <td>-0.46725</td>\n",
       "      <td>0.80523</td>\n",
       "      <td>-0.84732</td>\n",
       "      <td>-1.62090</td>\n",
       "      <td>...</td>\n",
       "      <td>1</td>\n",
       "      <td>0</td>\n",
       "      <td>0</td>\n",
       "      <td>0</td>\n",
       "      <td>6</td>\n",
       "      <td>6</td>\n",
       "      <td>3</td>\n",
       "      <td>3</td>\n",
       "      <td>3</td>\n",
       "      <td>2</td>\n",
       "    </tr>\n",
       "    <tr>\n",
       "      <th>3</th>\n",
       "      <td>4</td>\n",
       "      <td>-0.95197</td>\n",
       "      <td>0.48246</td>\n",
       "      <td>1.16365</td>\n",
       "      <td>0.96082</td>\n",
       "      <td>-0.31685</td>\n",
       "      <td>-0.14882</td>\n",
       "      <td>-0.80615</td>\n",
       "      <td>-0.01928</td>\n",
       "      <td>0.59042</td>\n",
       "      <td>...</td>\n",
       "      <td>0</td>\n",
       "      <td>2</td>\n",
       "      <td>0</td>\n",
       "      <td>0</td>\n",
       "      <td>5</td>\n",
       "      <td>4</td>\n",
       "      <td>2</td>\n",
       "      <td>3</td>\n",
       "      <td>3</td>\n",
       "      <td>2</td>\n",
       "    </tr>\n",
       "    <tr>\n",
       "      <th>4</th>\n",
       "      <td>5</td>\n",
       "      <td>0.49788</td>\n",
       "      <td>0.48246</td>\n",
       "      <td>1.98437</td>\n",
       "      <td>0.96082</td>\n",
       "      <td>-0.31685</td>\n",
       "      <td>0.73545</td>\n",
       "      <td>-1.63340</td>\n",
       "      <td>-0.45174</td>\n",
       "      <td>-0.30172</td>\n",
       "      <td>...</td>\n",
       "      <td>2</td>\n",
       "      <td>2</td>\n",
       "      <td>0</td>\n",
       "      <td>0</td>\n",
       "      <td>6</td>\n",
       "      <td>4</td>\n",
       "      <td>3</td>\n",
       "      <td>3</td>\n",
       "      <td>3</td>\n",
       "      <td>2</td>\n",
       "    </tr>\n",
       "    <tr>\n",
       "      <th>...</th>\n",
       "      <td>...</td>\n",
       "      <td>...</td>\n",
       "      <td>...</td>\n",
       "      <td>...</td>\n",
       "      <td>...</td>\n",
       "      <td>...</td>\n",
       "      <td>...</td>\n",
       "      <td>...</td>\n",
       "      <td>...</td>\n",
       "      <td>...</td>\n",
       "      <td>...</td>\n",
       "      <td>...</td>\n",
       "      <td>...</td>\n",
       "      <td>...</td>\n",
       "      <td>...</td>\n",
       "      <td>...</td>\n",
       "      <td>...</td>\n",
       "      <td>...</td>\n",
       "      <td>...</td>\n",
       "      <td>...</td>\n",
       "      <td>...</td>\n",
       "    </tr>\n",
       "    <tr>\n",
       "      <th>1880</th>\n",
       "      <td>1884</td>\n",
       "      <td>-0.95197</td>\n",
       "      <td>0.48246</td>\n",
       "      <td>-0.61113</td>\n",
       "      <td>-0.57009</td>\n",
       "      <td>-0.31685</td>\n",
       "      <td>-1.19430</td>\n",
       "      <td>1.74091</td>\n",
       "      <td>1.88511</td>\n",
       "      <td>0.76096</td>\n",
       "      <td>...</td>\n",
       "      <td>0</td>\n",
       "      <td>0</td>\n",
       "      <td>0</td>\n",
       "      <td>5</td>\n",
       "      <td>4</td>\n",
       "      <td>5</td>\n",
       "      <td>5</td>\n",
       "      <td>3</td>\n",
       "      <td>3</td>\n",
       "      <td>3</td>\n",
       "    </tr>\n",
       "    <tr>\n",
       "      <th>1881</th>\n",
       "      <td>1885</td>\n",
       "      <td>-0.95197</td>\n",
       "      <td>-0.48246</td>\n",
       "      <td>-0.61113</td>\n",
       "      <td>-0.57009</td>\n",
       "      <td>-0.31685</td>\n",
       "      <td>-0.24649</td>\n",
       "      <td>1.74091</td>\n",
       "      <td>0.58331</td>\n",
       "      <td>0.76096</td>\n",
       "      <td>...</td>\n",
       "      <td>4</td>\n",
       "      <td>5</td>\n",
       "      <td>0</td>\n",
       "      <td>0</td>\n",
       "      <td>5</td>\n",
       "      <td>5</td>\n",
       "      <td>5</td>\n",
       "      <td>3</td>\n",
       "      <td>3</td>\n",
       "      <td>3</td>\n",
       "    </tr>\n",
       "    <tr>\n",
       "      <th>1882</th>\n",
       "      <td>1886</td>\n",
       "      <td>-0.07854</td>\n",
       "      <td>0.48246</td>\n",
       "      <td>0.45468</td>\n",
       "      <td>-0.57009</td>\n",
       "      <td>-0.31685</td>\n",
       "      <td>1.13281</td>\n",
       "      <td>-1.37639</td>\n",
       "      <td>-1.27553</td>\n",
       "      <td>-1.77200</td>\n",
       "      <td>...</td>\n",
       "      <td>2</td>\n",
       "      <td>6</td>\n",
       "      <td>0</td>\n",
       "      <td>0</td>\n",
       "      <td>6</td>\n",
       "      <td>5</td>\n",
       "      <td>6</td>\n",
       "      <td>3</td>\n",
       "      <td>3</td>\n",
       "      <td>3</td>\n",
       "    </tr>\n",
       "    <tr>\n",
       "      <th>1883</th>\n",
       "      <td>1887</td>\n",
       "      <td>-0.95197</td>\n",
       "      <td>0.48246</td>\n",
       "      <td>-0.61113</td>\n",
       "      <td>-0.57009</td>\n",
       "      <td>-0.31685</td>\n",
       "      <td>0.91093</td>\n",
       "      <td>-1.92173</td>\n",
       "      <td>0.29338</td>\n",
       "      <td>-1.62090</td>\n",
       "      <td>...</td>\n",
       "      <td>3</td>\n",
       "      <td>4</td>\n",
       "      <td>0</td>\n",
       "      <td>0</td>\n",
       "      <td>6</td>\n",
       "      <td>5</td>\n",
       "      <td>6</td>\n",
       "      <td>3</td>\n",
       "      <td>3</td>\n",
       "      <td>3</td>\n",
       "    </tr>\n",
       "    <tr>\n",
       "      <th>1884</th>\n",
       "      <td>1888</td>\n",
       "      <td>-0.95197</td>\n",
       "      <td>-0.48246</td>\n",
       "      <td>-0.61113</td>\n",
       "      <td>0.21128</td>\n",
       "      <td>-0.31685</td>\n",
       "      <td>-0.46725</td>\n",
       "      <td>2.12700</td>\n",
       "      <td>1.65653</td>\n",
       "      <td>1.11406</td>\n",
       "      <td>...</td>\n",
       "      <td>3</td>\n",
       "      <td>6</td>\n",
       "      <td>0</td>\n",
       "      <td>2</td>\n",
       "      <td>6</td>\n",
       "      <td>4</td>\n",
       "      <td>3</td>\n",
       "      <td>3</td>\n",
       "      <td>3</td>\n",
       "      <td>2</td>\n",
       "    </tr>\n",
       "  </tbody>\n",
       "</table>\n",
       "<p>1885 rows × 38 columns</p>\n",
       "</div>"
      ],
      "text/plain": [
       "        ID      Age   Gender  Education  Country  Ethnicity    NEO_N    NEO_E  \\\n",
       "0        1  0.49788  0.48246   -0.05921  0.96082    0.12600  0.31287 -0.57545   \n",
       "1        2 -0.07854 -0.48246    1.98437  0.96082   -0.31685 -0.67825  1.93886   \n",
       "2        3  0.49788 -0.48246   -0.05921  0.96082   -0.31685 -0.46725  0.80523   \n",
       "3        4 -0.95197  0.48246    1.16365  0.96082   -0.31685 -0.14882 -0.80615   \n",
       "4        5  0.49788  0.48246    1.98437  0.96082   -0.31685  0.73545 -1.63340   \n",
       "...    ...      ...      ...        ...      ...        ...      ...      ...   \n",
       "1880  1884 -0.95197  0.48246   -0.61113 -0.57009   -0.31685 -1.19430  1.74091   \n",
       "1881  1885 -0.95197 -0.48246   -0.61113 -0.57009   -0.31685 -0.24649  1.74091   \n",
       "1882  1886 -0.07854  0.48246    0.45468 -0.57009   -0.31685  1.13281 -1.37639   \n",
       "1883  1887 -0.95197  0.48246   -0.61113 -0.57009   -0.31685  0.91093 -1.92173   \n",
       "1884  1888 -0.95197 -0.48246   -0.61113  0.21128   -0.31685 -0.46725  2.12700   \n",
       "\n",
       "        NEO_O    NEO_A  ...  MUSHRM  NICO  SEMER  VSA  stimulants  \\\n",
       "0    -0.58331 -0.91699  ...       0     2      0    0           6   \n",
       "1     1.43533  0.76096  ...       0     4      0    0           6   \n",
       "2    -0.84732 -1.62090  ...       1     0      0    0           6   \n",
       "3    -0.01928  0.59042  ...       0     2      0    0           5   \n",
       "4    -0.45174 -0.30172  ...       2     2      0    0           6   \n",
       "...       ...      ...  ...     ...   ...    ...  ...         ...   \n",
       "1880  1.88511  0.76096  ...       0     0      0    5           4   \n",
       "1881  0.58331  0.76096  ...       4     5      0    0           5   \n",
       "1882 -1.27553 -1.77200  ...       2     6      0    0           6   \n",
       "1883  0.29338 -1.62090  ...       3     4      0    0           6   \n",
       "1884  1.65653  1.11406  ...       3     6      0    2           6   \n",
       "\n",
       "      depressants  hallucinogens  stim_final  dep_final  hallu_final  \n",
       "0               5              0           3          3            0  \n",
       "1               5              4           3          3            3  \n",
       "2               6              3           3          3            2  \n",
       "3               4              2           3          3            2  \n",
       "4               4              3           3          3            2  \n",
       "...           ...            ...         ...        ...          ...  \n",
       "1880            5              5           3          3            3  \n",
       "1881            5              5           3          3            3  \n",
       "1882            5              6           3          3            3  \n",
       "1883            5              6           3          3            3  \n",
       "1884            4              3           3          3            2  \n",
       "\n",
       "[1885 rows x 38 columns]"
      ]
     },
     "execution_count": 15,
     "metadata": {},
     "output_type": "execute_result"
    }
   ],
   "source": [
    "#output\n",
    "df"
   ]
  },
  {
   "cell_type": "code",
   "execution_count": 16,
   "id": "d5be8533",
   "metadata": {},
   "outputs": [
    {
     "data": {
      "text/html": [
       "<div>\n",
       "<style scoped>\n",
       "    .dataframe tbody tr th:only-of-type {\n",
       "        vertical-align: middle;\n",
       "    }\n",
       "\n",
       "    .dataframe tbody tr th {\n",
       "        vertical-align: top;\n",
       "    }\n",
       "\n",
       "    .dataframe thead th {\n",
       "        text-align: right;\n",
       "    }\n",
       "</style>\n",
       "<table border=\"1\" class=\"dataframe\">\n",
       "  <thead>\n",
       "    <tr style=\"text-align: right;\">\n",
       "      <th></th>\n",
       "      <th>stim_final</th>\n",
       "      <th>dep_final</th>\n",
       "      <th>hallu_final</th>\n",
       "    </tr>\n",
       "  </thead>\n",
       "  <tbody>\n",
       "    <tr>\n",
       "      <th>0</th>\n",
       "      <td>4</td>\n",
       "      <td>42</td>\n",
       "      <td>584</td>\n",
       "    </tr>\n",
       "    <tr>\n",
       "      <th>2</th>\n",
       "      <td>8</td>\n",
       "      <td>215</td>\n",
       "      <td>418</td>\n",
       "    </tr>\n",
       "    <tr>\n",
       "      <th>3</th>\n",
       "      <td>1873</td>\n",
       "      <td>1628</td>\n",
       "      <td>883</td>\n",
       "    </tr>\n",
       "  </tbody>\n",
       "</table>\n",
       "</div>"
      ],
      "text/plain": [
       "   stim_final  dep_final  hallu_final\n",
       "0           4         42          584\n",
       "2           8        215          418\n",
       "3        1873       1628          883"
      ]
     },
     "execution_count": 16,
     "metadata": {},
     "output_type": "execute_result"
    }
   ],
   "source": [
    "#look at value counts to ensure only 3 possible classes for each drug outcome\n",
    "df[['stim_final','dep_final','hallu_final']].apply(df.value_counts)"
   ]
  },
  {
   "cell_type": "markdown",
   "id": "9f52c087",
   "metadata": {},
   "source": [
    "# Initial Models\n",
    "\n",
    "In the following section, initial models are calibrated for the _**stimulants outcome variable**_. The models calibrated are:\n",
    "\n",
    "- Support Vector Machines\n",
    "- Multinomial Logit Regression (Softmax Regression)\n",
    "- K-Nearest Neighbours classifier\n",
    "- Decision Trees\n",
    "- Random Forests/Gradient Boosted Trees\n",
    "- Linear Discriminant Analysis (LDA)\n",
    "- Neural Network\n",
    "\n",
    "The model hyperparameters are default values for the time being and class have not yet been balanced. Another set of models will be run with balanced classes (SMOTE will be applied).\n",
    "\n",
    "Model accuracy scores are also quickly calculated for the test set (test/train split: 30/70)\n",
    "\n",
    "The section below provides a description of the methods used before going into the actual model calibration, fitting and scoring.\n",
    "\n",
    "\n",
    "**Support Vector Machine**\n",
    "\n",
    "Support Vector Machines are a supervised learning method that can be used for both classification and regression (Shmilovici, 2009). Knowing the labels for the data, the algorithm tries to find an optimal decision boundary known as a hyperplane in n-dimensional space (n is the number input features used) that can correctly classify the data points to the output labels given. The hyperplane that is selected is the one that separates the positive and negative classes by greatest margin, to allow for greater generalization. The hyperplane is usually a linear equation as the boundary is a straight line. SVMs however can be adapted to multiclass problems and non-linear hyperplanes (Burkov, 2019).\n",
    "\n",
    "**Logistic Regression and Multinomial Logits**\n",
    "\n",
    "Logistic Regression is a classification model which models the probabilities for binary outcomes (two outcomes) (Burkov, 2019). In logistic regression, a linear combination of inputs is squeezed by the standard logistic function or sigmoid function into a codomain of 0 and 1, resulting in an output of log odds. Negative values of the log odds can map to “0” and positive ones can map to “1”.\n",
    "\n",
    "We can also map back the probabilities by the following equation (Kleinbaum, Dietz, Gail, Klein, & Klein, 2002):\n",
    "\n",
    "〖p (x;b,w)=log〗⁡〖(p(x))/(1-p(x))〗  =  e^(β0+x·β )/(1+ e^(β0+x·β)  )  +  =  1/(1 + e^(-(β0+x·β)) )  \n",
    "\n",
    "A threshold probability is set (i.e., .5), and whenever p > .5 it will result in the positive (“1”). Multinomial Logistic Regression extends this model to produce probabilities for multiple classes (more than 2).\n",
    "\n",
    "**k-Nearest Neighbors Classifier**\n",
    "\n",
    "The k-Nearest Neighbors algorithm is a non-parametric supervised learning algorithm that can be used to classify or perform regression. When the algorithm sees a new sample x that does not have a label, it finds k training examples that are closest to x according to distances between n input features. Distance metrics include Manhattan distance or cosine similarity are calculated for all input features between x and data points in the training set. The k data points that have the smallest distance are deemed the closest to the x sample, and the majority label among the k data points is given to x (Burkov, 2019).\n",
    "\n",
    "**Decision Tree/Random Forest/Gradient Boosting Tree**\n",
    "\n",
    "A decision tree is a non-parametric model that builds an acyclic graph (Burkov, 2019). The algorithm chooses a rule to split the data on (branching from nodes). When a value is above a threshold it follows one side of the branch otherwise it goes to the other one. When no more splits can be made, a leaf node is reached, and a decision is reached about which class to assign the data point. To determine whether a split is good, Entropy is calculated where high levels of entropy mean all values of a variable are probable and low entropy is where only one value is possible. A random forest extends this concept by generating multiple trees, where it randomly selects a new subset of features at each split. The outputs are combined at the end (i.e., through majority vote) to get a final classification. In doing so, this avoids correlated trees which would decrease the accuracy of prediction and reduces the variance of the final model to minimize the chance of overfitting. Another extension of the decision tree is the Gradient Boosting Tree, where multiple trees are built, but this time, each tree depends on the last tree, as the residuals for the last tree are calculated and are added back in as new labels. This modified training set is then used to produce the next tree which will have even smaller errors (i.e., smaller residuals) (Burkov, 2019).\n",
    "\n",
    "**Neural Networks**\n",
    "\n",
    "A neural network consists of a series of nested functions called layers (Burkov, 2019). The first layer is the input layer which holds an activation function (i.e., a logistic regression function) chosen by the analyst and can have multiple units. The last layer is the output layer and has one unit to combine all inputs from the second last layer into one output value. To get from the inputs (x) to the first layer, different weights are applied to each input before they are fed into all the units in the first layer. If the activation function is activated the output value is passed to the next set of units in the next layer. This continues until the output layer which produces a final regression value or class prediction. The neural network then assesses the output with the expected output and then uses that information in a process called back propagation to adjust the weights before each layer to produce a better final overall prediction.\n",
    "\n",
    "\n",
    "\n",
    "## Setup"
   ]
  },
  {
   "cell_type": "code",
   "execution_count": 1,
   "id": "d0fa669c",
   "metadata": {},
   "outputs": [],
   "source": [
    "#import libraries\n",
    "from sklearn.model_selection import train_test_split\n",
    "from sklearn.linear_model import LogisticRegression\n",
    "from sklearn import svm\n",
    "from sklearn.neighbors import KNeighborsClassifier\n",
    "from sklearn.tree import DecisionTreeClassifier\n",
    "from sklearn.ensemble import GradientBoostingRegressor\n",
    "from sklearn.ensemble import GradientBoostingClassifier\n",
    "from sklearn.discriminant_analysis import LinearDiscriminantAnalysis\n",
    "from sklearn.neural_network import MLPClassifier"
   ]
  },
  {
   "cell_type": "code",
   "execution_count": 18,
   "id": "754ba21e",
   "metadata": {},
   "outputs": [],
   "source": [
    "#subset independent variables\n",
    "x_vars = df.iloc[:,:13]\n",
    "\n",
    "#subset outcome variables\n",
    "out = df[['stim_final','dep_final','hallu_final']]\n",
    "\n",
    "\n",
    "#creat test train sets\n",
    "X_train, X_test, y_train, y_test = train_test_split(x_vars,out, test_size=.4, random_state=42)"
   ]
  },
  {
   "cell_type": "markdown",
   "id": "f51d1857",
   "metadata": {},
   "source": [
    "## Support Vector Machine"
   ]
  },
  {
   "cell_type": "code",
   "execution_count": 19,
   "id": "888e950e",
   "metadata": {},
   "outputs": [
    {
     "name": "stderr",
     "output_type": "stream",
     "text": [
      "C:\\ProgramData\\Anaconda3\\lib\\site-packages\\sklearn\\svm\\_base.py:985: ConvergenceWarning: Liblinear failed to converge, increase the number of iterations.\n",
      "  warnings.warn(\"Liblinear failed to converge, increase \"\n"
     ]
    }
   ],
   "source": [
    "#instantiate SVM object\n",
    "lin_clf = svm.LinearSVC()\n",
    "\n",
    "#fit\n",
    "SVC = lin_clf.fit(X_train,y_train[\"stim_final\"])\n",
    "\n"
   ]
  },
  {
   "cell_type": "code",
   "execution_count": 20,
   "id": "0daa4752",
   "metadata": {},
   "outputs": [
    {
     "data": {
      "text/plain": [
       "0.28779840848806365"
      ]
     },
     "execution_count": 20,
     "metadata": {},
     "output_type": "execute_result"
    }
   ],
   "source": [
    "#accuracy score on test data set\n",
    "lin_clf.score(X_test,y_test[\"stim_final\"])"
   ]
  },
  {
   "cell_type": "markdown",
   "id": "98d370d6",
   "metadata": {},
   "source": [
    "## Logistic Regression"
   ]
  },
  {
   "cell_type": "code",
   "execution_count": 21,
   "id": "9221a16a",
   "metadata": {},
   "outputs": [
    {
     "name": "stderr",
     "output_type": "stream",
     "text": [
      "C:\\ProgramData\\Anaconda3\\lib\\site-packages\\sklearn\\linear_model\\_logistic.py:763: ConvergenceWarning: lbfgs failed to converge (status=1):\n",
      "STOP: TOTAL NO. of ITERATIONS REACHED LIMIT.\n",
      "\n",
      "Increase the number of iterations (max_iter) or scale the data as shown in:\n",
      "    https://scikit-learn.org/stable/modules/preprocessing.html\n",
      "Please also refer to the documentation for alternative solver options:\n",
      "    https://scikit-learn.org/stable/modules/linear_model.html#logistic-regression\n",
      "  n_iter_i = _check_optimize_result(\n"
     ]
    }
   ],
   "source": [
    "#instantiate logistic regression\n",
    "mnlogit = LogisticRegression(multi_class ='multinomial',fit_intercept = True , solver ='lbfgs').fit(X_train \n",
    "                                                                                                    , y_train[\"stim_final\"])\n"
   ]
  },
  {
   "cell_type": "code",
   "execution_count": 22,
   "id": "6ba569a4",
   "metadata": {},
   "outputs": [
    {
     "data": {
      "text/plain": [
       "0.9938107869142352"
      ]
     },
     "execution_count": 22,
     "metadata": {},
     "output_type": "execute_result"
    }
   ],
   "source": [
    "#accuracy score for training set\n",
    "mnlogit.score(X_train,y_train[\"stim_final\"])"
   ]
  },
  {
   "cell_type": "code",
   "execution_count": 23,
   "id": "d30d5d5d",
   "metadata": {},
   "outputs": [
    {
     "data": {
      "text/plain": [
       "0.993368700265252"
      ]
     },
     "execution_count": 23,
     "metadata": {},
     "output_type": "execute_result"
    }
   ],
   "source": [
    "#accuracy score for test set\n",
    "mnlogit.score(X_test,y_test[\"stim_final\"])"
   ]
  },
  {
   "cell_type": "markdown",
   "id": "ad4c099b",
   "metadata": {},
   "source": [
    "## k-NN classifier"
   ]
  },
  {
   "cell_type": "code",
   "execution_count": 24,
   "id": "9dad0a9f",
   "metadata": {},
   "outputs": [
    {
     "data": {
      "text/plain": [
       "KNeighborsClassifier(n_neighbors=3)"
      ]
     },
     "execution_count": 24,
     "metadata": {},
     "output_type": "execute_result"
    }
   ],
   "source": [
    "#instantiate k-nnclassifier\n",
    "neigh = KNeighborsClassifier(n_neighbors=3)\n",
    "\n",
    "#fit to data\n",
    "neigh.fit(X_train,y_train[\"stim_final\"])"
   ]
  },
  {
   "cell_type": "code",
   "execution_count": 25,
   "id": "ed12d5d5",
   "metadata": {},
   "outputs": [
    {
     "data": {
      "text/plain": [
       "0.993368700265252"
      ]
     },
     "execution_count": 25,
     "metadata": {},
     "output_type": "execute_result"
    }
   ],
   "source": [
    "#accuracy score\n",
    "neigh.score(X_test,y_test[\"stim_final\"])"
   ]
  },
  {
   "cell_type": "markdown",
   "id": "aa4090fb",
   "metadata": {},
   "source": [
    "## Decision Tree"
   ]
  },
  {
   "cell_type": "code",
   "execution_count": 26,
   "id": "c5851f5e",
   "metadata": {
    "scrolled": true
   },
   "outputs": [
    {
     "data": {
      "text/plain": [
       "DecisionTreeClassifier(random_state=0)"
      ]
     },
     "execution_count": 26,
     "metadata": {},
     "output_type": "execute_result"
    }
   ],
   "source": [
    "#instantiate DT\n",
    "clf = DecisionTreeClassifier(random_state=0)\n",
    "\n",
    "#fit to data\n",
    "clf.fit(X_train,y_train[\"stim_final\"])"
   ]
  },
  {
   "cell_type": "code",
   "execution_count": 27,
   "id": "88d6d357",
   "metadata": {},
   "outputs": [
    {
     "data": {
      "text/plain": [
       "0.9827586206896551"
      ]
     },
     "execution_count": 27,
     "metadata": {},
     "output_type": "execute_result"
    }
   ],
   "source": [
    "#accuracy score\n",
    "clf.score(X_test,y_test[\"stim_final\"])"
   ]
  },
  {
   "cell_type": "markdown",
   "id": "1ec52fc9",
   "metadata": {},
   "source": [
    "## Gradient Boosted Trees"
   ]
  },
  {
   "cell_type": "code",
   "execution_count": 28,
   "id": "eb1c21be",
   "metadata": {},
   "outputs": [
    {
     "data": {
      "text/plain": [
       "GradientBoostingRegressor(random_state=0)"
      ]
     },
     "execution_count": 28,
     "metadata": {},
     "output_type": "execute_result"
    }
   ],
   "source": [
    "#instantiate GradientBoostingRegressor\n",
    "reg = GradientBoostingRegressor(random_state=0)\n",
    "\n",
    "#fit to data\n",
    "reg.fit(X_train,y_train[\"stim_final\"])"
   ]
  },
  {
   "cell_type": "code",
   "execution_count": 29,
   "id": "41757e61",
   "metadata": {},
   "outputs": [
    {
     "data": {
      "text/plain": [
       "0.974688091030849"
      ]
     },
     "execution_count": 29,
     "metadata": {},
     "output_type": "execute_result"
    }
   ],
   "source": [
    "#accuracy score - training set\n",
    "reg.score(X_train,y_train[\"stim_final\"])"
   ]
  },
  {
   "cell_type": "code",
   "execution_count": 30,
   "id": "726a9c5d",
   "metadata": {},
   "outputs": [
    {
     "data": {
      "text/plain": [
       "-6.0525862987180155"
      ]
     },
     "execution_count": 30,
     "metadata": {},
     "output_type": "execute_result"
    }
   ],
   "source": [
    "#accuracy score -test set\n",
    "reg.score(X_test,y_test[\"stim_final\"])"
   ]
  },
  {
   "cell_type": "markdown",
   "id": "7a27ab90",
   "metadata": {},
   "source": [
    "## Linear Discriminant Analysis (LDA)"
   ]
  },
  {
   "cell_type": "code",
   "execution_count": 31,
   "id": "36506cf5",
   "metadata": {},
   "outputs": [
    {
     "data": {
      "text/plain": [
       "LinearDiscriminantAnalysis()"
      ]
     },
     "execution_count": 31,
     "metadata": {},
     "output_type": "execute_result"
    }
   ],
   "source": [
    "#instantiate LDA\n",
    "LDA = LinearDiscriminantAnalysis()\n",
    "\n",
    "#fit to data\n",
    "LDA.fit(X_train,y_train[\"stim_final\"])"
   ]
  },
  {
   "cell_type": "code",
   "execution_count": 32,
   "id": "83e50be0",
   "metadata": {},
   "outputs": [
    {
     "data": {
      "text/plain": [
       "0.9920424403183024"
      ]
     },
     "execution_count": 32,
     "metadata": {},
     "output_type": "execute_result"
    }
   ],
   "source": [
    "#accuracy score - training set\n",
    "LDA.score(X_train,y_train[\"stim_final\"])"
   ]
  },
  {
   "cell_type": "code",
   "execution_count": 33,
   "id": "fa34dd1c",
   "metadata": {},
   "outputs": [
    {
     "data": {
      "text/plain": [
       "0.9907161803713528"
      ]
     },
     "execution_count": 33,
     "metadata": {},
     "output_type": "execute_result"
    }
   ],
   "source": [
    "#accuracy score -test set\n",
    "LDA.score(X_test,y_test[\"stim_final\"])"
   ]
  },
  {
   "cell_type": "markdown",
   "id": "f3a1c9c2",
   "metadata": {},
   "source": [
    "## Neural Network"
   ]
  },
  {
   "cell_type": "code",
   "execution_count": 34,
   "id": "368f8203",
   "metadata": {},
   "outputs": [],
   "source": [
    "#instantiate and fit NN\n",
    "NN = MLPClassifier(random_state=1, max_iter=300).fit(X_train,y_train[\"stim_final\"])"
   ]
  },
  {
   "cell_type": "code",
   "execution_count": 35,
   "id": "7a817a19",
   "metadata": {},
   "outputs": [
    {
     "data": {
      "text/plain": [
       "0.9938107869142352"
      ]
     },
     "execution_count": 35,
     "metadata": {},
     "output_type": "execute_result"
    }
   ],
   "source": [
    "#accuracy score - train set\n",
    "NN.score(X_train,y_train[\"stim_final\"])"
   ]
  },
  {
   "cell_type": "code",
   "execution_count": 36,
   "id": "5515ece0",
   "metadata": {},
   "outputs": [
    {
     "data": {
      "text/plain": [
       "0.993368700265252"
      ]
     },
     "execution_count": 36,
     "metadata": {},
     "output_type": "execute_result"
    }
   ],
   "source": [
    "#accuracy score -test set\n",
    "NN.score(X_test,y_test[\"stim_final\"])"
   ]
  },
  {
   "cell_type": "markdown",
   "id": "aeb68c91",
   "metadata": {},
   "source": [
    "# Rebalance"
   ]
  },
  {
   "cell_type": "code",
   "execution_count": 37,
   "id": "dacfee98",
   "metadata": {},
   "outputs": [],
   "source": [
    "#import libraries\n",
    "from imblearn.over_sampling import SMOTE, RandomOverSampler\n",
    "from sklearn.metrics import roc_auc_score"
   ]
  },
  {
   "cell_type": "code",
   "execution_count": 38,
   "id": "04243fa4",
   "metadata": {},
   "outputs": [],
   "source": [
    "#instantiate SMOTE() object\n",
    "over = SMOTE(k_neighbors=2,random_state=42)\n",
    "#over = RandomOverSampler(random_state=42)"
   ]
  },
  {
   "cell_type": "code",
   "execution_count": 40,
   "id": "406e068e",
   "metadata": {},
   "outputs": [],
   "source": [
    "#oversample on only the training data set\n",
    "X_sampled,y_sampled = over.fit_resample(X_train,y_train[\"stim_final\"])"
   ]
  },
  {
   "cell_type": "code",
   "execution_count": 41,
   "id": "975e3db5",
   "metadata": {},
   "outputs": [
    {
     "data": {
      "text/plain": [
       "0    1124\n",
       "2    1124\n",
       "3    1124\n",
       "Name: stim_final, dtype: int64"
      ]
     },
     "execution_count": 41,
     "metadata": {},
     "output_type": "execute_result"
    }
   ],
   "source": [
    "#check that sampled y values only have the three expected classes\n",
    "y_sampled.value_counts()"
   ]
  },
  {
   "cell_type": "markdown",
   "id": "dc086709",
   "metadata": {},
   "source": [
    "## Rebalanced - Linear Classifier"
   ]
  },
  {
   "cell_type": "code",
   "execution_count": 96,
   "id": "33bef5ce",
   "metadata": {},
   "outputs": [
    {
     "name": "stderr",
     "output_type": "stream",
     "text": [
      "C:\\ProgramData\\Anaconda3\\lib\\site-packages\\sklearn\\svm\\_base.py:985: ConvergenceWarning: Liblinear failed to converge, increase the number of iterations.\n",
      "  warnings.warn(\"Liblinear failed to converge, increase \"\n"
     ]
    }
   ],
   "source": [
    "#instantiate SVM object\n",
    "lin_clf = svm.LinearSVC()\n",
    "\n",
    "#fit to data\n",
    "SVC = lin_clf.fit(X_sampled,y_sampled)\n"
   ]
  },
  {
   "cell_type": "code",
   "execution_count": 97,
   "id": "5e41cbe8",
   "metadata": {},
   "outputs": [
    {
     "ename": "IndexError",
     "evalue": "only integers, slices (`:`), ellipsis (`...`), numpy.newaxis (`None`) and integer or boolean arrays are valid indices",
     "output_type": "error",
     "traceback": [
      "\u001b[1;31m---------------------------------------------------------------------------\u001b[0m",
      "\u001b[1;31mIndexError\u001b[0m                                Traceback (most recent call last)",
      "\u001b[1;32m<ipython-input-97-adccc9f5401f>\u001b[0m in \u001b[0;36m<module>\u001b[1;34m\u001b[0m\n\u001b[0;32m      1\u001b[0m \u001b[1;31m#accuracy score on test data set\u001b[0m\u001b[1;33m\u001b[0m\u001b[1;33m\u001b[0m\u001b[1;33m\u001b[0m\u001b[0m\n\u001b[0;32m      2\u001b[0m \u001b[1;33m\u001b[0m\u001b[0m\n\u001b[1;32m----> 3\u001b[1;33m \u001b[0mSVC\u001b[0m\u001b[1;33m.\u001b[0m\u001b[0mscore\u001b[0m\u001b[1;33m(\u001b[0m\u001b[0mX_test\u001b[0m\u001b[1;33m,\u001b[0m\u001b[0my_test\u001b[0m\u001b[1;33m[\u001b[0m\u001b[1;34m\"stim_final\"\u001b[0m\u001b[1;33m]\u001b[0m\u001b[1;33m)\u001b[0m\u001b[1;33m\u001b[0m\u001b[1;33m\u001b[0m\u001b[0m\n\u001b[0m",
      "\u001b[1;31mIndexError\u001b[0m: only integers, slices (`:`), ellipsis (`...`), numpy.newaxis (`None`) and integer or boolean arrays are valid indices"
     ]
    }
   ],
   "source": [
    "#accuracy score on test data set - incorrect way due to how probabilities are stored\n",
    "SVC.score(X_test,y_test[\"stim_final\"])"
   ]
  },
  {
   "cell_type": "code",
   "execution_count": 99,
   "id": "5c57e3aa",
   "metadata": {},
   "outputs": [
    {
     "data": {
      "text/plain": [
       "array([[1, 0, 0],\n",
       "       [0, 1, 0],\n",
       "       [1, 0, 0],\n",
       "       ...,\n",
       "       [0, 1, 0],\n",
       "       [0, 1, 0],\n",
       "       [0, 1, 0]])"
      ]
     },
     "execution_count": 99,
     "metadata": {},
     "output_type": "execute_result"
    }
   ],
   "source": [
    "y_test"
   ]
  },
  {
   "cell_type": "code",
   "execution_count": 44,
   "id": "a4ab18f1",
   "metadata": {},
   "outputs": [],
   "source": [
    "#retrieve probabilities using decision_function\n",
    "y_prob = lin_clf.decision_function(X_test)"
   ]
  },
  {
   "cell_type": "code",
   "execution_count": 45,
   "id": "818484c7",
   "metadata": {},
   "outputs": [
    {
     "data": {
      "text/plain": [
       "array([[-0.57081771, -1.0369794 ,  1.70708487],\n",
       "       [-1.42211159, -0.97718883,  2.41747362],\n",
       "       [-0.61152739, -1.39752618,  2.85829361],\n",
       "       ...,\n",
       "       [-0.7132772 , -0.87108006,  1.86228046],\n",
       "       [ 0.49812871, -1.19690226,  4.05743252],\n",
       "       [ 0.28663167,  0.50902497,  1.74612586]])"
      ]
     },
     "execution_count": 45,
     "metadata": {},
     "output_type": "execute_result"
    }
   ],
   "source": [
    "#show y probabilities\n",
    "y_prob"
   ]
  },
  {
   "cell_type": "code",
   "execution_count": 46,
   "id": "3ab6a87f",
   "metadata": {},
   "outputs": [
    {
     "data": {
      "text/plain": [
       "0.4986648865153538"
      ]
     },
     "execution_count": 46,
     "metadata": {},
     "output_type": "execute_result"
    }
   ],
   "source": [
    " #calculate final roc_auc_score\n",
    "roc_auc_score(y_test[\"stim_final\"],lin_clf.predict(X_test), multi_class='ovr')"
   ]
  },
  {
   "cell_type": "markdown",
   "id": "9f7cae91",
   "metadata": {},
   "source": [
    "## Rebalanced - Logistic Regression"
   ]
  },
  {
   "cell_type": "code",
   "execution_count": 47,
   "id": "321ff66f",
   "metadata": {},
   "outputs": [],
   "source": [
    "#instantiate logistic regression\n",
    "mnlogit = LogisticRegression(multi_class ='multinomial',fit_intercept = True , C =0.001,\n",
    "                             max_iter=10000 ).fit(X_sampled,y_sampled)\n"
   ]
  },
  {
   "cell_type": "code",
   "execution_count": 48,
   "id": "21aae726",
   "metadata": {},
   "outputs": [
    {
     "data": {
      "text/plain": [
       "0.5888594164456233"
      ]
     },
     "execution_count": 48,
     "metadata": {},
     "output_type": "execute_result"
    }
   ],
   "source": [
    "#accuracy score for training set\n",
    "mnlogit.score(X_train,y_train[\"stim_final\"])"
   ]
  },
  {
   "cell_type": "code",
   "execution_count": 49,
   "id": "c7239750",
   "metadata": {},
   "outputs": [
    {
     "data": {
      "text/plain": [
       "0.6021220159151194"
      ]
     },
     "execution_count": 49,
     "metadata": {},
     "output_type": "execute_result"
    }
   ],
   "source": [
    "#accuracy score on test data set\n",
    "mnlogit.score(X_test,y_test[\"stim_final\"])"
   ]
  },
  {
   "cell_type": "code",
   "execution_count": 50,
   "id": "4fafc05b",
   "metadata": {},
   "outputs": [
    {
     "data": {
      "text/plain": [
       "array([[0.05295425, 0.6860109 , 0.26103485],\n",
       "       [0.03307232, 0.65860127, 0.30832641],\n",
       "       [0.05434412, 0.35640378, 0.5892521 ],\n",
       "       ...,\n",
       "       [0.0651547 , 0.73431628, 0.20052902],\n",
       "       [0.21888602, 0.11546577, 0.66564821],\n",
       "       [0.09948794, 0.7003346 , 0.20017747]])"
      ]
     },
     "execution_count": 50,
     "metadata": {},
     "output_type": "execute_result"
    }
   ],
   "source": [
    "#get probabilities for each class for each individual\n",
    "mnlogit.predict_proba(X_test)"
   ]
  },
  {
   "cell_type": "code",
   "execution_count": 51,
   "id": "3396517a",
   "metadata": {},
   "outputs": [
    {
     "data": {
      "text/plain": [
       "3    749\n",
       "2      5\n",
       "Name: stim_final, dtype: int64"
      ]
     },
     "execution_count": 51,
     "metadata": {},
     "output_type": "execute_result"
    }
   ],
   "source": [
    "#check value counts\n",
    "y_test[\"stim_final\"].value_counts()"
   ]
  },
  {
   "cell_type": "code",
   "execution_count": 52,
   "id": "f43da370",
   "metadata": {},
   "outputs": [
    {
     "data": {
      "text/plain": [
       "0.5013351134846462"
      ]
     },
     "execution_count": 52,
     "metadata": {},
     "output_type": "execute_result"
    }
   ],
   "source": [
    "#get roc_auc_score   \n",
    "roc_auc_score(y_test[\"stim_final\"],mnlogit.predict(X_test), multi_class='ovo')"
   ]
  },
  {
   "cell_type": "markdown",
   "id": "8ae38b7f",
   "metadata": {},
   "source": [
    "## Rebalanced  - K-nn classifier"
   ]
  },
  {
   "cell_type": "code",
   "execution_count": 53,
   "id": "37148498",
   "metadata": {},
   "outputs": [],
   "source": [
    "error_rate = []\n",
    "# Will take some time\n",
    "for i in range(1,40):\n",
    "    \n",
    "    #instantiate k-NN\n",
    "    knn = KNeighborsClassifier(n_neighbors=i)\n",
    "    \n",
    "    #fit\n",
    "    knn.fit(X_sampled,y_sampled)\n",
    "    \n",
    "    #create prediction array\n",
    "    pred_i = knn.predict(X_test)\n",
    "    \n",
    "    #calculate error_rate between predicted vs actual\n",
    "    error_rate.append(np.mean(pred_i != y_test[\"stim_final\"]))"
   ]
  },
  {
   "cell_type": "code",
   "execution_count": 54,
   "id": "1a397175",
   "metadata": {},
   "outputs": [
    {
     "data": {
      "text/plain": [
       "Text(0, 0.5, 'Error Rate')"
      ]
     },
     "execution_count": 54,
     "metadata": {},
     "output_type": "execute_result"
    },
    {
     "data": {
      "image/png": "[encoded data removed]",
      "text/plain": [
       "<Figure size 720x432 with 1 Axes>"
      ]
     },
     "metadata": {
      "needs_background": "light"
     },
     "output_type": "display_data"
    }
   ],
   "source": [
    "#plot error rate by K value to determine best k\n",
    "plt.figure(figsize=(10,6))\n",
    "plt.plot(range(1,40),error_rate,color='blue', linestyle='dashed', marker='o',\n",
    " markerfacecolor='red', markersize=10)\n",
    "plt.title('Error Rate vs. K Value')\n",
    "plt.xlabel('K')\n",
    "plt.ylabel('Error Rate')"
   ]
  },
  {
   "cell_type": "code",
   "execution_count": 55,
   "id": "64019eb8",
   "metadata": {},
   "outputs": [
    {
     "data": {
      "text/plain": [
       "KNeighborsClassifier(n_neighbors=20)"
      ]
     },
     "execution_count": 55,
     "metadata": {},
     "output_type": "execute_result"
    }
   ],
   "source": [
    "#instantiate k-nnclassifier\n",
    "neigh = KNeighborsClassifier(n_neighbors=20)\n",
    "\n",
    "#fit\n",
    "neigh.fit(X_sampled,y_sampled)"
   ]
  },
  {
   "cell_type": "code",
   "execution_count": 56,
   "id": "84fe79bb",
   "metadata": {},
   "outputs": [
    {
     "data": {
      "text/plain": [
       "0.253315649867374"
      ]
     },
     "execution_count": 56,
     "metadata": {},
     "output_type": "execute_result"
    }
   ],
   "source": [
    "#accuracy score\n",
    "neigh.score(X_test,y_test[\"stim_final\"])"
   ]
  },
  {
   "cell_type": "code",
   "execution_count": 57,
   "id": "30dccd2b",
   "metadata": {},
   "outputs": [
    {
     "data": {
      "text/plain": [
       "0.256475300400534"
      ]
     },
     "execution_count": 57,
     "metadata": {},
     "output_type": "execute_result"
    }
   ],
   "source": [
    "#retrieve final auc score \n",
    "roc_auc_score(y_test[\"stim_final\"],neigh.predict(X_test), multi_class='ovo')"
   ]
  },
  {
   "cell_type": "markdown",
   "id": "04f700fe",
   "metadata": {},
   "source": [
    "## Rebalanced - Decision Tree\n",
    "\n",
    "### Using pruning to prevent over fitting - Determining the correct ccp_alpha"
   ]
  },
  {
   "cell_type": "code",
   "execution_count": 58,
   "id": "8d6e193d",
   "metadata": {},
   "outputs": [],
   "source": [
    "#use cost_complexity_pruning_path() to determine alphas to test\n",
    "path = clf.cost_complexity_pruning_path(X_sampled,y_sampled)\n",
    "ccp_alphas, impurities = path.ccp_alphas, path.impurities"
   ]
  },
  {
   "cell_type": "code",
   "execution_count": 59,
   "id": "c578d2b6",
   "metadata": {},
   "outputs": [
    {
     "name": "stdout",
     "output_type": "stream",
     "text": [
      "Number of nodes in the last tree is: 1 with ccp_alpha: 0.20578540678660684\n"
     ]
    }
   ],
   "source": [
    "#store DT objects instantiated with different alphas and fitted on smote balanced data\n",
    "clfs = []\n",
    "for ccp_alpha in ccp_alphas:\n",
    "    clf = DecisionTreeClassifier(random_state=0, ccp_alpha=ccp_alpha)\n",
    "    clf.fit(X_sampled,y_sampled)\n",
    "    clfs.append(clf)\n",
    "print(\n",
    "    \"Number of nodes in the last tree is: {} with ccp_alpha: {}\".format(\n",
    "        clfs[-1].tree_.node_count, ccp_alphas[-1]\n",
    "    )\n",
    ")"
   ]
  },
  {
   "cell_type": "code",
   "execution_count": 60,
   "id": "cb3f8388",
   "metadata": {
    "scrolled": true
   },
   "outputs": [
    {
     "data": {
      "image/png": "[encoded data removed]",
      "text/plain": [
       "<Figure size 432x288 with 2 Axes>"
      ]
     },
     "metadata": {
      "needs_background": "light"
     },
     "output_type": "display_data"
    }
   ],
   "source": [
    "#plot all but last model/alha\n",
    "clfs = clfs[:-1]\n",
    "ccp_alphas = ccp_alphas[:-1]\n",
    "\n",
    "#plot of nodes vs alpha and depth vs alpha\n",
    "\n",
    "#array of node counts\n",
    "node_counts = [clf.tree_.node_count for clf in clfs]\n",
    "\n",
    "#array of depths\n",
    "depth = [clf.tree_.max_depth for clf in clfs]\n",
    "fig, ax = plt.subplots(2, 1)\n",
    "ax[0].plot(ccp_alphas, node_counts, marker=\"o\", drawstyle=\"steps-post\")\n",
    "ax[0].set_xlabel(\"alpha\")\n",
    "ax[0].set_ylabel(\"number of nodes\")\n",
    "ax[0].set_title(\"Number of nodes vs alpha\")\n",
    "ax[1].plot(ccp_alphas, depth, marker=\"o\", drawstyle=\"steps-post\")\n",
    "ax[1].set_xlabel(\"alpha\")\n",
    "ax[1].set_ylabel(\"depth of tree\")\n",
    "ax[1].set_title(\"Depth vs alpha\")\n",
    "fig.tight_layout()"
   ]
  },
  {
   "cell_type": "code",
   "execution_count": 61,
   "id": "26d3a764",
   "metadata": {},
   "outputs": [
    {
     "data": {
      "image/png": "[encoded data removed]",
      "text/plain": [
       "<Figure size 432x288 with 1 Axes>"
      ]
     },
     "metadata": {
      "needs_background": "light"
     },
     "output_type": "display_data"
    }
   ],
   "source": [
    "#plot the accuracy of test and train datasets vs alpha\n",
    "train_scores = [clf.score(X_train,y_train[\"stim_final\"]) for clf in clfs]\n",
    "test_scores = [clf.score(X_test,y_test[\"stim_final\"]) for clf in clfs]\n",
    "\n",
    "#plot results\n",
    "fig, ax = plt.subplots()\n",
    "ax.set_xlabel(\"alpha\")\n",
    "ax.set_ylabel(\"accuracy\")\n",
    "ax.set_title(\"Accuracy vs alpha for training and testing sets\")\n",
    "ax.plot(ccp_alphas, train_scores, marker=\"o\", label=\"train\", drawstyle=\"steps-post\")\n",
    "ax.plot(ccp_alphas, test_scores, marker=\"o\", label=\"test\", drawstyle=\"steps-post\")\n",
    "ax.legend()\n",
    "plt.show()"
   ]
  },
  {
   "cell_type": "markdown",
   "id": "336f28ce",
   "metadata": {},
   "source": [
    "### Fit Using the alpha determined above (0.05) - most stable accuracy across increasing alphas"
   ]
  },
  {
   "cell_type": "code",
   "execution_count": 62,
   "id": "5c1e7d4e",
   "metadata": {
    "scrolled": true
   },
   "outputs": [
    {
     "data": {
      "text/plain": [
       "DecisionTreeClassifier(ccp_alpha=0.05, random_state=0)"
      ]
     },
     "execution_count": 62,
     "metadata": {},
     "output_type": "execute_result"
    }
   ],
   "source": [
    "#instantiate DT\n",
    "clf = DecisionTreeClassifier(random_state=0, ccp_alpha=0.05)\n",
    "\n",
    "#fit model\n",
    "clf.fit(X_sampled,y_sampled)"
   ]
  },
  {
   "cell_type": "code",
   "execution_count": 63,
   "id": "e3ca1929",
   "metadata": {},
   "outputs": [
    {
     "data": {
      "text/plain": [
       "0.7493368700265252"
      ]
     },
     "execution_count": 63,
     "metadata": {},
     "output_type": "execute_result"
    }
   ],
   "source": [
    "#accuracy score\n",
    "clf.score(X_test,y_test[\"stim_final\"])"
   ]
  },
  {
   "cell_type": "code",
   "execution_count": 64,
   "id": "dc465bae",
   "metadata": {},
   "outputs": [
    {
     "data": {
      "text/plain": [
       "0.48624833110814425"
      ]
     },
     "execution_count": 64,
     "metadata": {},
     "output_type": "execute_result"
    }
   ],
   "source": [
    "#get auc score\n",
    "roc_auc_score(y_test[\"stim_final\"],clf.predict(X_test), multi_class='ovr')"
   ]
  },
  {
   "cell_type": "markdown",
   "id": "5548373f",
   "metadata": {},
   "source": [
    "## Rebalanced - Boosted Tree\n",
    "\n",
    "### Fit Using the alpha determined above (0.05) - most stable accuracy across increasing alphas"
   ]
  },
  {
   "cell_type": "code",
   "execution_count": 65,
   "id": "67892cdd",
   "metadata": {},
   "outputs": [
    {
     "data": {
      "text/plain": [
       "GradientBoostingClassifier(ccp_alpha=0.05, random_state=0)"
      ]
     },
     "execution_count": 65,
     "metadata": {},
     "output_type": "execute_result"
    }
   ],
   "source": [
    "#instantiate GradientBoostingClassifier\n",
    "reg = GradientBoostingClassifier(random_state=0, ccp_alpha=0.05)\n",
    "\n",
    "#fit model\n",
    "reg.fit(X_sampled,y_sampled)"
   ]
  },
  {
   "cell_type": "code",
   "execution_count": 66,
   "id": "b59891ac",
   "metadata": {},
   "outputs": [
    {
     "data": {
      "text/plain": [
       "0.8682581786030061"
      ]
     },
     "execution_count": 66,
     "metadata": {},
     "output_type": "execute_result"
    }
   ],
   "source": [
    "#accuracy score - training set\n",
    "reg.score(X_train,y_train[\"stim_final\"])"
   ]
  },
  {
   "cell_type": "code",
   "execution_count": 67,
   "id": "bead5227",
   "metadata": {},
   "outputs": [
    {
     "data": {
      "text/plain": [
       "0.8713527851458885"
      ]
     },
     "execution_count": 67,
     "metadata": {},
     "output_type": "execute_result"
    }
   ],
   "source": [
    "#accuracy score -test set\n",
    "reg.score(X_test,y_test[\"stim_final\"])"
   ]
  },
  {
   "cell_type": "markdown",
   "id": "c590ebd2",
   "metadata": {},
   "source": [
    "## Rebalanced - Linear Discriminant Analysis (LDA)"
   ]
  },
  {
   "cell_type": "code",
   "execution_count": 68,
   "id": "8b6b2500",
   "metadata": {},
   "outputs": [
    {
     "data": {
      "text/plain": [
       "LinearDiscriminantAnalysis()"
      ]
     },
     "execution_count": 68,
     "metadata": {},
     "output_type": "execute_result"
    }
   ],
   "source": [
    "#instantiate LDA\n",
    "LDA = LinearDiscriminantAnalysis()\n",
    "\n",
    "#fit to the data\n",
    "LDA.fit(X_sampled,y_sampled)"
   ]
  },
  {
   "cell_type": "code",
   "execution_count": 69,
   "id": "e7105fd4",
   "metadata": {},
   "outputs": [
    {
     "data": {
      "text/plain": [
       "0.649867374005305"
      ]
     },
     "execution_count": 69,
     "metadata": {},
     "output_type": "execute_result"
    }
   ],
   "source": [
    "#accuracy score - training set\n",
    "LDA.score(X_train,y_train[\"stim_final\"])"
   ]
  },
  {
   "cell_type": "code",
   "execution_count": 70,
   "id": "14a08c24",
   "metadata": {},
   "outputs": [
    {
     "data": {
      "text/plain": [
       "0.6830238726790451"
      ]
     },
     "execution_count": 70,
     "metadata": {},
     "output_type": "execute_result"
    }
   ],
   "source": [
    "#accuracy score -test set\n",
    "LDA.score(X_test,y_test[\"stim_final\"])"
   ]
  },
  {
   "cell_type": "markdown",
   "id": "1acaa132",
   "metadata": {},
   "source": [
    "## Rebalanced - Neural Network"
   ]
  },
  {
   "cell_type": "code",
   "execution_count": 71,
   "id": "fdc73db9",
   "metadata": {},
   "outputs": [],
   "source": [
    "#instantiate\n",
    "NN = MLPClassifier(random_state=1, max_iter=300).fit(X_sampled,y_sampled)"
   ]
  },
  {
   "cell_type": "code",
   "execution_count": 72,
   "id": "8bd23582",
   "metadata": {},
   "outputs": [
    {
     "data": {
      "text/plain": [
       "0.9283819628647215"
      ]
     },
     "execution_count": 72,
     "metadata": {},
     "output_type": "execute_result"
    }
   ],
   "source": [
    "#accuracy score - train set\n",
    "NN.score(X_train,y_train[\"stim_final\"])"
   ]
  },
  {
   "cell_type": "code",
   "execution_count": 73,
   "id": "c57317e2",
   "metadata": {},
   "outputs": [
    {
     "data": {
      "text/plain": [
       "0.9124668435013262"
      ]
     },
     "execution_count": 73,
     "metadata": {},
     "output_type": "execute_result"
    }
   ],
   "source": [
    "#accuracy score -test set\n",
    "NN.score(X_test,y_test[\"stim_final\"])"
   ]
  },
  {
   "cell_type": "markdown",
   "id": "2ef88286",
   "metadata": {},
   "source": [
    "# Evaluation Metrics - AUC calculations and plots\n",
    "\n",
    "The ROC curve is an evaluation metric to evaluate the output of a classifier. True positive rate is plotted on the y-axis and false positive rate is plotted on the x-axis. Goes from 0 to 1 from both axes.\n",
    "\n",
    "\"Steepness\" is important to maximize the TPR while minimizing the FPR - the ideal is 1 TPR and 0 FPR. \n",
    "\n",
    "Typically are used in binary classification evaluation, however, since we have a multi-class problem (three classes), we need to binarize the output.\n",
    "\n",
    "In implementing this approach, an ROC curve can be drawn per label. An overall ROC curve can also be created by considering each element of the label indicator matrix as a binary prediction (micro-averaging)."
   ]
  },
  {
   "cell_type": "code",
   "execution_count": 79,
   "id": "ca3e39f6",
   "metadata": {},
   "outputs": [],
   "source": [
    "#import libraries to create AUC with OvR appraoch\n",
    "from sklearn import svm, datasets\n",
    "from sklearn.preprocessing import label_binarize\n",
    "from sklearn.metrics import roc_curve, auc\n",
    "from sklearn.multiclass import OneVsRestClassifier\n",
    "import time"
   ]
  },
  {
   "cell_type": "markdown",
   "id": "e60a1af7",
   "metadata": {},
   "source": [
    "## Linear Classifier - AUC"
   ]
  },
  {
   "cell_type": "code",
   "execution_count": 222,
   "id": "0f6febdf",
   "metadata": {},
   "outputs": [
    {
     "name": "stdout",
     "output_type": "stream",
     "text": [
      "Total Time in seconds: 0.8043670654296875\n"
     ]
    }
   ],
   "source": [
    "#store start time\n",
    "start = time.time()\n",
    "# Binarize the output\n",
    "y = label_binarize(y_sampled, classes=[0, 2, 3])\n",
    "#retrieve number of class\n",
    "n_classes = y.shape[1]\n",
    "\n",
    "#set random state to make repeatable\n",
    "random_state = np.random.RandomState(0)\n",
    "\n",
    "# shuffle and split training and test sets\n",
    "X_train, X_test, y_train, y_test = train_test_split(X_sampled, y, test_size=0.5, random_state=0)\n",
    "\n",
    "# Learn to predict each class against the other\n",
    "classifier = OneVsRestClassifier(\n",
    "    #LinearDiscriminantAnalysis()\n",
    "    GradientBoostingClassifier(random_state=0, ccp_alpha=0.05)\n",
    "    #MLPClassifier(random_state=1, max_iter=300)\n",
    "    #DecisionTreeClassifier(random_state=0, ccp_alpha=0.05)\n",
    "    #KNeighborsClassifier(n_neighbors=20)\n",
    "    #LogisticRegression(random_state=42)\n",
    "    #svm.SVC(kernel=\"linear\", probability=True, random_state=42)\n",
    ")\n",
    "\n",
    "#model and get probability\n",
    "y_score = classifier.fit(X_train, y_train).predict_proba(X_test)\n",
    "\n",
    "print(f\"Total Time in seconds: {time.time()-start}\")"
   ]
  },
  {
   "cell_type": "code",
   "execution_count": 223,
   "id": "022604f5",
   "metadata": {},
   "outputs": [],
   "source": [
    "# Compute ROC curve and ROC area for each class\n",
    "fpr = dict()\n",
    "tpr = dict()\n",
    "roc_auc = dict()\n",
    "\n",
    "#loop through each class\n",
    "for i in range(n_classes):\n",
    "    #get fpr and tpr for each class from roc_curve\n",
    "    fpr[i], tpr[i], _ = roc_curve(y_test[:, i], y_score[:, i])\n",
    "    #get the area under the curve\n",
    "    roc_auc[i] = auc(fpr[i], tpr[i])\n",
    "\n",
    "# Compute micro-average ROC curve and ROC area\n",
    "fpr[\"micro\"], tpr[\"micro\"], _ = roc_curve(y_test.ravel(), y_score.ravel())\n",
    "roc_auc[\"micro\"] = auc(fpr[\"micro\"], tpr[\"micro\"])"
   ]
  },
  {
   "cell_type": "code",
   "execution_count": 224,
   "id": "afc6563f",
   "metadata": {},
   "outputs": [
    {
     "data": {
      "text/plain": [
       "{0: 0.858706883707965,\n",
       " 1: 0.9420883940620783,\n",
       " 2: 0.9237041157700361,\n",
       " 'micro': 0.8973781360418434}"
      ]
     },
     "execution_count": 224,
     "metadata": {},
     "output_type": "execute_result"
    }
   ],
   "source": [
    "#view auc\n",
    "roc_auc"
   ]
  },
  {
   "cell_type": "code",
   "execution_count": 225,
   "id": "eb640076",
   "metadata": {},
   "outputs": [
    {
     "data": {
      "text/plain": [
       "0.34341637010676157"
      ]
     },
     "execution_count": 225,
     "metadata": {},
     "output_type": "execute_result"
    }
   ],
   "source": [
    "#compare with accuracy in model method\n",
    "classifier.score(X_test,y_test)"
   ]
  },
  {
   "cell_type": "code",
   "execution_count": 158,
   "id": "84b78acc",
   "metadata": {},
   "outputs": [
    {
     "name": "stdout",
     "output_type": "stream",
     "text": [
      "Total Time in seconds: 0.11797881126403809\n"
     ]
    }
   ],
   "source": [
    "#create start time\n",
    "start = time.time()\n",
    "# Binarize the output\n",
    "y = label_binarize(y_sampled, classes=[0, 2, 3])\n",
    "n_classes = y.shape[1]\n",
    "random_state = np.random.RandomState(0)\n",
    "\n",
    "# shuffle and split training and test sets\n",
    "X_train, X_test, y_train, y_test = train_test_split(X_sampled, y, test_size=0.5, random_state=0)\n",
    "\n",
    "# Learn to predict each class against the other\n",
    "classifier = KNeighborsClassifier(n_neighbors=20)\n",
    "\n",
    "#fit and get probability\n",
    "y_score = classifier.fit(X_train, y_train).predict(X_test)\n",
    "\n",
    "#print score\n",
    "print(f\"Total Time in seconds: {time.time()-start}\")"
   ]
  },
  {
   "cell_type": "code",
   "execution_count": 159,
   "id": "6dd8d2b9",
   "metadata": {},
   "outputs": [],
   "source": [
    "# Compute ROC curve and ROC area for each class\n",
    "fpr = dict()\n",
    "tpr = dict()\n",
    "roc_auc = dict()\n",
    "\n",
    "#loop through every class\n",
    "for i in range(n_classes):\n",
    "    \n",
    "    #get fpr and tpr for each class from roc_curve\n",
    "    fpr[i], tpr[i], _ = roc_curve(y_test[:, i], y_score[:,i])\n",
    "    \n",
    "    #get the area under the curve\n",
    "    roc_auc[i] = auc(fpr[i], tpr[i])\n",
    "\n",
    "# Compute micro-average ROC curve and ROC area\n",
    "fpr[\"micro\"], tpr[\"micro\"], _ = roc_curve(y_test.ravel(), y_score.ravel())\n",
    "roc_auc[\"micro\"] = auc(fpr[\"micro\"], tpr[\"micro\"])"
   ]
  },
  {
   "cell_type": "code",
   "execution_count": 160,
   "id": "ed75a395",
   "metadata": {},
   "outputs": [
    {
     "data": {
      "text/plain": [
       "{0: 0.6806498743217458,\n",
       " 1: 0.7350684403315983,\n",
       " 2: 0.6225111837378022,\n",
       " 'micro': 0.6760083036773428}"
      ]
     },
     "execution_count": 160,
     "metadata": {},
     "output_type": "execute_result"
    }
   ],
   "source": [
    "#view auc\n",
    "roc_auc"
   ]
  },
  {
   "cell_type": "code",
   "execution_count": 161,
   "id": "18f434ea",
   "metadata": {},
   "outputs": [
    {
     "data": {
      "text/plain": [
       "0.48279952550415184"
      ]
     },
     "execution_count": 161,
     "metadata": {},
     "output_type": "execute_result"
    }
   ],
   "source": [
    "#get accuracy score from model method\n",
    "classifier.score(X_test,y_test)"
   ]
  },
  {
   "cell_type": "code",
   "execution_count": null,
   "id": "23f0ce8a",
   "metadata": {},
   "outputs": [],
   "source": [
    "#instantiate decision tree\n",
    "DecisionTreeClassifier(random_state=0, ccp_alpha=0.05)"
   ]
  },
  {
   "cell_type": "code",
   "execution_count": 171,
   "id": "6f89cabe",
   "metadata": {},
   "outputs": [
    {
     "name": "stdout",
     "output_type": "stream",
     "text": [
      "Total Time in seconds: 0.5354225635528564\n"
     ]
    }
   ],
   "source": [
    "#get start time\n",
    "start = time.time()\n",
    "# Binarize the output\n",
    "#y = y_sampled\n",
    "y = label_binarize(y_sampled, classes=[0, 2, 3])\n",
    "#get number of classes for y variable\n",
    "n_classes = y.shape[1]\n",
    "#choose randome state for repeatability\n",
    "random_state = np.random.RandomState(0)\n",
    "\n",
    "# shuffle and split training and test sets\n",
    "X_train, X_test, y_train, y_test = train_test_split(X_sampled, y, test_size=0.5, random_state=0)\n",
    "\n",
    "# Learn to predict each class against the other\n",
    "#classifier = DecisionTreeClassifier(random_state=0, ccp_alpha=0.05)\n",
    "#classifier = GradientBoostingClassifier(random_state=0, ccp_alpha=0.05)\n",
    "\n",
    "#instantiate Neural Network classifier\n",
    "classifier = MLPClassifier(random_state=1, max_iter=300)\n",
    "\n",
    "#fit and get probabilities\n",
    "y_score = classifier.fit(X_train, y_train).predict(X_test)\n",
    "\n",
    "#print total time\n",
    "print(f\"Total Time in seconds: {time.time()-start}\")"
   ]
  },
  {
   "cell_type": "code",
   "execution_count": 5,
   "id": "f040fdda",
   "metadata": {},
   "outputs": [
    {
     "ename": "NameError",
     "evalue": "name 'n_classes' is not defined",
     "output_type": "error",
     "traceback": [
      "\u001b[1;31m---------------------------------------------------------------------------\u001b[0m",
      "\u001b[1;31mNameError\u001b[0m                                 Traceback (most recent call last)",
      "\u001b[1;32m<ipython-input-5-0be34dc5a416>\u001b[0m in \u001b[0;36m<module>\u001b[1;34m\u001b[0m\n\u001b[0;32m      5\u001b[0m \u001b[1;33m\u001b[0m\u001b[0m\n\u001b[0;32m      6\u001b[0m \u001b[1;31m#loop through classes\u001b[0m\u001b[1;33m\u001b[0m\u001b[1;33m\u001b[0m\u001b[1;33m\u001b[0m\u001b[0m\n\u001b[1;32m----> 7\u001b[1;33m \u001b[1;32mfor\u001b[0m \u001b[0mi\u001b[0m \u001b[1;32min\u001b[0m \u001b[0mrange\u001b[0m\u001b[1;33m(\u001b[0m\u001b[0mn_classes\u001b[0m\u001b[1;33m)\u001b[0m\u001b[1;33m:\u001b[0m\u001b[1;33m\u001b[0m\u001b[1;33m\u001b[0m\u001b[0m\n\u001b[0m\u001b[0;32m      8\u001b[0m \u001b[1;33m\u001b[0m\u001b[0m\n\u001b[0;32m      9\u001b[0m     \u001b[1;31m#get fpr and tpr for each class with roc_curve()\u001b[0m\u001b[1;33m\u001b[0m\u001b[1;33m\u001b[0m\u001b[1;33m\u001b[0m\u001b[0m\n",
      "\u001b[1;31mNameError\u001b[0m: name 'n_classes' is not defined"
     ]
    }
   ],
   "source": [
    "# Compute ROC curve and ROC area for each class\n",
    "fpr = dict()\n",
    "tpr = dict()\n",
    "roc_auc = dict()\n",
    "\n",
    "#loop through classes\n",
    "for i in range(n_classes):\n",
    "    \n",
    "    #get fpr and tpr for each class with roc_curve()\n",
    "    fpr[i], tpr[i], _ = roc_curve(y_test[:, i], y_score[:,i])\n",
    "    \n",
    "    #get auc for class\n",
    "    roc_auc[i] = auc(fpr[i], tpr[i])\n",
    "\n",
    "# Compute micro-average ROC curve and ROC area\n",
    "fpr[\"micro\"], tpr[\"micro\"], _ = roc_curve(y_test.ravel(), y_score.ravel())\n",
    "roc_auc[\"micro\"] = auc(fpr[\"micro\"], tpr[\"micro\"])"
   ]
  },
  {
   "cell_type": "code",
   "execution_count": 173,
   "id": "616bb5d4",
   "metadata": {},
   "outputs": [
    {
     "data": {
      "text/plain": [
       "{0: 0.9819700967458224,\n",
       " 1: 0.9802631578947368,\n",
       " 2: 0.9060913705583756,\n",
       " 'micro': 0.9543297746144722}"
      ]
     },
     "execution_count": 173,
     "metadata": {},
     "output_type": "execute_result"
    }
   ],
   "source": [
    "#show auc\n",
    "roc_auc"
   ]
  },
  {
   "cell_type": "code",
   "execution_count": 174,
   "id": "ecc849ac",
   "metadata": {},
   "outputs": [
    {
     "data": {
      "text/plain": [
       "0.9175563463819691"
      ]
     },
     "execution_count": 174,
     "metadata": {},
     "output_type": "execute_result"
    }
   ],
   "source": [
    "#get accuracy score from classifier\n",
    "classifier.score(X_test,y_test)"
   ]
  },
  {
   "cell_type": "code",
   "execution_count": 175,
   "id": "da22eea0",
   "metadata": {},
   "outputs": [],
   "source": [
    "#import classification report\n",
    "from sklearn.metrics import classification_report"
   ]
  },
  {
   "cell_type": "code",
   "execution_count": 190,
   "id": "de22c512",
   "metadata": {},
   "outputs": [
    {
     "data": {
      "text/html": [
       "<div>\n",
       "<style scoped>\n",
       "    .dataframe tbody tr th:only-of-type {\n",
       "        vertical-align: middle;\n",
       "    }\n",
       "\n",
       "    .dataframe tbody tr th {\n",
       "        vertical-align: top;\n",
       "    }\n",
       "\n",
       "    .dataframe thead th {\n",
       "        text-align: right;\n",
       "    }\n",
       "</style>\n",
       "<table border=\"1\" class=\"dataframe\">\n",
       "  <thead>\n",
       "    <tr style=\"text-align: right;\">\n",
       "      <th></th>\n",
       "      <th>precision</th>\n",
       "      <th>recall</th>\n",
       "      <th>f1-score</th>\n",
       "      <th>support</th>\n",
       "    </tr>\n",
       "  </thead>\n",
       "  <tbody>\n",
       "    <tr>\n",
       "      <th>0</th>\n",
       "      <td>0.967324</td>\n",
       "      <td>0.974496</td>\n",
       "      <td>0.970897</td>\n",
       "      <td>3372.000000</td>\n",
       "    </tr>\n",
       "    <tr>\n",
       "      <th>1</th>\n",
       "      <td>0.948224</td>\n",
       "      <td>0.934164</td>\n",
       "      <td>0.941141</td>\n",
       "      <td>1686.000000</td>\n",
       "    </tr>\n",
       "    <tr>\n",
       "      <th>accuracy</th>\n",
       "      <td>0.961052</td>\n",
       "      <td>0.961052</td>\n",
       "      <td>0.961052</td>\n",
       "      <td>0.961052</td>\n",
       "    </tr>\n",
       "    <tr>\n",
       "      <th>macro avg</th>\n",
       "      <td>0.957774</td>\n",
       "      <td>0.954330</td>\n",
       "      <td>0.956019</td>\n",
       "      <td>5058.000000</td>\n",
       "    </tr>\n",
       "    <tr>\n",
       "      <th>weighted avg</th>\n",
       "      <td>0.960957</td>\n",
       "      <td>0.961052</td>\n",
       "      <td>0.960978</td>\n",
       "      <td>5058.000000</td>\n",
       "    </tr>\n",
       "  </tbody>\n",
       "</table>\n",
       "</div>"
      ],
      "text/plain": [
       "              precision    recall  f1-score      support\n",
       "0              0.967324  0.974496  0.970897  3372.000000\n",
       "1              0.948224  0.934164  0.941141  1686.000000\n",
       "accuracy       0.961052  0.961052  0.961052     0.961052\n",
       "macro avg      0.957774  0.954330  0.956019  5058.000000\n",
       "weighted avg   0.960957  0.961052  0.960978  5058.000000"
      ]
     },
     "execution_count": 190,
     "metadata": {},
     "output_type": "execute_result"
    }
   ],
   "source": [
    "#examine report table\n",
    "pd.DataFrame(classification_report(y_test.ravel(), y_score.ravel(), output_dict=True)).T"
   ]
  },
  {
   "cell_type": "code",
   "execution_count": 189,
   "id": "a2575207",
   "metadata": {},
   "outputs": [
    {
     "data": {
      "text/plain": [
       "1686"
      ]
     },
     "execution_count": 189,
     "metadata": {},
     "output_type": "execute_result"
    }
   ],
   "source": [
    "len(y_test)"
   ]
  },
  {
   "cell_type": "code",
   "execution_count": 14,
   "id": "da8bd3cf",
   "metadata": {},
   "outputs": [],
   "source": [
    "#get RandomForestClassifier\n",
    "from sklearn.ensemble import RandomForestClassifier\n",
    "import numpy as np"
   ]
  },
  {
   "cell_type": "code",
   "execution_count": 10,
   "id": "cc21faee",
   "metadata": {},
   "outputs": [
    {
     "data": {
      "text/plain": [
       "{'bootstrap': True,\n",
       " 'ccp_alpha': 0.0,\n",
       " 'class_weight': None,\n",
       " 'criterion': 'gini',\n",
       " 'max_depth': None,\n",
       " 'max_features': 'auto',\n",
       " 'max_leaf_nodes': None,\n",
       " 'max_samples': None,\n",
       " 'min_impurity_decrease': 0.0,\n",
       " 'min_impurity_split': None,\n",
       " 'min_samples_leaf': 1,\n",
       " 'min_samples_split': 2,\n",
       " 'min_weight_fraction_leaf': 0.0,\n",
       " 'n_estimators': 100,\n",
       " 'n_jobs': None,\n",
       " 'oob_score': False,\n",
       " 'random_state': None,\n",
       " 'verbose': 0,\n",
       " 'warm_start': False}"
      ]
     },
     "execution_count": 10,
     "metadata": {},
     "output_type": "execute_result"
    }
   ],
   "source": [
    "#look at parameters for classifier (RandomForestClassifier as the example)\n",
    "RandomForestClassifier().get_params()"
   ]
  },
  {
   "cell_type": "code",
   "execution_count": 15,
   "id": "08ad3aef",
   "metadata": {},
   "outputs": [],
   "source": [
    "#creating the parameter grid for GridSearchCV - parameters to try to optimize\n",
    "param_grid = [\n",
    "    {'classifier' : [LogisticRegression()], #Parameters for LogisticRegression\n",
    "     'classifier__penalty' : ['l1', 'l2'],\n",
    "    'classifier__C' : np.logspace(-4, 4, 20),\n",
    "    'classifier__solver' : ['liblinear','newton-cg', 'lbfgs','saga']},\n",
    "    \n",
    "    {'classifier' : [RandomForestClassifier()], #Parameters for RandomForestClassifier\n",
    "    'classifier__n_estimators' : [200, 400, 600, 800, 1000, 1200, 1400, 1600, 1800, 2000],\n",
    "    'classifier__max_features' : ['auto', 'sqrt','log2'],\n",
    "    'classifier__bootstrap' : [True, False],\n",
    "    'classifier__max_depth': [5,10, 20, 30, 40, 50, 60, 70, 80, 90, 100, None],\n",
    "     'classifier__min_samples_leaf': [1, 2, 4],\n",
    "     'classifier__min_samples_split': [2, 5, 10],\n",
    "    'classifier__criterion': ['gini','entropy','log_loss']},\n",
    "    \n",
    "    \n",
    "    {'classifier' : [MLPClassifier()], #Parameters for Neural Network\n",
    "    'classifier__hidden_layer_sizes': [(50,50,50), (50,100,50), (100,)],\n",
    "    'classifier__activation': ['tanh', 'relu'],\n",
    "    'classifier__solver': ['sgd', 'adam'],\n",
    "    'classifier__alpha': [0.0001, 0.05, 0.1],\n",
    "    'classifier__learning_rate': ['constant','adaptive', 'invscaling'],\n",
    "    'classifier__max_iter' :[200,300,400]}\n",
    "    \n",
    "    \n",
    "]\n"
   ]
  },
  {
   "cell_type": "code",
   "execution_count": null,
   "id": "5a668b0e",
   "metadata": {},
   "outputs": [],
   "source": []
  }
 ],
 "metadata": {
  "hide_input": false,
  "kernelspec": {
   "display_name": "Python 3",
   "language": "python",
   "name": "python3"
  },
  "language_info": {
   "codemirror_mode": {
    "name": "ipython",
    "version": 3
   },
   "file_extension": ".py",
   "mimetype": "text/x-python",
   "name": "python",
   "nbconvert_exporter": "python",
   "pygments_lexer": "ipython3",
   "version": "3.8.11"
  },
  "toc": {
   "base_numbering": 1,
   "nav_menu": {},
   "number_sections": true,
   "sideBar": false,
   "skip_h1_title": false,
   "title_cell": "Table of Contents",
   "title_sidebar": "Contents",
   "toc_cell": true,
   "toc_position": {},
   "toc_section_display": true,
   "toc_window_display": false
  }
 },
 "nbformat": 4,
 "nbformat_minor": 5
}
